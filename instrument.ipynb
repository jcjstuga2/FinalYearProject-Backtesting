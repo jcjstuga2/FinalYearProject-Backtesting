{
 "cells": [
  {
   "cell_type": "code",
   "execution_count": 82,
   "metadata": {},
   "outputs": [],
   "source": [
    "import requests\n",
    "import defs\n",
    "import pandas as pd"
   ]
  },
  {
   "cell_type": "code",
   "execution_count": 83,
   "metadata": {},
   "outputs": [],
   "source": [
    "session = requests.Session()"
   ]
  },
  {
   "cell_type": "code",
   "execution_count": 84,
   "metadata": {},
   "outputs": [],
   "source": [
    "url = f\"{defs.OANDA_URL}/accounts/{defs.ACCOUNT_ID}/instrument\""
   ]
  },
  {
   "cell_type": "code",
   "execution_count": 85,
   "metadata": {},
   "outputs": [
    {
     "data": {
      "text/plain": [
       "'https://api-fxpractice.oanda.com/v3/accounts/101-004-21205389-001/instrument'"
      ]
     },
     "execution_count": 85,
     "metadata": {},
     "output_type": "execute_result"
    }
   ],
   "source": [
    "url"
   ]
  },
  {
   "cell_type": "code",
   "execution_count": 86,
   "metadata": {},
   "outputs": [
    {
     "data": {
      "text/plain": [
       "404"
      ]
     },
     "execution_count": 86,
     "metadata": {},
     "output_type": "execute_result"
    }
   ],
   "source": [
    "response = session.get(url, params=None, headers=defs.SECURE_HEADER)\n",
    "response.status_code"
   ]
  },
  {
   "cell_type": "code",
   "execution_count": null,
   "metadata": {},
   "outputs": [],
   "source": []
  },
  {
   "cell_type": "code",
   "execution_count": 87,
   "metadata": {},
   "outputs": [],
   "source": [
    "data = response.json()"
   ]
  },
  {
   "cell_type": "code",
   "execution_count": 88,
   "metadata": {},
   "outputs": [
    {
     "data": {
      "text/plain": [
       "dict_keys(['errorMessage', 'errorCode'])"
      ]
     },
     "execution_count": 88,
     "metadata": {},
     "output_type": "execute_result"
    }
   ],
   "source": [
    "data.keys()"
   ]
  },
  {
   "cell_type": "code",
   "execution_count": 89,
   "metadata": {},
   "outputs": [
    {
     "ename": "KeyError",
     "evalue": "'instruments'",
     "output_type": "error",
     "traceback": [
      "\u001b[1;31m---------------------------------------------------------------------------\u001b[0m",
      "\u001b[1;31mKeyError\u001b[0m                                  Traceback (most recent call last)",
      "\u001b[1;32mc:\\Users\\joaoc\\OneDrive\\Ambiente de Trabalho\\Final year project\\Novo final year project backtesting\\instrument.ipynb Cell 9'\u001b[0m in \u001b[0;36m<cell line: 1>\u001b[1;34m()\u001b[0m\n\u001b[1;32m----> <a href='vscode-notebook-cell:/c%3A/Users/joaoc/OneDrive/Ambiente%20de%20Trabalho/Final%20year%20project/Novo%20final%20year%20project%20backtesting/instrument.ipynb#ch0000008?line=0'>1</a>\u001b[0m instruments \u001b[39m=\u001b[39m data[\u001b[39m'\u001b[39;49m\u001b[39minstruments\u001b[39;49m\u001b[39m'\u001b[39;49m]\n",
      "\u001b[1;31mKeyError\u001b[0m: 'instruments'"
     ]
    }
   ],
   "source": [
    "instruments = data['instruments']"
   ]
  },
  {
   "cell_type": "code",
   "execution_count": null,
   "metadata": {},
   "outputs": [
    {
     "data": {
      "text/plain": [
       "dict_keys(['name', 'type', 'displayName', 'pipLocation', 'displayPrecision', 'tradeUnitsPrecision', 'minimumTradeSize', 'maximumTrailingStopDistance', 'minimumTrailingStopDistance', 'maximumPositionSize', 'maximumOrderUnits', 'marginRate', 'guaranteedStopLossOrderMode', 'tags', 'financing'])"
      ]
     },
     "execution_count": 74,
     "metadata": {},
     "output_type": "execute_result"
    }
   ],
   "source": [
    "instruments[0].keys()"
   ]
  },
  {
   "cell_type": "code",
   "execution_count": null,
   "metadata": {},
   "outputs": [],
   "source": [
    "instrument_data = []\n",
    "for item in instruments:\n",
    "    new_ob = dict(\n",
    "        name = item['name'],\n",
    "        type = item['type'],\n",
    "        displayName = item['displayName'],\n",
    "        pipLocation = item['pipLocation'],\n",
    "        marginRate = item['marginRate']\n",
    "    )\n",
    "    instrument_data.append(new_ob)"
   ]
  },
  {
   "cell_type": "code",
   "execution_count": null,
   "metadata": {},
   "outputs": [
    {
     "name": "stdout",
     "output_type": "stream",
     "text": [
      "{'name': 'EUR_HUF', 'type': 'CURRENCY', 'displayName': 'EUR/HUF', 'pipLocation': -2, 'marginRate': '0.05'}\n",
      "{'name': 'FR40_EUR', 'type': 'CFD', 'displayName': 'France 40', 'pipLocation': 0, 'marginRate': '0.05'}\n",
      "{'name': 'EUR_DKK', 'type': 'CURRENCY', 'displayName': 'EUR/DKK', 'pipLocation': -4, 'marginRate': '0.1'}\n"
     ]
    }
   ],
   "source": [
    "for item in instrument_data[:3]:\n",
    "    print(item)"
   ]
  },
  {
   "cell_type": "code",
   "execution_count": null,
   "metadata": {},
   "outputs": [],
   "source": [
    "instrument_df = pd.DataFrame.from_dict(instrument_data)"
   ]
  },
  {
   "cell_type": "code",
   "execution_count": null,
   "metadata": {},
   "outputs": [
    {
     "data": {
      "text/html": [
       "<div>\n",
       "<style scoped>\n",
       "    .dataframe tbody tr th:only-of-type {\n",
       "        vertical-align: middle;\n",
       "    }\n",
       "\n",
       "    .dataframe tbody tr th {\n",
       "        vertical-align: top;\n",
       "    }\n",
       "\n",
       "    .dataframe thead th {\n",
       "        text-align: right;\n",
       "    }\n",
       "</style>\n",
       "<table border=\"1\" class=\"dataframe\">\n",
       "  <thead>\n",
       "    <tr style=\"text-align: right;\">\n",
       "      <th></th>\n",
       "      <th>name</th>\n",
       "      <th>type</th>\n",
       "      <th>displayName</th>\n",
       "      <th>pipLocation</th>\n",
       "      <th>marginRate</th>\n",
       "    </tr>\n",
       "  </thead>\n",
       "  <tbody>\n",
       "    <tr>\n",
       "      <th>0</th>\n",
       "      <td>EUR_HUF</td>\n",
       "      <td>CURRENCY</td>\n",
       "      <td>EUR/HUF</td>\n",
       "      <td>-2</td>\n",
       "      <td>0.05</td>\n",
       "    </tr>\n",
       "    <tr>\n",
       "      <th>1</th>\n",
       "      <td>FR40_EUR</td>\n",
       "      <td>CFD</td>\n",
       "      <td>France 40</td>\n",
       "      <td>0</td>\n",
       "      <td>0.05</td>\n",
       "    </tr>\n",
       "    <tr>\n",
       "      <th>2</th>\n",
       "      <td>EUR_DKK</td>\n",
       "      <td>CURRENCY</td>\n",
       "      <td>EUR/DKK</td>\n",
       "      <td>-4</td>\n",
       "      <td>0.1</td>\n",
       "    </tr>\n",
       "    <tr>\n",
       "      <th>3</th>\n",
       "      <td>XAU_CHF</td>\n",
       "      <td>METAL</td>\n",
       "      <td>Gold/CHF</td>\n",
       "      <td>-2</td>\n",
       "      <td>0.05</td>\n",
       "    </tr>\n",
       "    <tr>\n",
       "      <th>4</th>\n",
       "      <td>XPD_USD</td>\n",
       "      <td>CFD</td>\n",
       "      <td>Palladium</td>\n",
       "      <td>-2</td>\n",
       "      <td>0.10</td>\n",
       "    </tr>\n",
       "    <tr>\n",
       "      <th>...</th>\n",
       "      <td>...</td>\n",
       "      <td>...</td>\n",
       "      <td>...</td>\n",
       "      <td>...</td>\n",
       "      <td>...</td>\n",
       "    </tr>\n",
       "    <tr>\n",
       "      <th>121</th>\n",
       "      <td>CHINAH_HKD</td>\n",
       "      <td>CFD</td>\n",
       "      <td>China H Shares</td>\n",
       "      <td>0</td>\n",
       "      <td>0.1</td>\n",
       "    </tr>\n",
       "    <tr>\n",
       "      <th>122</th>\n",
       "      <td>CH20_CHF</td>\n",
       "      <td>CFD</td>\n",
       "      <td>Switzerland 20</td>\n",
       "      <td>0</td>\n",
       "      <td>0.1</td>\n",
       "    </tr>\n",
       "    <tr>\n",
       "      <th>123</th>\n",
       "      <td>CAD_HKD</td>\n",
       "      <td>CURRENCY</td>\n",
       "      <td>CAD/HKD</td>\n",
       "      <td>-4</td>\n",
       "      <td>0.1</td>\n",
       "    </tr>\n",
       "    <tr>\n",
       "      <th>124</th>\n",
       "      <td>US30_USD</td>\n",
       "      <td>CFD</td>\n",
       "      <td>US Wall St 30</td>\n",
       "      <td>0</td>\n",
       "      <td>0.05</td>\n",
       "    </tr>\n",
       "    <tr>\n",
       "      <th>125</th>\n",
       "      <td>GBP_CAD</td>\n",
       "      <td>CURRENCY</td>\n",
       "      <td>GBP/CAD</td>\n",
       "      <td>-4</td>\n",
       "      <td>0.0333</td>\n",
       "    </tr>\n",
       "  </tbody>\n",
       "</table>\n",
       "<p>126 rows × 5 columns</p>\n",
       "</div>"
      ],
      "text/plain": [
       "           name      type     displayName  pipLocation marginRate\n",
       "0       EUR_HUF  CURRENCY         EUR/HUF           -2       0.05\n",
       "1      FR40_EUR       CFD       France 40            0       0.05\n",
       "2       EUR_DKK  CURRENCY         EUR/DKK           -4        0.1\n",
       "3       XAU_CHF     METAL        Gold/CHF           -2       0.05\n",
       "4       XPD_USD       CFD       Palladium           -2       0.10\n",
       "..          ...       ...             ...          ...        ...\n",
       "121  CHINAH_HKD       CFD  China H Shares            0        0.1\n",
       "122    CH20_CHF       CFD  Switzerland 20            0        0.1\n",
       "123     CAD_HKD  CURRENCY         CAD/HKD           -4        0.1\n",
       "124    US30_USD       CFD   US Wall St 30            0       0.05\n",
       "125     GBP_CAD  CURRENCY         GBP/CAD           -4     0.0333\n",
       "\n",
       "[126 rows x 5 columns]"
      ]
     },
     "execution_count": 78,
     "metadata": {},
     "output_type": "execute_result"
    }
   ],
   "source": [
    "instrument_df"
   ]
  },
  {
   "cell_type": "code",
   "execution_count": null,
   "metadata": {},
   "outputs": [],
   "source": [
    "instrument_df.to_pickle(\"instruments.pkl\")"
   ]
  },
  {
   "cell_type": "code",
   "execution_count": null,
   "metadata": {},
   "outputs": [],
   "source": [
    "new_table = pd.read_pickle(\"instruments.pkl\")"
   ]
  },
  {
   "cell_type": "code",
   "execution_count": null,
   "metadata": {},
   "outputs": [
    {
     "data": {
      "text/html": [
       "<div>\n",
       "<style scoped>\n",
       "    .dataframe tbody tr th:only-of-type {\n",
       "        vertical-align: middle;\n",
       "    }\n",
       "\n",
       "    .dataframe tbody tr th {\n",
       "        vertical-align: top;\n",
       "    }\n",
       "\n",
       "    .dataframe thead th {\n",
       "        text-align: right;\n",
       "    }\n",
       "</style>\n",
       "<table border=\"1\" class=\"dataframe\">\n",
       "  <thead>\n",
       "    <tr style=\"text-align: right;\">\n",
       "      <th></th>\n",
       "      <th>name</th>\n",
       "      <th>type</th>\n",
       "      <th>displayName</th>\n",
       "      <th>pipLocation</th>\n",
       "      <th>marginRate</th>\n",
       "    </tr>\n",
       "  </thead>\n",
       "  <tbody>\n",
       "    <tr>\n",
       "      <th>0</th>\n",
       "      <td>EUR_HUF</td>\n",
       "      <td>CURRENCY</td>\n",
       "      <td>EUR/HUF</td>\n",
       "      <td>-2</td>\n",
       "      <td>0.05</td>\n",
       "    </tr>\n",
       "    <tr>\n",
       "      <th>1</th>\n",
       "      <td>FR40_EUR</td>\n",
       "      <td>CFD</td>\n",
       "      <td>France 40</td>\n",
       "      <td>0</td>\n",
       "      <td>0.05</td>\n",
       "    </tr>\n",
       "    <tr>\n",
       "      <th>2</th>\n",
       "      <td>EUR_DKK</td>\n",
       "      <td>CURRENCY</td>\n",
       "      <td>EUR/DKK</td>\n",
       "      <td>-4</td>\n",
       "      <td>0.1</td>\n",
       "    </tr>\n",
       "    <tr>\n",
       "      <th>3</th>\n",
       "      <td>XAU_CHF</td>\n",
       "      <td>METAL</td>\n",
       "      <td>Gold/CHF</td>\n",
       "      <td>-2</td>\n",
       "      <td>0.05</td>\n",
       "    </tr>\n",
       "    <tr>\n",
       "      <th>4</th>\n",
       "      <td>XPD_USD</td>\n",
       "      <td>CFD</td>\n",
       "      <td>Palladium</td>\n",
       "      <td>-2</td>\n",
       "      <td>0.10</td>\n",
       "    </tr>\n",
       "    <tr>\n",
       "      <th>...</th>\n",
       "      <td>...</td>\n",
       "      <td>...</td>\n",
       "      <td>...</td>\n",
       "      <td>...</td>\n",
       "      <td>...</td>\n",
       "    </tr>\n",
       "    <tr>\n",
       "      <th>121</th>\n",
       "      <td>CHINAH_HKD</td>\n",
       "      <td>CFD</td>\n",
       "      <td>China H Shares</td>\n",
       "      <td>0</td>\n",
       "      <td>0.1</td>\n",
       "    </tr>\n",
       "    <tr>\n",
       "      <th>122</th>\n",
       "      <td>CH20_CHF</td>\n",
       "      <td>CFD</td>\n",
       "      <td>Switzerland 20</td>\n",
       "      <td>0</td>\n",
       "      <td>0.1</td>\n",
       "    </tr>\n",
       "    <tr>\n",
       "      <th>123</th>\n",
       "      <td>CAD_HKD</td>\n",
       "      <td>CURRENCY</td>\n",
       "      <td>CAD/HKD</td>\n",
       "      <td>-4</td>\n",
       "      <td>0.1</td>\n",
       "    </tr>\n",
       "    <tr>\n",
       "      <th>124</th>\n",
       "      <td>US30_USD</td>\n",
       "      <td>CFD</td>\n",
       "      <td>US Wall St 30</td>\n",
       "      <td>0</td>\n",
       "      <td>0.05</td>\n",
       "    </tr>\n",
       "    <tr>\n",
       "      <th>125</th>\n",
       "      <td>GBP_CAD</td>\n",
       "      <td>CURRENCY</td>\n",
       "      <td>GBP/CAD</td>\n",
       "      <td>-4</td>\n",
       "      <td>0.0333</td>\n",
       "    </tr>\n",
       "  </tbody>\n",
       "</table>\n",
       "<p>126 rows × 5 columns</p>\n",
       "</div>"
      ],
      "text/plain": [
       "           name      type     displayName  pipLocation marginRate\n",
       "0       EUR_HUF  CURRENCY         EUR/HUF           -2       0.05\n",
       "1      FR40_EUR       CFD       France 40            0       0.05\n",
       "2       EUR_DKK  CURRENCY         EUR/DKK           -4        0.1\n",
       "3       XAU_CHF     METAL        Gold/CHF           -2       0.05\n",
       "4       XPD_USD       CFD       Palladium           -2       0.10\n",
       "..          ...       ...             ...          ...        ...\n",
       "121  CHINAH_HKD       CFD  China H Shares            0        0.1\n",
       "122    CH20_CHF       CFD  Switzerland 20            0        0.1\n",
       "123     CAD_HKD  CURRENCY         CAD/HKD           -4        0.1\n",
       "124    US30_USD       CFD   US Wall St 30            0       0.05\n",
       "125     GBP_CAD  CURRENCY         GBP/CAD           -4     0.0333\n",
       "\n",
       "[126 rows x 5 columns]"
      ]
     },
     "execution_count": 81,
     "metadata": {},
     "output_type": "execute_result"
    }
   ],
   "source": [
    "new_table"
   ]
  },
  {
   "cell_type": "code",
   "execution_count": null,
   "metadata": {},
   "outputs": [],
   "source": []
  }
 ],
 "metadata": {
  "kernelspec": {
   "display_name": "Python 3",
   "language": "python",
   "name": "python3"
  },
  "language_info": {
   "codemirror_mode": {
    "name": "ipython",
    "version": 3
   },
   "file_extension": ".py",
   "mimetype": "text/x-python",
   "name": "python",
   "nbconvert_exporter": "python",
   "pygments_lexer": "ipython3",
   "version": "3.10.4"
  },
  "orig_nbformat": 2
 },
 "nbformat": 4,
 "nbformat_minor": 2
}
