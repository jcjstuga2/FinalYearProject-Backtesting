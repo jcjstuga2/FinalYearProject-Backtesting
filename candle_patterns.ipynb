{
 "cells": [
  {
   "cell_type": "code",
   "execution_count": 5,
   "metadata": {},
   "outputs": [],
   "source": [
    "import pandas as pd\n",
    "import utils\n",
    "import plotly.graph_objects as go"
   ]
  },
  {
   "cell_type": "code",
   "execution_count": 6,
   "metadata": {},
   "outputs": [],
   "source": [
    "def plot_candles(df_plot, df_markers=None):\n",
    "    fig = go.Figure()\n",
    "\n",
    "    fig.add_trace(go.Candlestick(\n",
    "        x=df_plot.time, open=df_plot.mid_o, high=df_plot.mid_h, low=df_plot.mid_l, close=df_plot.mid_c,\n",
    "        line=dict(width=1), opacity=1,\n",
    "        increasing_fillcolor='#24A06B',\n",
    "        decreasing_fillcolor=\"#CC2E3C\",\n",
    "        increasing_line_color='#2EC886',  \n",
    "        decreasing_line_color='#FF3A4C'\n",
    "    ))\n",
    "\n",
    "    if df_markers is not None:\n",
    "        fig.add_trace(go.Candlestick(\n",
    "            x=df_markers.time, open=df_markers.mid_o, high=df_markers.mid_h, low=df_markers.mid_l, close=df_markers.mid_c,\n",
    "            line=dict(width=1), opacity=1,\n",
    "            increasing_fillcolor='#3480eb',\n",
    "            decreasing_fillcolor=\"#3480eb\",\n",
    "            increasing_line_color='#3480eb',  \n",
    "            decreasing_line_color='#3480eb'\n",
    "        ))\n",
    "\n",
    "    fig.update_layout(width=1000,height=400,\n",
    "        margin=dict(l=10,r=10,b=10,t=10),\n",
    "        font=dict(size=10,color=\"#e1e1e1\"),\n",
    "        paper_bgcolor=\"#1e1e1e\",\n",
    "        plot_bgcolor=\"#1e1e1e\")\n",
    "    fig.update_xaxes(\n",
    "        gridcolor=\"#1f292f\",\n",
    "        showgrid=True,fixedrange=True,rangeslider=dict(visible=False),\n",
    "        rangebreaks=[\n",
    "            dict(bounds=[\"sat\", \"mon\"])\n",
    "        ]\n",
    "    )\n",
    "    fig.update_yaxes(\n",
    "        gridcolor=\"#1f292f\",\n",
    "        showgrid=True\n",
    "    )\n",
    "    fig.show()"
   ]
  },
  {
   "cell_type": "code",
   "execution_count": 7,
   "metadata": {},
   "outputs": [],
   "source": [
    "pair = \"EUR_JPY\"\n",
    "granularity = \"M5\"\n",
    "df_raw = pd.read_pickle(utils.get_his_data_filename(pair, granularity))"
   ]
  },
  {
   "cell_type": "code",
   "execution_count": 8,
   "metadata": {},
   "outputs": [],
   "source": [
    "cols = ['time', 'mid_o', 'mid_h', 'mid_l', 'mid_c']"
   ]
  },
  {
   "cell_type": "code",
   "execution_count": null,
   "metadata": {},
   "outputs": [],
   "source": []
  },
  {
   "cell_type": "code",
   "execution_count": 9,
   "metadata": {},
   "outputs": [],
   "source": [
    "SMALL_BODY = 0.2\n",
    "CLOSE_DISTANCE = 0.15\n",
    "DOJI_BODY = 0.05\n",
    "FULL_BODY = 0.95\n",
    "CENTER_DISTANCE_HIGH = 0.55\n",
    "CENTER_DISTANCE_LOW = 0.45\n",
    "BIG_BODY = 0.6\n",
    "ENGULFING_FACTOR = 1.1\n",
    "\n",
    "def apply_top_end_distance(row):\n",
    "    if row.DIRECTION == 1:\n",
    "        return row.mid_h - row.mid_c\n",
    "    else:\n",
    "        return row.mid_h - row.mid_o\n",
    "\n",
    "def apply_bottom_end_distance(row):\n",
    "    if row.DIRECTION == 1:\n",
    "        return row.mid_o - row.mid_l\n",
    "    else:\n",
    "        return row.mid_c - row.mid_l\n",
    "\n",
    "def apply_hammer(row):\n",
    "    if row.BODY_PERC < SMALL_BODY:\n",
    "        if row.DIST_TOP_PERC < CLOSE_DISTANCE or row.DIST_BOTTOM_PERC < CLOSE_DISTANCE:\n",
    "            return True\n",
    "    return False\n",
    "\n",
    "def apply_spinning_top(row):\n",
    "    if row.BODY_PERC < SMALL_BODY:\n",
    "        if row.DIST_TOP_PERC < CENTER_DISTANCE_HIGH and row.DIST_TOP_PERC > CENTER_DISTANCE_LOW:\n",
    "            return True\n",
    "    return False\n",
    "\n",
    "def apply_engulfing(row):\n",
    "    if row.PREV_DIRECTION != row.DIRECTION:\n",
    "        if row.PREV_BODY_PERC > BIG_BODY and row.BODY_PERC > BIG_BODY:\n",
    "            if row.BODY_RANGE > row.PREV_BODY_RANGE * ENGULFING_FACTOR:\n",
    "                return True\n",
    "    return False\n",
    "\n",
    "def apply_stats(df):\n",
    "    df['RANGE'] = df.mid_h - df.mid_l\n",
    "    df['BODY_RANGE'] = abs(df.mid_c - df.mid_o)\n",
    "    df['CENTER'] = (df.mid_h - df.mid_l) / 2 + df.mid_l\n",
    "    df['BODY_PERC'] = df.BODY_RANGE / df.RANGE\n",
    "    df['DIRECTION'] = df.mid_c - df.mid_o\n",
    "    df['DIRECTION'] = df['DIRECTION'].apply(lambda x: 1 if x >= 0 else -1)\n",
    "    df['DIST_TOP'] = df.apply(apply_top_end_distance, axis=1)\n",
    "    df['DIST_BOTTOM'] = df.apply(apply_bottom_end_distance, axis=1)\n",
    "    df['DIST_TOP_PERC'] = df.DIST_TOP / df.RANGE\n",
    "    df['DIST_BOTTOM_PERC'] = df.DIST_BOTTOM / df.RANGE\n",
    "\n",
    "    df['PREV_BODY_RANGE'] = df.BODY_RANGE.shift(1)\n",
    "    df['PREV_BODY_PERC'] = df.BODY_PERC.shift(1)\n",
    "    df['PREV_DIRECTION'] = df.DIRECTION.shift(1)\n",
    "\n",
    "    df.dropna(inplace=True)\n",
    "\n",
    "    return df\n",
    "\n",
    "def apply_patterns(df):\n",
    "    df['HAMMER'] = df.apply(apply_hammer, axis=1)\n",
    "    df['SPINNING_TOP'] = df.apply(apply_spinning_top, axis=1)\n",
    "    df['DOJI'] = df['BODY_PERC'].apply(lambda x: True if x < DOJI_BODY else False)\n",
    "    df['MARUBOZU'] = df['BODY_PERC'].apply(lambda x: True if x > FULL_BODY else False)\n",
    "    df['ENGULFING'] = df.apply(apply_engulfing, axis=1)\n",
    "    return df"
   ]
  },
  {
   "cell_type": "code",
   "execution_count": 10,
   "metadata": {},
   "outputs": [],
   "source": [
    "df = df_raw[cols].copy()\n",
    "df = apply_stats(df)\n",
    "df = apply_patterns(df)"
   ]
  },
  {
   "cell_type": "code",
   "execution_count": 11,
   "metadata": {},
   "outputs": [
    {
     "data": {
      "text/html": [
       "<div>\n",
       "<style scoped>\n",
       "    .dataframe tbody tr th:only-of-type {\n",
       "        vertical-align: middle;\n",
       "    }\n",
       "\n",
       "    .dataframe tbody tr th {\n",
       "        vertical-align: top;\n",
       "    }\n",
       "\n",
       "    .dataframe thead th {\n",
       "        text-align: right;\n",
       "    }\n",
       "</style>\n",
       "<table border=\"1\" class=\"dataframe\">\n",
       "  <thead>\n",
       "    <tr style=\"text-align: right;\">\n",
       "      <th></th>\n",
       "      <th>time</th>\n",
       "      <th>mid_o</th>\n",
       "      <th>mid_h</th>\n",
       "      <th>mid_l</th>\n",
       "      <th>mid_c</th>\n",
       "      <th>RANGE</th>\n",
       "      <th>BODY_RANGE</th>\n",
       "      <th>CENTER</th>\n",
       "      <th>BODY_PERC</th>\n",
       "      <th>DIRECTION</th>\n",
       "      <th>...</th>\n",
       "      <th>DIST_TOP_PERC</th>\n",
       "      <th>DIST_BOTTOM_PERC</th>\n",
       "      <th>PREV_BODY_RANGE</th>\n",
       "      <th>PREV_BODY_PERC</th>\n",
       "      <th>PREV_DIRECTION</th>\n",
       "      <th>HAMMER</th>\n",
       "      <th>SPINNING_TOP</th>\n",
       "      <th>DOJI</th>\n",
       "      <th>MARUBOZU</th>\n",
       "      <th>ENGULFING</th>\n",
       "    </tr>\n",
       "  </thead>\n",
       "  <tbody>\n",
       "    <tr>\n",
       "      <th>1</th>\n",
       "      <td>2018-01-01 22:05:00+00:00</td>\n",
       "      <td>135.246</td>\n",
       "      <td>135.290</td>\n",
       "      <td>135.238</td>\n",
       "      <td>135.285</td>\n",
       "      <td>0.052</td>\n",
       "      <td>0.039</td>\n",
       "      <td>135.264</td>\n",
       "      <td>0.750000</td>\n",
       "      <td>1</td>\n",
       "      <td>...</td>\n",
       "      <td>0.096154</td>\n",
       "      <td>0.153846</td>\n",
       "      <td>0.018</td>\n",
       "      <td>0.545455</td>\n",
       "      <td>1.0</td>\n",
       "      <td>False</td>\n",
       "      <td>False</td>\n",
       "      <td>False</td>\n",
       "      <td>False</td>\n",
       "      <td>False</td>\n",
       "    </tr>\n",
       "    <tr>\n",
       "      <th>2</th>\n",
       "      <td>2018-01-01 22:10:00+00:00</td>\n",
       "      <td>135.279</td>\n",
       "      <td>135.279</td>\n",
       "      <td>135.265</td>\n",
       "      <td>135.278</td>\n",
       "      <td>0.014</td>\n",
       "      <td>0.001</td>\n",
       "      <td>135.272</td>\n",
       "      <td>0.071429</td>\n",
       "      <td>-1</td>\n",
       "      <td>...</td>\n",
       "      <td>0.000000</td>\n",
       "      <td>0.928571</td>\n",
       "      <td>0.039</td>\n",
       "      <td>0.750000</td>\n",
       "      <td>1.0</td>\n",
       "      <td>True</td>\n",
       "      <td>False</td>\n",
       "      <td>False</td>\n",
       "      <td>False</td>\n",
       "      <td>False</td>\n",
       "    </tr>\n",
       "    <tr>\n",
       "      <th>3</th>\n",
       "      <td>2018-01-01 22:15:00+00:00</td>\n",
       "      <td>135.278</td>\n",
       "      <td>135.294</td>\n",
       "      <td>135.234</td>\n",
       "      <td>135.294</td>\n",
       "      <td>0.060</td>\n",
       "      <td>0.016</td>\n",
       "      <td>135.264</td>\n",
       "      <td>0.266667</td>\n",
       "      <td>1</td>\n",
       "      <td>...</td>\n",
       "      <td>0.000000</td>\n",
       "      <td>0.733333</td>\n",
       "      <td>0.001</td>\n",
       "      <td>0.071429</td>\n",
       "      <td>-1.0</td>\n",
       "      <td>False</td>\n",
       "      <td>False</td>\n",
       "      <td>False</td>\n",
       "      <td>False</td>\n",
       "      <td>False</td>\n",
       "    </tr>\n",
       "    <tr>\n",
       "      <th>4</th>\n",
       "      <td>2018-01-01 22:20:00+00:00</td>\n",
       "      <td>135.288</td>\n",
       "      <td>135.288</td>\n",
       "      <td>135.242</td>\n",
       "      <td>135.255</td>\n",
       "      <td>0.046</td>\n",
       "      <td>0.033</td>\n",
       "      <td>135.265</td>\n",
       "      <td>0.717391</td>\n",
       "      <td>-1</td>\n",
       "      <td>...</td>\n",
       "      <td>0.000000</td>\n",
       "      <td>0.282609</td>\n",
       "      <td>0.016</td>\n",
       "      <td>0.266667</td>\n",
       "      <td>1.0</td>\n",
       "      <td>False</td>\n",
       "      <td>False</td>\n",
       "      <td>False</td>\n",
       "      <td>False</td>\n",
       "      <td>False</td>\n",
       "    </tr>\n",
       "    <tr>\n",
       "      <th>5</th>\n",
       "      <td>2018-01-01 22:25:00+00:00</td>\n",
       "      <td>135.248</td>\n",
       "      <td>135.268</td>\n",
       "      <td>135.204</td>\n",
       "      <td>135.232</td>\n",
       "      <td>0.064</td>\n",
       "      <td>0.016</td>\n",
       "      <td>135.236</td>\n",
       "      <td>0.250000</td>\n",
       "      <td>-1</td>\n",
       "      <td>...</td>\n",
       "      <td>0.312500</td>\n",
       "      <td>0.437500</td>\n",
       "      <td>0.033</td>\n",
       "      <td>0.717391</td>\n",
       "      <td>-1.0</td>\n",
       "      <td>False</td>\n",
       "      <td>False</td>\n",
       "      <td>False</td>\n",
       "      <td>False</td>\n",
       "      <td>False</td>\n",
       "    </tr>\n",
       "  </tbody>\n",
       "</table>\n",
       "<p>5 rows × 22 columns</p>\n",
       "</div>"
      ],
      "text/plain": [
       "                       time    mid_o    mid_h    mid_l    mid_c  RANGE  \\\n",
       "1 2018-01-01 22:05:00+00:00  135.246  135.290  135.238  135.285  0.052   \n",
       "2 2018-01-01 22:10:00+00:00  135.279  135.279  135.265  135.278  0.014   \n",
       "3 2018-01-01 22:15:00+00:00  135.278  135.294  135.234  135.294  0.060   \n",
       "4 2018-01-01 22:20:00+00:00  135.288  135.288  135.242  135.255  0.046   \n",
       "5 2018-01-01 22:25:00+00:00  135.248  135.268  135.204  135.232  0.064   \n",
       "\n",
       "   BODY_RANGE   CENTER  BODY_PERC  DIRECTION  ...  DIST_TOP_PERC  \\\n",
       "1       0.039  135.264   0.750000          1  ...       0.096154   \n",
       "2       0.001  135.272   0.071429         -1  ...       0.000000   \n",
       "3       0.016  135.264   0.266667          1  ...       0.000000   \n",
       "4       0.033  135.265   0.717391         -1  ...       0.000000   \n",
       "5       0.016  135.236   0.250000         -1  ...       0.312500   \n",
       "\n",
       "   DIST_BOTTOM_PERC  PREV_BODY_RANGE  PREV_BODY_PERC  PREV_DIRECTION  HAMMER  \\\n",
       "1          0.153846            0.018        0.545455             1.0   False   \n",
       "2          0.928571            0.039        0.750000             1.0    True   \n",
       "3          0.733333            0.001        0.071429            -1.0   False   \n",
       "4          0.282609            0.016        0.266667             1.0   False   \n",
       "5          0.437500            0.033        0.717391            -1.0   False   \n",
       "\n",
       "   SPINNING_TOP   DOJI  MARUBOZU  ENGULFING  \n",
       "1         False  False     False      False  \n",
       "2         False  False     False      False  \n",
       "3         False  False     False      False  \n",
       "4         False  False     False      False  \n",
       "5         False  False     False      False  \n",
       "\n",
       "[5 rows x 22 columns]"
      ]
     },
     "execution_count": 11,
     "metadata": {},
     "output_type": "execute_result"
    }
   ],
   "source": [
    "df.head()"
   ]
  },
  {
   "cell_type": "code",
   "execution_count": 12,
   "metadata": {},
   "outputs": [],
   "source": [
    "df_plot = df.iloc[900:1000]\n",
    "df_markers = df_plot[(df_plot.ENGULFING==True)]"
   ]
  },
  {
   "cell_type": "code",
   "execution_count": 13,
   "metadata": {},
   "outputs": [
    {
     "data": {
      "application/vnd.plotly.v1+json": {
       "config": {
        "plotlyServerURL": "https://plot.ly"
       },
       "data": [
        {
         "close": [
          136.152,
          136.154,
          136.166,
          136.137,
          136.12,
          136.165,
          136.124,
          136.15,
          136.148,
          136.163,
          136.165,
          136.174,
          136.154,
          136.134,
          136.172,
          136.166,
          136.189,
          136.22,
          136.232,
          136.218,
          136.228,
          136.222,
          136.231,
          136.218,
          136.24,
          136.23,
          136.22,
          136.22,
          136.239,
          136.235,
          136.248,
          136.264,
          136.25,
          136.232,
          136.23,
          136.232,
          136.228,
          136.246,
          136.248,
          136.262,
          136.272,
          136.28,
          136.266,
          136.254,
          136.298,
          136.352,
          136.344,
          136.369,
          136.364,
          136.368,
          136.372,
          136.391,
          136.394,
          136.37,
          136.412,
          136.418,
          136.416,
          136.444,
          136.452,
          136.438,
          136.428,
          136.46,
          136.506,
          136.49,
          136.486,
          136.46,
          136.44,
          136.43,
          136.346,
          136.326,
          136.328,
          136.366,
          136.408,
          136.418,
          136.434,
          136.425,
          136.418,
          136.432,
          136.432,
          136.43,
          136.435,
          136.455,
          136.426,
          136.434,
          136.428,
          136.443,
          136.462,
          136.486,
          136.47,
          136.5,
          136.518,
          136.51,
          136.458,
          136.452,
          136.461,
          136.422,
          136.39,
          136.384,
          136.404,
          136.414
         ],
         "decreasing": {
          "fillcolor": "#CC2E3C",
          "line": {
           "color": "#FF3A4C"
          }
         },
         "high": [
          136.186,
          136.164,
          136.173,
          136.17,
          136.144,
          136.169,
          136.172,
          136.164,
          136.156,
          136.202,
          136.203,
          136.192,
          136.172,
          136.168,
          136.175,
          136.172,
          136.189,
          136.228,
          136.25,
          136.232,
          136.234,
          136.232,
          136.244,
          136.236,
          136.24,
          136.237,
          136.242,
          136.228,
          136.242,
          136.244,
          136.258,
          136.272,
          136.27,
          136.253,
          136.236,
          136.24,
          136.236,
          136.246,
          136.252,
          136.268,
          136.275,
          136.284,
          136.278,
          136.264,
          136.304,
          136.388,
          136.36,
          136.372,
          136.376,
          136.378,
          136.388,
          136.391,
          136.398,
          136.39,
          136.423,
          136.426,
          136.426,
          136.444,
          136.468,
          136.461,
          136.442,
          136.466,
          136.522,
          136.516,
          136.508,
          136.486,
          136.464,
          136.45,
          136.444,
          136.376,
          136.341,
          136.372,
          136.422,
          136.438,
          136.44,
          136.458,
          136.446,
          136.434,
          136.437,
          136.446,
          136.454,
          136.492,
          136.47,
          136.466,
          136.474,
          136.458,
          136.462,
          136.519,
          136.487,
          136.5,
          136.525,
          136.518,
          136.507,
          136.458,
          136.48,
          136.462,
          136.42,
          136.398,
          136.415,
          136.414
         ],
         "increasing": {
          "fillcolor": "#24A06B",
          "line": {
           "color": "#2EC886"
          }
         },
         "line": {
          "width": 1
         },
         "low": [
          136.152,
          136.146,
          136.143,
          136.134,
          136.12,
          136.111,
          136.124,
          136.119,
          136.146,
          136.081,
          136.162,
          136.158,
          136.148,
          136.134,
          136.134,
          136.158,
          136.16,
          136.182,
          136.212,
          136.216,
          136.217,
          136.222,
          136.226,
          136.218,
          136.216,
          136.227,
          136.217,
          136.211,
          136.22,
          136.227,
          136.239,
          136.248,
          136.244,
          136.232,
          136.226,
          136.226,
          136.228,
          136.229,
          136.239,
          136.244,
          136.261,
          136.268,
          136.26,
          136.254,
          136.256,
          136.302,
          136.337,
          136.337,
          136.358,
          136.362,
          136.362,
          136.338,
          136.38,
          136.366,
          136.373,
          136.412,
          136.412,
          136.381,
          136.444,
          136.424,
          136.416,
          136.424,
          136.462,
          136.484,
          136.482,
          136.448,
          136.43,
          136.43,
          136.343,
          136.322,
          136.32,
          136.324,
          136.369,
          136.404,
          136.4,
          136.421,
          136.415,
          136.398,
          136.412,
          136.402,
          136.426,
          136.422,
          136.426,
          136.424,
          136.414,
          136.415,
          136.414,
          136.454,
          136.46,
          136.47,
          136.496,
          136.479,
          136.449,
          136.436,
          136.449,
          136.412,
          136.371,
          136.371,
          136.384,
          136.39
         ],
         "opacity": 1,
         "open": [
          136.186,
          136.15,
          136.15,
          136.17,
          136.14,
          136.117,
          136.168,
          136.127,
          136.153,
          136.152,
          136.166,
          136.162,
          136.171,
          136.15,
          136.138,
          136.168,
          136.169,
          136.192,
          136.216,
          136.229,
          136.22,
          136.232,
          136.226,
          136.235,
          136.216,
          136.237,
          136.228,
          136.218,
          136.223,
          136.236,
          136.239,
          136.252,
          136.261,
          136.246,
          136.236,
          136.226,
          136.23,
          136.232,
          136.242,
          136.251,
          136.265,
          136.268,
          136.278,
          136.264,
          136.256,
          136.302,
          136.348,
          136.34,
          136.366,
          136.362,
          136.365,
          136.369,
          136.388,
          136.39,
          136.373,
          136.416,
          136.414,
          136.412,
          136.448,
          136.455,
          136.434,
          136.424,
          136.462,
          136.503,
          136.494,
          136.484,
          136.464,
          136.443,
          136.427,
          136.35,
          136.323,
          136.324,
          136.369,
          136.404,
          136.414,
          136.43,
          136.428,
          136.415,
          136.434,
          136.436,
          136.432,
          136.439,
          136.458,
          136.43,
          136.43,
          136.432,
          136.439,
          136.458,
          136.482,
          136.474,
          136.496,
          136.514,
          136.507,
          136.456,
          136.456,
          136.458,
          136.419,
          136.394,
          136.388,
          136.4
         ],
         "type": "candlestick",
         "x": [
          "2018-01-05T01:15:00+00:00",
          "2018-01-05T01:20:00+00:00",
          "2018-01-05T01:25:00+00:00",
          "2018-01-05T01:30:00+00:00",
          "2018-01-05T01:35:00+00:00",
          "2018-01-05T01:40:00+00:00",
          "2018-01-05T01:45:00+00:00",
          "2018-01-05T01:50:00+00:00",
          "2018-01-05T01:55:00+00:00",
          "2018-01-05T02:00:00+00:00",
          "2018-01-05T02:05:00+00:00",
          "2018-01-05T02:10:00+00:00",
          "2018-01-05T02:15:00+00:00",
          "2018-01-05T02:20:00+00:00",
          "2018-01-05T02:25:00+00:00",
          "2018-01-05T02:30:00+00:00",
          "2018-01-05T02:35:00+00:00",
          "2018-01-05T02:40:00+00:00",
          "2018-01-05T02:45:00+00:00",
          "2018-01-05T02:50:00+00:00",
          "2018-01-05T02:55:00+00:00",
          "2018-01-05T03:00:00+00:00",
          "2018-01-05T03:05:00+00:00",
          "2018-01-05T03:10:00+00:00",
          "2018-01-05T03:15:00+00:00",
          "2018-01-05T03:20:00+00:00",
          "2018-01-05T03:25:00+00:00",
          "2018-01-05T03:30:00+00:00",
          "2018-01-05T03:35:00+00:00",
          "2018-01-05T03:40:00+00:00",
          "2018-01-05T03:45:00+00:00",
          "2018-01-05T03:50:00+00:00",
          "2018-01-05T03:55:00+00:00",
          "2018-01-05T04:00:00+00:00",
          "2018-01-05T04:05:00+00:00",
          "2018-01-05T04:10:00+00:00",
          "2018-01-05T04:15:00+00:00",
          "2018-01-05T04:20:00+00:00",
          "2018-01-05T04:25:00+00:00",
          "2018-01-05T04:30:00+00:00",
          "2018-01-05T04:35:00+00:00",
          "2018-01-05T04:40:00+00:00",
          "2018-01-05T04:45:00+00:00",
          "2018-01-05T04:50:00+00:00",
          "2018-01-05T04:55:00+00:00",
          "2018-01-05T05:00:00+00:00",
          "2018-01-05T05:05:00+00:00",
          "2018-01-05T05:10:00+00:00",
          "2018-01-05T05:15:00+00:00",
          "2018-01-05T05:20:00+00:00",
          "2018-01-05T05:25:00+00:00",
          "2018-01-05T05:30:00+00:00",
          "2018-01-05T05:35:00+00:00",
          "2018-01-05T05:40:00+00:00",
          "2018-01-05T05:45:00+00:00",
          "2018-01-05T05:50:00+00:00",
          "2018-01-05T05:55:00+00:00",
          "2018-01-05T06:00:00+00:00",
          "2018-01-05T06:05:00+00:00",
          "2018-01-05T06:10:00+00:00",
          "2018-01-05T06:15:00+00:00",
          "2018-01-05T06:20:00+00:00",
          "2018-01-05T06:25:00+00:00",
          "2018-01-05T06:30:00+00:00",
          "2018-01-05T06:35:00+00:00",
          "2018-01-05T06:40:00+00:00",
          "2018-01-05T06:45:00+00:00",
          "2018-01-05T06:50:00+00:00",
          "2018-01-05T06:55:00+00:00",
          "2018-01-05T07:00:00+00:00",
          "2018-01-05T07:05:00+00:00",
          "2018-01-05T07:10:00+00:00",
          "2018-01-05T07:15:00+00:00",
          "2018-01-05T07:20:00+00:00",
          "2018-01-05T07:25:00+00:00",
          "2018-01-05T07:30:00+00:00",
          "2018-01-05T07:35:00+00:00",
          "2018-01-05T07:40:00+00:00",
          "2018-01-05T07:45:00+00:00",
          "2018-01-05T07:50:00+00:00",
          "2018-01-05T07:55:00+00:00",
          "2018-01-05T08:00:00+00:00",
          "2018-01-05T08:05:00+00:00",
          "2018-01-05T08:10:00+00:00",
          "2018-01-05T08:15:00+00:00",
          "2018-01-05T08:20:00+00:00",
          "2018-01-05T08:25:00+00:00",
          "2018-01-05T08:30:00+00:00",
          "2018-01-05T08:35:00+00:00",
          "2018-01-05T08:40:00+00:00",
          "2018-01-05T08:45:00+00:00",
          "2018-01-05T08:50:00+00:00",
          "2018-01-05T08:55:00+00:00",
          "2018-01-05T09:00:00+00:00",
          "2018-01-05T09:05:00+00:00",
          "2018-01-05T09:10:00+00:00",
          "2018-01-05T09:15:00+00:00",
          "2018-01-05T09:20:00+00:00",
          "2018-01-05T09:25:00+00:00",
          "2018-01-05T09:30:00+00:00"
         ]
        },
        {
         "close": [
          136.165,
          136.24,
          136.298,
          136.412
         ],
         "decreasing": {
          "fillcolor": "#3480eb",
          "line": {
           "color": "#3480eb"
          }
         },
         "high": [
          136.169,
          136.24,
          136.304,
          136.423
         ],
         "increasing": {
          "fillcolor": "#3480eb",
          "line": {
           "color": "#3480eb"
          }
         },
         "line": {
          "width": 1
         },
         "low": [
          136.111,
          136.216,
          136.256,
          136.373
         ],
         "opacity": 1,
         "open": [
          136.117,
          136.216,
          136.256,
          136.373
         ],
         "type": "candlestick",
         "x": [
          "2018-01-05T01:40:00+00:00",
          "2018-01-05T03:15:00+00:00",
          "2018-01-05T04:55:00+00:00",
          "2018-01-05T05:45:00+00:00"
         ]
        }
       ],
       "layout": {
        "font": {
         "color": "#e1e1e1",
         "size": 10
        },
        "height": 400,
        "margin": {
         "b": 10,
         "l": 10,
         "r": 10,
         "t": 10
        },
        "paper_bgcolor": "#1e1e1e",
        "plot_bgcolor": "#1e1e1e",
        "template": {
         "data": {
          "bar": [
           {
            "error_x": {
             "color": "#2a3f5f"
            },
            "error_y": {
             "color": "#2a3f5f"
            },
            "marker": {
             "line": {
              "color": "#E5ECF6",
              "width": 0.5
             },
             "pattern": {
              "fillmode": "overlay",
              "size": 10,
              "solidity": 0.2
             }
            },
            "type": "bar"
           }
          ],
          "barpolar": [
           {
            "marker": {
             "line": {
              "color": "#E5ECF6",
              "width": 0.5
             },
             "pattern": {
              "fillmode": "overlay",
              "size": 10,
              "solidity": 0.2
             }
            },
            "type": "barpolar"
           }
          ],
          "carpet": [
           {
            "aaxis": {
             "endlinecolor": "#2a3f5f",
             "gridcolor": "white",
             "linecolor": "white",
             "minorgridcolor": "white",
             "startlinecolor": "#2a3f5f"
            },
            "baxis": {
             "endlinecolor": "#2a3f5f",
             "gridcolor": "white",
             "linecolor": "white",
             "minorgridcolor": "white",
             "startlinecolor": "#2a3f5f"
            },
            "type": "carpet"
           }
          ],
          "choropleth": [
           {
            "colorbar": {
             "outlinewidth": 0,
             "ticks": ""
            },
            "type": "choropleth"
           }
          ],
          "contour": [
           {
            "colorbar": {
             "outlinewidth": 0,
             "ticks": ""
            },
            "colorscale": [
             [
              0,
              "#0d0887"
             ],
             [
              0.1111111111111111,
              "#46039f"
             ],
             [
              0.2222222222222222,
              "#7201a8"
             ],
             [
              0.3333333333333333,
              "#9c179e"
             ],
             [
              0.4444444444444444,
              "#bd3786"
             ],
             [
              0.5555555555555556,
              "#d8576b"
             ],
             [
              0.6666666666666666,
              "#ed7953"
             ],
             [
              0.7777777777777778,
              "#fb9f3a"
             ],
             [
              0.8888888888888888,
              "#fdca26"
             ],
             [
              1,
              "#f0f921"
             ]
            ],
            "type": "contour"
           }
          ],
          "contourcarpet": [
           {
            "colorbar": {
             "outlinewidth": 0,
             "ticks": ""
            },
            "type": "contourcarpet"
           }
          ],
          "heatmap": [
           {
            "colorbar": {
             "outlinewidth": 0,
             "ticks": ""
            },
            "colorscale": [
             [
              0,
              "#0d0887"
             ],
             [
              0.1111111111111111,
              "#46039f"
             ],
             [
              0.2222222222222222,
              "#7201a8"
             ],
             [
              0.3333333333333333,
              "#9c179e"
             ],
             [
              0.4444444444444444,
              "#bd3786"
             ],
             [
              0.5555555555555556,
              "#d8576b"
             ],
             [
              0.6666666666666666,
              "#ed7953"
             ],
             [
              0.7777777777777778,
              "#fb9f3a"
             ],
             [
              0.8888888888888888,
              "#fdca26"
             ],
             [
              1,
              "#f0f921"
             ]
            ],
            "type": "heatmap"
           }
          ],
          "heatmapgl": [
           {
            "colorbar": {
             "outlinewidth": 0,
             "ticks": ""
            },
            "colorscale": [
             [
              0,
              "#0d0887"
             ],
             [
              0.1111111111111111,
              "#46039f"
             ],
             [
              0.2222222222222222,
              "#7201a8"
             ],
             [
              0.3333333333333333,
              "#9c179e"
             ],
             [
              0.4444444444444444,
              "#bd3786"
             ],
             [
              0.5555555555555556,
              "#d8576b"
             ],
             [
              0.6666666666666666,
              "#ed7953"
             ],
             [
              0.7777777777777778,
              "#fb9f3a"
             ],
             [
              0.8888888888888888,
              "#fdca26"
             ],
             [
              1,
              "#f0f921"
             ]
            ],
            "type": "heatmapgl"
           }
          ],
          "histogram": [
           {
            "marker": {
             "pattern": {
              "fillmode": "overlay",
              "size": 10,
              "solidity": 0.2
             }
            },
            "type": "histogram"
           }
          ],
          "histogram2d": [
           {
            "colorbar": {
             "outlinewidth": 0,
             "ticks": ""
            },
            "colorscale": [
             [
              0,
              "#0d0887"
             ],
             [
              0.1111111111111111,
              "#46039f"
             ],
             [
              0.2222222222222222,
              "#7201a8"
             ],
             [
              0.3333333333333333,
              "#9c179e"
             ],
             [
              0.4444444444444444,
              "#bd3786"
             ],
             [
              0.5555555555555556,
              "#d8576b"
             ],
             [
              0.6666666666666666,
              "#ed7953"
             ],
             [
              0.7777777777777778,
              "#fb9f3a"
             ],
             [
              0.8888888888888888,
              "#fdca26"
             ],
             [
              1,
              "#f0f921"
             ]
            ],
            "type": "histogram2d"
           }
          ],
          "histogram2dcontour": [
           {
            "colorbar": {
             "outlinewidth": 0,
             "ticks": ""
            },
            "colorscale": [
             [
              0,
              "#0d0887"
             ],
             [
              0.1111111111111111,
              "#46039f"
             ],
             [
              0.2222222222222222,
              "#7201a8"
             ],
             [
              0.3333333333333333,
              "#9c179e"
             ],
             [
              0.4444444444444444,
              "#bd3786"
             ],
             [
              0.5555555555555556,
              "#d8576b"
             ],
             [
              0.6666666666666666,
              "#ed7953"
             ],
             [
              0.7777777777777778,
              "#fb9f3a"
             ],
             [
              0.8888888888888888,
              "#fdca26"
             ],
             [
              1,
              "#f0f921"
             ]
            ],
            "type": "histogram2dcontour"
           }
          ],
          "mesh3d": [
           {
            "colorbar": {
             "outlinewidth": 0,
             "ticks": ""
            },
            "type": "mesh3d"
           }
          ],
          "parcoords": [
           {
            "line": {
             "colorbar": {
              "outlinewidth": 0,
              "ticks": ""
             }
            },
            "type": "parcoords"
           }
          ],
          "pie": [
           {
            "automargin": true,
            "type": "pie"
           }
          ],
          "scatter": [
           {
            "marker": {
             "colorbar": {
              "outlinewidth": 0,
              "ticks": ""
             }
            },
            "type": "scatter"
           }
          ],
          "scatter3d": [
           {
            "line": {
             "colorbar": {
              "outlinewidth": 0,
              "ticks": ""
             }
            },
            "marker": {
             "colorbar": {
              "outlinewidth": 0,
              "ticks": ""
             }
            },
            "type": "scatter3d"
           }
          ],
          "scattercarpet": [
           {
            "marker": {
             "colorbar": {
              "outlinewidth": 0,
              "ticks": ""
             }
            },
            "type": "scattercarpet"
           }
          ],
          "scattergeo": [
           {
            "marker": {
             "colorbar": {
              "outlinewidth": 0,
              "ticks": ""
             }
            },
            "type": "scattergeo"
           }
          ],
          "scattergl": [
           {
            "marker": {
             "colorbar": {
              "outlinewidth": 0,
              "ticks": ""
             }
            },
            "type": "scattergl"
           }
          ],
          "scattermapbox": [
           {
            "marker": {
             "colorbar": {
              "outlinewidth": 0,
              "ticks": ""
             }
            },
            "type": "scattermapbox"
           }
          ],
          "scatterpolar": [
           {
            "marker": {
             "colorbar": {
              "outlinewidth": 0,
              "ticks": ""
             }
            },
            "type": "scatterpolar"
           }
          ],
          "scatterpolargl": [
           {
            "marker": {
             "colorbar": {
              "outlinewidth": 0,
              "ticks": ""
             }
            },
            "type": "scatterpolargl"
           }
          ],
          "scatterternary": [
           {
            "marker": {
             "colorbar": {
              "outlinewidth": 0,
              "ticks": ""
             }
            },
            "type": "scatterternary"
           }
          ],
          "surface": [
           {
            "colorbar": {
             "outlinewidth": 0,
             "ticks": ""
            },
            "colorscale": [
             [
              0,
              "#0d0887"
             ],
             [
              0.1111111111111111,
              "#46039f"
             ],
             [
              0.2222222222222222,
              "#7201a8"
             ],
             [
              0.3333333333333333,
              "#9c179e"
             ],
             [
              0.4444444444444444,
              "#bd3786"
             ],
             [
              0.5555555555555556,
              "#d8576b"
             ],
             [
              0.6666666666666666,
              "#ed7953"
             ],
             [
              0.7777777777777778,
              "#fb9f3a"
             ],
             [
              0.8888888888888888,
              "#fdca26"
             ],
             [
              1,
              "#f0f921"
             ]
            ],
            "type": "surface"
           }
          ],
          "table": [
           {
            "cells": {
             "fill": {
              "color": "#EBF0F8"
             },
             "line": {
              "color": "white"
             }
            },
            "header": {
             "fill": {
              "color": "#C8D4E3"
             },
             "line": {
              "color": "white"
             }
            },
            "type": "table"
           }
          ]
         },
         "layout": {
          "annotationdefaults": {
           "arrowcolor": "#2a3f5f",
           "arrowhead": 0,
           "arrowwidth": 1
          },
          "autotypenumbers": "strict",
          "coloraxis": {
           "colorbar": {
            "outlinewidth": 0,
            "ticks": ""
           }
          },
          "colorscale": {
           "diverging": [
            [
             0,
             "#8e0152"
            ],
            [
             0.1,
             "#c51b7d"
            ],
            [
             0.2,
             "#de77ae"
            ],
            [
             0.3,
             "#f1b6da"
            ],
            [
             0.4,
             "#fde0ef"
            ],
            [
             0.5,
             "#f7f7f7"
            ],
            [
             0.6,
             "#e6f5d0"
            ],
            [
             0.7,
             "#b8e186"
            ],
            [
             0.8,
             "#7fbc41"
            ],
            [
             0.9,
             "#4d9221"
            ],
            [
             1,
             "#276419"
            ]
           ],
           "sequential": [
            [
             0,
             "#0d0887"
            ],
            [
             0.1111111111111111,
             "#46039f"
            ],
            [
             0.2222222222222222,
             "#7201a8"
            ],
            [
             0.3333333333333333,
             "#9c179e"
            ],
            [
             0.4444444444444444,
             "#bd3786"
            ],
            [
             0.5555555555555556,
             "#d8576b"
            ],
            [
             0.6666666666666666,
             "#ed7953"
            ],
            [
             0.7777777777777778,
             "#fb9f3a"
            ],
            [
             0.8888888888888888,
             "#fdca26"
            ],
            [
             1,
             "#f0f921"
            ]
           ],
           "sequentialminus": [
            [
             0,
             "#0d0887"
            ],
            [
             0.1111111111111111,
             "#46039f"
            ],
            [
             0.2222222222222222,
             "#7201a8"
            ],
            [
             0.3333333333333333,
             "#9c179e"
            ],
            [
             0.4444444444444444,
             "#bd3786"
            ],
            [
             0.5555555555555556,
             "#d8576b"
            ],
            [
             0.6666666666666666,
             "#ed7953"
            ],
            [
             0.7777777777777778,
             "#fb9f3a"
            ],
            [
             0.8888888888888888,
             "#fdca26"
            ],
            [
             1,
             "#f0f921"
            ]
           ]
          },
          "colorway": [
           "#636efa",
           "#EF553B",
           "#00cc96",
           "#ab63fa",
           "#FFA15A",
           "#19d3f3",
           "#FF6692",
           "#B6E880",
           "#FF97FF",
           "#FECB52"
          ],
          "font": {
           "color": "#2a3f5f"
          },
          "geo": {
           "bgcolor": "white",
           "lakecolor": "white",
           "landcolor": "#E5ECF6",
           "showlakes": true,
           "showland": true,
           "subunitcolor": "white"
          },
          "hoverlabel": {
           "align": "left"
          },
          "hovermode": "closest",
          "mapbox": {
           "style": "light"
          },
          "paper_bgcolor": "white",
          "plot_bgcolor": "#E5ECF6",
          "polar": {
           "angularaxis": {
            "gridcolor": "white",
            "linecolor": "white",
            "ticks": ""
           },
           "bgcolor": "#E5ECF6",
           "radialaxis": {
            "gridcolor": "white",
            "linecolor": "white",
            "ticks": ""
           }
          },
          "scene": {
           "xaxis": {
            "backgroundcolor": "#E5ECF6",
            "gridcolor": "white",
            "gridwidth": 2,
            "linecolor": "white",
            "showbackground": true,
            "ticks": "",
            "zerolinecolor": "white"
           },
           "yaxis": {
            "backgroundcolor": "#E5ECF6",
            "gridcolor": "white",
            "gridwidth": 2,
            "linecolor": "white",
            "showbackground": true,
            "ticks": "",
            "zerolinecolor": "white"
           },
           "zaxis": {
            "backgroundcolor": "#E5ECF6",
            "gridcolor": "white",
            "gridwidth": 2,
            "linecolor": "white",
            "showbackground": true,
            "ticks": "",
            "zerolinecolor": "white"
           }
          },
          "shapedefaults": {
           "line": {
            "color": "#2a3f5f"
           }
          },
          "ternary": {
           "aaxis": {
            "gridcolor": "white",
            "linecolor": "white",
            "ticks": ""
           },
           "baxis": {
            "gridcolor": "white",
            "linecolor": "white",
            "ticks": ""
           },
           "bgcolor": "#E5ECF6",
           "caxis": {
            "gridcolor": "white",
            "linecolor": "white",
            "ticks": ""
           }
          },
          "title": {
           "x": 0.05
          },
          "xaxis": {
           "automargin": true,
           "gridcolor": "white",
           "linecolor": "white",
           "ticks": "",
           "title": {
            "standoff": 15
           },
           "zerolinecolor": "white",
           "zerolinewidth": 2
          },
          "yaxis": {
           "automargin": true,
           "gridcolor": "white",
           "linecolor": "white",
           "ticks": "",
           "title": {
            "standoff": 15
           },
           "zerolinecolor": "white",
           "zerolinewidth": 2
          }
         }
        },
        "width": 1000,
        "xaxis": {
         "fixedrange": true,
         "gridcolor": "#1f292f",
         "rangebreaks": [
          {
           "bounds": [
            "sat",
            "mon"
           ]
          }
         ],
         "rangeslider": {
          "visible": false
         },
         "showgrid": true
        },
        "yaxis": {
         "gridcolor": "#1f292f",
         "showgrid": true
        }
       }
      }
     },
     "metadata": {},
     "output_type": "display_data"
    }
   ],
   "source": [
    "plot_candles(df_plot, df_markers)"
   ]
  },
  {
   "cell_type": "code",
   "execution_count": null,
   "metadata": {},
   "outputs": [],
   "source": []
  },
  {
   "cell_type": "code",
   "execution_count": null,
   "metadata": {},
   "outputs": [],
   "source": []
  }
 ],
 "metadata": {
  "kernelspec": {
   "display_name": "Python 3.8.6 64-bit ('venv')",
   "metadata": {
    "interpreter": {
     "hash": "be5e91b1e492455655c24714dfd4b9d98fd4b60ac770d810fbdc4ba1d818ed6d"
    }
   },
   "name": "python3"
  },
  "language_info": {
   "codemirror_mode": {
    "name": "ipython",
    "version": 3
   },
   "file_extension": ".py",
   "mimetype": "text/x-python",
   "name": "python",
   "nbconvert_exporter": "python",
   "pygments_lexer": "ipython3",
   "version": "3.10.4"
  },
  "orig_nbformat": 2
 },
 "nbformat": 4,
 "nbformat_minor": 2
}
