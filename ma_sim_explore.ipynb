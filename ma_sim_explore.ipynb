{
 "cells": [
  {
   "cell_type": "code",
   "execution_count": 100,
   "metadata": {},
   "outputs": [],
   "source": [
    "import pandas as pd\n",
    "import plotly.graph_objects as go"
   ]
  },
  {
   "cell_type": "code",
   "execution_count": 101,
   "metadata": {},
   "outputs": [],
   "source": [
    "ma_test_res = pd.read_pickle(\"ma_test_res.pkl\")\n",
    "all_trades = pd.read_pickle(\"all_trades.pkl\")"
   ]
  },
  {
   "cell_type": "code",
   "execution_count": 102,
   "metadata": {},
   "outputs": [
    {
     "data": {
      "text/plain": [
       "(65992, 11)"
      ]
     },
     "execution_count": 102,
     "metadata": {},
     "output_type": "execute_result"
    }
   ],
   "source": [
    "all_trades.shape"
   ]
  },
  {
   "cell_type": "code",
   "execution_count": 103,
   "metadata": {},
   "outputs": [
    {
     "data": {
      "text/plain": [
       "(630, 8)"
      ]
     },
     "execution_count": 103,
     "metadata": {},
     "output_type": "execute_result"
    }
   ],
   "source": [
    "ma_test_res.shape"
   ]
  },
  {
   "cell_type": "code",
   "execution_count": 104,
   "metadata": {},
   "outputs": [
    {
     "data": {
      "text/html": [
       "<div>\n",
       "<style scoped>\n",
       "    .dataframe tbody tr th:only-of-type {\n",
       "        vertical-align: middle;\n",
       "    }\n",
       "\n",
       "    .dataframe tbody tr th {\n",
       "        vertical-align: top;\n",
       "    }\n",
       "\n",
       "    .dataframe thead th {\n",
       "        text-align: right;\n",
       "    }\n",
       "</style>\n",
       "<table border=\"1\" class=\"dataframe\">\n",
       "  <thead>\n",
       "    <tr style=\"text-align: right;\">\n",
       "      <th></th>\n",
       "      <th>pair</th>\n",
       "      <th>num_trades</th>\n",
       "      <th>total_gain</th>\n",
       "      <th>mean_gain</th>\n",
       "      <th>min_gain</th>\n",
       "      <th>max_gain</th>\n",
       "      <th>mashort</th>\n",
       "      <th>malong</th>\n",
       "    </tr>\n",
       "  </thead>\n",
       "  <tbody>\n",
       "    <tr>\n",
       "      <th>0</th>\n",
       "      <td>GBP_USD</td>\n",
       "      <td>550</td>\n",
       "      <td>-869.2</td>\n",
       "      <td>-1.580364</td>\n",
       "      <td>-85.6</td>\n",
       "      <td>202.9</td>\n",
       "      <td>4</td>\n",
       "      <td>8</td>\n",
       "    </tr>\n",
       "    <tr>\n",
       "      <th>1</th>\n",
       "      <td>GBP_USD</td>\n",
       "      <td>315</td>\n",
       "      <td>-430.4</td>\n",
       "      <td>-1.366349</td>\n",
       "      <td>-85.8</td>\n",
       "      <td>257.2</td>\n",
       "      <td>4</td>\n",
       "      <td>16</td>\n",
       "    </tr>\n",
       "    <tr>\n",
       "      <th>2</th>\n",
       "      <td>GBP_USD</td>\n",
       "      <td>291</td>\n",
       "      <td>-630.5</td>\n",
       "      <td>-2.166667</td>\n",
       "      <td>-83.2</td>\n",
       "      <td>267.1</td>\n",
       "      <td>8</td>\n",
       "      <td>16</td>\n",
       "    </tr>\n",
       "    <tr>\n",
       "      <th>3</th>\n",
       "      <td>GBP_USD</td>\n",
       "      <td>202</td>\n",
       "      <td>-33.4</td>\n",
       "      <td>-0.165347</td>\n",
       "      <td>-95.0</td>\n",
       "      <td>232.1</td>\n",
       "      <td>4</td>\n",
       "      <td>32</td>\n",
       "    </tr>\n",
       "    <tr>\n",
       "      <th>4</th>\n",
       "      <td>GBP_USD</td>\n",
       "      <td>152</td>\n",
       "      <td>317.9</td>\n",
       "      <td>2.091447</td>\n",
       "      <td>-83.2</td>\n",
       "      <td>213.8</td>\n",
       "      <td>8</td>\n",
       "      <td>32</td>\n",
       "    </tr>\n",
       "  </tbody>\n",
       "</table>\n",
       "</div>"
      ],
      "text/plain": [
       "      pair  num_trades  total_gain  mean_gain  min_gain  max_gain  mashort  \\\n",
       "0  GBP_USD         550      -869.2  -1.580364     -85.6     202.9        4   \n",
       "1  GBP_USD         315      -430.4  -1.366349     -85.8     257.2        4   \n",
       "2  GBP_USD         291      -630.5  -2.166667     -83.2     267.1        8   \n",
       "3  GBP_USD         202       -33.4  -0.165347     -95.0     232.1        4   \n",
       "4  GBP_USD         152       317.9   2.091447     -83.2     213.8        8   \n",
       "\n",
       "   malong  \n",
       "0       8  \n",
       "1      16  \n",
       "2      16  \n",
       "3      32  \n",
       "4      32  "
      ]
     },
     "execution_count": 104,
     "metadata": {},
     "output_type": "execute_result"
    }
   ],
   "source": [
    "ma_test_res.head()"
   ]
  },
  {
   "cell_type": "code",
   "execution_count": 105,
   "metadata": {},
   "outputs": [
    {
     "data": {
      "text/plain": [
       "Index(['pair', 'num_trades', 'total_gain', 'mean_gain', 'min_gain', 'max_gain',\n",
       "       'mashort', 'malong'],\n",
       "      dtype='object')"
      ]
     },
     "execution_count": 105,
     "metadata": {},
     "output_type": "execute_result"
    }
   ],
   "source": [
    "ma_test_res.columns"
   ]
  },
  {
   "cell_type": "code",
   "execution_count": 106,
   "metadata": {},
   "outputs": [],
   "source": [
    "ma_test_res = ma_test_res[['pair', 'num_trades', 'total_gain','mashort', 'malong']]"
   ]
  },
  {
   "cell_type": "code",
   "execution_count": 107,
   "metadata": {},
   "outputs": [],
   "source": [
    "ma_test_res[\"CROSS\"] = \"MA_\" + ma_test_res.mashort.map(str) + \"_\" + ma_test_res.malong.map(str)"
   ]
  },
  {
   "cell_type": "code",
   "execution_count": 108,
   "metadata": {},
   "outputs": [],
   "source": [
    "df_all_gains = ma_test_res.groupby(by=[\"CROSS\", \"mashort\", \"malong\"], as_index=False).sum()"
   ]
  },
  {
   "cell_type": "code",
   "execution_count": 109,
   "metadata": {},
   "outputs": [],
   "source": [
    "df_all_gains.sort_values(by=\"total_gain\", ascending=False, inplace=True)"
   ]
  },
  {
   "cell_type": "code",
   "execution_count": 110,
   "metadata": {},
   "outputs": [
    {
     "data": {
      "text/html": [
       "<div>\n",
       "<style scoped>\n",
       "    .dataframe tbody tr th:only-of-type {\n",
       "        vertical-align: middle;\n",
       "    }\n",
       "\n",
       "    .dataframe tbody tr th {\n",
       "        vertical-align: top;\n",
       "    }\n",
       "\n",
       "    .dataframe thead th {\n",
       "        text-align: right;\n",
       "    }\n",
       "</style>\n",
       "<table border=\"1\" class=\"dataframe\">\n",
       "  <thead>\n",
       "    <tr style=\"text-align: right;\">\n",
       "      <th></th>\n",
       "      <th>CROSS</th>\n",
       "      <th>mashort</th>\n",
       "      <th>malong</th>\n",
       "      <th>num_trades</th>\n",
       "      <th>total_gain</th>\n",
       "    </tr>\n",
       "  </thead>\n",
       "  <tbody>\n",
       "    <tr>\n",
       "      <th>22</th>\n",
       "      <td>MA_64_256</td>\n",
       "      <td>64</td>\n",
       "      <td>256</td>\n",
       "      <td>327</td>\n",
       "      <td>6708.4</td>\n",
       "    </tr>\n",
       "    <tr>\n",
       "      <th>21</th>\n",
       "      <td>MA_64_128</td>\n",
       "      <td>64</td>\n",
       "      <td>128</td>\n",
       "      <td>660</td>\n",
       "      <td>4874.8</td>\n",
       "    </tr>\n",
       "    <tr>\n",
       "      <th>11</th>\n",
       "      <td>MA_32_256</td>\n",
       "      <td>32</td>\n",
       "      <td>256</td>\n",
       "      <td>446</td>\n",
       "      <td>4524.3</td>\n",
       "    </tr>\n",
       "    <tr>\n",
       "      <th>6</th>\n",
       "      <td>MA_24_256</td>\n",
       "      <td>24</td>\n",
       "      <td>256</td>\n",
       "      <td>514</td>\n",
       "      <td>4099.1</td>\n",
       "    </tr>\n",
       "    <tr>\n",
       "      <th>23</th>\n",
       "      <td>MA_64_96</td>\n",
       "      <td>64</td>\n",
       "      <td>96</td>\n",
       "      <td>962</td>\n",
       "      <td>3518.3</td>\n",
       "    </tr>\n",
       "  </tbody>\n",
       "</table>\n",
       "</div>"
      ],
      "text/plain": [
       "        CROSS  mashort  malong  num_trades  total_gain\n",
       "22  MA_64_256       64     256         327      6708.4\n",
       "21  MA_64_128       64     128         660      4874.8\n",
       "11  MA_32_256       32     256         446      4524.3\n",
       "6   MA_24_256       24     256         514      4099.1\n",
       "23   MA_64_96       64      96         962      3518.3"
      ]
     },
     "execution_count": 110,
     "metadata": {},
     "output_type": "execute_result"
    }
   ],
   "source": [
    "df_all_gains.head()"
   ]
  },
  {
   "cell_type": "code",
   "execution_count": 111,
   "metadata": {},
   "outputs": [],
   "source": [
    "ma_8_16 = ma_test_res[ma_test_res.CROSS=='MA_8_16'].copy()"
   ]
  },
  {
   "cell_type": "code",
   "execution_count": 112,
   "metadata": {},
   "outputs": [],
   "source": [
    "ma_8_16.sort_values(by=\"total_gain\", ascending=False, inplace=True)"
   ]
  },
  {
   "cell_type": "code",
   "execution_count": 113,
   "metadata": {},
   "outputs": [],
   "source": [
    "total_p = len(ma_8_16.pair.unique())"
   ]
  },
  {
   "cell_type": "code",
   "execution_count": 114,
   "metadata": {},
   "outputs": [
    {
     "data": {
      "text/plain": [
       "9"
      ]
     },
     "execution_count": 114,
     "metadata": {},
     "output_type": "execute_result"
    }
   ],
   "source": [
    "ma_8_16[ma_8_16.total_gain>0].shape[0]"
   ]
  },
  {
   "cell_type": "code",
   "execution_count": 115,
   "metadata": {},
   "outputs": [
    {
     "data": {
      "text/plain": [
       "0.6190476190476191"
      ]
     },
     "execution_count": 115,
     "metadata": {},
     "output_type": "execute_result"
    }
   ],
   "source": [
    "13 / total_p"
   ]
  },
  {
   "cell_type": "code",
   "execution_count": 116,
   "metadata": {},
   "outputs": [
    {
     "name": "stdout",
     "output_type": "stream",
     "text": [
      "MA_64_256      14   67%\n",
      "MA_64_128      13   62%\n",
      "MA_32_256      13   62%\n",
      "MA_24_256      13   62%\n",
      "MA_64_96       12   57%\n",
      "MA_16_32       11   52%\n",
      "MA_16_256      11   52%\n",
      "MA_32_128      10   48%\n",
      "MA_4_256       12   57%\n",
      "MA_4_32        10   48%\n",
      "MA_8_32        12   57%\n",
      "MA_8_256       12   57%\n",
      "MA_16_128      10   48%\n",
      "MA_24_128      11   52%\n",
      "MA_8_128       12   57%\n",
      "MA_24_32        9   43%\n",
      "MA_4_128       10   48%\n",
      "MA_32_96        8   38%\n",
      "MA_8_64         8   38%\n",
      "MA_8_16         9   43%\n",
      "MA_16_96        8   38%\n",
      "MA_32_64       10   48%\n",
      "MA_16_64        8   38%\n",
      "MA_24_96        5   24%\n",
      "MA_4_64         6   29%\n",
      "MA_4_96         8   38%\n",
      "MA_4_16         8   38%\n",
      "MA_24_64        7   33%\n",
      "MA_8_96         6   29%\n",
      "MA_4_8          8   38%\n"
     ]
    }
   ],
   "source": [
    "for cross in df_all_gains.CROSS.unique():\n",
    "    df_temp = ma_test_res[ma_test_res.CROSS==cross]\n",
    "    total_p = df_temp.shape[0]\n",
    "    n_good = df_temp[df_temp.total_gain>0].shape[0]\n",
    "    print(f\"{cross:12} {n_good:4} {(n_good/total_p)*100:4.0f}%\")"
   ]
  },
  {
   "cell_type": "code",
   "execution_count": 117,
   "metadata": {},
   "outputs": [],
   "source": [
    "crosses = df_all_gains.CROSS.unique()[:3]"
   ]
  },
  {
   "cell_type": "code",
   "execution_count": 118,
   "metadata": {},
   "outputs": [
    {
     "data": {
      "text/plain": [
       "array(['MA_64_256', 'MA_64_128', 'MA_32_256'], dtype=object)"
      ]
     },
     "execution_count": 118,
     "metadata": {},
     "output_type": "execute_result"
    }
   ],
   "source": [
    "crosses"
   ]
  },
  {
   "cell_type": "code",
   "execution_count": 119,
   "metadata": {},
   "outputs": [
    {
     "data": {
      "text/html": [
       "<div>\n",
       "<style scoped>\n",
       "    .dataframe tbody tr th:only-of-type {\n",
       "        vertical-align: middle;\n",
       "    }\n",
       "\n",
       "    .dataframe tbody tr th {\n",
       "        vertical-align: top;\n",
       "    }\n",
       "\n",
       "    .dataframe thead th {\n",
       "        text-align: right;\n",
       "    }\n",
       "</style>\n",
       "<table border=\"1\" class=\"dataframe\">\n",
       "  <thead>\n",
       "    <tr style=\"text-align: right;\">\n",
       "      <th></th>\n",
       "      <th>pair</th>\n",
       "      <th>num_trades</th>\n",
       "      <th>total_gain</th>\n",
       "      <th>mashort</th>\n",
       "      <th>malong</th>\n",
       "      <th>CROSS</th>\n",
       "    </tr>\n",
       "  </thead>\n",
       "  <tbody>\n",
       "    <tr>\n",
       "      <th>0</th>\n",
       "      <td>GBP_USD</td>\n",
       "      <td>550</td>\n",
       "      <td>-869.2</td>\n",
       "      <td>4</td>\n",
       "      <td>8</td>\n",
       "      <td>MA_4_8</td>\n",
       "    </tr>\n",
       "    <tr>\n",
       "      <th>1</th>\n",
       "      <td>GBP_USD</td>\n",
       "      <td>315</td>\n",
       "      <td>-430.4</td>\n",
       "      <td>4</td>\n",
       "      <td>16</td>\n",
       "      <td>MA_4_16</td>\n",
       "    </tr>\n",
       "  </tbody>\n",
       "</table>\n",
       "</div>"
      ],
      "text/plain": [
       "      pair  num_trades  total_gain  mashort  malong    CROSS\n",
       "0  GBP_USD         550      -869.2        4       8   MA_4_8\n",
       "1  GBP_USD         315      -430.4        4      16  MA_4_16"
      ]
     },
     "execution_count": 119,
     "metadata": {},
     "output_type": "execute_result"
    }
   ],
   "source": [
    "ma_test_res.head(2)"
   ]
  },
  {
   "cell_type": "code",
   "execution_count": 120,
   "metadata": {},
   "outputs": [],
   "source": [
    "df_good = ma_test_res[(ma_test_res.CROSS.isin(crosses)) & (ma_test_res.total_gain>0)].copy()"
   ]
  },
  {
   "cell_type": "code",
   "execution_count": 121,
   "metadata": {},
   "outputs": [
    {
     "data": {
      "text/html": [
       "<div>\n",
       "<style scoped>\n",
       "    .dataframe tbody tr th:only-of-type {\n",
       "        vertical-align: middle;\n",
       "    }\n",
       "\n",
       "    .dataframe tbody tr th {\n",
       "        vertical-align: top;\n",
       "    }\n",
       "\n",
       "    .dataframe thead th {\n",
       "        text-align: right;\n",
       "    }\n",
       "</style>\n",
       "<table border=\"1\" class=\"dataframe\">\n",
       "  <thead>\n",
       "    <tr style=\"text-align: right;\">\n",
       "      <th></th>\n",
       "      <th>pair</th>\n",
       "      <th>num_trades</th>\n",
       "      <th>total_gain</th>\n",
       "      <th>mashort</th>\n",
       "      <th>malong</th>\n",
       "      <th>CROSS</th>\n",
       "    </tr>\n",
       "  </thead>\n",
       "  <tbody>\n",
       "    <tr>\n",
       "      <th>23</th>\n",
       "      <td>GBP_USD</td>\n",
       "      <td>24</td>\n",
       "      <td>820.0</td>\n",
       "      <td>64</td>\n",
       "      <td>128</td>\n",
       "      <td>MA_64_128</td>\n",
       "    </tr>\n",
       "    <tr>\n",
       "      <th>28</th>\n",
       "      <td>GBP_USD</td>\n",
       "      <td>22</td>\n",
       "      <td>807.8</td>\n",
       "      <td>32</td>\n",
       "      <td>256</td>\n",
       "      <td>MA_32_256</td>\n",
       "    </tr>\n",
       "  </tbody>\n",
       "</table>\n",
       "</div>"
      ],
      "text/plain": [
       "       pair  num_trades  total_gain  mashort  malong      CROSS\n",
       "23  GBP_USD          24       820.0       64     128  MA_64_128\n",
       "28  GBP_USD          22       807.8       32     256  MA_32_256"
      ]
     },
     "execution_count": 121,
     "metadata": {},
     "output_type": "execute_result"
    }
   ],
   "source": [
    "df_good.head(2)"
   ]
  },
  {
   "cell_type": "code",
   "execution_count": 122,
   "metadata": {},
   "outputs": [],
   "source": [
    "our_pairs = list(df_good.pair.value_counts()[:9].index)"
   ]
  },
  {
   "cell_type": "code",
   "execution_count": 123,
   "metadata": {},
   "outputs": [
    {
     "data": {
      "text/plain": [
       "['GBP_USD',\n",
       " 'EUR_JPY',\n",
       " 'NZD_JPY',\n",
       " 'NZD_CAD',\n",
       " 'GBP_CAD',\n",
       " 'EUR_CHF',\n",
       " 'GBP_CHF',\n",
       " 'GBP_NZD',\n",
       " 'GBP_JPY']"
      ]
     },
     "execution_count": 123,
     "metadata": {},
     "output_type": "execute_result"
    }
   ],
   "source": [
    "our_pairs"
   ]
  },
  {
   "cell_type": "code",
   "execution_count": 124,
   "metadata": {},
   "outputs": [
    {
     "data": {
      "text/html": [
       "<div>\n",
       "<style scoped>\n",
       "    .dataframe tbody tr th:only-of-type {\n",
       "        vertical-align: middle;\n",
       "    }\n",
       "\n",
       "    .dataframe tbody tr th {\n",
       "        vertical-align: top;\n",
       "    }\n",
       "\n",
       "    .dataframe thead th {\n",
       "        text-align: right;\n",
       "    }\n",
       "</style>\n",
       "<table border=\"1\" class=\"dataframe\">\n",
       "  <thead>\n",
       "    <tr style=\"text-align: right;\">\n",
       "      <th></th>\n",
       "      <th>time</th>\n",
       "      <th>mid_c</th>\n",
       "      <th>DIFF</th>\n",
       "      <th>DIFF_PREV</th>\n",
       "      <th>IS_TRADE</th>\n",
       "      <th>DELTA</th>\n",
       "      <th>GAIN</th>\n",
       "      <th>PAIR</th>\n",
       "      <th>MASHORT</th>\n",
       "      <th>MALONG</th>\n",
       "      <th>DURATION</th>\n",
       "    </tr>\n",
       "  </thead>\n",
       "  <tbody>\n",
       "    <tr>\n",
       "      <th>8</th>\n",
       "      <td>2021-08-31 01:00:00+00:00</td>\n",
       "      <td>1.37672</td>\n",
       "      <td>0.000048</td>\n",
       "      <td>-0.000138</td>\n",
       "      <td>1</td>\n",
       "      <td>1.9</td>\n",
       "      <td>1.9</td>\n",
       "      <td>GBP_USD</td>\n",
       "      <td>4</td>\n",
       "      <td>8</td>\n",
       "      <td>8.0</td>\n",
       "    </tr>\n",
       "    <tr>\n",
       "      <th>16</th>\n",
       "      <td>2021-08-31 09:00:00+00:00</td>\n",
       "      <td>1.37691</td>\n",
       "      <td>-0.000101</td>\n",
       "      <td>0.000610</td>\n",
       "      <td>-1</td>\n",
       "      <td>11.7</td>\n",
       "      <td>-11.7</td>\n",
       "      <td>GBP_USD</td>\n",
       "      <td>4</td>\n",
       "      <td>8</td>\n",
       "      <td>4.0</td>\n",
       "    </tr>\n",
       "  </tbody>\n",
       "</table>\n",
       "</div>"
      ],
      "text/plain": [
       "                        time    mid_c      DIFF  DIFF_PREV  IS_TRADE  DELTA  \\\n",
       "8  2021-08-31 01:00:00+00:00  1.37672  0.000048  -0.000138         1    1.9   \n",
       "16 2021-08-31 09:00:00+00:00  1.37691 -0.000101   0.000610        -1   11.7   \n",
       "\n",
       "    GAIN     PAIR  MASHORT  MALONG  DURATION  \n",
       "8    1.9  GBP_USD        4       8       8.0  \n",
       "16 -11.7  GBP_USD        4       8       4.0  "
      ]
     },
     "execution_count": 124,
     "metadata": {},
     "output_type": "execute_result"
    }
   ],
   "source": [
    "all_trades.head(2)"
   ]
  },
  {
   "cell_type": "code",
   "execution_count": 125,
   "metadata": {},
   "outputs": [],
   "source": [
    "all_trades[\"CROSS\"] = \"MA_\" + all_trades.MASHORT.map(str) + \"_\" + all_trades.MALONG.map(str)"
   ]
  },
  {
   "cell_type": "code",
   "execution_count": 126,
   "metadata": {},
   "outputs": [],
   "source": [
    "trades_cad_jpy = all_trades[(all_trades.CROSS==\"MA_8_16\") & (all_trades.PAIR==\"CAD_JPY\")].copy()"
   ]
  },
  {
   "cell_type": "code",
   "execution_count": 127,
   "metadata": {},
   "outputs": [
    {
     "data": {
      "text/html": [
       "<div>\n",
       "<style scoped>\n",
       "    .dataframe tbody tr th:only-of-type {\n",
       "        vertical-align: middle;\n",
       "    }\n",
       "\n",
       "    .dataframe tbody tr th {\n",
       "        vertical-align: top;\n",
       "    }\n",
       "\n",
       "    .dataframe thead th {\n",
       "        text-align: right;\n",
       "    }\n",
       "</style>\n",
       "<table border=\"1\" class=\"dataframe\">\n",
       "  <thead>\n",
       "    <tr style=\"text-align: right;\">\n",
       "      <th></th>\n",
       "      <th>time</th>\n",
       "      <th>mid_c</th>\n",
       "      <th>DIFF</th>\n",
       "      <th>DIFF_PREV</th>\n",
       "      <th>IS_TRADE</th>\n",
       "      <th>DELTA</th>\n",
       "      <th>GAIN</th>\n",
       "      <th>PAIR</th>\n",
       "      <th>MASHORT</th>\n",
       "      <th>MALONG</th>\n",
       "      <th>DURATION</th>\n",
       "      <th>CROSS</th>\n",
       "    </tr>\n",
       "  </thead>\n",
       "  <tbody>\n",
       "    <tr>\n",
       "      <th>21</th>\n",
       "      <td>2021-08-31 14:00:00+00:00</td>\n",
       "      <td>86.929</td>\n",
       "      <td>-0.001813</td>\n",
       "      <td>0.028063</td>\n",
       "      <td>-1</td>\n",
       "      <td>25.5</td>\n",
       "      <td>-25.5</td>\n",
       "      <td>CAD_JPY</td>\n",
       "      <td>8</td>\n",
       "      <td>16</td>\n",
       "      <td>8.0</td>\n",
       "      <td>MA_8_16</td>\n",
       "    </tr>\n",
       "    <tr>\n",
       "      <th>29</th>\n",
       "      <td>2021-08-31 22:00:00+00:00</td>\n",
       "      <td>87.184</td>\n",
       "      <td>0.001063</td>\n",
       "      <td>-0.039625</td>\n",
       "      <td>1</td>\n",
       "      <td>11.0</td>\n",
       "      <td>11.0</td>\n",
       "      <td>CAD_JPY</td>\n",
       "      <td>8</td>\n",
       "      <td>16</td>\n",
       "      <td>18.0</td>\n",
       "      <td>MA_8_16</td>\n",
       "    </tr>\n",
       "    <tr>\n",
       "      <th>47</th>\n",
       "      <td>2021-09-01 16:00:00+00:00</td>\n",
       "      <td>87.294</td>\n",
       "      <td>-0.019500</td>\n",
       "      <td>0.030500</td>\n",
       "      <td>-1</td>\n",
       "      <td>3.0</td>\n",
       "      <td>-3.0</td>\n",
       "      <td>CAD_JPY</td>\n",
       "      <td>8</td>\n",
       "      <td>16</td>\n",
       "      <td>16.0</td>\n",
       "      <td>MA_8_16</td>\n",
       "    </tr>\n",
       "    <tr>\n",
       "      <th>63</th>\n",
       "      <td>2021-09-02 08:00:00+00:00</td>\n",
       "      <td>87.324</td>\n",
       "      <td>0.013125</td>\n",
       "      <td>-0.014875</td>\n",
       "      <td>1</td>\n",
       "      <td>28.3</td>\n",
       "      <td>28.3</td>\n",
       "      <td>CAD_JPY</td>\n",
       "      <td>8</td>\n",
       "      <td>16</td>\n",
       "      <td>32.0</td>\n",
       "      <td>MA_8_16</td>\n",
       "    </tr>\n",
       "    <tr>\n",
       "      <th>95</th>\n",
       "      <td>2021-09-03 16:00:00+00:00</td>\n",
       "      <td>87.607</td>\n",
       "      <td>-0.012687</td>\n",
       "      <td>0.001000</td>\n",
       "      <td>-1</td>\n",
       "      <td>10.4</td>\n",
       "      <td>-10.4</td>\n",
       "      <td>CAD_JPY</td>\n",
       "      <td>8</td>\n",
       "      <td>16</td>\n",
       "      <td>69.0</td>\n",
       "      <td>MA_8_16</td>\n",
       "    </tr>\n",
       "  </tbody>\n",
       "</table>\n",
       "</div>"
      ],
      "text/plain": [
       "                        time   mid_c      DIFF  DIFF_PREV  IS_TRADE  DELTA  \\\n",
       "21 2021-08-31 14:00:00+00:00  86.929 -0.001813   0.028063        -1   25.5   \n",
       "29 2021-08-31 22:00:00+00:00  87.184  0.001063  -0.039625         1   11.0   \n",
       "47 2021-09-01 16:00:00+00:00  87.294 -0.019500   0.030500        -1    3.0   \n",
       "63 2021-09-02 08:00:00+00:00  87.324  0.013125  -0.014875         1   28.3   \n",
       "95 2021-09-03 16:00:00+00:00  87.607 -0.012687   0.001000        -1   10.4   \n",
       "\n",
       "    GAIN     PAIR  MASHORT  MALONG  DURATION    CROSS  \n",
       "21 -25.5  CAD_JPY        8      16       8.0  MA_8_16  \n",
       "29  11.0  CAD_JPY        8      16      18.0  MA_8_16  \n",
       "47  -3.0  CAD_JPY        8      16      16.0  MA_8_16  \n",
       "63  28.3  CAD_JPY        8      16      32.0  MA_8_16  \n",
       "95 -10.4  CAD_JPY        8      16      69.0  MA_8_16  "
      ]
     },
     "execution_count": 127,
     "metadata": {},
     "output_type": "execute_result"
    }
   ],
   "source": [
    "trades_cad_jpy.head()"
   ]
  },
  {
   "cell_type": "code",
   "execution_count": 128,
   "metadata": {},
   "outputs": [],
   "source": [
    "trades_cad_jpy['CUM_GAIN'] = trades_cad_jpy.GAIN.cumsum()"
   ]
  },
  {
   "cell_type": "code",
   "execution_count": 129,
   "metadata": {},
   "outputs": [],
   "source": [
    "def plot_line(df_plot, name):\n",
    "    fig = go.Figure()\n",
    "    fig.add_trace(go.Scatter( \n",
    "        x=df_plot.time,\n",
    "        y=df_plot.CUM_GAIN,\n",
    "        line=dict(width=2,color=\"#3d825f\"),\n",
    "        line_shape='spline',\n",
    "        name=name,\n",
    "        mode='lines'\n",
    "        ))\n",
    "    fig.update_layout(width=1000,height=400,\n",
    "        margin=dict(l=15,r=15,b=10),\n",
    "        font=dict(size=10,color=\"#e1e1e1\"),\n",
    "        paper_bgcolor=\"#1e1e1e\",\n",
    "        plot_bgcolor=\"#1e1e1e\",\n",
    "        title=name)\n",
    "    fig.update_xaxes(\n",
    "        linewidth=1,\n",
    "        linecolor='#3a4a54',\n",
    "        showgrid=False,\n",
    "        zeroline=False\n",
    "    )\n",
    "    fig.update_yaxes(\n",
    "        linewidth=1,\n",
    "        linecolor='#3a4a54',\n",
    "        showgrid=False,\n",
    "        zeroline=False\n",
    "    )\n",
    "    fig.show()\n"
   ]
  },
  {
   "cell_type": "code",
   "execution_count": 130,
   "metadata": {},
   "outputs": [
    {
     "data": {
      "application/vnd.plotly.v1+json": {
       "config": {
        "plotlyServerURL": "https://plot.ly"
       },
       "data": [
        {
         "line": {
          "color": "#3d825f",
          "shape": "spline",
          "width": 2
         },
         "mode": "lines",
         "name": "CAD_JPY",
         "type": "scatter",
         "x": [
          "2021-08-31T14:00:00+00:00",
          "2021-08-31T22:00:00+00:00",
          "2021-09-01T16:00:00+00:00",
          "2021-09-02T08:00:00+00:00",
          "2021-09-03T16:00:00+00:00",
          "2021-09-06T13:00:00+00:00",
          "2021-09-07T02:00:00+00:00",
          "2021-09-08T05:00:00+00:00",
          "2021-09-08T08:00:00+00:00",
          "2021-09-08T22:00:00+00:00",
          "2021-09-08T23:00:00+00:00",
          "2021-09-09T15:00:00+00:00",
          "2021-09-10T00:00:00+00:00",
          "2021-09-10T05:00:00+00:00",
          "2021-09-10T18:00:00+00:00",
          "2021-09-13T07:00:00+00:00",
          "2021-09-14T11:00:00+00:00",
          "2021-09-14T12:00:00+00:00",
          "2021-09-14T13:00:00+00:00",
          "2021-09-15T16:00:00+00:00",
          "2021-09-16T06:00:00+00:00",
          "2021-09-16T13:00:00+00:00",
          "2021-09-16T20:00:00+00:00",
          "2021-09-17T02:00:00+00:00",
          "2021-09-17T16:00:00+00:00",
          "2021-09-21T00:00:00+00:00",
          "2021-09-21T14:00:00+00:00",
          "2021-09-22T04:00:00+00:00",
          "2021-09-23T05:00:00+00:00",
          "2021-09-23T06:00:00+00:00",
          "2021-09-24T08:00:00+00:00",
          "2021-09-24T16:00:00+00:00",
          "2021-09-28T14:00:00+00:00",
          "2021-09-29T00:00:00+00:00",
          "2021-09-29T07:00:00+00:00",
          "2021-09-29T21:00:00+00:00",
          "2021-09-30T17:00:00+00:00",
          "2021-10-01T15:00:00+00:00",
          "2021-10-04T22:00:00+00:00",
          "2021-10-05T08:00:00+00:00",
          "2021-10-06T04:00:00+00:00",
          "2021-10-06T06:00:00+00:00",
          "2021-10-06T07:00:00+00:00",
          "2021-10-06T20:00:00+00:00",
          "2021-10-07T11:00:00+00:00",
          "2021-10-07T12:00:00+00:00",
          "2021-10-12T01:00:00+00:00",
          "2021-10-12T10:00:00+00:00",
          "2021-10-13T01:00:00+00:00",
          "2021-10-13T08:00:00+00:00",
          "2021-10-13T18:00:00+00:00",
          "2021-10-14T03:00:00+00:00",
          "2021-10-15T17:00:00+00:00",
          "2021-10-18T03:00:00+00:00",
          "2021-10-18T04:00:00+00:00",
          "2021-10-18T14:00:00+00:00",
          "2021-10-19T18:00:00+00:00",
          "2021-10-19T23:00:00+00:00",
          "2021-10-20T12:00:00+00:00",
          "2021-10-20T20:00:00+00:00",
          "2021-10-21T06:00:00+00:00",
          "2021-10-22T03:00:00+00:00",
          "2021-10-22T14:00:00+00:00",
          "2021-10-25T03:00:00+00:00",
          "2021-10-25T14:00:00+00:00",
          "2021-10-26T02:00:00+00:00",
          "2021-10-26T21:00:00+00:00",
          "2021-10-27T18:00:00+00:00",
          "2021-10-28T03:00:00+00:00",
          "2021-10-28T14:00:00+00:00",
          "2021-10-29T19:00:00+00:00",
          "2021-10-31T23:00:00+00:00",
          "2021-11-01T20:00:00+00:00",
          "2021-11-02T18:00:00+00:00",
          "2021-11-03T03:00:00+00:00",
          "2021-11-03T14:00:00+00:00",
          "2021-11-04T09:00:00+00:00",
          "2021-11-05T05:00:00+00:00",
          "2021-11-05T06:00:00+00:00",
          "2021-11-05T13:00:00+00:00",
          "2021-11-05T17:00:00+00:00",
          "2021-11-08T04:00:00+00:00",
          "2021-11-08T12:00:00+00:00",
          "2021-11-10T00:00:00+00:00",
          "2021-11-10T23:00:00+00:00",
          "2021-11-12T01:00:00+00:00",
          "2021-11-12T10:00:00+00:00",
          "2021-11-12T20:00:00+00:00",
          "2021-11-16T10:00:00+00:00",
          "2021-11-16T17:00:00+00:00",
          "2021-11-17T13:00:00+00:00",
          "2021-11-18T10:00:00+00:00",
          "2021-11-19T10:00:00+00:00",
          "2021-11-22T02:00:00+00:00",
          "2021-11-23T08:00:00+00:00",
          "2021-11-23T18:00:00+00:00",
          "2021-11-24T07:00:00+00:00",
          "2021-11-24T15:00:00+00:00",
          "2021-11-25T12:00:00+00:00",
          "2021-11-25T20:00:00+00:00",
          "2021-11-26T01:00:00+00:00",
          "2021-11-29T02:00:00+00:00",
          "2021-11-29T11:00:00+00:00",
          "2021-11-29T16:00:00+00:00",
          "2021-11-29T21:00:00+00:00",
          "2021-11-29T23:00:00+00:00",
          "2021-11-30T07:00:00+00:00",
          "2021-11-30T21:00:00+00:00",
          "2021-12-01T14:00:00+00:00",
          "2021-12-02T05:00:00+00:00",
          "2021-12-02T15:00:00+00:00",
          "2021-12-02T23:00:00+00:00",
          "2021-12-03T05:00:00+00:00",
          "2021-12-03T08:00:00+00:00",
          "2021-12-03T17:00:00+00:00",
          "2021-12-06T05:00:00+00:00",
          "2021-12-08T05:00:00+00:00",
          "2021-12-08T11:00:00+00:00",
          "2021-12-08T22:00:00+00:00",
          "2021-12-10T08:00:00+00:00",
          "2021-12-10T17:00:00+00:00",
          "2021-12-13T04:00:00+00:00",
          "2021-12-13T11:00:00+00:00",
          "2021-12-14T11:00:00+00:00",
          "2021-12-14T14:00:00+00:00",
          "2021-12-15T05:00:00+00:00",
          "2021-12-15T10:00:00+00:00",
          "2021-12-15T21:00:00+00:00",
          "2021-12-16T19:00:00+00:00",
          "2021-12-20T23:00:00+00:00",
          "2021-12-21T13:00:00+00:00",
          "2021-12-21T15:00:00+00:00",
          "2021-12-23T06:00:00+00:00",
          "2021-12-23T07:00:00+00:00",
          "2021-12-24T04:00:00+00:00",
          "2021-12-24T12:00:00+00:00",
          "2021-12-24T19:00:00+00:00",
          "2021-12-27T03:00:00+00:00",
          "2021-12-28T06:00:00+00:00",
          "2021-12-28T07:00:00+00:00",
          "2021-12-28T08:00:00+00:00",
          "2021-12-29T06:00:00+00:00",
          "2022-01-03T05:00:00+00:00",
          "2022-01-04T02:00:00+00:00",
          "2022-01-05T03:00:00+00:00",
          "2022-01-05T19:00:00+00:00",
          "2022-01-06T00:00:00+00:00",
          "2022-01-06T16:00:00+00:00",
          "2022-01-07T12:00:00+00:00",
          "2022-01-07T16:00:00+00:00",
          "2022-01-10T12:00:00+00:00",
          "2022-01-11T02:00:00+00:00",
          "2022-01-12T18:00:00+00:00",
          "2022-01-13T08:00:00+00:00",
          "2022-01-13T16:00:00+00:00",
          "2022-01-14T11:00:00+00:00",
          "2022-01-14T15:00:00+00:00",
          "2022-01-17T00:00:00+00:00",
          "2022-01-18T14:00:00+00:00",
          "2022-01-19T01:00:00+00:00",
          "2022-01-19T08:00:00+00:00",
          "2022-01-19T13:00:00+00:00",
          "2022-01-19T19:00:00+00:00",
          "2022-01-20T05:00:00+00:00",
          "2022-01-20T14:00:00+00:00",
          "2022-01-21T14:00:00+00:00",
          "2022-01-21T16:00:00+00:00",
          "2022-01-24T05:00:00+00:00",
          "2022-01-24T10:00:00+00:00",
          "2022-01-25T00:00:00+00:00",
          "2022-01-25T08:00:00+00:00",
          "2022-01-25T12:00:00+00:00",
          "2022-01-26T21:00:00+00:00",
          "2022-01-27T11:00:00+00:00",
          "2022-01-27T22:00:00+00:00",
          "2022-01-28T06:00:00+00:00",
          "2022-01-28T11:00:00+00:00",
          "2022-01-31T02:00:00+00:00",
          "2022-01-31T15:00:00+00:00",
          "2022-01-31T22:00:00+00:00",
          "2022-02-01T00:00:00+00:00",
          "2022-02-01T09:00:00+00:00",
          "2022-02-01T13:00:00+00:00",
          "2022-02-02T01:00:00+00:00",
          "2022-02-02T09:00:00+00:00",
          "2022-02-02T22:00:00+00:00",
          "2022-02-03T06:00:00+00:00",
          "2022-02-03T07:00:00+00:00",
          "2022-02-04T08:00:00+00:00",
          "2022-02-07T00:00:00+00:00",
          "2022-02-07T13:00:00+00:00",
          "2022-02-07T17:00:00+00:00",
          "2022-02-08T12:00:00+00:00",
          "2022-02-08T20:00:00+00:00",
          "2022-02-09T05:00:00+00:00",
          "2022-02-09T10:00:00+00:00",
          "2022-02-10T22:00:00+00:00",
          "2022-02-11T12:00:00+00:00",
          "2022-02-11T20:00:00+00:00",
          "2022-02-14T17:00:00+00:00",
          "2022-02-15T03:00:00+00:00",
          "2022-02-15T11:00:00+00:00",
          "2022-02-15T20:00:00+00:00",
          "2022-02-16T01:00:00+00:00",
          "2022-02-16T18:00:00+00:00",
          "2022-02-18T04:00:00+00:00",
          "2022-02-18T15:00:00+00:00",
          "2022-02-21T06:00:00+00:00",
          "2022-02-21T12:00:00+00:00",
          "2022-02-22T10:00:00+00:00",
          "2022-02-22T22:00:00+00:00",
          "2022-02-23T06:00:00+00:00",
          "2022-02-23T20:00:00+00:00",
          "2022-02-24T18:00:00+00:00",
          "2022-02-25T08:00:00+00:00",
          "2022-02-25T13:00:00+00:00",
          "2022-02-28T03:00:00+00:00",
          "2022-02-28T12:00:00+00:00",
          "2022-03-01T10:00:00+00:00",
          "2022-03-02T05:00:00+00:00",
          "2022-03-03T16:00:00+00:00",
          "2022-03-07T02:00:00+00:00",
          "2022-03-07T17:00:00+00:00",
          "2022-03-08T08:00:00+00:00",
          "2022-03-08T12:00:00+00:00",
          "2022-03-08T13:00:00+00:00",
          "2022-03-08T14:00:00+00:00",
          "2022-03-09T04:00:00+00:00",
          "2022-03-10T11:00:00+00:00",
          "2022-03-10T15:00:00+00:00",
          "2022-03-14T20:00:00+00:00",
          "2022-03-15T06:00:00+00:00",
          "2022-03-15T07:00:00+00:00",
          "2022-03-15T17:00:00+00:00",
          "2022-03-21T12:00:00+00:00",
          "2022-03-21T14:00:00+00:00",
          "2022-03-23T10:00:00+00:00",
          "2022-03-23T19:00:00+00:00",
          "2022-03-25T04:00:00+00:00",
          "2022-03-25T15:00:00+00:00",
          "2022-03-28T17:00:00+00:00",
          "2022-03-29T00:00:00+00:00",
          "2022-03-29T07:00:00+00:00",
          "2022-03-29T11:00:00+00:00",
          "2022-03-29T13:00:00+00:00",
          "2022-03-30T15:00:00+00:00",
          "2022-03-30T22:00:00+00:00",
          "2022-03-31T20:00:00+00:00",
          "2022-04-03T21:00:00+00:00",
          "2022-04-04T05:00:00+00:00",
          "2022-04-05T02:00:00+00:00",
          "2022-04-05T08:00:00+00:00",
          "2022-04-06T02:00:00+00:00",
          "2022-04-06T05:00:00+00:00",
          "2022-04-06T15:00:00+00:00",
          "2022-04-07T11:00:00+00:00",
          "2022-04-07T16:00:00+00:00",
          "2022-04-08T03:00:00+00:00",
          "2022-04-08T07:00:00+00:00",
          "2022-04-08T08:00:00+00:00",
          "2022-04-11T19:00:00+00:00",
          "2022-04-12T10:00:00+00:00",
          "2022-04-12T19:00:00+00:00",
          "2022-04-13T02:00:00+00:00",
          "2022-04-13T15:00:00+00:00",
          "2022-04-13T18:00:00+00:00",
          "2022-04-14T05:00:00+00:00",
          "2022-04-14T12:00:00+00:00",
          "2022-04-14T16:00:00+00:00",
          "2022-04-14T23:00:00+00:00",
          "2022-04-15T16:00:00+00:00",
          "2022-04-18T03:00:00+00:00",
          "2022-04-18T06:00:00+00:00",
          "2022-04-18T14:00:00+00:00"
         ],
         "y": [
          -25.499999999999545,
          -14.499999999999602,
          -17.499999999999716,
          10.80000000000041,
          0.40000000000048885,
          -8.29999999999984,
          21.20000000000033,
          -24.899999999999523,
          -26.500000000000057,
          -32.20000000000027,
          -25.600000000000023,
          -39.699999999999136,
          -71.09999999999843,
          -82.49999999999886,
          -83.89999999999986,
          -69.10000000000025,
          -84.30000000000035,
          -116.20000000000061,
          -83.90000000000128,
          -86.70000000000186,
          -98.1000000000023,
          -103.10000000000201,
          -113.900000000001,
          -144.20000000000073,
          -65.40000000000106,
          -111.00000000000136,
          -159.5000000000013,
          -103.30000000000155,
          -126.30000000000194,
          -51.50000000000148,
          -86.9000000000014,
          -57.500000000001705,
          -85.6000000000023,
          -117.90000000000305,
          -124.90000000000379,
          -122.90000000000418,
          -109.90000000000464,
          -62.30000000000473,
          -74.40000000000424,
          -35.700000000004195,
          -30.200000000003513,
          -55.70000000000306,
          -69.00000000000261,
          -66.40000000000157,
          -75.80000000000098,
          139.4999999999996,
          114.4999999999996,
          113.49999999999909,
          87.69999999999953,
          77.89999999999964,
          58.29999999999984,
          151.30000000000052,
          148.7000000000009,
          142.60000000000161,
          130.80000000000211,
          141.50000000000205,
          118.40000000000259,
          95.50000000000267,
          63.00000000000239,
          18.50000000000307,
          16.10000000000298,
          -26.69999999999817,
          -35.49999999999898,
          -54.49999999999875,
          -72.69999999999897,
          -64.09999999999911,
          -68.69999999999834,
          -103.09999999999775,
          -113.49999999999767,
          -98.39999999999804,
          -115.29999999999774,
          -123.29999999999757,
          -90.59999999999775,
          -109.59999999999752,
          -126.1999999999972,
          -123.59999999999758,
          -56.19999999999834,
          -54.89999999999782,
          -55.09999999999735,
          -66.0999999999973,
          -77.09999999999724,
          -84.699999999998,
          -45.8999999999989,
          3.700000000000614,
          51.10000000000099,
          33.60000000000127,
          12.900000000000489,
          52.29999999999961,
          42.69999999999925,
          30.299999999999727,
          82.0999999999998,
          32.29999999999933,
          21.299999999999386,
          -2.1000000000000796,
          -62.299999999999045,
          -63.0999999999986,
          -109.29999999999893,
          -112.49999999999858,
          -131.2999999999974,
          -194.99999999999744,
          -43.79999999999882,
          -44.299999999999784,
          -31.700000000000728,
          -11.50000000000091,
          -32.500000000000284,
          -118.50000000000023,
          -125.10000000000048,
          -122.90000000000134,
          -101.40000000000242,
          -129.30000000000348,
          -139.30000000000433,
          -119.30000000000405,
          -119.10000000000309,
          -167.50000000000256,
          -192.50000000000256,
          -31.500000000002615,
          -66.20000000000203,
          -84.30000000000177,
          -33.40000000000174,
          -56.800000000001205,
          -65.60000000000059,
          -79.09999999999968,
          -30.699999999998795,
          -32.099999999998374,
          -17.29999999999876,
          -24.799999999999045,
          -72.59999999999849,
          -83.69999999999749,
          7.000000000003581,
          17.50000000000398,
          -7.499999999996021,
          67.90000000000447,
          59.700000000005105,
          67.5000000000054,
          52.90000000000532,
          50.50000000000523,
          40.900000000004866,
          94.30000000000405,
          109.70000000000368,
          108.40000000000316,
          121.50000000000318,
          256.9000000000031,
          283.2000000000022,
          340.600000000002,
          359.2000000000027,
          348.30000000000325,
          346.9000000000037,
          355.900000000004,
          317.60000000000446,
          275.40000000000475,
          263.3000000000038,
          312.90000000000333,
          305.5000000000035,
          271.8000000000032,
          290.20000000000294,
          242.90000000000305,
          201.1000000000024,
          238.6000000000024,
          217.4000000000035,
          202.9000000000039,
          184.10000000000366,
          153.900000000003,
          138.3000000000024,
          122.10000000000178,
          197.50000000000085,
          195.40000000000077,
          208.70000000000033,
          174.79999999999905,
          174.49999999999903,
          161.4999999999995,
          150.90000000000003,
          185.8000000000004,
          169.8999999999998,
          153.60000000000014,
          131.60000000000025,
          102.40000000000009,
          74.50000000000045,
          62.90000000000049,
          66.70000000000016,
          67.00000000000017,
          75.90000000000003,
          62.89999999999907,
          55.999999999998806,
          29.89999999999924,
          17.499999999999716,
          16.500000000000625,
          14.6000000000015,
          39.30000000000149,
          54.700000000001125,
          68.10000000000116,
          45.700000000000784,
          45.10000000000076,
          26.900000000001967,
          29.500000000003013,
          26.80000000000291,
          51.20000000000289,
          51.300000000003365,
          -26.099999999996726,
          -63.89999999999674,
          -87.9999999999967,
          -119.49999999999648,
          -128.39999999999634,
          -142.89999999999594,
          -135.39999999999566,
          -103.69999999999635,
          -135.89999999999662,
          -128.29999999999586,
          -150.7999999999953,
          -166.19999999999493,
          -181.4999999999941,
          -195.8999999999932,
          -196.8999999999923,
          -167.59999999999167,
          -158.49999999999085,
          -212.29999999999052,
          -250.09999999999053,
          -302.99999999999017,
          -308.2999999999899,
          -285.69999999999,
          -205.8999999999898,
          -112.79999999998864,
          -121.09999999998848,
          -103.09999999998922,
          -88.89999999998963,
          -89.39999999998918,
          -111.29999999998859,
          -109.29999999998898,
          -64.2999999999887,
          -96.3999999999885,
          47.20000000001079,
          51.00000000001046,
          25.200000000010903,
          -43.299999999989325,
          161.90000000000992,
          157.20000000001022,
          306.40000000001066,
          282.3000000000107,
          340.90000000001055,
          289.7000000000105,
          381.7000000000107,
          312.3000000000104,
          285.50000000001035,
          267.0000000000101,
          146.1000000000098,
          167.4000000000106,
          174.9000000000109,
          212.10000000001088,
          270.9000000000117,
          250.50000000001234,
          258.1000000000131,
          213.00000000001376,
          269.600000000014,
          276.90000000001476,
          261.5000000000151,
          281.30000000001445,
          241.6000000000139,
          229.90000000001345,
          236.30000000001274,
          235.1000000000127,
          304.10000000001247,
          300.40000000001186,
          288.1000000000114,
          249.10000000001133,
          258.4000000000117,
          228.50000000001245,
          224.10000000001276,
          235.50000000001177,
          234.50000000001125,
          207.50000000001165,
          229.300000000012,
          232.90000000001214,
          232.7000000000126,
          220.9000000000131,
          406.30000000001303
         ]
        }
       ],
       "layout": {
        "font": {
         "color": "#e1e1e1",
         "size": 10
        },
        "height": 400,
        "margin": {
         "b": 10,
         "l": 15,
         "r": 15
        },
        "paper_bgcolor": "#1e1e1e",
        "plot_bgcolor": "#1e1e1e",
        "template": {
         "data": {
          "bar": [
           {
            "error_x": {
             "color": "#2a3f5f"
            },
            "error_y": {
             "color": "#2a3f5f"
            },
            "marker": {
             "line": {
              "color": "#E5ECF6",
              "width": 0.5
             },
             "pattern": {
              "fillmode": "overlay",
              "size": 10,
              "solidity": 0.2
             }
            },
            "type": "bar"
           }
          ],
          "barpolar": [
           {
            "marker": {
             "line": {
              "color": "#E5ECF6",
              "width": 0.5
             },
             "pattern": {
              "fillmode": "overlay",
              "size": 10,
              "solidity": 0.2
             }
            },
            "type": "barpolar"
           }
          ],
          "carpet": [
           {
            "aaxis": {
             "endlinecolor": "#2a3f5f",
             "gridcolor": "white",
             "linecolor": "white",
             "minorgridcolor": "white",
             "startlinecolor": "#2a3f5f"
            },
            "baxis": {
             "endlinecolor": "#2a3f5f",
             "gridcolor": "white",
             "linecolor": "white",
             "minorgridcolor": "white",
             "startlinecolor": "#2a3f5f"
            },
            "type": "carpet"
           }
          ],
          "choropleth": [
           {
            "colorbar": {
             "outlinewidth": 0,
             "ticks": ""
            },
            "type": "choropleth"
           }
          ],
          "contour": [
           {
            "colorbar": {
             "outlinewidth": 0,
             "ticks": ""
            },
            "colorscale": [
             [
              0,
              "#0d0887"
             ],
             [
              0.1111111111111111,
              "#46039f"
             ],
             [
              0.2222222222222222,
              "#7201a8"
             ],
             [
              0.3333333333333333,
              "#9c179e"
             ],
             [
              0.4444444444444444,
              "#bd3786"
             ],
             [
              0.5555555555555556,
              "#d8576b"
             ],
             [
              0.6666666666666666,
              "#ed7953"
             ],
             [
              0.7777777777777778,
              "#fb9f3a"
             ],
             [
              0.8888888888888888,
              "#fdca26"
             ],
             [
              1,
              "#f0f921"
             ]
            ],
            "type": "contour"
           }
          ],
          "contourcarpet": [
           {
            "colorbar": {
             "outlinewidth": 0,
             "ticks": ""
            },
            "type": "contourcarpet"
           }
          ],
          "heatmap": [
           {
            "colorbar": {
             "outlinewidth": 0,
             "ticks": ""
            },
            "colorscale": [
             [
              0,
              "#0d0887"
             ],
             [
              0.1111111111111111,
              "#46039f"
             ],
             [
              0.2222222222222222,
              "#7201a8"
             ],
             [
              0.3333333333333333,
              "#9c179e"
             ],
             [
              0.4444444444444444,
              "#bd3786"
             ],
             [
              0.5555555555555556,
              "#d8576b"
             ],
             [
              0.6666666666666666,
              "#ed7953"
             ],
             [
              0.7777777777777778,
              "#fb9f3a"
             ],
             [
              0.8888888888888888,
              "#fdca26"
             ],
             [
              1,
              "#f0f921"
             ]
            ],
            "type": "heatmap"
           }
          ],
          "heatmapgl": [
           {
            "colorbar": {
             "outlinewidth": 0,
             "ticks": ""
            },
            "colorscale": [
             [
              0,
              "#0d0887"
             ],
             [
              0.1111111111111111,
              "#46039f"
             ],
             [
              0.2222222222222222,
              "#7201a8"
             ],
             [
              0.3333333333333333,
              "#9c179e"
             ],
             [
              0.4444444444444444,
              "#bd3786"
             ],
             [
              0.5555555555555556,
              "#d8576b"
             ],
             [
              0.6666666666666666,
              "#ed7953"
             ],
             [
              0.7777777777777778,
              "#fb9f3a"
             ],
             [
              0.8888888888888888,
              "#fdca26"
             ],
             [
              1,
              "#f0f921"
             ]
            ],
            "type": "heatmapgl"
           }
          ],
          "histogram": [
           {
            "marker": {
             "pattern": {
              "fillmode": "overlay",
              "size": 10,
              "solidity": 0.2
             }
            },
            "type": "histogram"
           }
          ],
          "histogram2d": [
           {
            "colorbar": {
             "outlinewidth": 0,
             "ticks": ""
            },
            "colorscale": [
             [
              0,
              "#0d0887"
             ],
             [
              0.1111111111111111,
              "#46039f"
             ],
             [
              0.2222222222222222,
              "#7201a8"
             ],
             [
              0.3333333333333333,
              "#9c179e"
             ],
             [
              0.4444444444444444,
              "#bd3786"
             ],
             [
              0.5555555555555556,
              "#d8576b"
             ],
             [
              0.6666666666666666,
              "#ed7953"
             ],
             [
              0.7777777777777778,
              "#fb9f3a"
             ],
             [
              0.8888888888888888,
              "#fdca26"
             ],
             [
              1,
              "#f0f921"
             ]
            ],
            "type": "histogram2d"
           }
          ],
          "histogram2dcontour": [
           {
            "colorbar": {
             "outlinewidth": 0,
             "ticks": ""
            },
            "colorscale": [
             [
              0,
              "#0d0887"
             ],
             [
              0.1111111111111111,
              "#46039f"
             ],
             [
              0.2222222222222222,
              "#7201a8"
             ],
             [
              0.3333333333333333,
              "#9c179e"
             ],
             [
              0.4444444444444444,
              "#bd3786"
             ],
             [
              0.5555555555555556,
              "#d8576b"
             ],
             [
              0.6666666666666666,
              "#ed7953"
             ],
             [
              0.7777777777777778,
              "#fb9f3a"
             ],
             [
              0.8888888888888888,
              "#fdca26"
             ],
             [
              1,
              "#f0f921"
             ]
            ],
            "type": "histogram2dcontour"
           }
          ],
          "mesh3d": [
           {
            "colorbar": {
             "outlinewidth": 0,
             "ticks": ""
            },
            "type": "mesh3d"
           }
          ],
          "parcoords": [
           {
            "line": {
             "colorbar": {
              "outlinewidth": 0,
              "ticks": ""
             }
            },
            "type": "parcoords"
           }
          ],
          "pie": [
           {
            "automargin": true,
            "type": "pie"
           }
          ],
          "scatter": [
           {
            "marker": {
             "colorbar": {
              "outlinewidth": 0,
              "ticks": ""
             }
            },
            "type": "scatter"
           }
          ],
          "scatter3d": [
           {
            "line": {
             "colorbar": {
              "outlinewidth": 0,
              "ticks": ""
             }
            },
            "marker": {
             "colorbar": {
              "outlinewidth": 0,
              "ticks": ""
             }
            },
            "type": "scatter3d"
           }
          ],
          "scattercarpet": [
           {
            "marker": {
             "colorbar": {
              "outlinewidth": 0,
              "ticks": ""
             }
            },
            "type": "scattercarpet"
           }
          ],
          "scattergeo": [
           {
            "marker": {
             "colorbar": {
              "outlinewidth": 0,
              "ticks": ""
             }
            },
            "type": "scattergeo"
           }
          ],
          "scattergl": [
           {
            "marker": {
             "colorbar": {
              "outlinewidth": 0,
              "ticks": ""
             }
            },
            "type": "scattergl"
           }
          ],
          "scattermapbox": [
           {
            "marker": {
             "colorbar": {
              "outlinewidth": 0,
              "ticks": ""
             }
            },
            "type": "scattermapbox"
           }
          ],
          "scatterpolar": [
           {
            "marker": {
             "colorbar": {
              "outlinewidth": 0,
              "ticks": ""
             }
            },
            "type": "scatterpolar"
           }
          ],
          "scatterpolargl": [
           {
            "marker": {
             "colorbar": {
              "outlinewidth": 0,
              "ticks": ""
             }
            },
            "type": "scatterpolargl"
           }
          ],
          "scatterternary": [
           {
            "marker": {
             "colorbar": {
              "outlinewidth": 0,
              "ticks": ""
             }
            },
            "type": "scatterternary"
           }
          ],
          "surface": [
           {
            "colorbar": {
             "outlinewidth": 0,
             "ticks": ""
            },
            "colorscale": [
             [
              0,
              "#0d0887"
             ],
             [
              0.1111111111111111,
              "#46039f"
             ],
             [
              0.2222222222222222,
              "#7201a8"
             ],
             [
              0.3333333333333333,
              "#9c179e"
             ],
             [
              0.4444444444444444,
              "#bd3786"
             ],
             [
              0.5555555555555556,
              "#d8576b"
             ],
             [
              0.6666666666666666,
              "#ed7953"
             ],
             [
              0.7777777777777778,
              "#fb9f3a"
             ],
             [
              0.8888888888888888,
              "#fdca26"
             ],
             [
              1,
              "#f0f921"
             ]
            ],
            "type": "surface"
           }
          ],
          "table": [
           {
            "cells": {
             "fill": {
              "color": "#EBF0F8"
             },
             "line": {
              "color": "white"
             }
            },
            "header": {
             "fill": {
              "color": "#C8D4E3"
             },
             "line": {
              "color": "white"
             }
            },
            "type": "table"
           }
          ]
         },
         "layout": {
          "annotationdefaults": {
           "arrowcolor": "#2a3f5f",
           "arrowhead": 0,
           "arrowwidth": 1
          },
          "autotypenumbers": "strict",
          "coloraxis": {
           "colorbar": {
            "outlinewidth": 0,
            "ticks": ""
           }
          },
          "colorscale": {
           "diverging": [
            [
             0,
             "#8e0152"
            ],
            [
             0.1,
             "#c51b7d"
            ],
            [
             0.2,
             "#de77ae"
            ],
            [
             0.3,
             "#f1b6da"
            ],
            [
             0.4,
             "#fde0ef"
            ],
            [
             0.5,
             "#f7f7f7"
            ],
            [
             0.6,
             "#e6f5d0"
            ],
            [
             0.7,
             "#b8e186"
            ],
            [
             0.8,
             "#7fbc41"
            ],
            [
             0.9,
             "#4d9221"
            ],
            [
             1,
             "#276419"
            ]
           ],
           "sequential": [
            [
             0,
             "#0d0887"
            ],
            [
             0.1111111111111111,
             "#46039f"
            ],
            [
             0.2222222222222222,
             "#7201a8"
            ],
            [
             0.3333333333333333,
             "#9c179e"
            ],
            [
             0.4444444444444444,
             "#bd3786"
            ],
            [
             0.5555555555555556,
             "#d8576b"
            ],
            [
             0.6666666666666666,
             "#ed7953"
            ],
            [
             0.7777777777777778,
             "#fb9f3a"
            ],
            [
             0.8888888888888888,
             "#fdca26"
            ],
            [
             1,
             "#f0f921"
            ]
           ],
           "sequentialminus": [
            [
             0,
             "#0d0887"
            ],
            [
             0.1111111111111111,
             "#46039f"
            ],
            [
             0.2222222222222222,
             "#7201a8"
            ],
            [
             0.3333333333333333,
             "#9c179e"
            ],
            [
             0.4444444444444444,
             "#bd3786"
            ],
            [
             0.5555555555555556,
             "#d8576b"
            ],
            [
             0.6666666666666666,
             "#ed7953"
            ],
            [
             0.7777777777777778,
             "#fb9f3a"
            ],
            [
             0.8888888888888888,
             "#fdca26"
            ],
            [
             1,
             "#f0f921"
            ]
           ]
          },
          "colorway": [
           "#636efa",
           "#EF553B",
           "#00cc96",
           "#ab63fa",
           "#FFA15A",
           "#19d3f3",
           "#FF6692",
           "#B6E880",
           "#FF97FF",
           "#FECB52"
          ],
          "font": {
           "color": "#2a3f5f"
          },
          "geo": {
           "bgcolor": "white",
           "lakecolor": "white",
           "landcolor": "#E5ECF6",
           "showlakes": true,
           "showland": true,
           "subunitcolor": "white"
          },
          "hoverlabel": {
           "align": "left"
          },
          "hovermode": "closest",
          "mapbox": {
           "style": "light"
          },
          "paper_bgcolor": "white",
          "plot_bgcolor": "#E5ECF6",
          "polar": {
           "angularaxis": {
            "gridcolor": "white",
            "linecolor": "white",
            "ticks": ""
           },
           "bgcolor": "#E5ECF6",
           "radialaxis": {
            "gridcolor": "white",
            "linecolor": "white",
            "ticks": ""
           }
          },
          "scene": {
           "xaxis": {
            "backgroundcolor": "#E5ECF6",
            "gridcolor": "white",
            "gridwidth": 2,
            "linecolor": "white",
            "showbackground": true,
            "ticks": "",
            "zerolinecolor": "white"
           },
           "yaxis": {
            "backgroundcolor": "#E5ECF6",
            "gridcolor": "white",
            "gridwidth": 2,
            "linecolor": "white",
            "showbackground": true,
            "ticks": "",
            "zerolinecolor": "white"
           },
           "zaxis": {
            "backgroundcolor": "#E5ECF6",
            "gridcolor": "white",
            "gridwidth": 2,
            "linecolor": "white",
            "showbackground": true,
            "ticks": "",
            "zerolinecolor": "white"
           }
          },
          "shapedefaults": {
           "line": {
            "color": "#2a3f5f"
           }
          },
          "ternary": {
           "aaxis": {
            "gridcolor": "white",
            "linecolor": "white",
            "ticks": ""
           },
           "baxis": {
            "gridcolor": "white",
            "linecolor": "white",
            "ticks": ""
           },
           "bgcolor": "#E5ECF6",
           "caxis": {
            "gridcolor": "white",
            "linecolor": "white",
            "ticks": ""
           }
          },
          "title": {
           "x": 0.05
          },
          "xaxis": {
           "automargin": true,
           "gridcolor": "white",
           "linecolor": "white",
           "ticks": "",
           "title": {
            "standoff": 15
           },
           "zerolinecolor": "white",
           "zerolinewidth": 2
          },
          "yaxis": {
           "automargin": true,
           "gridcolor": "white",
           "linecolor": "white",
           "ticks": "",
           "title": {
            "standoff": 15
           },
           "zerolinecolor": "white",
           "zerolinewidth": 2
          }
         }
        },
        "title": {
         "text": "CAD_JPY"
        },
        "width": 1000,
        "xaxis": {
         "linecolor": "#3a4a54",
         "linewidth": 1,
         "showgrid": false,
         "zeroline": false
        },
        "yaxis": {
         "linecolor": "#3a4a54",
         "linewidth": 1,
         "showgrid": false,
         "zeroline": false
        }
       }
      }
     },
     "metadata": {},
     "output_type": "display_data"
    }
   ],
   "source": [
    "plot_line(trades_cad_jpy, \"CAD_JPY\")"
   ]
  },
  {
   "cell_type": "code",
   "execution_count": 133,
   "metadata": {},
   "outputs": [
    {
     "data": {
      "application/vnd.plotly.v1+json": {
       "config": {
        "plotlyServerURL": "https://plot.ly"
       },
       "data": [
        {
         "line": {
          "color": "#3d825f",
          "shape": "spline",
          "width": 2
         },
         "mode": "lines",
         "name": "GBP_USD_MA_32_128",
         "type": "scatter",
         "x": [
          "2021-09-08T02:00:00+00:00",
          "2021-09-10T06:00:00+00:00",
          "2021-09-15T20:00:00+00:00",
          "2021-09-24T05:00:00+00:00",
          "2021-09-28T15:00:00+00:00",
          "2021-10-04T13:00:00+00:00",
          "2021-10-12T14:00:00+00:00",
          "2021-10-13T14:00:00+00:00",
          "2021-10-25T00:00:00+00:00",
          "2021-10-29T04:00:00+00:00",
          "2021-10-31T22:00:00+00:00",
          "2021-11-10T02:00:00+00:00",
          "2021-11-10T13:00:00+00:00",
          "2021-11-17T05:00:00+00:00",
          "2021-11-22T10:00:00+00:00",
          "2021-12-13T08:00:00+00:00",
          "2021-12-14T06:00:00+00:00",
          "2021-12-15T08:00:00+00:00",
          "2021-12-20T13:00:00+00:00",
          "2021-12-22T13:00:00+00:00",
          "2022-01-17T23:00:00+00:00",
          "2022-02-01T11:00:00+00:00",
          "2022-02-07T18:00:00+00:00",
          "2022-02-10T15:00:00+00:00",
          "2022-02-14T19:00:00+00:00",
          "2022-02-16T19:00:00+00:00",
          "2022-02-22T20:00:00+00:00",
          "2022-03-17T01:00:00+00:00",
          "2022-03-25T09:00:00+00:00",
          "2022-04-01T11:00:00+00:00",
          "2022-04-03T22:00:00+00:00",
          "2022-04-14T02:00:00+00:00"
         ],
         "y": [
          -75.29999999999814,
          -94.29999999999605,
          30.200000000004664,
          -150.29999999999654,
          -236.49999999999727,
          -258.1999999999973,
          -290.29999999999666,
          -150.89999999999603,
          -167.0999999999956,
          -269.49999999999585,
          -143.8999999999968,
          -197.59999999999775,
          -112.19999999999783,
          -94.29999999999603,
          119.30000000000442,
          109.3000000000033,
          51.100000000001714,
          16.899999999999707,
          -72.9000000000024,
          245.49999999999628,
          398.8999999999954,
          427.499999999994,
          334.8999999999935,
          239.29999999999336,
          159.19999999999266,
          143.29999999999285,
          584.5999999999929,
          606.1999999999923,
          639.4999999999928,
          612.899999999994,
          587.6999999999954,
          487.2999999999971
         ]
        }
       ],
       "layout": {
        "font": {
         "color": "#e1e1e1",
         "size": 10
        },
        "height": 400,
        "margin": {
         "b": 10,
         "l": 15,
         "r": 15
        },
        "paper_bgcolor": "#1e1e1e",
        "plot_bgcolor": "#1e1e1e",
        "template": {
         "data": {
          "bar": [
           {
            "error_x": {
             "color": "#2a3f5f"
            },
            "error_y": {
             "color": "#2a3f5f"
            },
            "marker": {
             "line": {
              "color": "#E5ECF6",
              "width": 0.5
             },
             "pattern": {
              "fillmode": "overlay",
              "size": 10,
              "solidity": 0.2
             }
            },
            "type": "bar"
           }
          ],
          "barpolar": [
           {
            "marker": {
             "line": {
              "color": "#E5ECF6",
              "width": 0.5
             },
             "pattern": {
              "fillmode": "overlay",
              "size": 10,
              "solidity": 0.2
             }
            },
            "type": "barpolar"
           }
          ],
          "carpet": [
           {
            "aaxis": {
             "endlinecolor": "#2a3f5f",
             "gridcolor": "white",
             "linecolor": "white",
             "minorgridcolor": "white",
             "startlinecolor": "#2a3f5f"
            },
            "baxis": {
             "endlinecolor": "#2a3f5f",
             "gridcolor": "white",
             "linecolor": "white",
             "minorgridcolor": "white",
             "startlinecolor": "#2a3f5f"
            },
            "type": "carpet"
           }
          ],
          "choropleth": [
           {
            "colorbar": {
             "outlinewidth": 0,
             "ticks": ""
            },
            "type": "choropleth"
           }
          ],
          "contour": [
           {
            "colorbar": {
             "outlinewidth": 0,
             "ticks": ""
            },
            "colorscale": [
             [
              0,
              "#0d0887"
             ],
             [
              0.1111111111111111,
              "#46039f"
             ],
             [
              0.2222222222222222,
              "#7201a8"
             ],
             [
              0.3333333333333333,
              "#9c179e"
             ],
             [
              0.4444444444444444,
              "#bd3786"
             ],
             [
              0.5555555555555556,
              "#d8576b"
             ],
             [
              0.6666666666666666,
              "#ed7953"
             ],
             [
              0.7777777777777778,
              "#fb9f3a"
             ],
             [
              0.8888888888888888,
              "#fdca26"
             ],
             [
              1,
              "#f0f921"
             ]
            ],
            "type": "contour"
           }
          ],
          "contourcarpet": [
           {
            "colorbar": {
             "outlinewidth": 0,
             "ticks": ""
            },
            "type": "contourcarpet"
           }
          ],
          "heatmap": [
           {
            "colorbar": {
             "outlinewidth": 0,
             "ticks": ""
            },
            "colorscale": [
             [
              0,
              "#0d0887"
             ],
             [
              0.1111111111111111,
              "#46039f"
             ],
             [
              0.2222222222222222,
              "#7201a8"
             ],
             [
              0.3333333333333333,
              "#9c179e"
             ],
             [
              0.4444444444444444,
              "#bd3786"
             ],
             [
              0.5555555555555556,
              "#d8576b"
             ],
             [
              0.6666666666666666,
              "#ed7953"
             ],
             [
              0.7777777777777778,
              "#fb9f3a"
             ],
             [
              0.8888888888888888,
              "#fdca26"
             ],
             [
              1,
              "#f0f921"
             ]
            ],
            "type": "heatmap"
           }
          ],
          "heatmapgl": [
           {
            "colorbar": {
             "outlinewidth": 0,
             "ticks": ""
            },
            "colorscale": [
             [
              0,
              "#0d0887"
             ],
             [
              0.1111111111111111,
              "#46039f"
             ],
             [
              0.2222222222222222,
              "#7201a8"
             ],
             [
              0.3333333333333333,
              "#9c179e"
             ],
             [
              0.4444444444444444,
              "#bd3786"
             ],
             [
              0.5555555555555556,
              "#d8576b"
             ],
             [
              0.6666666666666666,
              "#ed7953"
             ],
             [
              0.7777777777777778,
              "#fb9f3a"
             ],
             [
              0.8888888888888888,
              "#fdca26"
             ],
             [
              1,
              "#f0f921"
             ]
            ],
            "type": "heatmapgl"
           }
          ],
          "histogram": [
           {
            "marker": {
             "pattern": {
              "fillmode": "overlay",
              "size": 10,
              "solidity": 0.2
             }
            },
            "type": "histogram"
           }
          ],
          "histogram2d": [
           {
            "colorbar": {
             "outlinewidth": 0,
             "ticks": ""
            },
            "colorscale": [
             [
              0,
              "#0d0887"
             ],
             [
              0.1111111111111111,
              "#46039f"
             ],
             [
              0.2222222222222222,
              "#7201a8"
             ],
             [
              0.3333333333333333,
              "#9c179e"
             ],
             [
              0.4444444444444444,
              "#bd3786"
             ],
             [
              0.5555555555555556,
              "#d8576b"
             ],
             [
              0.6666666666666666,
              "#ed7953"
             ],
             [
              0.7777777777777778,
              "#fb9f3a"
             ],
             [
              0.8888888888888888,
              "#fdca26"
             ],
             [
              1,
              "#f0f921"
             ]
            ],
            "type": "histogram2d"
           }
          ],
          "histogram2dcontour": [
           {
            "colorbar": {
             "outlinewidth": 0,
             "ticks": ""
            },
            "colorscale": [
             [
              0,
              "#0d0887"
             ],
             [
              0.1111111111111111,
              "#46039f"
             ],
             [
              0.2222222222222222,
              "#7201a8"
             ],
             [
              0.3333333333333333,
              "#9c179e"
             ],
             [
              0.4444444444444444,
              "#bd3786"
             ],
             [
              0.5555555555555556,
              "#d8576b"
             ],
             [
              0.6666666666666666,
              "#ed7953"
             ],
             [
              0.7777777777777778,
              "#fb9f3a"
             ],
             [
              0.8888888888888888,
              "#fdca26"
             ],
             [
              1,
              "#f0f921"
             ]
            ],
            "type": "histogram2dcontour"
           }
          ],
          "mesh3d": [
           {
            "colorbar": {
             "outlinewidth": 0,
             "ticks": ""
            },
            "type": "mesh3d"
           }
          ],
          "parcoords": [
           {
            "line": {
             "colorbar": {
              "outlinewidth": 0,
              "ticks": ""
             }
            },
            "type": "parcoords"
           }
          ],
          "pie": [
           {
            "automargin": true,
            "type": "pie"
           }
          ],
          "scatter": [
           {
            "marker": {
             "colorbar": {
              "outlinewidth": 0,
              "ticks": ""
             }
            },
            "type": "scatter"
           }
          ],
          "scatter3d": [
           {
            "line": {
             "colorbar": {
              "outlinewidth": 0,
              "ticks": ""
             }
            },
            "marker": {
             "colorbar": {
              "outlinewidth": 0,
              "ticks": ""
             }
            },
            "type": "scatter3d"
           }
          ],
          "scattercarpet": [
           {
            "marker": {
             "colorbar": {
              "outlinewidth": 0,
              "ticks": ""
             }
            },
            "type": "scattercarpet"
           }
          ],
          "scattergeo": [
           {
            "marker": {
             "colorbar": {
              "outlinewidth": 0,
              "ticks": ""
             }
            },
            "type": "scattergeo"
           }
          ],
          "scattergl": [
           {
            "marker": {
             "colorbar": {
              "outlinewidth": 0,
              "ticks": ""
             }
            },
            "type": "scattergl"
           }
          ],
          "scattermapbox": [
           {
            "marker": {
             "colorbar": {
              "outlinewidth": 0,
              "ticks": ""
             }
            },
            "type": "scattermapbox"
           }
          ],
          "scatterpolar": [
           {
            "marker": {
             "colorbar": {
              "outlinewidth": 0,
              "ticks": ""
             }
            },
            "type": "scatterpolar"
           }
          ],
          "scatterpolargl": [
           {
            "marker": {
             "colorbar": {
              "outlinewidth": 0,
              "ticks": ""
             }
            },
            "type": "scatterpolargl"
           }
          ],
          "scatterternary": [
           {
            "marker": {
             "colorbar": {
              "outlinewidth": 0,
              "ticks": ""
             }
            },
            "type": "scatterternary"
           }
          ],
          "surface": [
           {
            "colorbar": {
             "outlinewidth": 0,
             "ticks": ""
            },
            "colorscale": [
             [
              0,
              "#0d0887"
             ],
             [
              0.1111111111111111,
              "#46039f"
             ],
             [
              0.2222222222222222,
              "#7201a8"
             ],
             [
              0.3333333333333333,
              "#9c179e"
             ],
             [
              0.4444444444444444,
              "#bd3786"
             ],
             [
              0.5555555555555556,
              "#d8576b"
             ],
             [
              0.6666666666666666,
              "#ed7953"
             ],
             [
              0.7777777777777778,
              "#fb9f3a"
             ],
             [
              0.8888888888888888,
              "#fdca26"
             ],
             [
              1,
              "#f0f921"
             ]
            ],
            "type": "surface"
           }
          ],
          "table": [
           {
            "cells": {
             "fill": {
              "color": "#EBF0F8"
             },
             "line": {
              "color": "white"
             }
            },
            "header": {
             "fill": {
              "color": "#C8D4E3"
             },
             "line": {
              "color": "white"
             }
            },
            "type": "table"
           }
          ]
         },
         "layout": {
          "annotationdefaults": {
           "arrowcolor": "#2a3f5f",
           "arrowhead": 0,
           "arrowwidth": 1
          },
          "autotypenumbers": "strict",
          "coloraxis": {
           "colorbar": {
            "outlinewidth": 0,
            "ticks": ""
           }
          },
          "colorscale": {
           "diverging": [
            [
             0,
             "#8e0152"
            ],
            [
             0.1,
             "#c51b7d"
            ],
            [
             0.2,
             "#de77ae"
            ],
            [
             0.3,
             "#f1b6da"
            ],
            [
             0.4,
             "#fde0ef"
            ],
            [
             0.5,
             "#f7f7f7"
            ],
            [
             0.6,
             "#e6f5d0"
            ],
            [
             0.7,
             "#b8e186"
            ],
            [
             0.8,
             "#7fbc41"
            ],
            [
             0.9,
             "#4d9221"
            ],
            [
             1,
             "#276419"
            ]
           ],
           "sequential": [
            [
             0,
             "#0d0887"
            ],
            [
             0.1111111111111111,
             "#46039f"
            ],
            [
             0.2222222222222222,
             "#7201a8"
            ],
            [
             0.3333333333333333,
             "#9c179e"
            ],
            [
             0.4444444444444444,
             "#bd3786"
            ],
            [
             0.5555555555555556,
             "#d8576b"
            ],
            [
             0.6666666666666666,
             "#ed7953"
            ],
            [
             0.7777777777777778,
             "#fb9f3a"
            ],
            [
             0.8888888888888888,
             "#fdca26"
            ],
            [
             1,
             "#f0f921"
            ]
           ],
           "sequentialminus": [
            [
             0,
             "#0d0887"
            ],
            [
             0.1111111111111111,
             "#46039f"
            ],
            [
             0.2222222222222222,
             "#7201a8"
            ],
            [
             0.3333333333333333,
             "#9c179e"
            ],
            [
             0.4444444444444444,
             "#bd3786"
            ],
            [
             0.5555555555555556,
             "#d8576b"
            ],
            [
             0.6666666666666666,
             "#ed7953"
            ],
            [
             0.7777777777777778,
             "#fb9f3a"
            ],
            [
             0.8888888888888888,
             "#fdca26"
            ],
            [
             1,
             "#f0f921"
            ]
           ]
          },
          "colorway": [
           "#636efa",
           "#EF553B",
           "#00cc96",
           "#ab63fa",
           "#FFA15A",
           "#19d3f3",
           "#FF6692",
           "#B6E880",
           "#FF97FF",
           "#FECB52"
          ],
          "font": {
           "color": "#2a3f5f"
          },
          "geo": {
           "bgcolor": "white",
           "lakecolor": "white",
           "landcolor": "#E5ECF6",
           "showlakes": true,
           "showland": true,
           "subunitcolor": "white"
          },
          "hoverlabel": {
           "align": "left"
          },
          "hovermode": "closest",
          "mapbox": {
           "style": "light"
          },
          "paper_bgcolor": "white",
          "plot_bgcolor": "#E5ECF6",
          "polar": {
           "angularaxis": {
            "gridcolor": "white",
            "linecolor": "white",
            "ticks": ""
           },
           "bgcolor": "#E5ECF6",
           "radialaxis": {
            "gridcolor": "white",
            "linecolor": "white",
            "ticks": ""
           }
          },
          "scene": {
           "xaxis": {
            "backgroundcolor": "#E5ECF6",
            "gridcolor": "white",
            "gridwidth": 2,
            "linecolor": "white",
            "showbackground": true,
            "ticks": "",
            "zerolinecolor": "white"
           },
           "yaxis": {
            "backgroundcolor": "#E5ECF6",
            "gridcolor": "white",
            "gridwidth": 2,
            "linecolor": "white",
            "showbackground": true,
            "ticks": "",
            "zerolinecolor": "white"
           },
           "zaxis": {
            "backgroundcolor": "#E5ECF6",
            "gridcolor": "white",
            "gridwidth": 2,
            "linecolor": "white",
            "showbackground": true,
            "ticks": "",
            "zerolinecolor": "white"
           }
          },
          "shapedefaults": {
           "line": {
            "color": "#2a3f5f"
           }
          },
          "ternary": {
           "aaxis": {
            "gridcolor": "white",
            "linecolor": "white",
            "ticks": ""
           },
           "baxis": {
            "gridcolor": "white",
            "linecolor": "white",
            "ticks": ""
           },
           "bgcolor": "#E5ECF6",
           "caxis": {
            "gridcolor": "white",
            "linecolor": "white",
            "ticks": ""
           }
          },
          "title": {
           "x": 0.05
          },
          "xaxis": {
           "automargin": true,
           "gridcolor": "white",
           "linecolor": "white",
           "ticks": "",
           "title": {
            "standoff": 15
           },
           "zerolinecolor": "white",
           "zerolinewidth": 2
          },
          "yaxis": {
           "automargin": true,
           "gridcolor": "white",
           "linecolor": "white",
           "ticks": "",
           "title": {
            "standoff": 15
           },
           "zerolinecolor": "white",
           "zerolinewidth": 2
          }
         }
        },
        "title": {
         "text": "GBP_USD_MA_32_128"
        },
        "width": 1000,
        "xaxis": {
         "linecolor": "#3a4a54",
         "linewidth": 1,
         "showgrid": false,
         "zeroline": false
        },
        "yaxis": {
         "linecolor": "#3a4a54",
         "linewidth": 1,
         "showgrid": false,
         "zeroline": false
        }
       }
      }
     },
     "metadata": {},
     "output_type": "display_data"
    },
    {
     "data": {
      "application/vnd.plotly.v1+json": {
       "config": {
        "plotlyServerURL": "https://plot.ly"
       },
       "data": [
        {
         "line": {
          "color": "#3d825f",
          "shape": "spline",
          "width": 2
         },
         "mode": "lines",
         "name": "EUR_JPY_MA_32_128",
         "type": "scatter",
         "x": [
          "2021-09-09T02:00:00+00:00",
          "2021-09-23T17:00:00+00:00",
          "2021-09-30T15:00:00+00:00",
          "2021-10-08T06:00:00+00:00",
          "2021-10-22T05:00:00+00:00",
          "2021-10-29T05:00:00+00:00",
          "2021-11-01T07:00:00+00:00",
          "2021-11-24T06:00:00+00:00",
          "2021-11-26T09:00:00+00:00",
          "2021-12-07T15:00:00+00:00",
          "2021-12-13T14:00:00+00:00",
          "2021-12-16T03:00:00+00:00",
          "2021-12-20T02:00:00+00:00",
          "2021-12-21T23:00:00+00:00",
          "2022-01-10T22:00:00+00:00",
          "2022-01-12T11:00:00+00:00",
          "2022-01-14T03:00:00+00:00",
          "2022-01-31T12:00:00+00:00",
          "2022-02-14T02:00:00+00:00",
          "2022-03-09T18:00:00+00:00",
          "2022-04-01T07:00:00+00:00"
         ],
         "y": [
          79.40000000000111,
          45.10000000000218,
          35.50000000000466,
          371.2000000000046,
          364.3000000000029,
          333.2000000000022,
          638.7000000000029,
          550.3000000000043,
          605.500000000005,
          636.5000000000039,
          569.1000000000032,
          465.5000000000045,
          375.9000000000044,
          560.3000000000038,
          500.10000000000343,
          437.50000000000296,
          606.7000000000037,
          825.5000000000053,
          1101.000000000005,
          1832.1000000000029,
          1820.5000000000014
         ]
        }
       ],
       "layout": {
        "font": {
         "color": "#e1e1e1",
         "size": 10
        },
        "height": 400,
        "margin": {
         "b": 10,
         "l": 15,
         "r": 15
        },
        "paper_bgcolor": "#1e1e1e",
        "plot_bgcolor": "#1e1e1e",
        "template": {
         "data": {
          "bar": [
           {
            "error_x": {
             "color": "#2a3f5f"
            },
            "error_y": {
             "color": "#2a3f5f"
            },
            "marker": {
             "line": {
              "color": "#E5ECF6",
              "width": 0.5
             },
             "pattern": {
              "fillmode": "overlay",
              "size": 10,
              "solidity": 0.2
             }
            },
            "type": "bar"
           }
          ],
          "barpolar": [
           {
            "marker": {
             "line": {
              "color": "#E5ECF6",
              "width": 0.5
             },
             "pattern": {
              "fillmode": "overlay",
              "size": 10,
              "solidity": 0.2
             }
            },
            "type": "barpolar"
           }
          ],
          "carpet": [
           {
            "aaxis": {
             "endlinecolor": "#2a3f5f",
             "gridcolor": "white",
             "linecolor": "white",
             "minorgridcolor": "white",
             "startlinecolor": "#2a3f5f"
            },
            "baxis": {
             "endlinecolor": "#2a3f5f",
             "gridcolor": "white",
             "linecolor": "white",
             "minorgridcolor": "white",
             "startlinecolor": "#2a3f5f"
            },
            "type": "carpet"
           }
          ],
          "choropleth": [
           {
            "colorbar": {
             "outlinewidth": 0,
             "ticks": ""
            },
            "type": "choropleth"
           }
          ],
          "contour": [
           {
            "colorbar": {
             "outlinewidth": 0,
             "ticks": ""
            },
            "colorscale": [
             [
              0,
              "#0d0887"
             ],
             [
              0.1111111111111111,
              "#46039f"
             ],
             [
              0.2222222222222222,
              "#7201a8"
             ],
             [
              0.3333333333333333,
              "#9c179e"
             ],
             [
              0.4444444444444444,
              "#bd3786"
             ],
             [
              0.5555555555555556,
              "#d8576b"
             ],
             [
              0.6666666666666666,
              "#ed7953"
             ],
             [
              0.7777777777777778,
              "#fb9f3a"
             ],
             [
              0.8888888888888888,
              "#fdca26"
             ],
             [
              1,
              "#f0f921"
             ]
            ],
            "type": "contour"
           }
          ],
          "contourcarpet": [
           {
            "colorbar": {
             "outlinewidth": 0,
             "ticks": ""
            },
            "type": "contourcarpet"
           }
          ],
          "heatmap": [
           {
            "colorbar": {
             "outlinewidth": 0,
             "ticks": ""
            },
            "colorscale": [
             [
              0,
              "#0d0887"
             ],
             [
              0.1111111111111111,
              "#46039f"
             ],
             [
              0.2222222222222222,
              "#7201a8"
             ],
             [
              0.3333333333333333,
              "#9c179e"
             ],
             [
              0.4444444444444444,
              "#bd3786"
             ],
             [
              0.5555555555555556,
              "#d8576b"
             ],
             [
              0.6666666666666666,
              "#ed7953"
             ],
             [
              0.7777777777777778,
              "#fb9f3a"
             ],
             [
              0.8888888888888888,
              "#fdca26"
             ],
             [
              1,
              "#f0f921"
             ]
            ],
            "type": "heatmap"
           }
          ],
          "heatmapgl": [
           {
            "colorbar": {
             "outlinewidth": 0,
             "ticks": ""
            },
            "colorscale": [
             [
              0,
              "#0d0887"
             ],
             [
              0.1111111111111111,
              "#46039f"
             ],
             [
              0.2222222222222222,
              "#7201a8"
             ],
             [
              0.3333333333333333,
              "#9c179e"
             ],
             [
              0.4444444444444444,
              "#bd3786"
             ],
             [
              0.5555555555555556,
              "#d8576b"
             ],
             [
              0.6666666666666666,
              "#ed7953"
             ],
             [
              0.7777777777777778,
              "#fb9f3a"
             ],
             [
              0.8888888888888888,
              "#fdca26"
             ],
             [
              1,
              "#f0f921"
             ]
            ],
            "type": "heatmapgl"
           }
          ],
          "histogram": [
           {
            "marker": {
             "pattern": {
              "fillmode": "overlay",
              "size": 10,
              "solidity": 0.2
             }
            },
            "type": "histogram"
           }
          ],
          "histogram2d": [
           {
            "colorbar": {
             "outlinewidth": 0,
             "ticks": ""
            },
            "colorscale": [
             [
              0,
              "#0d0887"
             ],
             [
              0.1111111111111111,
              "#46039f"
             ],
             [
              0.2222222222222222,
              "#7201a8"
             ],
             [
              0.3333333333333333,
              "#9c179e"
             ],
             [
              0.4444444444444444,
              "#bd3786"
             ],
             [
              0.5555555555555556,
              "#d8576b"
             ],
             [
              0.6666666666666666,
              "#ed7953"
             ],
             [
              0.7777777777777778,
              "#fb9f3a"
             ],
             [
              0.8888888888888888,
              "#fdca26"
             ],
             [
              1,
              "#f0f921"
             ]
            ],
            "type": "histogram2d"
           }
          ],
          "histogram2dcontour": [
           {
            "colorbar": {
             "outlinewidth": 0,
             "ticks": ""
            },
            "colorscale": [
             [
              0,
              "#0d0887"
             ],
             [
              0.1111111111111111,
              "#46039f"
             ],
             [
              0.2222222222222222,
              "#7201a8"
             ],
             [
              0.3333333333333333,
              "#9c179e"
             ],
             [
              0.4444444444444444,
              "#bd3786"
             ],
             [
              0.5555555555555556,
              "#d8576b"
             ],
             [
              0.6666666666666666,
              "#ed7953"
             ],
             [
              0.7777777777777778,
              "#fb9f3a"
             ],
             [
              0.8888888888888888,
              "#fdca26"
             ],
             [
              1,
              "#f0f921"
             ]
            ],
            "type": "histogram2dcontour"
           }
          ],
          "mesh3d": [
           {
            "colorbar": {
             "outlinewidth": 0,
             "ticks": ""
            },
            "type": "mesh3d"
           }
          ],
          "parcoords": [
           {
            "line": {
             "colorbar": {
              "outlinewidth": 0,
              "ticks": ""
             }
            },
            "type": "parcoords"
           }
          ],
          "pie": [
           {
            "automargin": true,
            "type": "pie"
           }
          ],
          "scatter": [
           {
            "marker": {
             "colorbar": {
              "outlinewidth": 0,
              "ticks": ""
             }
            },
            "type": "scatter"
           }
          ],
          "scatter3d": [
           {
            "line": {
             "colorbar": {
              "outlinewidth": 0,
              "ticks": ""
             }
            },
            "marker": {
             "colorbar": {
              "outlinewidth": 0,
              "ticks": ""
             }
            },
            "type": "scatter3d"
           }
          ],
          "scattercarpet": [
           {
            "marker": {
             "colorbar": {
              "outlinewidth": 0,
              "ticks": ""
             }
            },
            "type": "scattercarpet"
           }
          ],
          "scattergeo": [
           {
            "marker": {
             "colorbar": {
              "outlinewidth": 0,
              "ticks": ""
             }
            },
            "type": "scattergeo"
           }
          ],
          "scattergl": [
           {
            "marker": {
             "colorbar": {
              "outlinewidth": 0,
              "ticks": ""
             }
            },
            "type": "scattergl"
           }
          ],
          "scattermapbox": [
           {
            "marker": {
             "colorbar": {
              "outlinewidth": 0,
              "ticks": ""
             }
            },
            "type": "scattermapbox"
           }
          ],
          "scatterpolar": [
           {
            "marker": {
             "colorbar": {
              "outlinewidth": 0,
              "ticks": ""
             }
            },
            "type": "scatterpolar"
           }
          ],
          "scatterpolargl": [
           {
            "marker": {
             "colorbar": {
              "outlinewidth": 0,
              "ticks": ""
             }
            },
            "type": "scatterpolargl"
           }
          ],
          "scatterternary": [
           {
            "marker": {
             "colorbar": {
              "outlinewidth": 0,
              "ticks": ""
             }
            },
            "type": "scatterternary"
           }
          ],
          "surface": [
           {
            "colorbar": {
             "outlinewidth": 0,
             "ticks": ""
            },
            "colorscale": [
             [
              0,
              "#0d0887"
             ],
             [
              0.1111111111111111,
              "#46039f"
             ],
             [
              0.2222222222222222,
              "#7201a8"
             ],
             [
              0.3333333333333333,
              "#9c179e"
             ],
             [
              0.4444444444444444,
              "#bd3786"
             ],
             [
              0.5555555555555556,
              "#d8576b"
             ],
             [
              0.6666666666666666,
              "#ed7953"
             ],
             [
              0.7777777777777778,
              "#fb9f3a"
             ],
             [
              0.8888888888888888,
              "#fdca26"
             ],
             [
              1,
              "#f0f921"
             ]
            ],
            "type": "surface"
           }
          ],
          "table": [
           {
            "cells": {
             "fill": {
              "color": "#EBF0F8"
             },
             "line": {
              "color": "white"
             }
            },
            "header": {
             "fill": {
              "color": "#C8D4E3"
             },
             "line": {
              "color": "white"
             }
            },
            "type": "table"
           }
          ]
         },
         "layout": {
          "annotationdefaults": {
           "arrowcolor": "#2a3f5f",
           "arrowhead": 0,
           "arrowwidth": 1
          },
          "autotypenumbers": "strict",
          "coloraxis": {
           "colorbar": {
            "outlinewidth": 0,
            "ticks": ""
           }
          },
          "colorscale": {
           "diverging": [
            [
             0,
             "#8e0152"
            ],
            [
             0.1,
             "#c51b7d"
            ],
            [
             0.2,
             "#de77ae"
            ],
            [
             0.3,
             "#f1b6da"
            ],
            [
             0.4,
             "#fde0ef"
            ],
            [
             0.5,
             "#f7f7f7"
            ],
            [
             0.6,
             "#e6f5d0"
            ],
            [
             0.7,
             "#b8e186"
            ],
            [
             0.8,
             "#7fbc41"
            ],
            [
             0.9,
             "#4d9221"
            ],
            [
             1,
             "#276419"
            ]
           ],
           "sequential": [
            [
             0,
             "#0d0887"
            ],
            [
             0.1111111111111111,
             "#46039f"
            ],
            [
             0.2222222222222222,
             "#7201a8"
            ],
            [
             0.3333333333333333,
             "#9c179e"
            ],
            [
             0.4444444444444444,
             "#bd3786"
            ],
            [
             0.5555555555555556,
             "#d8576b"
            ],
            [
             0.6666666666666666,
             "#ed7953"
            ],
            [
             0.7777777777777778,
             "#fb9f3a"
            ],
            [
             0.8888888888888888,
             "#fdca26"
            ],
            [
             1,
             "#f0f921"
            ]
           ],
           "sequentialminus": [
            [
             0,
             "#0d0887"
            ],
            [
             0.1111111111111111,
             "#46039f"
            ],
            [
             0.2222222222222222,
             "#7201a8"
            ],
            [
             0.3333333333333333,
             "#9c179e"
            ],
            [
             0.4444444444444444,
             "#bd3786"
            ],
            [
             0.5555555555555556,
             "#d8576b"
            ],
            [
             0.6666666666666666,
             "#ed7953"
            ],
            [
             0.7777777777777778,
             "#fb9f3a"
            ],
            [
             0.8888888888888888,
             "#fdca26"
            ],
            [
             1,
             "#f0f921"
            ]
           ]
          },
          "colorway": [
           "#636efa",
           "#EF553B",
           "#00cc96",
           "#ab63fa",
           "#FFA15A",
           "#19d3f3",
           "#FF6692",
           "#B6E880",
           "#FF97FF",
           "#FECB52"
          ],
          "font": {
           "color": "#2a3f5f"
          },
          "geo": {
           "bgcolor": "white",
           "lakecolor": "white",
           "landcolor": "#E5ECF6",
           "showlakes": true,
           "showland": true,
           "subunitcolor": "white"
          },
          "hoverlabel": {
           "align": "left"
          },
          "hovermode": "closest",
          "mapbox": {
           "style": "light"
          },
          "paper_bgcolor": "white",
          "plot_bgcolor": "#E5ECF6",
          "polar": {
           "angularaxis": {
            "gridcolor": "white",
            "linecolor": "white",
            "ticks": ""
           },
           "bgcolor": "#E5ECF6",
           "radialaxis": {
            "gridcolor": "white",
            "linecolor": "white",
            "ticks": ""
           }
          },
          "scene": {
           "xaxis": {
            "backgroundcolor": "#E5ECF6",
            "gridcolor": "white",
            "gridwidth": 2,
            "linecolor": "white",
            "showbackground": true,
            "ticks": "",
            "zerolinecolor": "white"
           },
           "yaxis": {
            "backgroundcolor": "#E5ECF6",
            "gridcolor": "white",
            "gridwidth": 2,
            "linecolor": "white",
            "showbackground": true,
            "ticks": "",
            "zerolinecolor": "white"
           },
           "zaxis": {
            "backgroundcolor": "#E5ECF6",
            "gridcolor": "white",
            "gridwidth": 2,
            "linecolor": "white",
            "showbackground": true,
            "ticks": "",
            "zerolinecolor": "white"
           }
          },
          "shapedefaults": {
           "line": {
            "color": "#2a3f5f"
           }
          },
          "ternary": {
           "aaxis": {
            "gridcolor": "white",
            "linecolor": "white",
            "ticks": ""
           },
           "baxis": {
            "gridcolor": "white",
            "linecolor": "white",
            "ticks": ""
           },
           "bgcolor": "#E5ECF6",
           "caxis": {
            "gridcolor": "white",
            "linecolor": "white",
            "ticks": ""
           }
          },
          "title": {
           "x": 0.05
          },
          "xaxis": {
           "automargin": true,
           "gridcolor": "white",
           "linecolor": "white",
           "ticks": "",
           "title": {
            "standoff": 15
           },
           "zerolinecolor": "white",
           "zerolinewidth": 2
          },
          "yaxis": {
           "automargin": true,
           "gridcolor": "white",
           "linecolor": "white",
           "ticks": "",
           "title": {
            "standoff": 15
           },
           "zerolinecolor": "white",
           "zerolinewidth": 2
          }
         }
        },
        "title": {
         "text": "EUR_JPY_MA_32_128"
        },
        "width": 1000,
        "xaxis": {
         "linecolor": "#3a4a54",
         "linewidth": 1,
         "showgrid": false,
         "zeroline": false
        },
        "yaxis": {
         "linecolor": "#3a4a54",
         "linewidth": 1,
         "showgrid": false,
         "zeroline": false
        }
       }
      }
     },
     "metadata": {},
     "output_type": "display_data"
    },
    {
     "data": {
      "application/vnd.plotly.v1+json": {
       "config": {
        "plotlyServerURL": "https://plot.ly"
       },
       "data": [
        {
         "line": {
          "color": "#3d825f",
          "shape": "spline",
          "width": 2
         },
         "mode": "lines",
         "name": "NZD_JPY_MA_32_128",
         "type": "scatter",
         "x": [
          "2021-09-09T05:00:00+00:00",
          "2021-09-13T07:00:00+00:00",
          "2021-09-13T18:00:00+00:00",
          "2021-09-14T09:00:00+00:00",
          "2021-09-14T16:00:00+00:00",
          "2021-09-23T17:00:00+00:00",
          "2021-09-29T12:00:00+00:00",
          "2021-10-05T03:00:00+00:00",
          "2021-10-07T06:00:00+00:00",
          "2021-10-07T20:00:00+00:00",
          "2021-10-22T20:00:00+00:00",
          "2021-10-27T05:00:00+00:00",
          "2021-10-27T11:00:00+00:00",
          "2021-10-28T17:00:00+00:00",
          "2021-11-02T16:00:00+00:00",
          "2021-11-16T03:00:00+00:00",
          "2021-11-17T16:00:00+00:00",
          "2021-11-19T03:00:00+00:00",
          "2021-11-19T17:00:00+00:00",
          "2021-12-08T04:00:00+00:00",
          "2021-12-13T17:00:00+00:00",
          "2021-12-16T08:00:00+00:00",
          "2021-12-19T23:00:00+00:00",
          "2021-12-22T07:00:00+00:00",
          "2022-01-06T14:00:00+00:00",
          "2022-01-12T20:00:00+00:00",
          "2022-01-14T16:00:00+00:00",
          "2022-02-02T07:00:00+00:00",
          "2022-02-14T09:00:00+00:00",
          "2022-02-17T01:00:00+00:00",
          "2022-02-24T23:00:00+00:00",
          "2022-02-25T19:00:00+00:00",
          "2022-03-31T04:00:00+00:00",
          "2022-04-04T16:00:00+00:00",
          "2022-04-08T05:00:00+00:00",
          "2022-04-12T06:00:00+00:00",
          "2022-04-14T07:00:00+00:00",
          "2022-04-15T11:00:00+00:00",
          "2022-04-18T03:00:00+00:00"
         ],
         "y": [
          -27.899999999999636,
          -44.70000000000027,
          -55.90000000000117,
          -95.20000000000124,
          -114.50000000000102,
          -213.00000000000097,
          -220.70000000000078,
          -220.00000000000028,
          -235.89999999999947,
          152.10000000000008,
          103.00000000000011,
          64.90000000000009,
          25.399999999999068,
          -64.90000000000151,
          -38.90000000000242,
          -90.90000000000344,
          -134.90000000000322,
          -202.10000000000292,
          65.49999999999727,
          20.299999999997453,
          -82.9000000000022,
          -213.30000000000098,
          -285.5000000000004,
          -187.10000000000093,
          -228.60000000000156,
          -325.1000000000019,
          -174.70000000000283,
          -179.500000000003,
          -314.90000000000293,
          -323.40000000000373,
          -397.5000000000037,
          299.69999999999715,
          257.999999999997,
          254.4999999999959,
          206.4999999999955,
          168.299999999995,
          142.79999999999404,
          93.49999999999312,
          -32.70000000000692
         ]
        }
       ],
       "layout": {
        "font": {
         "color": "#e1e1e1",
         "size": 10
        },
        "height": 400,
        "margin": {
         "b": 10,
         "l": 15,
         "r": 15
        },
        "paper_bgcolor": "#1e1e1e",
        "plot_bgcolor": "#1e1e1e",
        "template": {
         "data": {
          "bar": [
           {
            "error_x": {
             "color": "#2a3f5f"
            },
            "error_y": {
             "color": "#2a3f5f"
            },
            "marker": {
             "line": {
              "color": "#E5ECF6",
              "width": 0.5
             },
             "pattern": {
              "fillmode": "overlay",
              "size": 10,
              "solidity": 0.2
             }
            },
            "type": "bar"
           }
          ],
          "barpolar": [
           {
            "marker": {
             "line": {
              "color": "#E5ECF6",
              "width": 0.5
             },
             "pattern": {
              "fillmode": "overlay",
              "size": 10,
              "solidity": 0.2
             }
            },
            "type": "barpolar"
           }
          ],
          "carpet": [
           {
            "aaxis": {
             "endlinecolor": "#2a3f5f",
             "gridcolor": "white",
             "linecolor": "white",
             "minorgridcolor": "white",
             "startlinecolor": "#2a3f5f"
            },
            "baxis": {
             "endlinecolor": "#2a3f5f",
             "gridcolor": "white",
             "linecolor": "white",
             "minorgridcolor": "white",
             "startlinecolor": "#2a3f5f"
            },
            "type": "carpet"
           }
          ],
          "choropleth": [
           {
            "colorbar": {
             "outlinewidth": 0,
             "ticks": ""
            },
            "type": "choropleth"
           }
          ],
          "contour": [
           {
            "colorbar": {
             "outlinewidth": 0,
             "ticks": ""
            },
            "colorscale": [
             [
              0,
              "#0d0887"
             ],
             [
              0.1111111111111111,
              "#46039f"
             ],
             [
              0.2222222222222222,
              "#7201a8"
             ],
             [
              0.3333333333333333,
              "#9c179e"
             ],
             [
              0.4444444444444444,
              "#bd3786"
             ],
             [
              0.5555555555555556,
              "#d8576b"
             ],
             [
              0.6666666666666666,
              "#ed7953"
             ],
             [
              0.7777777777777778,
              "#fb9f3a"
             ],
             [
              0.8888888888888888,
              "#fdca26"
             ],
             [
              1,
              "#f0f921"
             ]
            ],
            "type": "contour"
           }
          ],
          "contourcarpet": [
           {
            "colorbar": {
             "outlinewidth": 0,
             "ticks": ""
            },
            "type": "contourcarpet"
           }
          ],
          "heatmap": [
           {
            "colorbar": {
             "outlinewidth": 0,
             "ticks": ""
            },
            "colorscale": [
             [
              0,
              "#0d0887"
             ],
             [
              0.1111111111111111,
              "#46039f"
             ],
             [
              0.2222222222222222,
              "#7201a8"
             ],
             [
              0.3333333333333333,
              "#9c179e"
             ],
             [
              0.4444444444444444,
              "#bd3786"
             ],
             [
              0.5555555555555556,
              "#d8576b"
             ],
             [
              0.6666666666666666,
              "#ed7953"
             ],
             [
              0.7777777777777778,
              "#fb9f3a"
             ],
             [
              0.8888888888888888,
              "#fdca26"
             ],
             [
              1,
              "#f0f921"
             ]
            ],
            "type": "heatmap"
           }
          ],
          "heatmapgl": [
           {
            "colorbar": {
             "outlinewidth": 0,
             "ticks": ""
            },
            "colorscale": [
             [
              0,
              "#0d0887"
             ],
             [
              0.1111111111111111,
              "#46039f"
             ],
             [
              0.2222222222222222,
              "#7201a8"
             ],
             [
              0.3333333333333333,
              "#9c179e"
             ],
             [
              0.4444444444444444,
              "#bd3786"
             ],
             [
              0.5555555555555556,
              "#d8576b"
             ],
             [
              0.6666666666666666,
              "#ed7953"
             ],
             [
              0.7777777777777778,
              "#fb9f3a"
             ],
             [
              0.8888888888888888,
              "#fdca26"
             ],
             [
              1,
              "#f0f921"
             ]
            ],
            "type": "heatmapgl"
           }
          ],
          "histogram": [
           {
            "marker": {
             "pattern": {
              "fillmode": "overlay",
              "size": 10,
              "solidity": 0.2
             }
            },
            "type": "histogram"
           }
          ],
          "histogram2d": [
           {
            "colorbar": {
             "outlinewidth": 0,
             "ticks": ""
            },
            "colorscale": [
             [
              0,
              "#0d0887"
             ],
             [
              0.1111111111111111,
              "#46039f"
             ],
             [
              0.2222222222222222,
              "#7201a8"
             ],
             [
              0.3333333333333333,
              "#9c179e"
             ],
             [
              0.4444444444444444,
              "#bd3786"
             ],
             [
              0.5555555555555556,
              "#d8576b"
             ],
             [
              0.6666666666666666,
              "#ed7953"
             ],
             [
              0.7777777777777778,
              "#fb9f3a"
             ],
             [
              0.8888888888888888,
              "#fdca26"
             ],
             [
              1,
              "#f0f921"
             ]
            ],
            "type": "histogram2d"
           }
          ],
          "histogram2dcontour": [
           {
            "colorbar": {
             "outlinewidth": 0,
             "ticks": ""
            },
            "colorscale": [
             [
              0,
              "#0d0887"
             ],
             [
              0.1111111111111111,
              "#46039f"
             ],
             [
              0.2222222222222222,
              "#7201a8"
             ],
             [
              0.3333333333333333,
              "#9c179e"
             ],
             [
              0.4444444444444444,
              "#bd3786"
             ],
             [
              0.5555555555555556,
              "#d8576b"
             ],
             [
              0.6666666666666666,
              "#ed7953"
             ],
             [
              0.7777777777777778,
              "#fb9f3a"
             ],
             [
              0.8888888888888888,
              "#fdca26"
             ],
             [
              1,
              "#f0f921"
             ]
            ],
            "type": "histogram2dcontour"
           }
          ],
          "mesh3d": [
           {
            "colorbar": {
             "outlinewidth": 0,
             "ticks": ""
            },
            "type": "mesh3d"
           }
          ],
          "parcoords": [
           {
            "line": {
             "colorbar": {
              "outlinewidth": 0,
              "ticks": ""
             }
            },
            "type": "parcoords"
           }
          ],
          "pie": [
           {
            "automargin": true,
            "type": "pie"
           }
          ],
          "scatter": [
           {
            "marker": {
             "colorbar": {
              "outlinewidth": 0,
              "ticks": ""
             }
            },
            "type": "scatter"
           }
          ],
          "scatter3d": [
           {
            "line": {
             "colorbar": {
              "outlinewidth": 0,
              "ticks": ""
             }
            },
            "marker": {
             "colorbar": {
              "outlinewidth": 0,
              "ticks": ""
             }
            },
            "type": "scatter3d"
           }
          ],
          "scattercarpet": [
           {
            "marker": {
             "colorbar": {
              "outlinewidth": 0,
              "ticks": ""
             }
            },
            "type": "scattercarpet"
           }
          ],
          "scattergeo": [
           {
            "marker": {
             "colorbar": {
              "outlinewidth": 0,
              "ticks": ""
             }
            },
            "type": "scattergeo"
           }
          ],
          "scattergl": [
           {
            "marker": {
             "colorbar": {
              "outlinewidth": 0,
              "ticks": ""
             }
            },
            "type": "scattergl"
           }
          ],
          "scattermapbox": [
           {
            "marker": {
             "colorbar": {
              "outlinewidth": 0,
              "ticks": ""
             }
            },
            "type": "scattermapbox"
           }
          ],
          "scatterpolar": [
           {
            "marker": {
             "colorbar": {
              "outlinewidth": 0,
              "ticks": ""
             }
            },
            "type": "scatterpolar"
           }
          ],
          "scatterpolargl": [
           {
            "marker": {
             "colorbar": {
              "outlinewidth": 0,
              "ticks": ""
             }
            },
            "type": "scatterpolargl"
           }
          ],
          "scatterternary": [
           {
            "marker": {
             "colorbar": {
              "outlinewidth": 0,
              "ticks": ""
             }
            },
            "type": "scatterternary"
           }
          ],
          "surface": [
           {
            "colorbar": {
             "outlinewidth": 0,
             "ticks": ""
            },
            "colorscale": [
             [
              0,
              "#0d0887"
             ],
             [
              0.1111111111111111,
              "#46039f"
             ],
             [
              0.2222222222222222,
              "#7201a8"
             ],
             [
              0.3333333333333333,
              "#9c179e"
             ],
             [
              0.4444444444444444,
              "#bd3786"
             ],
             [
              0.5555555555555556,
              "#d8576b"
             ],
             [
              0.6666666666666666,
              "#ed7953"
             ],
             [
              0.7777777777777778,
              "#fb9f3a"
             ],
             [
              0.8888888888888888,
              "#fdca26"
             ],
             [
              1,
              "#f0f921"
             ]
            ],
            "type": "surface"
           }
          ],
          "table": [
           {
            "cells": {
             "fill": {
              "color": "#EBF0F8"
             },
             "line": {
              "color": "white"
             }
            },
            "header": {
             "fill": {
              "color": "#C8D4E3"
             },
             "line": {
              "color": "white"
             }
            },
            "type": "table"
           }
          ]
         },
         "layout": {
          "annotationdefaults": {
           "arrowcolor": "#2a3f5f",
           "arrowhead": 0,
           "arrowwidth": 1
          },
          "autotypenumbers": "strict",
          "coloraxis": {
           "colorbar": {
            "outlinewidth": 0,
            "ticks": ""
           }
          },
          "colorscale": {
           "diverging": [
            [
             0,
             "#8e0152"
            ],
            [
             0.1,
             "#c51b7d"
            ],
            [
             0.2,
             "#de77ae"
            ],
            [
             0.3,
             "#f1b6da"
            ],
            [
             0.4,
             "#fde0ef"
            ],
            [
             0.5,
             "#f7f7f7"
            ],
            [
             0.6,
             "#e6f5d0"
            ],
            [
             0.7,
             "#b8e186"
            ],
            [
             0.8,
             "#7fbc41"
            ],
            [
             0.9,
             "#4d9221"
            ],
            [
             1,
             "#276419"
            ]
           ],
           "sequential": [
            [
             0,
             "#0d0887"
            ],
            [
             0.1111111111111111,
             "#46039f"
            ],
            [
             0.2222222222222222,
             "#7201a8"
            ],
            [
             0.3333333333333333,
             "#9c179e"
            ],
            [
             0.4444444444444444,
             "#bd3786"
            ],
            [
             0.5555555555555556,
             "#d8576b"
            ],
            [
             0.6666666666666666,
             "#ed7953"
            ],
            [
             0.7777777777777778,
             "#fb9f3a"
            ],
            [
             0.8888888888888888,
             "#fdca26"
            ],
            [
             1,
             "#f0f921"
            ]
           ],
           "sequentialminus": [
            [
             0,
             "#0d0887"
            ],
            [
             0.1111111111111111,
             "#46039f"
            ],
            [
             0.2222222222222222,
             "#7201a8"
            ],
            [
             0.3333333333333333,
             "#9c179e"
            ],
            [
             0.4444444444444444,
             "#bd3786"
            ],
            [
             0.5555555555555556,
             "#d8576b"
            ],
            [
             0.6666666666666666,
             "#ed7953"
            ],
            [
             0.7777777777777778,
             "#fb9f3a"
            ],
            [
             0.8888888888888888,
             "#fdca26"
            ],
            [
             1,
             "#f0f921"
            ]
           ]
          },
          "colorway": [
           "#636efa",
           "#EF553B",
           "#00cc96",
           "#ab63fa",
           "#FFA15A",
           "#19d3f3",
           "#FF6692",
           "#B6E880",
           "#FF97FF",
           "#FECB52"
          ],
          "font": {
           "color": "#2a3f5f"
          },
          "geo": {
           "bgcolor": "white",
           "lakecolor": "white",
           "landcolor": "#E5ECF6",
           "showlakes": true,
           "showland": true,
           "subunitcolor": "white"
          },
          "hoverlabel": {
           "align": "left"
          },
          "hovermode": "closest",
          "mapbox": {
           "style": "light"
          },
          "paper_bgcolor": "white",
          "plot_bgcolor": "#E5ECF6",
          "polar": {
           "angularaxis": {
            "gridcolor": "white",
            "linecolor": "white",
            "ticks": ""
           },
           "bgcolor": "#E5ECF6",
           "radialaxis": {
            "gridcolor": "white",
            "linecolor": "white",
            "ticks": ""
           }
          },
          "scene": {
           "xaxis": {
            "backgroundcolor": "#E5ECF6",
            "gridcolor": "white",
            "gridwidth": 2,
            "linecolor": "white",
            "showbackground": true,
            "ticks": "",
            "zerolinecolor": "white"
           },
           "yaxis": {
            "backgroundcolor": "#E5ECF6",
            "gridcolor": "white",
            "gridwidth": 2,
            "linecolor": "white",
            "showbackground": true,
            "ticks": "",
            "zerolinecolor": "white"
           },
           "zaxis": {
            "backgroundcolor": "#E5ECF6",
            "gridcolor": "white",
            "gridwidth": 2,
            "linecolor": "white",
            "showbackground": true,
            "ticks": "",
            "zerolinecolor": "white"
           }
          },
          "shapedefaults": {
           "line": {
            "color": "#2a3f5f"
           }
          },
          "ternary": {
           "aaxis": {
            "gridcolor": "white",
            "linecolor": "white",
            "ticks": ""
           },
           "baxis": {
            "gridcolor": "white",
            "linecolor": "white",
            "ticks": ""
           },
           "bgcolor": "#E5ECF6",
           "caxis": {
            "gridcolor": "white",
            "linecolor": "white",
            "ticks": ""
           }
          },
          "title": {
           "x": 0.05
          },
          "xaxis": {
           "automargin": true,
           "gridcolor": "white",
           "linecolor": "white",
           "ticks": "",
           "title": {
            "standoff": 15
           },
           "zerolinecolor": "white",
           "zerolinewidth": 2
          },
          "yaxis": {
           "automargin": true,
           "gridcolor": "white",
           "linecolor": "white",
           "ticks": "",
           "title": {
            "standoff": 15
           },
           "zerolinecolor": "white",
           "zerolinewidth": 2
          }
         }
        },
        "title": {
         "text": "NZD_JPY_MA_32_128"
        },
        "width": 1000,
        "xaxis": {
         "linecolor": "#3a4a54",
         "linewidth": 1,
         "showgrid": false,
         "zeroline": false
        },
        "yaxis": {
         "linecolor": "#3a4a54",
         "linewidth": 1,
         "showgrid": false,
         "zeroline": false
        }
       }
      }
     },
     "metadata": {},
     "output_type": "display_data"
    },
    {
     "data": {
      "application/vnd.plotly.v1+json": {
       "config": {
        "plotlyServerURL": "https://plot.ly"
       },
       "data": [
        {
         "line": {
          "color": "#3d825f",
          "shape": "spline",
          "width": 2
         },
         "mode": "lines",
         "name": "NZD_CAD_MA_32_128",
         "type": "scatter",
         "x": [
          "2021-09-14T17:00:00+00:00",
          "2021-09-20T19:00:00+00:00",
          "2021-09-21T22:00:00+00:00",
          "2021-10-14T14:00:00+00:00",
          "2021-11-02T18:00:00+00:00",
          "2021-11-08T13:00:00+00:00",
          "2021-11-10T12:00:00+00:00",
          "2021-11-18T09:00:00+00:00",
          "2021-11-23T12:00:00+00:00",
          "2021-12-01T03:00:00+00:00",
          "2021-12-03T15:00:00+00:00",
          "2021-12-10T07:00:00+00:00",
          "2021-12-27T17:00:00+00:00",
          "2021-12-30T06:00:00+00:00",
          "2021-12-31T07:00:00+00:00",
          "2022-01-13T17:00:00+00:00",
          "2022-01-17T05:00:00+00:00",
          "2022-02-02T04:00:00+00:00",
          "2022-02-08T07:00:00+00:00",
          "2022-02-09T01:00:00+00:00",
          "2022-02-14T14:00:00+00:00",
          "2022-02-17T03:00:00+00:00",
          "2022-02-25T18:00:00+00:00",
          "2022-03-02T04:00:00+00:00",
          "2022-03-03T11:00:00+00:00",
          "2022-03-03T23:00:00+00:00",
          "2022-03-11T15:00:00+00:00",
          "2022-03-17T22:00:00+00:00",
          "2022-03-25T20:00:00+00:00",
          "2022-03-31T01:00:00+00:00",
          "2022-04-01T06:00:00+00:00",
          "2022-04-04T23:00:00+00:00"
         ],
         "y": [
          -22.699999999999942,
          -60.100000000000705,
          233.4999999999987,
          362.699999999998,
          250.29999999999774,
          142.69999999999783,
          82.69999999999777,
          5.299999999998079,
          78.39999999999846,
          -10.50000000000108,
          0.5999999999994738,
          79.79999999999984,
          52.99999999999969,
          10.099999999999532,
          116.29999999999916,
          54.29999999999822,
          165.099999999998,
          167.299999999998,
          135.79999999999814,
          113.29999999999839,
          53.49999999999854,
          148.6999999999994,
          116.89999999999978,
          64.69999999999976,
          -1.900000000000233,
          56.499999999999325,
          48.099999999998694,
          33.79999999999827,
          -5.800000000001361,
          -69.90000000000052,
          -86.89999999999975,
          -92.2999999999996
         ]
        }
       ],
       "layout": {
        "font": {
         "color": "#e1e1e1",
         "size": 10
        },
        "height": 400,
        "margin": {
         "b": 10,
         "l": 15,
         "r": 15
        },
        "paper_bgcolor": "#1e1e1e",
        "plot_bgcolor": "#1e1e1e",
        "template": {
         "data": {
          "bar": [
           {
            "error_x": {
             "color": "#2a3f5f"
            },
            "error_y": {
             "color": "#2a3f5f"
            },
            "marker": {
             "line": {
              "color": "#E5ECF6",
              "width": 0.5
             },
             "pattern": {
              "fillmode": "overlay",
              "size": 10,
              "solidity": 0.2
             }
            },
            "type": "bar"
           }
          ],
          "barpolar": [
           {
            "marker": {
             "line": {
              "color": "#E5ECF6",
              "width": 0.5
             },
             "pattern": {
              "fillmode": "overlay",
              "size": 10,
              "solidity": 0.2
             }
            },
            "type": "barpolar"
           }
          ],
          "carpet": [
           {
            "aaxis": {
             "endlinecolor": "#2a3f5f",
             "gridcolor": "white",
             "linecolor": "white",
             "minorgridcolor": "white",
             "startlinecolor": "#2a3f5f"
            },
            "baxis": {
             "endlinecolor": "#2a3f5f",
             "gridcolor": "white",
             "linecolor": "white",
             "minorgridcolor": "white",
             "startlinecolor": "#2a3f5f"
            },
            "type": "carpet"
           }
          ],
          "choropleth": [
           {
            "colorbar": {
             "outlinewidth": 0,
             "ticks": ""
            },
            "type": "choropleth"
           }
          ],
          "contour": [
           {
            "colorbar": {
             "outlinewidth": 0,
             "ticks": ""
            },
            "colorscale": [
             [
              0,
              "#0d0887"
             ],
             [
              0.1111111111111111,
              "#46039f"
             ],
             [
              0.2222222222222222,
              "#7201a8"
             ],
             [
              0.3333333333333333,
              "#9c179e"
             ],
             [
              0.4444444444444444,
              "#bd3786"
             ],
             [
              0.5555555555555556,
              "#d8576b"
             ],
             [
              0.6666666666666666,
              "#ed7953"
             ],
             [
              0.7777777777777778,
              "#fb9f3a"
             ],
             [
              0.8888888888888888,
              "#fdca26"
             ],
             [
              1,
              "#f0f921"
             ]
            ],
            "type": "contour"
           }
          ],
          "contourcarpet": [
           {
            "colorbar": {
             "outlinewidth": 0,
             "ticks": ""
            },
            "type": "contourcarpet"
           }
          ],
          "heatmap": [
           {
            "colorbar": {
             "outlinewidth": 0,
             "ticks": ""
            },
            "colorscale": [
             [
              0,
              "#0d0887"
             ],
             [
              0.1111111111111111,
              "#46039f"
             ],
             [
              0.2222222222222222,
              "#7201a8"
             ],
             [
              0.3333333333333333,
              "#9c179e"
             ],
             [
              0.4444444444444444,
              "#bd3786"
             ],
             [
              0.5555555555555556,
              "#d8576b"
             ],
             [
              0.6666666666666666,
              "#ed7953"
             ],
             [
              0.7777777777777778,
              "#fb9f3a"
             ],
             [
              0.8888888888888888,
              "#fdca26"
             ],
             [
              1,
              "#f0f921"
             ]
            ],
            "type": "heatmap"
           }
          ],
          "heatmapgl": [
           {
            "colorbar": {
             "outlinewidth": 0,
             "ticks": ""
            },
            "colorscale": [
             [
              0,
              "#0d0887"
             ],
             [
              0.1111111111111111,
              "#46039f"
             ],
             [
              0.2222222222222222,
              "#7201a8"
             ],
             [
              0.3333333333333333,
              "#9c179e"
             ],
             [
              0.4444444444444444,
              "#bd3786"
             ],
             [
              0.5555555555555556,
              "#d8576b"
             ],
             [
              0.6666666666666666,
              "#ed7953"
             ],
             [
              0.7777777777777778,
              "#fb9f3a"
             ],
             [
              0.8888888888888888,
              "#fdca26"
             ],
             [
              1,
              "#f0f921"
             ]
            ],
            "type": "heatmapgl"
           }
          ],
          "histogram": [
           {
            "marker": {
             "pattern": {
              "fillmode": "overlay",
              "size": 10,
              "solidity": 0.2
             }
            },
            "type": "histogram"
           }
          ],
          "histogram2d": [
           {
            "colorbar": {
             "outlinewidth": 0,
             "ticks": ""
            },
            "colorscale": [
             [
              0,
              "#0d0887"
             ],
             [
              0.1111111111111111,
              "#46039f"
             ],
             [
              0.2222222222222222,
              "#7201a8"
             ],
             [
              0.3333333333333333,
              "#9c179e"
             ],
             [
              0.4444444444444444,
              "#bd3786"
             ],
             [
              0.5555555555555556,
              "#d8576b"
             ],
             [
              0.6666666666666666,
              "#ed7953"
             ],
             [
              0.7777777777777778,
              "#fb9f3a"
             ],
             [
              0.8888888888888888,
              "#fdca26"
             ],
             [
              1,
              "#f0f921"
             ]
            ],
            "type": "histogram2d"
           }
          ],
          "histogram2dcontour": [
           {
            "colorbar": {
             "outlinewidth": 0,
             "ticks": ""
            },
            "colorscale": [
             [
              0,
              "#0d0887"
             ],
             [
              0.1111111111111111,
              "#46039f"
             ],
             [
              0.2222222222222222,
              "#7201a8"
             ],
             [
              0.3333333333333333,
              "#9c179e"
             ],
             [
              0.4444444444444444,
              "#bd3786"
             ],
             [
              0.5555555555555556,
              "#d8576b"
             ],
             [
              0.6666666666666666,
              "#ed7953"
             ],
             [
              0.7777777777777778,
              "#fb9f3a"
             ],
             [
              0.8888888888888888,
              "#fdca26"
             ],
             [
              1,
              "#f0f921"
             ]
            ],
            "type": "histogram2dcontour"
           }
          ],
          "mesh3d": [
           {
            "colorbar": {
             "outlinewidth": 0,
             "ticks": ""
            },
            "type": "mesh3d"
           }
          ],
          "parcoords": [
           {
            "line": {
             "colorbar": {
              "outlinewidth": 0,
              "ticks": ""
             }
            },
            "type": "parcoords"
           }
          ],
          "pie": [
           {
            "automargin": true,
            "type": "pie"
           }
          ],
          "scatter": [
           {
            "marker": {
             "colorbar": {
              "outlinewidth": 0,
              "ticks": ""
             }
            },
            "type": "scatter"
           }
          ],
          "scatter3d": [
           {
            "line": {
             "colorbar": {
              "outlinewidth": 0,
              "ticks": ""
             }
            },
            "marker": {
             "colorbar": {
              "outlinewidth": 0,
              "ticks": ""
             }
            },
            "type": "scatter3d"
           }
          ],
          "scattercarpet": [
           {
            "marker": {
             "colorbar": {
              "outlinewidth": 0,
              "ticks": ""
             }
            },
            "type": "scattercarpet"
           }
          ],
          "scattergeo": [
           {
            "marker": {
             "colorbar": {
              "outlinewidth": 0,
              "ticks": ""
             }
            },
            "type": "scattergeo"
           }
          ],
          "scattergl": [
           {
            "marker": {
             "colorbar": {
              "outlinewidth": 0,
              "ticks": ""
             }
            },
            "type": "scattergl"
           }
          ],
          "scattermapbox": [
           {
            "marker": {
             "colorbar": {
              "outlinewidth": 0,
              "ticks": ""
             }
            },
            "type": "scattermapbox"
           }
          ],
          "scatterpolar": [
           {
            "marker": {
             "colorbar": {
              "outlinewidth": 0,
              "ticks": ""
             }
            },
            "type": "scatterpolar"
           }
          ],
          "scatterpolargl": [
           {
            "marker": {
             "colorbar": {
              "outlinewidth": 0,
              "ticks": ""
             }
            },
            "type": "scatterpolargl"
           }
          ],
          "scatterternary": [
           {
            "marker": {
             "colorbar": {
              "outlinewidth": 0,
              "ticks": ""
             }
            },
            "type": "scatterternary"
           }
          ],
          "surface": [
           {
            "colorbar": {
             "outlinewidth": 0,
             "ticks": ""
            },
            "colorscale": [
             [
              0,
              "#0d0887"
             ],
             [
              0.1111111111111111,
              "#46039f"
             ],
             [
              0.2222222222222222,
              "#7201a8"
             ],
             [
              0.3333333333333333,
              "#9c179e"
             ],
             [
              0.4444444444444444,
              "#bd3786"
             ],
             [
              0.5555555555555556,
              "#d8576b"
             ],
             [
              0.6666666666666666,
              "#ed7953"
             ],
             [
              0.7777777777777778,
              "#fb9f3a"
             ],
             [
              0.8888888888888888,
              "#fdca26"
             ],
             [
              1,
              "#f0f921"
             ]
            ],
            "type": "surface"
           }
          ],
          "table": [
           {
            "cells": {
             "fill": {
              "color": "#EBF0F8"
             },
             "line": {
              "color": "white"
             }
            },
            "header": {
             "fill": {
              "color": "#C8D4E3"
             },
             "line": {
              "color": "white"
             }
            },
            "type": "table"
           }
          ]
         },
         "layout": {
          "annotationdefaults": {
           "arrowcolor": "#2a3f5f",
           "arrowhead": 0,
           "arrowwidth": 1
          },
          "autotypenumbers": "strict",
          "coloraxis": {
           "colorbar": {
            "outlinewidth": 0,
            "ticks": ""
           }
          },
          "colorscale": {
           "diverging": [
            [
             0,
             "#8e0152"
            ],
            [
             0.1,
             "#c51b7d"
            ],
            [
             0.2,
             "#de77ae"
            ],
            [
             0.3,
             "#f1b6da"
            ],
            [
             0.4,
             "#fde0ef"
            ],
            [
             0.5,
             "#f7f7f7"
            ],
            [
             0.6,
             "#e6f5d0"
            ],
            [
             0.7,
             "#b8e186"
            ],
            [
             0.8,
             "#7fbc41"
            ],
            [
             0.9,
             "#4d9221"
            ],
            [
             1,
             "#276419"
            ]
           ],
           "sequential": [
            [
             0,
             "#0d0887"
            ],
            [
             0.1111111111111111,
             "#46039f"
            ],
            [
             0.2222222222222222,
             "#7201a8"
            ],
            [
             0.3333333333333333,
             "#9c179e"
            ],
            [
             0.4444444444444444,
             "#bd3786"
            ],
            [
             0.5555555555555556,
             "#d8576b"
            ],
            [
             0.6666666666666666,
             "#ed7953"
            ],
            [
             0.7777777777777778,
             "#fb9f3a"
            ],
            [
             0.8888888888888888,
             "#fdca26"
            ],
            [
             1,
             "#f0f921"
            ]
           ],
           "sequentialminus": [
            [
             0,
             "#0d0887"
            ],
            [
             0.1111111111111111,
             "#46039f"
            ],
            [
             0.2222222222222222,
             "#7201a8"
            ],
            [
             0.3333333333333333,
             "#9c179e"
            ],
            [
             0.4444444444444444,
             "#bd3786"
            ],
            [
             0.5555555555555556,
             "#d8576b"
            ],
            [
             0.6666666666666666,
             "#ed7953"
            ],
            [
             0.7777777777777778,
             "#fb9f3a"
            ],
            [
             0.8888888888888888,
             "#fdca26"
            ],
            [
             1,
             "#f0f921"
            ]
           ]
          },
          "colorway": [
           "#636efa",
           "#EF553B",
           "#00cc96",
           "#ab63fa",
           "#FFA15A",
           "#19d3f3",
           "#FF6692",
           "#B6E880",
           "#FF97FF",
           "#FECB52"
          ],
          "font": {
           "color": "#2a3f5f"
          },
          "geo": {
           "bgcolor": "white",
           "lakecolor": "white",
           "landcolor": "#E5ECF6",
           "showlakes": true,
           "showland": true,
           "subunitcolor": "white"
          },
          "hoverlabel": {
           "align": "left"
          },
          "hovermode": "closest",
          "mapbox": {
           "style": "light"
          },
          "paper_bgcolor": "white",
          "plot_bgcolor": "#E5ECF6",
          "polar": {
           "angularaxis": {
            "gridcolor": "white",
            "linecolor": "white",
            "ticks": ""
           },
           "bgcolor": "#E5ECF6",
           "radialaxis": {
            "gridcolor": "white",
            "linecolor": "white",
            "ticks": ""
           }
          },
          "scene": {
           "xaxis": {
            "backgroundcolor": "#E5ECF6",
            "gridcolor": "white",
            "gridwidth": 2,
            "linecolor": "white",
            "showbackground": true,
            "ticks": "",
            "zerolinecolor": "white"
           },
           "yaxis": {
            "backgroundcolor": "#E5ECF6",
            "gridcolor": "white",
            "gridwidth": 2,
            "linecolor": "white",
            "showbackground": true,
            "ticks": "",
            "zerolinecolor": "white"
           },
           "zaxis": {
            "backgroundcolor": "#E5ECF6",
            "gridcolor": "white",
            "gridwidth": 2,
            "linecolor": "white",
            "showbackground": true,
            "ticks": "",
            "zerolinecolor": "white"
           }
          },
          "shapedefaults": {
           "line": {
            "color": "#2a3f5f"
           }
          },
          "ternary": {
           "aaxis": {
            "gridcolor": "white",
            "linecolor": "white",
            "ticks": ""
           },
           "baxis": {
            "gridcolor": "white",
            "linecolor": "white",
            "ticks": ""
           },
           "bgcolor": "#E5ECF6",
           "caxis": {
            "gridcolor": "white",
            "linecolor": "white",
            "ticks": ""
           }
          },
          "title": {
           "x": 0.05
          },
          "xaxis": {
           "automargin": true,
           "gridcolor": "white",
           "linecolor": "white",
           "ticks": "",
           "title": {
            "standoff": 15
           },
           "zerolinecolor": "white",
           "zerolinewidth": 2
          },
          "yaxis": {
           "automargin": true,
           "gridcolor": "white",
           "linecolor": "white",
           "ticks": "",
           "title": {
            "standoff": 15
           },
           "zerolinecolor": "white",
           "zerolinewidth": 2
          }
         }
        },
        "title": {
         "text": "NZD_CAD_MA_32_128"
        },
        "width": 1000,
        "xaxis": {
         "linecolor": "#3a4a54",
         "linewidth": 1,
         "showgrid": false,
         "zeroline": false
        },
        "yaxis": {
         "linecolor": "#3a4a54",
         "linewidth": 1,
         "showgrid": false,
         "zeroline": false
        }
       }
      }
     },
     "metadata": {},
     "output_type": "display_data"
    },
    {
     "data": {
      "application/vnd.plotly.v1+json": {
       "config": {
        "plotlyServerURL": "https://plot.ly"
       },
       "data": [
        {
         "line": {
          "color": "#3d825f",
          "shape": "spline",
          "width": 2
         },
         "mode": "lines",
         "name": "GBP_CAD_MA_32_128",
         "type": "scatter",
         "x": [
          "2021-09-07T21:00:00+00:00",
          "2021-09-16T00:00:00+00:00",
          "2021-09-20T11:00:00+00:00",
          "2021-09-21T10:00:00+00:00",
          "2021-10-05T15:00:00+00:00",
          "2021-10-07T04:00:00+00:00",
          "2021-10-18T02:00:00+00:00",
          "2021-10-25T04:00:00+00:00",
          "2021-10-26T05:00:00+00:00",
          "2021-10-27T22:00:00+00:00",
          "2021-11-09T16:00:00+00:00",
          "2021-11-10T13:00:00+00:00",
          "2021-11-12T12:00:00+00:00",
          "2021-11-15T18:00:00+00:00",
          "2021-11-16T20:00:00+00:00",
          "2021-11-24T10:00:00+00:00",
          "2021-11-29T01:00:00+00:00",
          "2021-12-06T05:00:00+00:00",
          "2021-12-13T03:00:00+00:00",
          "2021-12-31T15:00:00+00:00",
          "2022-01-05T11:00:00+00:00",
          "2022-01-10T05:00:00+00:00",
          "2022-01-24T19:00:00+00:00",
          "2022-02-08T05:00:00+00:00",
          "2022-02-11T06:00:00+00:00",
          "2022-02-16T13:00:00+00:00",
          "2022-02-16T20:00:00+00:00",
          "2022-02-16T23:00:00+00:00",
          "2022-02-17T09:00:00+00:00",
          "2022-02-23T18:00:00+00:00",
          "2022-03-09T14:00:00+00:00",
          "2022-03-10T20:00:00+00:00",
          "2022-03-23T02:00:00+00:00",
          "2022-03-24T09:00:00+00:00",
          "2022-04-01T08:00:00+00:00",
          "2022-04-04T12:00:00+00:00",
          "2022-04-07T12:00:00+00:00"
         ],
         "y": [
          42.599999999999305,
          -40.10000000000068,
          -141,
          186.69999999999965,
          148.8999999999985,
          237.099999999999,
          247.59999999999894,
          227.79999999999802,
          170.59999999999854,
          273.5999999999983,
          166.3999999999977,
          74.69999999999871,
          18.799999999998875,
          -38.300000000002164,
          48.19999999999829,
          10.200000000000259,
          -10.399999999999249,
          109.3000000000011,
          366.6000000000014,
          246.0000000000018,
          195.20000000000206,
          318.70000000000067,
          426.8000000000005,
          353.20000000000016,
          301.19999999999925,
          241.1999999999992,
          242.70000000000013,
          197.50000000000156,
          151.00000000000114,
          506.5999999999993,
          332.59999999999843,
          339.799999999999,
          205.99999999999952,
          366.99999999999955,
          330.5000000000002,
          275.5000000000018,
          260.0000000000024
         ]
        }
       ],
       "layout": {
        "font": {
         "color": "#e1e1e1",
         "size": 10
        },
        "height": 400,
        "margin": {
         "b": 10,
         "l": 15,
         "r": 15
        },
        "paper_bgcolor": "#1e1e1e",
        "plot_bgcolor": "#1e1e1e",
        "template": {
         "data": {
          "bar": [
           {
            "error_x": {
             "color": "#2a3f5f"
            },
            "error_y": {
             "color": "#2a3f5f"
            },
            "marker": {
             "line": {
              "color": "#E5ECF6",
              "width": 0.5
             },
             "pattern": {
              "fillmode": "overlay",
              "size": 10,
              "solidity": 0.2
             }
            },
            "type": "bar"
           }
          ],
          "barpolar": [
           {
            "marker": {
             "line": {
              "color": "#E5ECF6",
              "width": 0.5
             },
             "pattern": {
              "fillmode": "overlay",
              "size": 10,
              "solidity": 0.2
             }
            },
            "type": "barpolar"
           }
          ],
          "carpet": [
           {
            "aaxis": {
             "endlinecolor": "#2a3f5f",
             "gridcolor": "white",
             "linecolor": "white",
             "minorgridcolor": "white",
             "startlinecolor": "#2a3f5f"
            },
            "baxis": {
             "endlinecolor": "#2a3f5f",
             "gridcolor": "white",
             "linecolor": "white",
             "minorgridcolor": "white",
             "startlinecolor": "#2a3f5f"
            },
            "type": "carpet"
           }
          ],
          "choropleth": [
           {
            "colorbar": {
             "outlinewidth": 0,
             "ticks": ""
            },
            "type": "choropleth"
           }
          ],
          "contour": [
           {
            "colorbar": {
             "outlinewidth": 0,
             "ticks": ""
            },
            "colorscale": [
             [
              0,
              "#0d0887"
             ],
             [
              0.1111111111111111,
              "#46039f"
             ],
             [
              0.2222222222222222,
              "#7201a8"
             ],
             [
              0.3333333333333333,
              "#9c179e"
             ],
             [
              0.4444444444444444,
              "#bd3786"
             ],
             [
              0.5555555555555556,
              "#d8576b"
             ],
             [
              0.6666666666666666,
              "#ed7953"
             ],
             [
              0.7777777777777778,
              "#fb9f3a"
             ],
             [
              0.8888888888888888,
              "#fdca26"
             ],
             [
              1,
              "#f0f921"
             ]
            ],
            "type": "contour"
           }
          ],
          "contourcarpet": [
           {
            "colorbar": {
             "outlinewidth": 0,
             "ticks": ""
            },
            "type": "contourcarpet"
           }
          ],
          "heatmap": [
           {
            "colorbar": {
             "outlinewidth": 0,
             "ticks": ""
            },
            "colorscale": [
             [
              0,
              "#0d0887"
             ],
             [
              0.1111111111111111,
              "#46039f"
             ],
             [
              0.2222222222222222,
              "#7201a8"
             ],
             [
              0.3333333333333333,
              "#9c179e"
             ],
             [
              0.4444444444444444,
              "#bd3786"
             ],
             [
              0.5555555555555556,
              "#d8576b"
             ],
             [
              0.6666666666666666,
              "#ed7953"
             ],
             [
              0.7777777777777778,
              "#fb9f3a"
             ],
             [
              0.8888888888888888,
              "#fdca26"
             ],
             [
              1,
              "#f0f921"
             ]
            ],
            "type": "heatmap"
           }
          ],
          "heatmapgl": [
           {
            "colorbar": {
             "outlinewidth": 0,
             "ticks": ""
            },
            "colorscale": [
             [
              0,
              "#0d0887"
             ],
             [
              0.1111111111111111,
              "#46039f"
             ],
             [
              0.2222222222222222,
              "#7201a8"
             ],
             [
              0.3333333333333333,
              "#9c179e"
             ],
             [
              0.4444444444444444,
              "#bd3786"
             ],
             [
              0.5555555555555556,
              "#d8576b"
             ],
             [
              0.6666666666666666,
              "#ed7953"
             ],
             [
              0.7777777777777778,
              "#fb9f3a"
             ],
             [
              0.8888888888888888,
              "#fdca26"
             ],
             [
              1,
              "#f0f921"
             ]
            ],
            "type": "heatmapgl"
           }
          ],
          "histogram": [
           {
            "marker": {
             "pattern": {
              "fillmode": "overlay",
              "size": 10,
              "solidity": 0.2
             }
            },
            "type": "histogram"
           }
          ],
          "histogram2d": [
           {
            "colorbar": {
             "outlinewidth": 0,
             "ticks": ""
            },
            "colorscale": [
             [
              0,
              "#0d0887"
             ],
             [
              0.1111111111111111,
              "#46039f"
             ],
             [
              0.2222222222222222,
              "#7201a8"
             ],
             [
              0.3333333333333333,
              "#9c179e"
             ],
             [
              0.4444444444444444,
              "#bd3786"
             ],
             [
              0.5555555555555556,
              "#d8576b"
             ],
             [
              0.6666666666666666,
              "#ed7953"
             ],
             [
              0.7777777777777778,
              "#fb9f3a"
             ],
             [
              0.8888888888888888,
              "#fdca26"
             ],
             [
              1,
              "#f0f921"
             ]
            ],
            "type": "histogram2d"
           }
          ],
          "histogram2dcontour": [
           {
            "colorbar": {
             "outlinewidth": 0,
             "ticks": ""
            },
            "colorscale": [
             [
              0,
              "#0d0887"
             ],
             [
              0.1111111111111111,
              "#46039f"
             ],
             [
              0.2222222222222222,
              "#7201a8"
             ],
             [
              0.3333333333333333,
              "#9c179e"
             ],
             [
              0.4444444444444444,
              "#bd3786"
             ],
             [
              0.5555555555555556,
              "#d8576b"
             ],
             [
              0.6666666666666666,
              "#ed7953"
             ],
             [
              0.7777777777777778,
              "#fb9f3a"
             ],
             [
              0.8888888888888888,
              "#fdca26"
             ],
             [
              1,
              "#f0f921"
             ]
            ],
            "type": "histogram2dcontour"
           }
          ],
          "mesh3d": [
           {
            "colorbar": {
             "outlinewidth": 0,
             "ticks": ""
            },
            "type": "mesh3d"
           }
          ],
          "parcoords": [
           {
            "line": {
             "colorbar": {
              "outlinewidth": 0,
              "ticks": ""
             }
            },
            "type": "parcoords"
           }
          ],
          "pie": [
           {
            "automargin": true,
            "type": "pie"
           }
          ],
          "scatter": [
           {
            "marker": {
             "colorbar": {
              "outlinewidth": 0,
              "ticks": ""
             }
            },
            "type": "scatter"
           }
          ],
          "scatter3d": [
           {
            "line": {
             "colorbar": {
              "outlinewidth": 0,
              "ticks": ""
             }
            },
            "marker": {
             "colorbar": {
              "outlinewidth": 0,
              "ticks": ""
             }
            },
            "type": "scatter3d"
           }
          ],
          "scattercarpet": [
           {
            "marker": {
             "colorbar": {
              "outlinewidth": 0,
              "ticks": ""
             }
            },
            "type": "scattercarpet"
           }
          ],
          "scattergeo": [
           {
            "marker": {
             "colorbar": {
              "outlinewidth": 0,
              "ticks": ""
             }
            },
            "type": "scattergeo"
           }
          ],
          "scattergl": [
           {
            "marker": {
             "colorbar": {
              "outlinewidth": 0,
              "ticks": ""
             }
            },
            "type": "scattergl"
           }
          ],
          "scattermapbox": [
           {
            "marker": {
             "colorbar": {
              "outlinewidth": 0,
              "ticks": ""
             }
            },
            "type": "scattermapbox"
           }
          ],
          "scatterpolar": [
           {
            "marker": {
             "colorbar": {
              "outlinewidth": 0,
              "ticks": ""
             }
            },
            "type": "scatterpolar"
           }
          ],
          "scatterpolargl": [
           {
            "marker": {
             "colorbar": {
              "outlinewidth": 0,
              "ticks": ""
             }
            },
            "type": "scatterpolargl"
           }
          ],
          "scatterternary": [
           {
            "marker": {
             "colorbar": {
              "outlinewidth": 0,
              "ticks": ""
             }
            },
            "type": "scatterternary"
           }
          ],
          "surface": [
           {
            "colorbar": {
             "outlinewidth": 0,
             "ticks": ""
            },
            "colorscale": [
             [
              0,
              "#0d0887"
             ],
             [
              0.1111111111111111,
              "#46039f"
             ],
             [
              0.2222222222222222,
              "#7201a8"
             ],
             [
              0.3333333333333333,
              "#9c179e"
             ],
             [
              0.4444444444444444,
              "#bd3786"
             ],
             [
              0.5555555555555556,
              "#d8576b"
             ],
             [
              0.6666666666666666,
              "#ed7953"
             ],
             [
              0.7777777777777778,
              "#fb9f3a"
             ],
             [
              0.8888888888888888,
              "#fdca26"
             ],
             [
              1,
              "#f0f921"
             ]
            ],
            "type": "surface"
           }
          ],
          "table": [
           {
            "cells": {
             "fill": {
              "color": "#EBF0F8"
             },
             "line": {
              "color": "white"
             }
            },
            "header": {
             "fill": {
              "color": "#C8D4E3"
             },
             "line": {
              "color": "white"
             }
            },
            "type": "table"
           }
          ]
         },
         "layout": {
          "annotationdefaults": {
           "arrowcolor": "#2a3f5f",
           "arrowhead": 0,
           "arrowwidth": 1
          },
          "autotypenumbers": "strict",
          "coloraxis": {
           "colorbar": {
            "outlinewidth": 0,
            "ticks": ""
           }
          },
          "colorscale": {
           "diverging": [
            [
             0,
             "#8e0152"
            ],
            [
             0.1,
             "#c51b7d"
            ],
            [
             0.2,
             "#de77ae"
            ],
            [
             0.3,
             "#f1b6da"
            ],
            [
             0.4,
             "#fde0ef"
            ],
            [
             0.5,
             "#f7f7f7"
            ],
            [
             0.6,
             "#e6f5d0"
            ],
            [
             0.7,
             "#b8e186"
            ],
            [
             0.8,
             "#7fbc41"
            ],
            [
             0.9,
             "#4d9221"
            ],
            [
             1,
             "#276419"
            ]
           ],
           "sequential": [
            [
             0,
             "#0d0887"
            ],
            [
             0.1111111111111111,
             "#46039f"
            ],
            [
             0.2222222222222222,
             "#7201a8"
            ],
            [
             0.3333333333333333,
             "#9c179e"
            ],
            [
             0.4444444444444444,
             "#bd3786"
            ],
            [
             0.5555555555555556,
             "#d8576b"
            ],
            [
             0.6666666666666666,
             "#ed7953"
            ],
            [
             0.7777777777777778,
             "#fb9f3a"
            ],
            [
             0.8888888888888888,
             "#fdca26"
            ],
            [
             1,
             "#f0f921"
            ]
           ],
           "sequentialminus": [
            [
             0,
             "#0d0887"
            ],
            [
             0.1111111111111111,
             "#46039f"
            ],
            [
             0.2222222222222222,
             "#7201a8"
            ],
            [
             0.3333333333333333,
             "#9c179e"
            ],
            [
             0.4444444444444444,
             "#bd3786"
            ],
            [
             0.5555555555555556,
             "#d8576b"
            ],
            [
             0.6666666666666666,
             "#ed7953"
            ],
            [
             0.7777777777777778,
             "#fb9f3a"
            ],
            [
             0.8888888888888888,
             "#fdca26"
            ],
            [
             1,
             "#f0f921"
            ]
           ]
          },
          "colorway": [
           "#636efa",
           "#EF553B",
           "#00cc96",
           "#ab63fa",
           "#FFA15A",
           "#19d3f3",
           "#FF6692",
           "#B6E880",
           "#FF97FF",
           "#FECB52"
          ],
          "font": {
           "color": "#2a3f5f"
          },
          "geo": {
           "bgcolor": "white",
           "lakecolor": "white",
           "landcolor": "#E5ECF6",
           "showlakes": true,
           "showland": true,
           "subunitcolor": "white"
          },
          "hoverlabel": {
           "align": "left"
          },
          "hovermode": "closest",
          "mapbox": {
           "style": "light"
          },
          "paper_bgcolor": "white",
          "plot_bgcolor": "#E5ECF6",
          "polar": {
           "angularaxis": {
            "gridcolor": "white",
            "linecolor": "white",
            "ticks": ""
           },
           "bgcolor": "#E5ECF6",
           "radialaxis": {
            "gridcolor": "white",
            "linecolor": "white",
            "ticks": ""
           }
          },
          "scene": {
           "xaxis": {
            "backgroundcolor": "#E5ECF6",
            "gridcolor": "white",
            "gridwidth": 2,
            "linecolor": "white",
            "showbackground": true,
            "ticks": "",
            "zerolinecolor": "white"
           },
           "yaxis": {
            "backgroundcolor": "#E5ECF6",
            "gridcolor": "white",
            "gridwidth": 2,
            "linecolor": "white",
            "showbackground": true,
            "ticks": "",
            "zerolinecolor": "white"
           },
           "zaxis": {
            "backgroundcolor": "#E5ECF6",
            "gridcolor": "white",
            "gridwidth": 2,
            "linecolor": "white",
            "showbackground": true,
            "ticks": "",
            "zerolinecolor": "white"
           }
          },
          "shapedefaults": {
           "line": {
            "color": "#2a3f5f"
           }
          },
          "ternary": {
           "aaxis": {
            "gridcolor": "white",
            "linecolor": "white",
            "ticks": ""
           },
           "baxis": {
            "gridcolor": "white",
            "linecolor": "white",
            "ticks": ""
           },
           "bgcolor": "#E5ECF6",
           "caxis": {
            "gridcolor": "white",
            "linecolor": "white",
            "ticks": ""
           }
          },
          "title": {
           "x": 0.05
          },
          "xaxis": {
           "automargin": true,
           "gridcolor": "white",
           "linecolor": "white",
           "ticks": "",
           "title": {
            "standoff": 15
           },
           "zerolinecolor": "white",
           "zerolinewidth": 2
          },
          "yaxis": {
           "automargin": true,
           "gridcolor": "white",
           "linecolor": "white",
           "ticks": "",
           "title": {
            "standoff": 15
           },
           "zerolinecolor": "white",
           "zerolinewidth": 2
          }
         }
        },
        "title": {
         "text": "GBP_CAD_MA_32_128"
        },
        "width": 1000,
        "xaxis": {
         "linecolor": "#3a4a54",
         "linewidth": 1,
         "showgrid": false,
         "zeroline": false
        },
        "yaxis": {
         "linecolor": "#3a4a54",
         "linewidth": 1,
         "showgrid": false,
         "zeroline": false
        }
       }
      }
     },
     "metadata": {},
     "output_type": "display_data"
    },
    {
     "data": {
      "application/vnd.plotly.v1+json": {
       "config": {
        "plotlyServerURL": "https://plot.ly"
       },
       "data": [
        {
         "line": {
          "color": "#3d825f",
          "shape": "spline",
          "width": 2
         },
         "mode": "lines",
         "name": "EUR_CHF_MA_32_128",
         "type": "scatter",
         "x": [
          "2021-09-10T01:00:00+00:00",
          "2021-09-14T02:00:00+00:00",
          "2021-09-15T12:00:00+00:00",
          "2021-09-16T11:00:00+00:00",
          "2021-09-21T10:00:00+00:00",
          "2021-09-28T10:00:00+00:00",
          "2021-09-28T14:00:00+00:00",
          "2021-09-28T17:00:00+00:00",
          "2021-09-30T06:00:00+00:00",
          "2021-10-13T08:00:00+00:00",
          "2021-10-13T23:00:00+00:00",
          "2021-10-18T17:00:00+00:00",
          "2021-10-18T18:00:00+00:00",
          "2021-10-18T23:00:00+00:00",
          "2021-10-21T12:00:00+00:00",
          "2021-11-08T20:00:00+00:00",
          "2021-11-10T18:00:00+00:00",
          "2021-12-07T02:00:00+00:00",
          "2021-12-13T03:00:00+00:00",
          "2021-12-16T04:00:00+00:00",
          "2021-12-17T18:00:00+00:00",
          "2021-12-22T10:00:00+00:00",
          "2021-12-24T07:00:00+00:00",
          "2022-01-03T21:00:00+00:00",
          "2022-01-04T21:00:00+00:00",
          "2022-01-06T05:00:00+00:00",
          "2022-01-13T19:00:00+00:00",
          "2022-01-26T05:00:00+00:00",
          "2022-02-02T09:00:00+00:00",
          "2022-02-03T05:00:00+00:00",
          "2022-02-11T20:00:00+00:00",
          "2022-03-09T11:00:00+00:00",
          "2022-03-21T09:00:00+00:00",
          "2022-03-29T06:00:00+00:00",
          "2022-04-01T01:00:00+00:00",
          "2022-04-11T10:00:00+00:00",
          "2022-04-12T03:00:00+00:00"
         ],
         "y": [
          -54.99999999999838,
          -95.29999999999816,
          -128.39999999999742,
          -162.49999999999653,
          -154.39999999999677,
          -155.99999999999613,
          -173.79999999999507,
          -193.7999999999951,
          -85.69999999999524,
          -98.99999999999578,
          -99.49999999999683,
          -98.59999999999759,
          -105.79999999999814,
          -144.99999999999739,
          -45.5999999999968,
          -83.19999999999665,
          32.20000000000441,
          12.4000000000057,
          -15.699999999994091,
          -55.29999999999372,
          -81.49999999999217,
          -118.19999999999057,
          -106.59999999999008,
          -146.9999999999905,
          -186.39999999999105,
          -129.59999999999198,
          -64.79999999999157,
          -47.49999999999147,
          -50.09999999999296,
          47.20000000000719,
          355.2000000000088,
          462.80000000000985,
          476.60000000000923,
          436.4000000000079,
          477.70000000000755,
          411.4000000000084,
          344.20000000001005
         ]
        }
       ],
       "layout": {
        "font": {
         "color": "#e1e1e1",
         "size": 10
        },
        "height": 400,
        "margin": {
         "b": 10,
         "l": 15,
         "r": 15
        },
        "paper_bgcolor": "#1e1e1e",
        "plot_bgcolor": "#1e1e1e",
        "template": {
         "data": {
          "bar": [
           {
            "error_x": {
             "color": "#2a3f5f"
            },
            "error_y": {
             "color": "#2a3f5f"
            },
            "marker": {
             "line": {
              "color": "#E5ECF6",
              "width": 0.5
             },
             "pattern": {
              "fillmode": "overlay",
              "size": 10,
              "solidity": 0.2
             }
            },
            "type": "bar"
           }
          ],
          "barpolar": [
           {
            "marker": {
             "line": {
              "color": "#E5ECF6",
              "width": 0.5
             },
             "pattern": {
              "fillmode": "overlay",
              "size": 10,
              "solidity": 0.2
             }
            },
            "type": "barpolar"
           }
          ],
          "carpet": [
           {
            "aaxis": {
             "endlinecolor": "#2a3f5f",
             "gridcolor": "white",
             "linecolor": "white",
             "minorgridcolor": "white",
             "startlinecolor": "#2a3f5f"
            },
            "baxis": {
             "endlinecolor": "#2a3f5f",
             "gridcolor": "white",
             "linecolor": "white",
             "minorgridcolor": "white",
             "startlinecolor": "#2a3f5f"
            },
            "type": "carpet"
           }
          ],
          "choropleth": [
           {
            "colorbar": {
             "outlinewidth": 0,
             "ticks": ""
            },
            "type": "choropleth"
           }
          ],
          "contour": [
           {
            "colorbar": {
             "outlinewidth": 0,
             "ticks": ""
            },
            "colorscale": [
             [
              0,
              "#0d0887"
             ],
             [
              0.1111111111111111,
              "#46039f"
             ],
             [
              0.2222222222222222,
              "#7201a8"
             ],
             [
              0.3333333333333333,
              "#9c179e"
             ],
             [
              0.4444444444444444,
              "#bd3786"
             ],
             [
              0.5555555555555556,
              "#d8576b"
             ],
             [
              0.6666666666666666,
              "#ed7953"
             ],
             [
              0.7777777777777778,
              "#fb9f3a"
             ],
             [
              0.8888888888888888,
              "#fdca26"
             ],
             [
              1,
              "#f0f921"
             ]
            ],
            "type": "contour"
           }
          ],
          "contourcarpet": [
           {
            "colorbar": {
             "outlinewidth": 0,
             "ticks": ""
            },
            "type": "contourcarpet"
           }
          ],
          "heatmap": [
           {
            "colorbar": {
             "outlinewidth": 0,
             "ticks": ""
            },
            "colorscale": [
             [
              0,
              "#0d0887"
             ],
             [
              0.1111111111111111,
              "#46039f"
             ],
             [
              0.2222222222222222,
              "#7201a8"
             ],
             [
              0.3333333333333333,
              "#9c179e"
             ],
             [
              0.4444444444444444,
              "#bd3786"
             ],
             [
              0.5555555555555556,
              "#d8576b"
             ],
             [
              0.6666666666666666,
              "#ed7953"
             ],
             [
              0.7777777777777778,
              "#fb9f3a"
             ],
             [
              0.8888888888888888,
              "#fdca26"
             ],
             [
              1,
              "#f0f921"
             ]
            ],
            "type": "heatmap"
           }
          ],
          "heatmapgl": [
           {
            "colorbar": {
             "outlinewidth": 0,
             "ticks": ""
            },
            "colorscale": [
             [
              0,
              "#0d0887"
             ],
             [
              0.1111111111111111,
              "#46039f"
             ],
             [
              0.2222222222222222,
              "#7201a8"
             ],
             [
              0.3333333333333333,
              "#9c179e"
             ],
             [
              0.4444444444444444,
              "#bd3786"
             ],
             [
              0.5555555555555556,
              "#d8576b"
             ],
             [
              0.6666666666666666,
              "#ed7953"
             ],
             [
              0.7777777777777778,
              "#fb9f3a"
             ],
             [
              0.8888888888888888,
              "#fdca26"
             ],
             [
              1,
              "#f0f921"
             ]
            ],
            "type": "heatmapgl"
           }
          ],
          "histogram": [
           {
            "marker": {
             "pattern": {
              "fillmode": "overlay",
              "size": 10,
              "solidity": 0.2
             }
            },
            "type": "histogram"
           }
          ],
          "histogram2d": [
           {
            "colorbar": {
             "outlinewidth": 0,
             "ticks": ""
            },
            "colorscale": [
             [
              0,
              "#0d0887"
             ],
             [
              0.1111111111111111,
              "#46039f"
             ],
             [
              0.2222222222222222,
              "#7201a8"
             ],
             [
              0.3333333333333333,
              "#9c179e"
             ],
             [
              0.4444444444444444,
              "#bd3786"
             ],
             [
              0.5555555555555556,
              "#d8576b"
             ],
             [
              0.6666666666666666,
              "#ed7953"
             ],
             [
              0.7777777777777778,
              "#fb9f3a"
             ],
             [
              0.8888888888888888,
              "#fdca26"
             ],
             [
              1,
              "#f0f921"
             ]
            ],
            "type": "histogram2d"
           }
          ],
          "histogram2dcontour": [
           {
            "colorbar": {
             "outlinewidth": 0,
             "ticks": ""
            },
            "colorscale": [
             [
              0,
              "#0d0887"
             ],
             [
              0.1111111111111111,
              "#46039f"
             ],
             [
              0.2222222222222222,
              "#7201a8"
             ],
             [
              0.3333333333333333,
              "#9c179e"
             ],
             [
              0.4444444444444444,
              "#bd3786"
             ],
             [
              0.5555555555555556,
              "#d8576b"
             ],
             [
              0.6666666666666666,
              "#ed7953"
             ],
             [
              0.7777777777777778,
              "#fb9f3a"
             ],
             [
              0.8888888888888888,
              "#fdca26"
             ],
             [
              1,
              "#f0f921"
             ]
            ],
            "type": "histogram2dcontour"
           }
          ],
          "mesh3d": [
           {
            "colorbar": {
             "outlinewidth": 0,
             "ticks": ""
            },
            "type": "mesh3d"
           }
          ],
          "parcoords": [
           {
            "line": {
             "colorbar": {
              "outlinewidth": 0,
              "ticks": ""
             }
            },
            "type": "parcoords"
           }
          ],
          "pie": [
           {
            "automargin": true,
            "type": "pie"
           }
          ],
          "scatter": [
           {
            "marker": {
             "colorbar": {
              "outlinewidth": 0,
              "ticks": ""
             }
            },
            "type": "scatter"
           }
          ],
          "scatter3d": [
           {
            "line": {
             "colorbar": {
              "outlinewidth": 0,
              "ticks": ""
             }
            },
            "marker": {
             "colorbar": {
              "outlinewidth": 0,
              "ticks": ""
             }
            },
            "type": "scatter3d"
           }
          ],
          "scattercarpet": [
           {
            "marker": {
             "colorbar": {
              "outlinewidth": 0,
              "ticks": ""
             }
            },
            "type": "scattercarpet"
           }
          ],
          "scattergeo": [
           {
            "marker": {
             "colorbar": {
              "outlinewidth": 0,
              "ticks": ""
             }
            },
            "type": "scattergeo"
           }
          ],
          "scattergl": [
           {
            "marker": {
             "colorbar": {
              "outlinewidth": 0,
              "ticks": ""
             }
            },
            "type": "scattergl"
           }
          ],
          "scattermapbox": [
           {
            "marker": {
             "colorbar": {
              "outlinewidth": 0,
              "ticks": ""
             }
            },
            "type": "scattermapbox"
           }
          ],
          "scatterpolar": [
           {
            "marker": {
             "colorbar": {
              "outlinewidth": 0,
              "ticks": ""
             }
            },
            "type": "scatterpolar"
           }
          ],
          "scatterpolargl": [
           {
            "marker": {
             "colorbar": {
              "outlinewidth": 0,
              "ticks": ""
             }
            },
            "type": "scatterpolargl"
           }
          ],
          "scatterternary": [
           {
            "marker": {
             "colorbar": {
              "outlinewidth": 0,
              "ticks": ""
             }
            },
            "type": "scatterternary"
           }
          ],
          "surface": [
           {
            "colorbar": {
             "outlinewidth": 0,
             "ticks": ""
            },
            "colorscale": [
             [
              0,
              "#0d0887"
             ],
             [
              0.1111111111111111,
              "#46039f"
             ],
             [
              0.2222222222222222,
              "#7201a8"
             ],
             [
              0.3333333333333333,
              "#9c179e"
             ],
             [
              0.4444444444444444,
              "#bd3786"
             ],
             [
              0.5555555555555556,
              "#d8576b"
             ],
             [
              0.6666666666666666,
              "#ed7953"
             ],
             [
              0.7777777777777778,
              "#fb9f3a"
             ],
             [
              0.8888888888888888,
              "#fdca26"
             ],
             [
              1,
              "#f0f921"
             ]
            ],
            "type": "surface"
           }
          ],
          "table": [
           {
            "cells": {
             "fill": {
              "color": "#EBF0F8"
             },
             "line": {
              "color": "white"
             }
            },
            "header": {
             "fill": {
              "color": "#C8D4E3"
             },
             "line": {
              "color": "white"
             }
            },
            "type": "table"
           }
          ]
         },
         "layout": {
          "annotationdefaults": {
           "arrowcolor": "#2a3f5f",
           "arrowhead": 0,
           "arrowwidth": 1
          },
          "autotypenumbers": "strict",
          "coloraxis": {
           "colorbar": {
            "outlinewidth": 0,
            "ticks": ""
           }
          },
          "colorscale": {
           "diverging": [
            [
             0,
             "#8e0152"
            ],
            [
             0.1,
             "#c51b7d"
            ],
            [
             0.2,
             "#de77ae"
            ],
            [
             0.3,
             "#f1b6da"
            ],
            [
             0.4,
             "#fde0ef"
            ],
            [
             0.5,
             "#f7f7f7"
            ],
            [
             0.6,
             "#e6f5d0"
            ],
            [
             0.7,
             "#b8e186"
            ],
            [
             0.8,
             "#7fbc41"
            ],
            [
             0.9,
             "#4d9221"
            ],
            [
             1,
             "#276419"
            ]
           ],
           "sequential": [
            [
             0,
             "#0d0887"
            ],
            [
             0.1111111111111111,
             "#46039f"
            ],
            [
             0.2222222222222222,
             "#7201a8"
            ],
            [
             0.3333333333333333,
             "#9c179e"
            ],
            [
             0.4444444444444444,
             "#bd3786"
            ],
            [
             0.5555555555555556,
             "#d8576b"
            ],
            [
             0.6666666666666666,
             "#ed7953"
            ],
            [
             0.7777777777777778,
             "#fb9f3a"
            ],
            [
             0.8888888888888888,
             "#fdca26"
            ],
            [
             1,
             "#f0f921"
            ]
           ],
           "sequentialminus": [
            [
             0,
             "#0d0887"
            ],
            [
             0.1111111111111111,
             "#46039f"
            ],
            [
             0.2222222222222222,
             "#7201a8"
            ],
            [
             0.3333333333333333,
             "#9c179e"
            ],
            [
             0.4444444444444444,
             "#bd3786"
            ],
            [
             0.5555555555555556,
             "#d8576b"
            ],
            [
             0.6666666666666666,
             "#ed7953"
            ],
            [
             0.7777777777777778,
             "#fb9f3a"
            ],
            [
             0.8888888888888888,
             "#fdca26"
            ],
            [
             1,
             "#f0f921"
            ]
           ]
          },
          "colorway": [
           "#636efa",
           "#EF553B",
           "#00cc96",
           "#ab63fa",
           "#FFA15A",
           "#19d3f3",
           "#FF6692",
           "#B6E880",
           "#FF97FF",
           "#FECB52"
          ],
          "font": {
           "color": "#2a3f5f"
          },
          "geo": {
           "bgcolor": "white",
           "lakecolor": "white",
           "landcolor": "#E5ECF6",
           "showlakes": true,
           "showland": true,
           "subunitcolor": "white"
          },
          "hoverlabel": {
           "align": "left"
          },
          "hovermode": "closest",
          "mapbox": {
           "style": "light"
          },
          "paper_bgcolor": "white",
          "plot_bgcolor": "#E5ECF6",
          "polar": {
           "angularaxis": {
            "gridcolor": "white",
            "linecolor": "white",
            "ticks": ""
           },
           "bgcolor": "#E5ECF6",
           "radialaxis": {
            "gridcolor": "white",
            "linecolor": "white",
            "ticks": ""
           }
          },
          "scene": {
           "xaxis": {
            "backgroundcolor": "#E5ECF6",
            "gridcolor": "white",
            "gridwidth": 2,
            "linecolor": "white",
            "showbackground": true,
            "ticks": "",
            "zerolinecolor": "white"
           },
           "yaxis": {
            "backgroundcolor": "#E5ECF6",
            "gridcolor": "white",
            "gridwidth": 2,
            "linecolor": "white",
            "showbackground": true,
            "ticks": "",
            "zerolinecolor": "white"
           },
           "zaxis": {
            "backgroundcolor": "#E5ECF6",
            "gridcolor": "white",
            "gridwidth": 2,
            "linecolor": "white",
            "showbackground": true,
            "ticks": "",
            "zerolinecolor": "white"
           }
          },
          "shapedefaults": {
           "line": {
            "color": "#2a3f5f"
           }
          },
          "ternary": {
           "aaxis": {
            "gridcolor": "white",
            "linecolor": "white",
            "ticks": ""
           },
           "baxis": {
            "gridcolor": "white",
            "linecolor": "white",
            "ticks": ""
           },
           "bgcolor": "#E5ECF6",
           "caxis": {
            "gridcolor": "white",
            "linecolor": "white",
            "ticks": ""
           }
          },
          "title": {
           "x": 0.05
          },
          "xaxis": {
           "automargin": true,
           "gridcolor": "white",
           "linecolor": "white",
           "ticks": "",
           "title": {
            "standoff": 15
           },
           "zerolinecolor": "white",
           "zerolinewidth": 2
          },
          "yaxis": {
           "automargin": true,
           "gridcolor": "white",
           "linecolor": "white",
           "ticks": "",
           "title": {
            "standoff": 15
           },
           "zerolinecolor": "white",
           "zerolinewidth": 2
          }
         }
        },
        "title": {
         "text": "EUR_CHF_MA_32_128"
        },
        "width": 1000,
        "xaxis": {
         "linecolor": "#3a4a54",
         "linewidth": 1,
         "showgrid": false,
         "zeroline": false
        },
        "yaxis": {
         "linecolor": "#3a4a54",
         "linewidth": 1,
         "showgrid": false,
         "zeroline": false
        }
       }
      }
     },
     "metadata": {},
     "output_type": "display_data"
    },
    {
     "data": {
      "application/vnd.plotly.v1+json": {
       "config": {
        "plotlyServerURL": "https://plot.ly"
       },
       "data": [
        {
         "line": {
          "color": "#3d825f",
          "shape": "spline",
          "width": 2
         },
         "mode": "lines",
         "name": "GBP_CHF_MA_32_128",
         "type": "scatter",
         "x": [
          "2021-09-15T17:00:00+00:00",
          "2021-09-16T10:00:00+00:00",
          "2021-09-20T21:00:00+00:00",
          "2021-09-27T04:00:00+00:00",
          "2021-09-28T23:00:00+00:00",
          "2021-10-04T15:00:00+00:00",
          "2021-10-12T09:00:00+00:00",
          "2021-10-13T02:00:00+00:00",
          "2021-10-14T08:00:00+00:00",
          "2021-10-15T11:00:00+00:00",
          "2021-10-21T20:00:00+00:00",
          "2021-10-27T03:00:00+00:00",
          "2021-10-27T09:00:00+00:00",
          "2021-11-15T11:00:00+00:00",
          "2021-11-22T18:00:00+00:00",
          "2021-11-22T20:00:00+00:00",
          "2021-11-23T03:00:00+00:00",
          "2021-12-07T06:00:00+00:00",
          "2021-12-08T20:00:00+00:00",
          "2021-12-15T07:00:00+00:00",
          "2021-12-20T08:00:00+00:00",
          "2021-12-22T10:00:00+00:00",
          "2022-01-13T19:00:00+00:00",
          "2022-01-26T17:00:00+00:00",
          "2022-02-02T01:00:00+00:00",
          "2022-02-03T08:00:00+00:00",
          "2022-02-14T23:00:00+00:00",
          "2022-02-18T09:00:00+00:00",
          "2022-02-21T13:00:00+00:00",
          "2022-03-10T07:00:00+00:00",
          "2022-03-21T11:00:00+00:00",
          "2022-03-22T19:00:00+00:00",
          "2022-03-24T12:00:00+00:00",
          "2022-04-05T18:00:00+00:00",
          "2022-04-11T13:00:00+00:00"
         ],
         "y": [
          -53.70000000000097,
          -157.3000000000002,
          -138.39999999999853,
          -213.99999999999864,
          -209.69999999999933,
          -176.89999999999984,
          -215.49999999999957,
          -245.2999999999994,
          -336.09999999999917,
          -380.29999999999785,
          -373.4999999999977,
          -417.6999999999986,
          -166.19999999999857,
          -45.599999999996754,
          -54.69999999999642,
          -53.699999999996535,
          157.30000000000462,
          40.30000000000419,
          -47.89999999999631,
          -114.0999999999948,
          -221.6999999999936,
          -25.299999999992593,
          14.700000000007442,
          19.5000000000078,
          -16.899999999990854,
          0.30000000000858407,
          -29.499999999991243,
          -95.09999999999023,
          145.7000000000108,
          141.90000000001254,
          1.1000000000138357,
          -88.29999999998564,
          37.7000000000138,
          49.70000000001248,
          -35.09999999998794
         ]
        }
       ],
       "layout": {
        "font": {
         "color": "#e1e1e1",
         "size": 10
        },
        "height": 400,
        "margin": {
         "b": 10,
         "l": 15,
         "r": 15
        },
        "paper_bgcolor": "#1e1e1e",
        "plot_bgcolor": "#1e1e1e",
        "template": {
         "data": {
          "bar": [
           {
            "error_x": {
             "color": "#2a3f5f"
            },
            "error_y": {
             "color": "#2a3f5f"
            },
            "marker": {
             "line": {
              "color": "#E5ECF6",
              "width": 0.5
             },
             "pattern": {
              "fillmode": "overlay",
              "size": 10,
              "solidity": 0.2
             }
            },
            "type": "bar"
           }
          ],
          "barpolar": [
           {
            "marker": {
             "line": {
              "color": "#E5ECF6",
              "width": 0.5
             },
             "pattern": {
              "fillmode": "overlay",
              "size": 10,
              "solidity": 0.2
             }
            },
            "type": "barpolar"
           }
          ],
          "carpet": [
           {
            "aaxis": {
             "endlinecolor": "#2a3f5f",
             "gridcolor": "white",
             "linecolor": "white",
             "minorgridcolor": "white",
             "startlinecolor": "#2a3f5f"
            },
            "baxis": {
             "endlinecolor": "#2a3f5f",
             "gridcolor": "white",
             "linecolor": "white",
             "minorgridcolor": "white",
             "startlinecolor": "#2a3f5f"
            },
            "type": "carpet"
           }
          ],
          "choropleth": [
           {
            "colorbar": {
             "outlinewidth": 0,
             "ticks": ""
            },
            "type": "choropleth"
           }
          ],
          "contour": [
           {
            "colorbar": {
             "outlinewidth": 0,
             "ticks": ""
            },
            "colorscale": [
             [
              0,
              "#0d0887"
             ],
             [
              0.1111111111111111,
              "#46039f"
             ],
             [
              0.2222222222222222,
              "#7201a8"
             ],
             [
              0.3333333333333333,
              "#9c179e"
             ],
             [
              0.4444444444444444,
              "#bd3786"
             ],
             [
              0.5555555555555556,
              "#d8576b"
             ],
             [
              0.6666666666666666,
              "#ed7953"
             ],
             [
              0.7777777777777778,
              "#fb9f3a"
             ],
             [
              0.8888888888888888,
              "#fdca26"
             ],
             [
              1,
              "#f0f921"
             ]
            ],
            "type": "contour"
           }
          ],
          "contourcarpet": [
           {
            "colorbar": {
             "outlinewidth": 0,
             "ticks": ""
            },
            "type": "contourcarpet"
           }
          ],
          "heatmap": [
           {
            "colorbar": {
             "outlinewidth": 0,
             "ticks": ""
            },
            "colorscale": [
             [
              0,
              "#0d0887"
             ],
             [
              0.1111111111111111,
              "#46039f"
             ],
             [
              0.2222222222222222,
              "#7201a8"
             ],
             [
              0.3333333333333333,
              "#9c179e"
             ],
             [
              0.4444444444444444,
              "#bd3786"
             ],
             [
              0.5555555555555556,
              "#d8576b"
             ],
             [
              0.6666666666666666,
              "#ed7953"
             ],
             [
              0.7777777777777778,
              "#fb9f3a"
             ],
             [
              0.8888888888888888,
              "#fdca26"
             ],
             [
              1,
              "#f0f921"
             ]
            ],
            "type": "heatmap"
           }
          ],
          "heatmapgl": [
           {
            "colorbar": {
             "outlinewidth": 0,
             "ticks": ""
            },
            "colorscale": [
             [
              0,
              "#0d0887"
             ],
             [
              0.1111111111111111,
              "#46039f"
             ],
             [
              0.2222222222222222,
              "#7201a8"
             ],
             [
              0.3333333333333333,
              "#9c179e"
             ],
             [
              0.4444444444444444,
              "#bd3786"
             ],
             [
              0.5555555555555556,
              "#d8576b"
             ],
             [
              0.6666666666666666,
              "#ed7953"
             ],
             [
              0.7777777777777778,
              "#fb9f3a"
             ],
             [
              0.8888888888888888,
              "#fdca26"
             ],
             [
              1,
              "#f0f921"
             ]
            ],
            "type": "heatmapgl"
           }
          ],
          "histogram": [
           {
            "marker": {
             "pattern": {
              "fillmode": "overlay",
              "size": 10,
              "solidity": 0.2
             }
            },
            "type": "histogram"
           }
          ],
          "histogram2d": [
           {
            "colorbar": {
             "outlinewidth": 0,
             "ticks": ""
            },
            "colorscale": [
             [
              0,
              "#0d0887"
             ],
             [
              0.1111111111111111,
              "#46039f"
             ],
             [
              0.2222222222222222,
              "#7201a8"
             ],
             [
              0.3333333333333333,
              "#9c179e"
             ],
             [
              0.4444444444444444,
              "#bd3786"
             ],
             [
              0.5555555555555556,
              "#d8576b"
             ],
             [
              0.6666666666666666,
              "#ed7953"
             ],
             [
              0.7777777777777778,
              "#fb9f3a"
             ],
             [
              0.8888888888888888,
              "#fdca26"
             ],
             [
              1,
              "#f0f921"
             ]
            ],
            "type": "histogram2d"
           }
          ],
          "histogram2dcontour": [
           {
            "colorbar": {
             "outlinewidth": 0,
             "ticks": ""
            },
            "colorscale": [
             [
              0,
              "#0d0887"
             ],
             [
              0.1111111111111111,
              "#46039f"
             ],
             [
              0.2222222222222222,
              "#7201a8"
             ],
             [
              0.3333333333333333,
              "#9c179e"
             ],
             [
              0.4444444444444444,
              "#bd3786"
             ],
             [
              0.5555555555555556,
              "#d8576b"
             ],
             [
              0.6666666666666666,
              "#ed7953"
             ],
             [
              0.7777777777777778,
              "#fb9f3a"
             ],
             [
              0.8888888888888888,
              "#fdca26"
             ],
             [
              1,
              "#f0f921"
             ]
            ],
            "type": "histogram2dcontour"
           }
          ],
          "mesh3d": [
           {
            "colorbar": {
             "outlinewidth": 0,
             "ticks": ""
            },
            "type": "mesh3d"
           }
          ],
          "parcoords": [
           {
            "line": {
             "colorbar": {
              "outlinewidth": 0,
              "ticks": ""
             }
            },
            "type": "parcoords"
           }
          ],
          "pie": [
           {
            "automargin": true,
            "type": "pie"
           }
          ],
          "scatter": [
           {
            "marker": {
             "colorbar": {
              "outlinewidth": 0,
              "ticks": ""
             }
            },
            "type": "scatter"
           }
          ],
          "scatter3d": [
           {
            "line": {
             "colorbar": {
              "outlinewidth": 0,
              "ticks": ""
             }
            },
            "marker": {
             "colorbar": {
              "outlinewidth": 0,
              "ticks": ""
             }
            },
            "type": "scatter3d"
           }
          ],
          "scattercarpet": [
           {
            "marker": {
             "colorbar": {
              "outlinewidth": 0,
              "ticks": ""
             }
            },
            "type": "scattercarpet"
           }
          ],
          "scattergeo": [
           {
            "marker": {
             "colorbar": {
              "outlinewidth": 0,
              "ticks": ""
             }
            },
            "type": "scattergeo"
           }
          ],
          "scattergl": [
           {
            "marker": {
             "colorbar": {
              "outlinewidth": 0,
              "ticks": ""
             }
            },
            "type": "scattergl"
           }
          ],
          "scattermapbox": [
           {
            "marker": {
             "colorbar": {
              "outlinewidth": 0,
              "ticks": ""
             }
            },
            "type": "scattermapbox"
           }
          ],
          "scatterpolar": [
           {
            "marker": {
             "colorbar": {
              "outlinewidth": 0,
              "ticks": ""
             }
            },
            "type": "scatterpolar"
           }
          ],
          "scatterpolargl": [
           {
            "marker": {
             "colorbar": {
              "outlinewidth": 0,
              "ticks": ""
             }
            },
            "type": "scatterpolargl"
           }
          ],
          "scatterternary": [
           {
            "marker": {
             "colorbar": {
              "outlinewidth": 0,
              "ticks": ""
             }
            },
            "type": "scatterternary"
           }
          ],
          "surface": [
           {
            "colorbar": {
             "outlinewidth": 0,
             "ticks": ""
            },
            "colorscale": [
             [
              0,
              "#0d0887"
             ],
             [
              0.1111111111111111,
              "#46039f"
             ],
             [
              0.2222222222222222,
              "#7201a8"
             ],
             [
              0.3333333333333333,
              "#9c179e"
             ],
             [
              0.4444444444444444,
              "#bd3786"
             ],
             [
              0.5555555555555556,
              "#d8576b"
             ],
             [
              0.6666666666666666,
              "#ed7953"
             ],
             [
              0.7777777777777778,
              "#fb9f3a"
             ],
             [
              0.8888888888888888,
              "#fdca26"
             ],
             [
              1,
              "#f0f921"
             ]
            ],
            "type": "surface"
           }
          ],
          "table": [
           {
            "cells": {
             "fill": {
              "color": "#EBF0F8"
             },
             "line": {
              "color": "white"
             }
            },
            "header": {
             "fill": {
              "color": "#C8D4E3"
             },
             "line": {
              "color": "white"
             }
            },
            "type": "table"
           }
          ]
         },
         "layout": {
          "annotationdefaults": {
           "arrowcolor": "#2a3f5f",
           "arrowhead": 0,
           "arrowwidth": 1
          },
          "autotypenumbers": "strict",
          "coloraxis": {
           "colorbar": {
            "outlinewidth": 0,
            "ticks": ""
           }
          },
          "colorscale": {
           "diverging": [
            [
             0,
             "#8e0152"
            ],
            [
             0.1,
             "#c51b7d"
            ],
            [
             0.2,
             "#de77ae"
            ],
            [
             0.3,
             "#f1b6da"
            ],
            [
             0.4,
             "#fde0ef"
            ],
            [
             0.5,
             "#f7f7f7"
            ],
            [
             0.6,
             "#e6f5d0"
            ],
            [
             0.7,
             "#b8e186"
            ],
            [
             0.8,
             "#7fbc41"
            ],
            [
             0.9,
             "#4d9221"
            ],
            [
             1,
             "#276419"
            ]
           ],
           "sequential": [
            [
             0,
             "#0d0887"
            ],
            [
             0.1111111111111111,
             "#46039f"
            ],
            [
             0.2222222222222222,
             "#7201a8"
            ],
            [
             0.3333333333333333,
             "#9c179e"
            ],
            [
             0.4444444444444444,
             "#bd3786"
            ],
            [
             0.5555555555555556,
             "#d8576b"
            ],
            [
             0.6666666666666666,
             "#ed7953"
            ],
            [
             0.7777777777777778,
             "#fb9f3a"
            ],
            [
             0.8888888888888888,
             "#fdca26"
            ],
            [
             1,
             "#f0f921"
            ]
           ],
           "sequentialminus": [
            [
             0,
             "#0d0887"
            ],
            [
             0.1111111111111111,
             "#46039f"
            ],
            [
             0.2222222222222222,
             "#7201a8"
            ],
            [
             0.3333333333333333,
             "#9c179e"
            ],
            [
             0.4444444444444444,
             "#bd3786"
            ],
            [
             0.5555555555555556,
             "#d8576b"
            ],
            [
             0.6666666666666666,
             "#ed7953"
            ],
            [
             0.7777777777777778,
             "#fb9f3a"
            ],
            [
             0.8888888888888888,
             "#fdca26"
            ],
            [
             1,
             "#f0f921"
            ]
           ]
          },
          "colorway": [
           "#636efa",
           "#EF553B",
           "#00cc96",
           "#ab63fa",
           "#FFA15A",
           "#19d3f3",
           "#FF6692",
           "#B6E880",
           "#FF97FF",
           "#FECB52"
          ],
          "font": {
           "color": "#2a3f5f"
          },
          "geo": {
           "bgcolor": "white",
           "lakecolor": "white",
           "landcolor": "#E5ECF6",
           "showlakes": true,
           "showland": true,
           "subunitcolor": "white"
          },
          "hoverlabel": {
           "align": "left"
          },
          "hovermode": "closest",
          "mapbox": {
           "style": "light"
          },
          "paper_bgcolor": "white",
          "plot_bgcolor": "#E5ECF6",
          "polar": {
           "angularaxis": {
            "gridcolor": "white",
            "linecolor": "white",
            "ticks": ""
           },
           "bgcolor": "#E5ECF6",
           "radialaxis": {
            "gridcolor": "white",
            "linecolor": "white",
            "ticks": ""
           }
          },
          "scene": {
           "xaxis": {
            "backgroundcolor": "#E5ECF6",
            "gridcolor": "white",
            "gridwidth": 2,
            "linecolor": "white",
            "showbackground": true,
            "ticks": "",
            "zerolinecolor": "white"
           },
           "yaxis": {
            "backgroundcolor": "#E5ECF6",
            "gridcolor": "white",
            "gridwidth": 2,
            "linecolor": "white",
            "showbackground": true,
            "ticks": "",
            "zerolinecolor": "white"
           },
           "zaxis": {
            "backgroundcolor": "#E5ECF6",
            "gridcolor": "white",
            "gridwidth": 2,
            "linecolor": "white",
            "showbackground": true,
            "ticks": "",
            "zerolinecolor": "white"
           }
          },
          "shapedefaults": {
           "line": {
            "color": "#2a3f5f"
           }
          },
          "ternary": {
           "aaxis": {
            "gridcolor": "white",
            "linecolor": "white",
            "ticks": ""
           },
           "baxis": {
            "gridcolor": "white",
            "linecolor": "white",
            "ticks": ""
           },
           "bgcolor": "#E5ECF6",
           "caxis": {
            "gridcolor": "white",
            "linecolor": "white",
            "ticks": ""
           }
          },
          "title": {
           "x": 0.05
          },
          "xaxis": {
           "automargin": true,
           "gridcolor": "white",
           "linecolor": "white",
           "ticks": "",
           "title": {
            "standoff": 15
           },
           "zerolinecolor": "white",
           "zerolinewidth": 2
          },
          "yaxis": {
           "automargin": true,
           "gridcolor": "white",
           "linecolor": "white",
           "ticks": "",
           "title": {
            "standoff": 15
           },
           "zerolinecolor": "white",
           "zerolinewidth": 2
          }
         }
        },
        "title": {
         "text": "GBP_CHF_MA_32_128"
        },
        "width": 1000,
        "xaxis": {
         "linecolor": "#3a4a54",
         "linewidth": 1,
         "showgrid": false,
         "zeroline": false
        },
        "yaxis": {
         "linecolor": "#3a4a54",
         "linewidth": 1,
         "showgrid": false,
         "zeroline": false
        }
       }
      }
     },
     "metadata": {},
     "output_type": "display_data"
    },
    {
     "data": {
      "application/vnd.plotly.v1+json": {
       "config": {
        "plotlyServerURL": "https://plot.ly"
       },
       "data": [
        {
         "line": {
          "color": "#3d825f",
          "shape": "spline",
          "width": 2
         },
         "mode": "lines",
         "name": "GBP_NZD_MA_32_128",
         "type": "scatter",
         "x": [
          "2021-09-09T17:00:00+00:00",
          "2021-09-21T04:00:00+00:00",
          "2021-09-27T03:00:00+00:00",
          "2021-10-12T06:00:00+00:00",
          "2021-11-03T15:00:00+00:00",
          "2021-11-04T02:00:00+00:00",
          "2021-11-04T06:00:00+00:00",
          "2021-11-04T12:00:00+00:00",
          "2021-11-10T11:00:00+00:00",
          "2021-12-01T16:00:00+00:00",
          "2021-12-02T23:00:00+00:00",
          "2021-12-08T10:00:00+00:00",
          "2021-12-13T15:00:00+00:00",
          "2021-12-22T11:00:00+00:00",
          "2021-12-24T06:00:00+00:00",
          "2022-01-13T03:00:00+00:00",
          "2022-01-17T05:00:00+00:00",
          "2022-02-04T07:00:00+00:00",
          "2022-02-04T20:00:00+00:00",
          "2022-02-08T02:00:00+00:00",
          "2022-02-14T00:00:00+00:00",
          "2022-02-17T02:00:00+00:00",
          "2022-03-14T22:00:00+00:00",
          "2022-03-17T18:00:00+00:00",
          "2022-04-01T07:00:00+00:00",
          "2022-04-04T18:00:00+00:00"
         ],
         "y": [
          -3.60000000000138,
          -24.200000000000887,
          109.79999999999988,
          587.6999999999998,
          527.5999999999991,
          473.59999999999843,
          336.599999999998,
          276.9999999999983,
          679.3999999999987,
          611.499999999998,
          599.9999999999981,
          510.3999999999995,
          544.8000000000006,
          510.5000000000002,
          832.9999999999991,
          714.3999999999993,
          1004.8000000000011,
          938.2000000000045,
          841.0000000000072,
          796.2000000000068,
          663.4000000000071,
          1682.700000000008,
          1521.2000000000069,
          1670.1000000000054,
          1563.2000000000046,
          1459.3000000000056
         ]
        }
       ],
       "layout": {
        "font": {
         "color": "#e1e1e1",
         "size": 10
        },
        "height": 400,
        "margin": {
         "b": 10,
         "l": 15,
         "r": 15
        },
        "paper_bgcolor": "#1e1e1e",
        "plot_bgcolor": "#1e1e1e",
        "template": {
         "data": {
          "bar": [
           {
            "error_x": {
             "color": "#2a3f5f"
            },
            "error_y": {
             "color": "#2a3f5f"
            },
            "marker": {
             "line": {
              "color": "#E5ECF6",
              "width": 0.5
             },
             "pattern": {
              "fillmode": "overlay",
              "size": 10,
              "solidity": 0.2
             }
            },
            "type": "bar"
           }
          ],
          "barpolar": [
           {
            "marker": {
             "line": {
              "color": "#E5ECF6",
              "width": 0.5
             },
             "pattern": {
              "fillmode": "overlay",
              "size": 10,
              "solidity": 0.2
             }
            },
            "type": "barpolar"
           }
          ],
          "carpet": [
           {
            "aaxis": {
             "endlinecolor": "#2a3f5f",
             "gridcolor": "white",
             "linecolor": "white",
             "minorgridcolor": "white",
             "startlinecolor": "#2a3f5f"
            },
            "baxis": {
             "endlinecolor": "#2a3f5f",
             "gridcolor": "white",
             "linecolor": "white",
             "minorgridcolor": "white",
             "startlinecolor": "#2a3f5f"
            },
            "type": "carpet"
           }
          ],
          "choropleth": [
           {
            "colorbar": {
             "outlinewidth": 0,
             "ticks": ""
            },
            "type": "choropleth"
           }
          ],
          "contour": [
           {
            "colorbar": {
             "outlinewidth": 0,
             "ticks": ""
            },
            "colorscale": [
             [
              0,
              "#0d0887"
             ],
             [
              0.1111111111111111,
              "#46039f"
             ],
             [
              0.2222222222222222,
              "#7201a8"
             ],
             [
              0.3333333333333333,
              "#9c179e"
             ],
             [
              0.4444444444444444,
              "#bd3786"
             ],
             [
              0.5555555555555556,
              "#d8576b"
             ],
             [
              0.6666666666666666,
              "#ed7953"
             ],
             [
              0.7777777777777778,
              "#fb9f3a"
             ],
             [
              0.8888888888888888,
              "#fdca26"
             ],
             [
              1,
              "#f0f921"
             ]
            ],
            "type": "contour"
           }
          ],
          "contourcarpet": [
           {
            "colorbar": {
             "outlinewidth": 0,
             "ticks": ""
            },
            "type": "contourcarpet"
           }
          ],
          "heatmap": [
           {
            "colorbar": {
             "outlinewidth": 0,
             "ticks": ""
            },
            "colorscale": [
             [
              0,
              "#0d0887"
             ],
             [
              0.1111111111111111,
              "#46039f"
             ],
             [
              0.2222222222222222,
              "#7201a8"
             ],
             [
              0.3333333333333333,
              "#9c179e"
             ],
             [
              0.4444444444444444,
              "#bd3786"
             ],
             [
              0.5555555555555556,
              "#d8576b"
             ],
             [
              0.6666666666666666,
              "#ed7953"
             ],
             [
              0.7777777777777778,
              "#fb9f3a"
             ],
             [
              0.8888888888888888,
              "#fdca26"
             ],
             [
              1,
              "#f0f921"
             ]
            ],
            "type": "heatmap"
           }
          ],
          "heatmapgl": [
           {
            "colorbar": {
             "outlinewidth": 0,
             "ticks": ""
            },
            "colorscale": [
             [
              0,
              "#0d0887"
             ],
             [
              0.1111111111111111,
              "#46039f"
             ],
             [
              0.2222222222222222,
              "#7201a8"
             ],
             [
              0.3333333333333333,
              "#9c179e"
             ],
             [
              0.4444444444444444,
              "#bd3786"
             ],
             [
              0.5555555555555556,
              "#d8576b"
             ],
             [
              0.6666666666666666,
              "#ed7953"
             ],
             [
              0.7777777777777778,
              "#fb9f3a"
             ],
             [
              0.8888888888888888,
              "#fdca26"
             ],
             [
              1,
              "#f0f921"
             ]
            ],
            "type": "heatmapgl"
           }
          ],
          "histogram": [
           {
            "marker": {
             "pattern": {
              "fillmode": "overlay",
              "size": 10,
              "solidity": 0.2
             }
            },
            "type": "histogram"
           }
          ],
          "histogram2d": [
           {
            "colorbar": {
             "outlinewidth": 0,
             "ticks": ""
            },
            "colorscale": [
             [
              0,
              "#0d0887"
             ],
             [
              0.1111111111111111,
              "#46039f"
             ],
             [
              0.2222222222222222,
              "#7201a8"
             ],
             [
              0.3333333333333333,
              "#9c179e"
             ],
             [
              0.4444444444444444,
              "#bd3786"
             ],
             [
              0.5555555555555556,
              "#d8576b"
             ],
             [
              0.6666666666666666,
              "#ed7953"
             ],
             [
              0.7777777777777778,
              "#fb9f3a"
             ],
             [
              0.8888888888888888,
              "#fdca26"
             ],
             [
              1,
              "#f0f921"
             ]
            ],
            "type": "histogram2d"
           }
          ],
          "histogram2dcontour": [
           {
            "colorbar": {
             "outlinewidth": 0,
             "ticks": ""
            },
            "colorscale": [
             [
              0,
              "#0d0887"
             ],
             [
              0.1111111111111111,
              "#46039f"
             ],
             [
              0.2222222222222222,
              "#7201a8"
             ],
             [
              0.3333333333333333,
              "#9c179e"
             ],
             [
              0.4444444444444444,
              "#bd3786"
             ],
             [
              0.5555555555555556,
              "#d8576b"
             ],
             [
              0.6666666666666666,
              "#ed7953"
             ],
             [
              0.7777777777777778,
              "#fb9f3a"
             ],
             [
              0.8888888888888888,
              "#fdca26"
             ],
             [
              1,
              "#f0f921"
             ]
            ],
            "type": "histogram2dcontour"
           }
          ],
          "mesh3d": [
           {
            "colorbar": {
             "outlinewidth": 0,
             "ticks": ""
            },
            "type": "mesh3d"
           }
          ],
          "parcoords": [
           {
            "line": {
             "colorbar": {
              "outlinewidth": 0,
              "ticks": ""
             }
            },
            "type": "parcoords"
           }
          ],
          "pie": [
           {
            "automargin": true,
            "type": "pie"
           }
          ],
          "scatter": [
           {
            "marker": {
             "colorbar": {
              "outlinewidth": 0,
              "ticks": ""
             }
            },
            "type": "scatter"
           }
          ],
          "scatter3d": [
           {
            "line": {
             "colorbar": {
              "outlinewidth": 0,
              "ticks": ""
             }
            },
            "marker": {
             "colorbar": {
              "outlinewidth": 0,
              "ticks": ""
             }
            },
            "type": "scatter3d"
           }
          ],
          "scattercarpet": [
           {
            "marker": {
             "colorbar": {
              "outlinewidth": 0,
              "ticks": ""
             }
            },
            "type": "scattercarpet"
           }
          ],
          "scattergeo": [
           {
            "marker": {
             "colorbar": {
              "outlinewidth": 0,
              "ticks": ""
             }
            },
            "type": "scattergeo"
           }
          ],
          "scattergl": [
           {
            "marker": {
             "colorbar": {
              "outlinewidth": 0,
              "ticks": ""
             }
            },
            "type": "scattergl"
           }
          ],
          "scattermapbox": [
           {
            "marker": {
             "colorbar": {
              "outlinewidth": 0,
              "ticks": ""
             }
            },
            "type": "scattermapbox"
           }
          ],
          "scatterpolar": [
           {
            "marker": {
             "colorbar": {
              "outlinewidth": 0,
              "ticks": ""
             }
            },
            "type": "scatterpolar"
           }
          ],
          "scatterpolargl": [
           {
            "marker": {
             "colorbar": {
              "outlinewidth": 0,
              "ticks": ""
             }
            },
            "type": "scatterpolargl"
           }
          ],
          "scatterternary": [
           {
            "marker": {
             "colorbar": {
              "outlinewidth": 0,
              "ticks": ""
             }
            },
            "type": "scatterternary"
           }
          ],
          "surface": [
           {
            "colorbar": {
             "outlinewidth": 0,
             "ticks": ""
            },
            "colorscale": [
             [
              0,
              "#0d0887"
             ],
             [
              0.1111111111111111,
              "#46039f"
             ],
             [
              0.2222222222222222,
              "#7201a8"
             ],
             [
              0.3333333333333333,
              "#9c179e"
             ],
             [
              0.4444444444444444,
              "#bd3786"
             ],
             [
              0.5555555555555556,
              "#d8576b"
             ],
             [
              0.6666666666666666,
              "#ed7953"
             ],
             [
              0.7777777777777778,
              "#fb9f3a"
             ],
             [
              0.8888888888888888,
              "#fdca26"
             ],
             [
              1,
              "#f0f921"
             ]
            ],
            "type": "surface"
           }
          ],
          "table": [
           {
            "cells": {
             "fill": {
              "color": "#EBF0F8"
             },
             "line": {
              "color": "white"
             }
            },
            "header": {
             "fill": {
              "color": "#C8D4E3"
             },
             "line": {
              "color": "white"
             }
            },
            "type": "table"
           }
          ]
         },
         "layout": {
          "annotationdefaults": {
           "arrowcolor": "#2a3f5f",
           "arrowhead": 0,
           "arrowwidth": 1
          },
          "autotypenumbers": "strict",
          "coloraxis": {
           "colorbar": {
            "outlinewidth": 0,
            "ticks": ""
           }
          },
          "colorscale": {
           "diverging": [
            [
             0,
             "#8e0152"
            ],
            [
             0.1,
             "#c51b7d"
            ],
            [
             0.2,
             "#de77ae"
            ],
            [
             0.3,
             "#f1b6da"
            ],
            [
             0.4,
             "#fde0ef"
            ],
            [
             0.5,
             "#f7f7f7"
            ],
            [
             0.6,
             "#e6f5d0"
            ],
            [
             0.7,
             "#b8e186"
            ],
            [
             0.8,
             "#7fbc41"
            ],
            [
             0.9,
             "#4d9221"
            ],
            [
             1,
             "#276419"
            ]
           ],
           "sequential": [
            [
             0,
             "#0d0887"
            ],
            [
             0.1111111111111111,
             "#46039f"
            ],
            [
             0.2222222222222222,
             "#7201a8"
            ],
            [
             0.3333333333333333,
             "#9c179e"
            ],
            [
             0.4444444444444444,
             "#bd3786"
            ],
            [
             0.5555555555555556,
             "#d8576b"
            ],
            [
             0.6666666666666666,
             "#ed7953"
            ],
            [
             0.7777777777777778,
             "#fb9f3a"
            ],
            [
             0.8888888888888888,
             "#fdca26"
            ],
            [
             1,
             "#f0f921"
            ]
           ],
           "sequentialminus": [
            [
             0,
             "#0d0887"
            ],
            [
             0.1111111111111111,
             "#46039f"
            ],
            [
             0.2222222222222222,
             "#7201a8"
            ],
            [
             0.3333333333333333,
             "#9c179e"
            ],
            [
             0.4444444444444444,
             "#bd3786"
            ],
            [
             0.5555555555555556,
             "#d8576b"
            ],
            [
             0.6666666666666666,
             "#ed7953"
            ],
            [
             0.7777777777777778,
             "#fb9f3a"
            ],
            [
             0.8888888888888888,
             "#fdca26"
            ],
            [
             1,
             "#f0f921"
            ]
           ]
          },
          "colorway": [
           "#636efa",
           "#EF553B",
           "#00cc96",
           "#ab63fa",
           "#FFA15A",
           "#19d3f3",
           "#FF6692",
           "#B6E880",
           "#FF97FF",
           "#FECB52"
          ],
          "font": {
           "color": "#2a3f5f"
          },
          "geo": {
           "bgcolor": "white",
           "lakecolor": "white",
           "landcolor": "#E5ECF6",
           "showlakes": true,
           "showland": true,
           "subunitcolor": "white"
          },
          "hoverlabel": {
           "align": "left"
          },
          "hovermode": "closest",
          "mapbox": {
           "style": "light"
          },
          "paper_bgcolor": "white",
          "plot_bgcolor": "#E5ECF6",
          "polar": {
           "angularaxis": {
            "gridcolor": "white",
            "linecolor": "white",
            "ticks": ""
           },
           "bgcolor": "#E5ECF6",
           "radialaxis": {
            "gridcolor": "white",
            "linecolor": "white",
            "ticks": ""
           }
          },
          "scene": {
           "xaxis": {
            "backgroundcolor": "#E5ECF6",
            "gridcolor": "white",
            "gridwidth": 2,
            "linecolor": "white",
            "showbackground": true,
            "ticks": "",
            "zerolinecolor": "white"
           },
           "yaxis": {
            "backgroundcolor": "#E5ECF6",
            "gridcolor": "white",
            "gridwidth": 2,
            "linecolor": "white",
            "showbackground": true,
            "ticks": "",
            "zerolinecolor": "white"
           },
           "zaxis": {
            "backgroundcolor": "#E5ECF6",
            "gridcolor": "white",
            "gridwidth": 2,
            "linecolor": "white",
            "showbackground": true,
            "ticks": "",
            "zerolinecolor": "white"
           }
          },
          "shapedefaults": {
           "line": {
            "color": "#2a3f5f"
           }
          },
          "ternary": {
           "aaxis": {
            "gridcolor": "white",
            "linecolor": "white",
            "ticks": ""
           },
           "baxis": {
            "gridcolor": "white",
            "linecolor": "white",
            "ticks": ""
           },
           "bgcolor": "#E5ECF6",
           "caxis": {
            "gridcolor": "white",
            "linecolor": "white",
            "ticks": ""
           }
          },
          "title": {
           "x": 0.05
          },
          "xaxis": {
           "automargin": true,
           "gridcolor": "white",
           "linecolor": "white",
           "ticks": "",
           "title": {
            "standoff": 15
           },
           "zerolinecolor": "white",
           "zerolinewidth": 2
          },
          "yaxis": {
           "automargin": true,
           "gridcolor": "white",
           "linecolor": "white",
           "ticks": "",
           "title": {
            "standoff": 15
           },
           "zerolinecolor": "white",
           "zerolinewidth": 2
          }
         }
        },
        "title": {
         "text": "GBP_NZD_MA_32_128"
        },
        "width": 1000,
        "xaxis": {
         "linecolor": "#3a4a54",
         "linewidth": 1,
         "showgrid": false,
         "zeroline": false
        },
        "yaxis": {
         "linecolor": "#3a4a54",
         "linewidth": 1,
         "showgrid": false,
         "zeroline": false
        }
       }
      }
     },
     "metadata": {},
     "output_type": "display_data"
    },
    {
     "data": {
      "application/vnd.plotly.v1+json": {
       "config": {
        "plotlyServerURL": "https://plot.ly"
       },
       "data": [
        {
         "line": {
          "color": "#3d825f",
          "shape": "spline",
          "width": 2
         },
         "mode": "lines",
         "name": "GBP_JPY_MA_32_128",
         "type": "scatter",
         "x": [
          "2021-09-08T11:00:00+00:00",
          "2021-09-10T10:00:00+00:00",
          "2021-09-15T04:00:00+00:00",
          "2021-09-23T21:00:00+00:00",
          "2021-09-29T13:00:00+00:00",
          "2021-10-05T00:00:00+00:00",
          "2021-10-22T10:00:00+00:00",
          "2021-11-16T00:00:00+00:00",
          "2021-11-22T04:00:00+00:00",
          "2021-11-24T18:00:00+00:00",
          "2021-11-26T01:00:00+00:00",
          "2021-12-07T11:00:00+00:00",
          "2021-12-09T07:00:00+00:00",
          "2021-12-13T05:00:00+00:00",
          "2021-12-14T06:00:00+00:00",
          "2021-12-14T14:00:00+00:00",
          "2021-12-14T19:00:00+00:00",
          "2021-12-15T00:00:00+00:00",
          "2021-12-20T08:00:00+00:00",
          "2021-12-22T06:00:00+00:00",
          "2022-01-11T03:00:00+00:00",
          "2022-01-12T04:00:00+00:00",
          "2022-01-13T23:00:00+00:00",
          "2022-01-27T12:00:00+00:00",
          "2022-02-14T18:00:00+00:00",
          "2022-02-16T20:00:00+00:00",
          "2022-02-17T14:00:00+00:00",
          "2022-02-18T08:00:00+00:00",
          "2022-02-21T16:00:00+00:00",
          "2022-03-03T10:00:00+00:00",
          "2022-03-04T12:00:00+00:00",
          "2022-03-10T11:00:00+00:00",
          "2022-03-30T09:00:00+00:00"
         ],
         "y": [
          -67.39999999999782,
          -184.79999999999563,
          -182.59999999999366,
          -308.1999999999937,
          -380.89999999999407,
          225.80000000000666,
          596.6000000000065,
          625.4000000000048,
          585.1000000000028,
          481.6000000000031,
          715.8000000000044,
          648.3000000000033,
          591.0000000000025,
          569.2000000000036,
          539.1000000000048,
          530.000000000004,
          512.8000000000014,
          434.29999999999893,
          282.3999999999984,
          836.1999999999995,
          782.3999999999984,
          695.8999999999975,
          902.5999999999982,
          1072.399999999999,
          994.9999999999989,
          955.3999999999974,
          898.7999999999971,
          817.5999999999988,
          957.0999999999998,
          785.2000000000004,
          842.4000000000007,
          1614.6999999999991,
          1548.4999999999986
         ]
        }
       ],
       "layout": {
        "font": {
         "color": "#e1e1e1",
         "size": 10
        },
        "height": 400,
        "margin": {
         "b": 10,
         "l": 15,
         "r": 15
        },
        "paper_bgcolor": "#1e1e1e",
        "plot_bgcolor": "#1e1e1e",
        "template": {
         "data": {
          "bar": [
           {
            "error_x": {
             "color": "#2a3f5f"
            },
            "error_y": {
             "color": "#2a3f5f"
            },
            "marker": {
             "line": {
              "color": "#E5ECF6",
              "width": 0.5
             },
             "pattern": {
              "fillmode": "overlay",
              "size": 10,
              "solidity": 0.2
             }
            },
            "type": "bar"
           }
          ],
          "barpolar": [
           {
            "marker": {
             "line": {
              "color": "#E5ECF6",
              "width": 0.5
             },
             "pattern": {
              "fillmode": "overlay",
              "size": 10,
              "solidity": 0.2
             }
            },
            "type": "barpolar"
           }
          ],
          "carpet": [
           {
            "aaxis": {
             "endlinecolor": "#2a3f5f",
             "gridcolor": "white",
             "linecolor": "white",
             "minorgridcolor": "white",
             "startlinecolor": "#2a3f5f"
            },
            "baxis": {
             "endlinecolor": "#2a3f5f",
             "gridcolor": "white",
             "linecolor": "white",
             "minorgridcolor": "white",
             "startlinecolor": "#2a3f5f"
            },
            "type": "carpet"
           }
          ],
          "choropleth": [
           {
            "colorbar": {
             "outlinewidth": 0,
             "ticks": ""
            },
            "type": "choropleth"
           }
          ],
          "contour": [
           {
            "colorbar": {
             "outlinewidth": 0,
             "ticks": ""
            },
            "colorscale": [
             [
              0,
              "#0d0887"
             ],
             [
              0.1111111111111111,
              "#46039f"
             ],
             [
              0.2222222222222222,
              "#7201a8"
             ],
             [
              0.3333333333333333,
              "#9c179e"
             ],
             [
              0.4444444444444444,
              "#bd3786"
             ],
             [
              0.5555555555555556,
              "#d8576b"
             ],
             [
              0.6666666666666666,
              "#ed7953"
             ],
             [
              0.7777777777777778,
              "#fb9f3a"
             ],
             [
              0.8888888888888888,
              "#fdca26"
             ],
             [
              1,
              "#f0f921"
             ]
            ],
            "type": "contour"
           }
          ],
          "contourcarpet": [
           {
            "colorbar": {
             "outlinewidth": 0,
             "ticks": ""
            },
            "type": "contourcarpet"
           }
          ],
          "heatmap": [
           {
            "colorbar": {
             "outlinewidth": 0,
             "ticks": ""
            },
            "colorscale": [
             [
              0,
              "#0d0887"
             ],
             [
              0.1111111111111111,
              "#46039f"
             ],
             [
              0.2222222222222222,
              "#7201a8"
             ],
             [
              0.3333333333333333,
              "#9c179e"
             ],
             [
              0.4444444444444444,
              "#bd3786"
             ],
             [
              0.5555555555555556,
              "#d8576b"
             ],
             [
              0.6666666666666666,
              "#ed7953"
             ],
             [
              0.7777777777777778,
              "#fb9f3a"
             ],
             [
              0.8888888888888888,
              "#fdca26"
             ],
             [
              1,
              "#f0f921"
             ]
            ],
            "type": "heatmap"
           }
          ],
          "heatmapgl": [
           {
            "colorbar": {
             "outlinewidth": 0,
             "ticks": ""
            },
            "colorscale": [
             [
              0,
              "#0d0887"
             ],
             [
              0.1111111111111111,
              "#46039f"
             ],
             [
              0.2222222222222222,
              "#7201a8"
             ],
             [
              0.3333333333333333,
              "#9c179e"
             ],
             [
              0.4444444444444444,
              "#bd3786"
             ],
             [
              0.5555555555555556,
              "#d8576b"
             ],
             [
              0.6666666666666666,
              "#ed7953"
             ],
             [
              0.7777777777777778,
              "#fb9f3a"
             ],
             [
              0.8888888888888888,
              "#fdca26"
             ],
             [
              1,
              "#f0f921"
             ]
            ],
            "type": "heatmapgl"
           }
          ],
          "histogram": [
           {
            "marker": {
             "pattern": {
              "fillmode": "overlay",
              "size": 10,
              "solidity": 0.2
             }
            },
            "type": "histogram"
           }
          ],
          "histogram2d": [
           {
            "colorbar": {
             "outlinewidth": 0,
             "ticks": ""
            },
            "colorscale": [
             [
              0,
              "#0d0887"
             ],
             [
              0.1111111111111111,
              "#46039f"
             ],
             [
              0.2222222222222222,
              "#7201a8"
             ],
             [
              0.3333333333333333,
              "#9c179e"
             ],
             [
              0.4444444444444444,
              "#bd3786"
             ],
             [
              0.5555555555555556,
              "#d8576b"
             ],
             [
              0.6666666666666666,
              "#ed7953"
             ],
             [
              0.7777777777777778,
              "#fb9f3a"
             ],
             [
              0.8888888888888888,
              "#fdca26"
             ],
             [
              1,
              "#f0f921"
             ]
            ],
            "type": "histogram2d"
           }
          ],
          "histogram2dcontour": [
           {
            "colorbar": {
             "outlinewidth": 0,
             "ticks": ""
            },
            "colorscale": [
             [
              0,
              "#0d0887"
             ],
             [
              0.1111111111111111,
              "#46039f"
             ],
             [
              0.2222222222222222,
              "#7201a8"
             ],
             [
              0.3333333333333333,
              "#9c179e"
             ],
             [
              0.4444444444444444,
              "#bd3786"
             ],
             [
              0.5555555555555556,
              "#d8576b"
             ],
             [
              0.6666666666666666,
              "#ed7953"
             ],
             [
              0.7777777777777778,
              "#fb9f3a"
             ],
             [
              0.8888888888888888,
              "#fdca26"
             ],
             [
              1,
              "#f0f921"
             ]
            ],
            "type": "histogram2dcontour"
           }
          ],
          "mesh3d": [
           {
            "colorbar": {
             "outlinewidth": 0,
             "ticks": ""
            },
            "type": "mesh3d"
           }
          ],
          "parcoords": [
           {
            "line": {
             "colorbar": {
              "outlinewidth": 0,
              "ticks": ""
             }
            },
            "type": "parcoords"
           }
          ],
          "pie": [
           {
            "automargin": true,
            "type": "pie"
           }
          ],
          "scatter": [
           {
            "marker": {
             "colorbar": {
              "outlinewidth": 0,
              "ticks": ""
             }
            },
            "type": "scatter"
           }
          ],
          "scatter3d": [
           {
            "line": {
             "colorbar": {
              "outlinewidth": 0,
              "ticks": ""
             }
            },
            "marker": {
             "colorbar": {
              "outlinewidth": 0,
              "ticks": ""
             }
            },
            "type": "scatter3d"
           }
          ],
          "scattercarpet": [
           {
            "marker": {
             "colorbar": {
              "outlinewidth": 0,
              "ticks": ""
             }
            },
            "type": "scattercarpet"
           }
          ],
          "scattergeo": [
           {
            "marker": {
             "colorbar": {
              "outlinewidth": 0,
              "ticks": ""
             }
            },
            "type": "scattergeo"
           }
          ],
          "scattergl": [
           {
            "marker": {
             "colorbar": {
              "outlinewidth": 0,
              "ticks": ""
             }
            },
            "type": "scattergl"
           }
          ],
          "scattermapbox": [
           {
            "marker": {
             "colorbar": {
              "outlinewidth": 0,
              "ticks": ""
             }
            },
            "type": "scattermapbox"
           }
          ],
          "scatterpolar": [
           {
            "marker": {
             "colorbar": {
              "outlinewidth": 0,
              "ticks": ""
             }
            },
            "type": "scatterpolar"
           }
          ],
          "scatterpolargl": [
           {
            "marker": {
             "colorbar": {
              "outlinewidth": 0,
              "ticks": ""
             }
            },
            "type": "scatterpolargl"
           }
          ],
          "scatterternary": [
           {
            "marker": {
             "colorbar": {
              "outlinewidth": 0,
              "ticks": ""
             }
            },
            "type": "scatterternary"
           }
          ],
          "surface": [
           {
            "colorbar": {
             "outlinewidth": 0,
             "ticks": ""
            },
            "colorscale": [
             [
              0,
              "#0d0887"
             ],
             [
              0.1111111111111111,
              "#46039f"
             ],
             [
              0.2222222222222222,
              "#7201a8"
             ],
             [
              0.3333333333333333,
              "#9c179e"
             ],
             [
              0.4444444444444444,
              "#bd3786"
             ],
             [
              0.5555555555555556,
              "#d8576b"
             ],
             [
              0.6666666666666666,
              "#ed7953"
             ],
             [
              0.7777777777777778,
              "#fb9f3a"
             ],
             [
              0.8888888888888888,
              "#fdca26"
             ],
             [
              1,
              "#f0f921"
             ]
            ],
            "type": "surface"
           }
          ],
          "table": [
           {
            "cells": {
             "fill": {
              "color": "#EBF0F8"
             },
             "line": {
              "color": "white"
             }
            },
            "header": {
             "fill": {
              "color": "#C8D4E3"
             },
             "line": {
              "color": "white"
             }
            },
            "type": "table"
           }
          ]
         },
         "layout": {
          "annotationdefaults": {
           "arrowcolor": "#2a3f5f",
           "arrowhead": 0,
           "arrowwidth": 1
          },
          "autotypenumbers": "strict",
          "coloraxis": {
           "colorbar": {
            "outlinewidth": 0,
            "ticks": ""
           }
          },
          "colorscale": {
           "diverging": [
            [
             0,
             "#8e0152"
            ],
            [
             0.1,
             "#c51b7d"
            ],
            [
             0.2,
             "#de77ae"
            ],
            [
             0.3,
             "#f1b6da"
            ],
            [
             0.4,
             "#fde0ef"
            ],
            [
             0.5,
             "#f7f7f7"
            ],
            [
             0.6,
             "#e6f5d0"
            ],
            [
             0.7,
             "#b8e186"
            ],
            [
             0.8,
             "#7fbc41"
            ],
            [
             0.9,
             "#4d9221"
            ],
            [
             1,
             "#276419"
            ]
           ],
           "sequential": [
            [
             0,
             "#0d0887"
            ],
            [
             0.1111111111111111,
             "#46039f"
            ],
            [
             0.2222222222222222,
             "#7201a8"
            ],
            [
             0.3333333333333333,
             "#9c179e"
            ],
            [
             0.4444444444444444,
             "#bd3786"
            ],
            [
             0.5555555555555556,
             "#d8576b"
            ],
            [
             0.6666666666666666,
             "#ed7953"
            ],
            [
             0.7777777777777778,
             "#fb9f3a"
            ],
            [
             0.8888888888888888,
             "#fdca26"
            ],
            [
             1,
             "#f0f921"
            ]
           ],
           "sequentialminus": [
            [
             0,
             "#0d0887"
            ],
            [
             0.1111111111111111,
             "#46039f"
            ],
            [
             0.2222222222222222,
             "#7201a8"
            ],
            [
             0.3333333333333333,
             "#9c179e"
            ],
            [
             0.4444444444444444,
             "#bd3786"
            ],
            [
             0.5555555555555556,
             "#d8576b"
            ],
            [
             0.6666666666666666,
             "#ed7953"
            ],
            [
             0.7777777777777778,
             "#fb9f3a"
            ],
            [
             0.8888888888888888,
             "#fdca26"
            ],
            [
             1,
             "#f0f921"
            ]
           ]
          },
          "colorway": [
           "#636efa",
           "#EF553B",
           "#00cc96",
           "#ab63fa",
           "#FFA15A",
           "#19d3f3",
           "#FF6692",
           "#B6E880",
           "#FF97FF",
           "#FECB52"
          ],
          "font": {
           "color": "#2a3f5f"
          },
          "geo": {
           "bgcolor": "white",
           "lakecolor": "white",
           "landcolor": "#E5ECF6",
           "showlakes": true,
           "showland": true,
           "subunitcolor": "white"
          },
          "hoverlabel": {
           "align": "left"
          },
          "hovermode": "closest",
          "mapbox": {
           "style": "light"
          },
          "paper_bgcolor": "white",
          "plot_bgcolor": "#E5ECF6",
          "polar": {
           "angularaxis": {
            "gridcolor": "white",
            "linecolor": "white",
            "ticks": ""
           },
           "bgcolor": "#E5ECF6",
           "radialaxis": {
            "gridcolor": "white",
            "linecolor": "white",
            "ticks": ""
           }
          },
          "scene": {
           "xaxis": {
            "backgroundcolor": "#E5ECF6",
            "gridcolor": "white",
            "gridwidth": 2,
            "linecolor": "white",
            "showbackground": true,
            "ticks": "",
            "zerolinecolor": "white"
           },
           "yaxis": {
            "backgroundcolor": "#E5ECF6",
            "gridcolor": "white",
            "gridwidth": 2,
            "linecolor": "white",
            "showbackground": true,
            "ticks": "",
            "zerolinecolor": "white"
           },
           "zaxis": {
            "backgroundcolor": "#E5ECF6",
            "gridcolor": "white",
            "gridwidth": 2,
            "linecolor": "white",
            "showbackground": true,
            "ticks": "",
            "zerolinecolor": "white"
           }
          },
          "shapedefaults": {
           "line": {
            "color": "#2a3f5f"
           }
          },
          "ternary": {
           "aaxis": {
            "gridcolor": "white",
            "linecolor": "white",
            "ticks": ""
           },
           "baxis": {
            "gridcolor": "white",
            "linecolor": "white",
            "ticks": ""
           },
           "bgcolor": "#E5ECF6",
           "caxis": {
            "gridcolor": "white",
            "linecolor": "white",
            "ticks": ""
           }
          },
          "title": {
           "x": 0.05
          },
          "xaxis": {
           "automargin": true,
           "gridcolor": "white",
           "linecolor": "white",
           "ticks": "",
           "title": {
            "standoff": 15
           },
           "zerolinecolor": "white",
           "zerolinewidth": 2
          },
          "yaxis": {
           "automargin": true,
           "gridcolor": "white",
           "linecolor": "white",
           "ticks": "",
           "title": {
            "standoff": 15
           },
           "zerolinecolor": "white",
           "zerolinewidth": 2
          }
         }
        },
        "title": {
         "text": "GBP_JPY_MA_32_128"
        },
        "width": 1000,
        "xaxis": {
         "linecolor": "#3a4a54",
         "linewidth": 1,
         "showgrid": false,
         "zeroline": false
        },
        "yaxis": {
         "linecolor": "#3a4a54",
         "linewidth": 1,
         "showgrid": false,
         "zeroline": false
        }
       }
      }
     },
     "metadata": {},
     "output_type": "display_data"
    }
   ],
   "source": [
    "c = 'MA_32_128'\n",
    "for p in our_pairs:\n",
    "    temp_df = all_trades[(all_trades.CROSS==c)&(all_trades.PAIR==p)].copy()\n",
    "    temp_df['CUM_GAIN'] = temp_df.GAIN.cumsum()\n",
    "    plot_line(temp_df, p + \"_\" + c)"
   ]
  },
  {
   "cell_type": "code",
   "execution_count": 132,
   "metadata": {},
   "outputs": [
    {
     "data": {
      "application/vnd.plotly.v1+json": {
       "config": {
        "plotlyServerURL": "https://plot.ly"
       },
       "data": [
        {
         "line": {
          "color": "#3d825f",
          "shape": "spline",
          "width": 2
         },
         "mode": "lines",
         "name": "MA_64_256",
         "type": "scatter",
         "x": [
          "2021-09-15T05:00:00+00:00",
          "2021-09-15T10:00:00+00:00",
          "2021-09-15T15:00:00+00:00",
          "2021-09-16T11:00:00+00:00",
          "2021-09-17T00:00:00+00:00",
          "2021-09-17T06:00:00+00:00",
          "2021-09-17T11:00:00+00:00",
          "2021-09-20T00:00:00+00:00",
          "2021-09-20T21:00:00+00:00",
          "2021-09-21T08:00:00+00:00",
          "2021-09-21T13:00:00+00:00",
          "2021-09-21T20:00:00+00:00",
          "2021-09-21T22:00:00+00:00",
          "2021-09-22T09:00:00+00:00",
          "2021-09-22T10:00:00+00:00",
          "2021-09-22T21:00:00+00:00",
          "2021-09-23T18:00:00+00:00",
          "2021-09-24T03:00:00+00:00",
          "2021-09-24T10:00:00+00:00",
          "2021-09-24T14:00:00+00:00",
          "2021-09-24T18:00:00+00:00",
          "2021-09-26T23:00:00+00:00",
          "2021-09-27T00:00:00+00:00",
          "2021-09-27T06:00:00+00:00",
          "2021-09-27T10:00:00+00:00",
          "2021-09-27T21:00:00+00:00",
          "2021-09-28T01:00:00+00:00",
          "2021-09-28T13:00:00+00:00",
          "2021-09-30T10:00:00+00:00",
          "2021-09-30T21:00:00+00:00",
          "2021-10-04T06:00:00+00:00",
          "2021-10-04T17:00:00+00:00",
          "2021-10-05T08:00:00+00:00",
          "2021-10-05T14:00:00+00:00",
          "2021-10-06T05:00:00+00:00",
          "2021-10-06T08:00:00+00:00",
          "2021-10-06T10:00:00+00:00",
          "2021-10-06T16:00:00+00:00",
          "2021-10-07T15:00:00+00:00",
          "2021-10-11T00:00:00+00:00",
          "2021-10-11T12:00:00+00:00",
          "2021-10-12T05:00:00+00:00",
          "2021-10-12T22:00:00+00:00",
          "2021-10-14T13:00:00+00:00",
          "2021-10-15T05:00:00+00:00",
          "2021-10-18T04:00:00+00:00",
          "2021-10-20T03:00:00+00:00",
          "2021-10-20T06:00:00+00:00",
          "2021-10-21T18:00:00+00:00",
          "2021-10-22T16:00:00+00:00",
          "2021-10-25T05:00:00+00:00",
          "2021-10-25T17:00:00+00:00",
          "2021-10-26T04:00:00+00:00",
          "2021-10-26T19:00:00+00:00",
          "2021-10-26T20:00:00+00:00",
          "2021-10-27T07:00:00+00:00",
          "2021-10-27T11:00:00+00:00",
          "2021-10-27T18:00:00+00:00",
          "2021-10-27T22:00:00+00:00",
          "2021-10-28T11:00:00+00:00",
          "2021-10-28T18:00:00+00:00",
          "2021-10-29T04:00:00+00:00",
          "2021-10-29T08:00:00+00:00",
          "2021-10-29T12:00:00+00:00",
          "2021-10-29T14:00:00+00:00",
          "2021-10-29T20:00:00+00:00",
          "2021-11-01T02:00:00+00:00",
          "2021-11-02T16:00:00+00:00",
          "2021-11-02T17:00:00+00:00",
          "2021-11-02T18:00:00+00:00",
          "2021-11-03T23:00:00+00:00",
          "2021-11-04T01:00:00+00:00",
          "2021-11-05T20:00:00+00:00",
          "2021-11-08T20:00:00+00:00",
          "2021-11-09T01:00:00+00:00",
          "2021-11-11T01:00:00+00:00",
          "2021-11-11T05:00:00+00:00",
          "2021-11-12T10:00:00+00:00",
          "2021-11-12T16:00:00+00:00",
          "2021-11-12T21:00:00+00:00",
          "2021-11-15T05:00:00+00:00",
          "2021-11-15T11:00:00+00:00",
          "2021-11-16T03:00:00+00:00",
          "2021-11-16T06:00:00+00:00",
          "2021-11-16T09:00:00+00:00",
          "2021-11-16T14:00:00+00:00",
          "2021-11-17T02:00:00+00:00",
          "2021-11-17T11:00:00+00:00",
          "2021-11-17T14:00:00+00:00",
          "2021-11-17T17:00:00+00:00",
          "2021-11-18T11:00:00+00:00",
          "2021-11-19T05:00:00+00:00",
          "2021-11-19T16:00:00+00:00",
          "2021-11-22T06:00:00+00:00",
          "2021-11-22T20:00:00+00:00",
          "2021-11-23T05:00:00+00:00",
          "2021-11-24T02:00:00+00:00",
          "2021-11-24T21:00:00+00:00",
          "2021-11-25T06:00:00+00:00",
          "2021-11-25T15:00:00+00:00",
          "2021-11-26T01:00:00+00:00",
          "2021-11-26T11:00:00+00:00",
          "2021-11-26T13:00:00+00:00",
          "2021-11-26T14:00:00+00:00",
          "2021-11-26T16:00:00+00:00",
          "2021-11-29T04:00:00+00:00",
          "2021-11-29T07:00:00+00:00",
          "2021-11-29T12:00:00+00:00",
          "2021-11-29T14:00:00+00:00",
          "2021-11-29T19:00:00+00:00",
          "2021-11-30T14:00:00+00:00",
          "2021-12-07T10:00:00+00:00",
          "2021-12-08T07:00:00+00:00",
          "2021-12-08T08:00:00+00:00",
          "2021-12-08T13:00:00+00:00",
          "2021-12-08T14:00:00+00:00",
          "2021-12-08T16:00:00+00:00",
          "2021-12-08T17:00:00+00:00",
          "2021-12-09T02:00:00+00:00",
          "2021-12-09T07:00:00+00:00",
          "2021-12-09T09:00:00+00:00",
          "2021-12-09T14:00:00+00:00",
          "2021-12-09T22:00:00+00:00",
          "2021-12-10T09:00:00+00:00",
          "2021-12-13T00:00:00+00:00",
          "2021-12-13T14:00:00+00:00",
          "2021-12-13T16:00:00+00:00",
          "2021-12-13T22:00:00+00:00",
          "2021-12-14T09:00:00+00:00",
          "2021-12-14T11:00:00+00:00",
          "2021-12-14T13:00:00+00:00",
          "2021-12-14T16:00:00+00:00",
          "2021-12-14T19:00:00+00:00",
          "2021-12-14T23:00:00+00:00",
          "2021-12-15T00:00:00+00:00",
          "2021-12-15T09:00:00+00:00",
          "2021-12-15T11:00:00+00:00",
          "2021-12-16T00:00:00+00:00",
          "2021-12-16T13:00:00+00:00",
          "2021-12-16T14:00:00+00:00",
          "2021-12-16T16:00:00+00:00",
          "2021-12-17T10:00:00+00:00",
          "2021-12-17T14:00:00+00:00",
          "2021-12-20T02:00:00+00:00",
          "2021-12-20T16:00:00+00:00",
          "2021-12-21T01:00:00+00:00",
          "2021-12-21T03:00:00+00:00",
          "2021-12-21T06:00:00+00:00",
          "2021-12-21T16:00:00+00:00",
          "2021-12-21T20:00:00+00:00",
          "2021-12-21T23:00:00+00:00",
          "2021-12-22T05:00:00+00:00",
          "2021-12-22T06:00:00+00:00",
          "2021-12-22T15:00:00+00:00",
          "2021-12-22T16:00:00+00:00",
          "2021-12-22T18:00:00+00:00",
          "2021-12-23T03:00:00+00:00",
          "2021-12-23T04:00:00+00:00",
          "2021-12-23T11:00:00+00:00",
          "2021-12-23T13:00:00+00:00",
          "2021-12-23T14:00:00+00:00",
          "2021-12-23T21:00:00+00:00",
          "2021-12-24T00:00:00+00:00",
          "2021-12-24T10:00:00+00:00",
          "2021-12-24T20:00:00+00:00",
          "2021-12-27T19:00:00+00:00",
          "2021-12-29T00:00:00+00:00",
          "2021-12-29T02:00:00+00:00",
          "2021-12-31T12:00:00+00:00",
          "2021-12-31T19:00:00+00:00",
          "2022-01-03T18:00:00+00:00",
          "2022-01-03T23:00:00+00:00",
          "2022-01-05T03:00:00+00:00",
          "2022-01-05T05:00:00+00:00",
          "2022-01-05T06:00:00+00:00",
          "2022-01-05T21:00:00+00:00",
          "2022-01-06T02:00:00+00:00",
          "2022-01-07T08:00:00+00:00",
          "2022-01-09T23:00:00+00:00",
          "2022-01-10T16:00:00+00:00",
          "2022-01-10T22:00:00+00:00",
          "2022-01-11T03:00:00+00:00",
          "2022-01-11T11:00:00+00:00",
          "2022-01-12T05:00:00+00:00",
          "2022-01-13T09:00:00+00:00",
          "2022-01-14T00:00:00+00:00",
          "2022-01-14T18:00:00+00:00",
          "2022-01-17T03:00:00+00:00",
          "2022-01-17T18:00:00+00:00",
          "2022-01-17T23:00:00+00:00",
          "2022-01-18T11:00:00+00:00",
          "2022-01-18T18:00:00+00:00",
          "2022-01-19T01:00:00+00:00",
          "2022-01-19T12:00:00+00:00",
          "2022-01-19T23:00:00+00:00",
          "2022-01-20T03:00:00+00:00",
          "2022-01-20T16:00:00+00:00",
          "2022-01-21T12:00:00+00:00",
          "2022-01-21T13:00:00+00:00",
          "2022-01-24T05:00:00+00:00",
          "2022-01-24T14:00:00+00:00",
          "2022-01-24T19:00:00+00:00",
          "2022-01-25T20:00:00+00:00",
          "2022-01-26T07:00:00+00:00",
          "2022-01-27T12:00:00+00:00",
          "2022-01-27T13:00:00+00:00",
          "2022-01-28T00:00:00+00:00",
          "2022-01-28T01:00:00+00:00",
          "2022-01-28T11:00:00+00:00",
          "2022-01-28T20:00:00+00:00",
          "2022-01-31T12:00:00+00:00",
          "2022-02-01T04:00:00+00:00",
          "2022-02-01T14:00:00+00:00",
          "2022-02-01T16:00:00+00:00",
          "2022-02-02T05:00:00+00:00",
          "2022-02-03T01:00:00+00:00",
          "2022-02-03T02:00:00+00:00",
          "2022-02-03T05:00:00+00:00",
          "2022-02-03T15:00:00+00:00",
          "2022-02-03T20:00:00+00:00",
          "2022-02-04T02:00:00+00:00",
          "2022-02-04T04:00:00+00:00",
          "2022-02-04T10:00:00+00:00",
          "2022-02-07T06:00:00+00:00",
          "2022-02-07T15:00:00+00:00",
          "2022-02-08T19:00:00+00:00",
          "2022-02-09T12:00:00+00:00",
          "2022-02-09T17:00:00+00:00",
          "2022-02-09T23:00:00+00:00",
          "2022-02-11T08:00:00+00:00",
          "2022-02-11T16:00:00+00:00",
          "2022-02-14T08:00:00+00:00",
          "2022-02-14T21:00:00+00:00",
          "2022-02-15T02:00:00+00:00",
          "2022-02-15T04:00:00+00:00",
          "2022-02-15T06:00:00+00:00",
          "2022-02-15T08:00:00+00:00",
          "2022-02-15T12:00:00+00:00",
          "2022-02-15T13:00:00+00:00",
          "2022-02-15T14:00:00+00:00",
          "2022-02-15T19:00:00+00:00",
          "2022-02-16T01:00:00+00:00",
          "2022-02-16T05:00:00+00:00",
          "2022-02-16T06:00:00+00:00",
          "2022-02-16T07:00:00+00:00",
          "2022-02-16T12:00:00+00:00",
          "2022-02-16T23:00:00+00:00",
          "2022-02-17T04:00:00+00:00",
          "2022-02-17T07:00:00+00:00",
          "2022-02-17T08:00:00+00:00",
          "2022-02-17T10:00:00+00:00",
          "2022-02-17T11:00:00+00:00",
          "2022-02-17T21:00:00+00:00",
          "2022-02-18T00:00:00+00:00",
          "2022-02-18T01:00:00+00:00",
          "2022-02-21T10:00:00+00:00",
          "2022-02-21T13:00:00+00:00",
          "2022-02-21T21:00:00+00:00",
          "2022-02-24T09:00:00+00:00",
          "2022-02-24T12:00:00+00:00",
          "2022-02-24T20:00:00+00:00",
          "2022-02-25T18:00:00+00:00",
          "2022-02-28T00:00:00+00:00",
          "2022-03-01T02:00:00+00:00",
          "2022-03-01T06:00:00+00:00",
          "2022-03-01T14:00:00+00:00",
          "2022-03-01T18:00:00+00:00",
          "2022-03-02T04:00:00+00:00",
          "2022-03-02T13:00:00+00:00",
          "2022-03-07T22:00:00+00:00",
          "2022-03-08T05:00:00+00:00",
          "2022-03-08T06:00:00+00:00",
          "2022-03-08T07:00:00+00:00",
          "2022-03-08T08:00:00+00:00",
          "2022-03-10T02:00:00+00:00",
          "2022-03-11T05:00:00+00:00",
          "2022-03-11T06:00:00+00:00",
          "2022-03-11T07:00:00+00:00",
          "2022-03-11T11:00:00+00:00",
          "2022-03-14T01:00:00+00:00",
          "2022-03-15T04:00:00+00:00",
          "2022-03-15T12:00:00+00:00",
          "2022-03-15T19:00:00+00:00",
          "2022-03-15T22:00:00+00:00",
          "2022-03-16T16:00:00+00:00",
          "2022-03-17T00:00:00+00:00",
          "2022-03-17T08:00:00+00:00",
          "2022-03-18T02:00:00+00:00",
          "2022-03-18T04:00:00+00:00",
          "2022-03-18T13:00:00+00:00",
          "2022-03-21T13:00:00+00:00",
          "2022-03-22T14:00:00+00:00",
          "2022-03-23T03:00:00+00:00",
          "2022-03-23T16:00:00+00:00",
          "2022-03-24T05:00:00+00:00",
          "2022-03-25T01:00:00+00:00",
          "2022-03-25T12:00:00+00:00",
          "2022-03-27T21:00:00+00:00",
          "2022-03-29T10:00:00+00:00",
          "2022-03-29T18:00:00+00:00",
          "2022-03-30T07:00:00+00:00",
          "2022-03-30T19:00:00+00:00",
          "2022-03-30T20:00:00+00:00",
          "2022-03-31T09:00:00+00:00",
          "2022-03-31T17:00:00+00:00",
          "2022-04-01T12:00:00+00:00",
          "2022-04-04T10:00:00+00:00",
          "2022-04-05T08:00:00+00:00",
          "2022-04-05T14:00:00+00:00",
          "2022-04-06T08:00:00+00:00",
          "2022-04-06T13:00:00+00:00",
          "2022-04-06T15:00:00+00:00",
          "2022-04-08T02:00:00+00:00",
          "2022-04-08T18:00:00+00:00",
          "2022-04-11T04:00:00+00:00",
          "2022-04-12T11:00:00+00:00",
          "2022-04-15T17:00:00+00:00",
          "2022-04-15T20:00:00+00:00"
         ],
         "y": [
          5.89999999999975,
          163.80000000000055,
          106.90000000000171,
          -8.499999999998224,
          222.00000000000193,
          89.60000000000275,
          285.9000000000031,
          283.90000000000333,
          106.40000000000401,
          66.60000000000417,
          101.40000000000455,
          1.200000000004266,
          -31.799999999996537,
          36.900000000002784,
          422.6000000000027,
          343.10000000000144,
          843.6000000000007,
          1172.4999999999995,
          1596.7,
          2086.4999999999995,
          2189.8999999999987,
          2439.599999999998,
          2349.3999999999996,
          2271.7999999999984,
          2072.999999999998,
          2016.0999999999985,
          1928.599999999998,
          1843.699999999998,
          1796.099999999998,
          1594.299999999998,
          1393.0999999999979,
          1470.2999999999984,
          1946.2999999999993,
          2385.3000000000006,
          2329.900000000002,
          2220.300000000003,
          2330.700000000002,
          2526.3000000000025,
          2492.9000000000033,
          2800.1000000000035,
          2951.7000000000025,
          3108.8000000000025,
          3176.500000000003,
          3608.200000000005,
          3607.8000000000043,
          3731.300000000005,
          3676.700000000005,
          3599.800000000005,
          3834.5000000000064,
          3856.700000000006,
          4008.1000000000076,
          3990.9000000000065,
          3963.7000000000057,
          4045.400000000005,
          4436.2000000000035,
          4686.000000000004,
          4640.000000000005,
          4543.400000000004,
          4754.000000000006,
          5017.000000000006,
          4891.000000000007,
          4904.400000000007,
          4815.500000000008,
          4826.000000000008,
          4812.500000000008,
          4996.000000000009,
          4918.800000000009,
          4871.300000000008,
          5149.900000000009,
          5544.300000000009,
          5510.900000000008,
          5481.200000000009,
          5413.1000000000095,
          5486.70000000001,
          5387.20000000001,
          5449.70000000001,
          5396.000000000009,
          5348.50000000001,
          5709.300000000011,
          5712.900000000011,
          5693.700000000012,
          5690.100000000012,
          5706.100000000011,
          5675.500000000012,
          5552.500000000012,
          5430.800000000012,
          5385.600000000012,
          5317.100000000012,
          5075.900000000014,
          4947.700000000016,
          4889.3000000000175,
          4793.800000000018,
          4704.700000000017,
          4681.500000000017,
          4749.800000000018,
          4950.200000000019,
          5044.700000000019,
          5335.70000000002,
          5192.60000000002,
          4965.000000000021,
          4860.000000000022,
          4988.600000000022,
          5066.700000000021,
          4969.10000000002,
          4896.60000000002,
          4939.60000000002,
          4858.4000000000215,
          4869.700000000022,
          4724.10000000002,
          4729.00000000002,
          4654.40000000002,
          4464.100000000019,
          4306.400000000018,
          4098.90000000002,
          3974.20000000002,
          3949.6000000000186,
          3908.300000000019,
          3758.7000000000194,
          3721.6000000000186,
          3698.500000000019,
          3627.5000000000205,
          3644.300000000021,
          3607.6000000000204,
          3574.400000000021,
          3536.0000000000214,
          3497.800000000022,
          3461.000000000022,
          3388.400000000022,
          3335.8000000000216,
          3342.100000000021,
          3958.300000000021,
          3984.6000000000213,
          4006.5000000000227,
          4093.200000000022,
          4158.20000000002,
          4298.00000000002,
          4271.80000000002,
          4182.400000000021,
          4115.30000000002,
          3994.9000000000196,
          3940.70000000002,
          3893.60000000002,
          3856.400000000019,
          3843.500000000019,
          3696.3000000000184,
          3663.6000000000186,
          3439.1000000000204,
          3377.9000000000215,
          3369.500000000021,
          3293.7000000000194,
          3429.8000000000184,
          3388.200000000018,
          3911.3000000000175,
          4068.4000000000165,
          4435.800000000016,
          4464.200000000015,
          4528.5000000000155,
          4485.100000000015,
          4461.900000000015,
          4452.400000000015,
          4433.200000000014,
          4434.800000000014,
          4594.700000000014,
          4585.900000000014,
          4752.000000000015,
          4978.200000000015,
          4973.900000000015,
          4958.200000000015,
          5061.000000000016,
          5265.500000000017,
          5241.500000000017,
          5147.100000000016,
          5243.400000000016,
          5165.800000000017,
          5134.800000000016,
          5043.200000000015,
          4983.0000000000155,
          4959.600000000018,
          5120.3000000000175,
          5123.400000000017,
          5139.400000000018,
          5222.200000000019,
          5172.800000000019,
          5170.500000000018,
          5061.700000000018,
          4974.900000000018,
          5058.700000000017,
          5218.700000000016,
          5316.100000000016,
          5274.300000000015,
          5242.800000000013,
          5225.5000000000155,
          5366.100000000015,
          5300.500000000015,
          5342.900000000015,
          5415.200000000016,
          5249.3000000000175,
          5265.200000000017,
          5478.900000000018,
          5440.100000000018,
          5378.700000000018,
          5399.400000000018,
          5300.800000000018,
          5289.800000000018,
          5180.1000000000195,
          5134.200000000019,
          5098.000000000018,
          4998.700000000018,
          4995.500000000017,
          5030.900000000018,
          5105.600000000019,
          5275.400000000021,
          5388.100000000021,
          5372.000000000021,
          5570.60000000002,
          5570.80000000002,
          5505.70000000002,
          5524.100000000019,
          5458.1000000000195,
          5460.50000000002,
          5393.00000000002,
          5409.200000000019,
          5421.6000000000195,
          5458.500000000019,
          5482.400000000019,
          5456.6000000000195,
          5412.000000000019,
          5091.1000000000195,
          5052.60000000002,
          4987.50000000002,
          5878.100000000021,
          5804.9000000000215,
          5796.000000000022,
          6063.50000000002,
          5919.10000000002,
          5916.900000000021,
          5847.900000000021,
          6089.80000000002,
          6472.300000000021,
          6377.700000000021,
          6641.900000000021,
          6605.4000000000215,
          6566.100000000021,
          6547.100000000021,
          6526.200000000023,
          6469.800000000023,
          7309.800000000024,
          7510.500000000025,
          7773.000000000025,
          7622.800000000024,
          7652.600000000024,
          8843.500000000024,
          8802.900000000023,
          8737.400000000023,
          8721.100000000024,
          8636.000000000024,
          8839.500000000024,
          9052.500000000024,
          9355.400000000023,
          9308.200000000024,
          10069.900000000025,
          9993.500000000025,
          9949.400000000027,
          9919.200000000026,
          9830.700000000026,
          9669.400000000027,
          9656.000000000027,
          9590.200000000028,
          9511.400000000029,
          9574.70000000003,
          9408.100000000031,
          9330.90000000003,
          9172.500000000031,
          9112.600000000031,
          9041.000000000031,
          8891.200000000032,
          8899.000000000031,
          8997.100000000031,
          9643.90000000003,
          9561.300000000032,
          9419.200000000033,
          9359.800000000034,
          9169.500000000035,
          9168.000000000036,
          9162.600000000037,
          9088.700000000037,
          9149.100000000037,
          9219.400000000036,
          9263.300000000036,
          9228.700000000035,
          9220.200000000035,
          9078.700000000033,
          8966.400000000034,
          8916.900000000034,
          8861.900000000036,
          8832.700000000037,
          8707.700000000037,
          8761.100000000039,
          8793.600000000039,
          8664.80000000004,
          8505.400000000038,
          8432.500000000038,
          8063.600000000036,
          7839.300000000034,
          7758.300000000034,
          7793.900000000034,
          7736.7000000000335,
          7484.700000000033,
          7387.300000000032,
          7350.200000000032,
          7206.200000000032,
          7134.100000000031,
          7055.800000000031,
          7074.300000000032,
          7023.200000000033,
          6894.500000000031,
          6839.50000000003,
          6708.40000000003
         ]
        }
       ],
       "layout": {
        "font": {
         "color": "#e1e1e1",
         "size": 10
        },
        "height": 400,
        "margin": {
         "b": 10,
         "l": 15,
         "r": 15
        },
        "paper_bgcolor": "#1e1e1e",
        "plot_bgcolor": "#1e1e1e",
        "template": {
         "data": {
          "bar": [
           {
            "error_x": {
             "color": "#2a3f5f"
            },
            "error_y": {
             "color": "#2a3f5f"
            },
            "marker": {
             "line": {
              "color": "#E5ECF6",
              "width": 0.5
             },
             "pattern": {
              "fillmode": "overlay",
              "size": 10,
              "solidity": 0.2
             }
            },
            "type": "bar"
           }
          ],
          "barpolar": [
           {
            "marker": {
             "line": {
              "color": "#E5ECF6",
              "width": 0.5
             },
             "pattern": {
              "fillmode": "overlay",
              "size": 10,
              "solidity": 0.2
             }
            },
            "type": "barpolar"
           }
          ],
          "carpet": [
           {
            "aaxis": {
             "endlinecolor": "#2a3f5f",
             "gridcolor": "white",
             "linecolor": "white",
             "minorgridcolor": "white",
             "startlinecolor": "#2a3f5f"
            },
            "baxis": {
             "endlinecolor": "#2a3f5f",
             "gridcolor": "white",
             "linecolor": "white",
             "minorgridcolor": "white",
             "startlinecolor": "#2a3f5f"
            },
            "type": "carpet"
           }
          ],
          "choropleth": [
           {
            "colorbar": {
             "outlinewidth": 0,
             "ticks": ""
            },
            "type": "choropleth"
           }
          ],
          "contour": [
           {
            "colorbar": {
             "outlinewidth": 0,
             "ticks": ""
            },
            "colorscale": [
             [
              0,
              "#0d0887"
             ],
             [
              0.1111111111111111,
              "#46039f"
             ],
             [
              0.2222222222222222,
              "#7201a8"
             ],
             [
              0.3333333333333333,
              "#9c179e"
             ],
             [
              0.4444444444444444,
              "#bd3786"
             ],
             [
              0.5555555555555556,
              "#d8576b"
             ],
             [
              0.6666666666666666,
              "#ed7953"
             ],
             [
              0.7777777777777778,
              "#fb9f3a"
             ],
             [
              0.8888888888888888,
              "#fdca26"
             ],
             [
              1,
              "#f0f921"
             ]
            ],
            "type": "contour"
           }
          ],
          "contourcarpet": [
           {
            "colorbar": {
             "outlinewidth": 0,
             "ticks": ""
            },
            "type": "contourcarpet"
           }
          ],
          "heatmap": [
           {
            "colorbar": {
             "outlinewidth": 0,
             "ticks": ""
            },
            "colorscale": [
             [
              0,
              "#0d0887"
             ],
             [
              0.1111111111111111,
              "#46039f"
             ],
             [
              0.2222222222222222,
              "#7201a8"
             ],
             [
              0.3333333333333333,
              "#9c179e"
             ],
             [
              0.4444444444444444,
              "#bd3786"
             ],
             [
              0.5555555555555556,
              "#d8576b"
             ],
             [
              0.6666666666666666,
              "#ed7953"
             ],
             [
              0.7777777777777778,
              "#fb9f3a"
             ],
             [
              0.8888888888888888,
              "#fdca26"
             ],
             [
              1,
              "#f0f921"
             ]
            ],
            "type": "heatmap"
           }
          ],
          "heatmapgl": [
           {
            "colorbar": {
             "outlinewidth": 0,
             "ticks": ""
            },
            "colorscale": [
             [
              0,
              "#0d0887"
             ],
             [
              0.1111111111111111,
              "#46039f"
             ],
             [
              0.2222222222222222,
              "#7201a8"
             ],
             [
              0.3333333333333333,
              "#9c179e"
             ],
             [
              0.4444444444444444,
              "#bd3786"
             ],
             [
              0.5555555555555556,
              "#d8576b"
             ],
             [
              0.6666666666666666,
              "#ed7953"
             ],
             [
              0.7777777777777778,
              "#fb9f3a"
             ],
             [
              0.8888888888888888,
              "#fdca26"
             ],
             [
              1,
              "#f0f921"
             ]
            ],
            "type": "heatmapgl"
           }
          ],
          "histogram": [
           {
            "marker": {
             "pattern": {
              "fillmode": "overlay",
              "size": 10,
              "solidity": 0.2
             }
            },
            "type": "histogram"
           }
          ],
          "histogram2d": [
           {
            "colorbar": {
             "outlinewidth": 0,
             "ticks": ""
            },
            "colorscale": [
             [
              0,
              "#0d0887"
             ],
             [
              0.1111111111111111,
              "#46039f"
             ],
             [
              0.2222222222222222,
              "#7201a8"
             ],
             [
              0.3333333333333333,
              "#9c179e"
             ],
             [
              0.4444444444444444,
              "#bd3786"
             ],
             [
              0.5555555555555556,
              "#d8576b"
             ],
             [
              0.6666666666666666,
              "#ed7953"
             ],
             [
              0.7777777777777778,
              "#fb9f3a"
             ],
             [
              0.8888888888888888,
              "#fdca26"
             ],
             [
              1,
              "#f0f921"
             ]
            ],
            "type": "histogram2d"
           }
          ],
          "histogram2dcontour": [
           {
            "colorbar": {
             "outlinewidth": 0,
             "ticks": ""
            },
            "colorscale": [
             [
              0,
              "#0d0887"
             ],
             [
              0.1111111111111111,
              "#46039f"
             ],
             [
              0.2222222222222222,
              "#7201a8"
             ],
             [
              0.3333333333333333,
              "#9c179e"
             ],
             [
              0.4444444444444444,
              "#bd3786"
             ],
             [
              0.5555555555555556,
              "#d8576b"
             ],
             [
              0.6666666666666666,
              "#ed7953"
             ],
             [
              0.7777777777777778,
              "#fb9f3a"
             ],
             [
              0.8888888888888888,
              "#fdca26"
             ],
             [
              1,
              "#f0f921"
             ]
            ],
            "type": "histogram2dcontour"
           }
          ],
          "mesh3d": [
           {
            "colorbar": {
             "outlinewidth": 0,
             "ticks": ""
            },
            "type": "mesh3d"
           }
          ],
          "parcoords": [
           {
            "line": {
             "colorbar": {
              "outlinewidth": 0,
              "ticks": ""
             }
            },
            "type": "parcoords"
           }
          ],
          "pie": [
           {
            "automargin": true,
            "type": "pie"
           }
          ],
          "scatter": [
           {
            "marker": {
             "colorbar": {
              "outlinewidth": 0,
              "ticks": ""
             }
            },
            "type": "scatter"
           }
          ],
          "scatter3d": [
           {
            "line": {
             "colorbar": {
              "outlinewidth": 0,
              "ticks": ""
             }
            },
            "marker": {
             "colorbar": {
              "outlinewidth": 0,
              "ticks": ""
             }
            },
            "type": "scatter3d"
           }
          ],
          "scattercarpet": [
           {
            "marker": {
             "colorbar": {
              "outlinewidth": 0,
              "ticks": ""
             }
            },
            "type": "scattercarpet"
           }
          ],
          "scattergeo": [
           {
            "marker": {
             "colorbar": {
              "outlinewidth": 0,
              "ticks": ""
             }
            },
            "type": "scattergeo"
           }
          ],
          "scattergl": [
           {
            "marker": {
             "colorbar": {
              "outlinewidth": 0,
              "ticks": ""
             }
            },
            "type": "scattergl"
           }
          ],
          "scattermapbox": [
           {
            "marker": {
             "colorbar": {
              "outlinewidth": 0,
              "ticks": ""
             }
            },
            "type": "scattermapbox"
           }
          ],
          "scatterpolar": [
           {
            "marker": {
             "colorbar": {
              "outlinewidth": 0,
              "ticks": ""
             }
            },
            "type": "scatterpolar"
           }
          ],
          "scatterpolargl": [
           {
            "marker": {
             "colorbar": {
              "outlinewidth": 0,
              "ticks": ""
             }
            },
            "type": "scatterpolargl"
           }
          ],
          "scatterternary": [
           {
            "marker": {
             "colorbar": {
              "outlinewidth": 0,
              "ticks": ""
             }
            },
            "type": "scatterternary"
           }
          ],
          "surface": [
           {
            "colorbar": {
             "outlinewidth": 0,
             "ticks": ""
            },
            "colorscale": [
             [
              0,
              "#0d0887"
             ],
             [
              0.1111111111111111,
              "#46039f"
             ],
             [
              0.2222222222222222,
              "#7201a8"
             ],
             [
              0.3333333333333333,
              "#9c179e"
             ],
             [
              0.4444444444444444,
              "#bd3786"
             ],
             [
              0.5555555555555556,
              "#d8576b"
             ],
             [
              0.6666666666666666,
              "#ed7953"
             ],
             [
              0.7777777777777778,
              "#fb9f3a"
             ],
             [
              0.8888888888888888,
              "#fdca26"
             ],
             [
              1,
              "#f0f921"
             ]
            ],
            "type": "surface"
           }
          ],
          "table": [
           {
            "cells": {
             "fill": {
              "color": "#EBF0F8"
             },
             "line": {
              "color": "white"
             }
            },
            "header": {
             "fill": {
              "color": "#C8D4E3"
             },
             "line": {
              "color": "white"
             }
            },
            "type": "table"
           }
          ]
         },
         "layout": {
          "annotationdefaults": {
           "arrowcolor": "#2a3f5f",
           "arrowhead": 0,
           "arrowwidth": 1
          },
          "autotypenumbers": "strict",
          "coloraxis": {
           "colorbar": {
            "outlinewidth": 0,
            "ticks": ""
           }
          },
          "colorscale": {
           "diverging": [
            [
             0,
             "#8e0152"
            ],
            [
             0.1,
             "#c51b7d"
            ],
            [
             0.2,
             "#de77ae"
            ],
            [
             0.3,
             "#f1b6da"
            ],
            [
             0.4,
             "#fde0ef"
            ],
            [
             0.5,
             "#f7f7f7"
            ],
            [
             0.6,
             "#e6f5d0"
            ],
            [
             0.7,
             "#b8e186"
            ],
            [
             0.8,
             "#7fbc41"
            ],
            [
             0.9,
             "#4d9221"
            ],
            [
             1,
             "#276419"
            ]
           ],
           "sequential": [
            [
             0,
             "#0d0887"
            ],
            [
             0.1111111111111111,
             "#46039f"
            ],
            [
             0.2222222222222222,
             "#7201a8"
            ],
            [
             0.3333333333333333,
             "#9c179e"
            ],
            [
             0.4444444444444444,
             "#bd3786"
            ],
            [
             0.5555555555555556,
             "#d8576b"
            ],
            [
             0.6666666666666666,
             "#ed7953"
            ],
            [
             0.7777777777777778,
             "#fb9f3a"
            ],
            [
             0.8888888888888888,
             "#fdca26"
            ],
            [
             1,
             "#f0f921"
            ]
           ],
           "sequentialminus": [
            [
             0,
             "#0d0887"
            ],
            [
             0.1111111111111111,
             "#46039f"
            ],
            [
             0.2222222222222222,
             "#7201a8"
            ],
            [
             0.3333333333333333,
             "#9c179e"
            ],
            [
             0.4444444444444444,
             "#bd3786"
            ],
            [
             0.5555555555555556,
             "#d8576b"
            ],
            [
             0.6666666666666666,
             "#ed7953"
            ],
            [
             0.7777777777777778,
             "#fb9f3a"
            ],
            [
             0.8888888888888888,
             "#fdca26"
            ],
            [
             1,
             "#f0f921"
            ]
           ]
          },
          "colorway": [
           "#636efa",
           "#EF553B",
           "#00cc96",
           "#ab63fa",
           "#FFA15A",
           "#19d3f3",
           "#FF6692",
           "#B6E880",
           "#FF97FF",
           "#FECB52"
          ],
          "font": {
           "color": "#2a3f5f"
          },
          "geo": {
           "bgcolor": "white",
           "lakecolor": "white",
           "landcolor": "#E5ECF6",
           "showlakes": true,
           "showland": true,
           "subunitcolor": "white"
          },
          "hoverlabel": {
           "align": "left"
          },
          "hovermode": "closest",
          "mapbox": {
           "style": "light"
          },
          "paper_bgcolor": "white",
          "plot_bgcolor": "#E5ECF6",
          "polar": {
           "angularaxis": {
            "gridcolor": "white",
            "linecolor": "white",
            "ticks": ""
           },
           "bgcolor": "#E5ECF6",
           "radialaxis": {
            "gridcolor": "white",
            "linecolor": "white",
            "ticks": ""
           }
          },
          "scene": {
           "xaxis": {
            "backgroundcolor": "#E5ECF6",
            "gridcolor": "white",
            "gridwidth": 2,
            "linecolor": "white",
            "showbackground": true,
            "ticks": "",
            "zerolinecolor": "white"
           },
           "yaxis": {
            "backgroundcolor": "#E5ECF6",
            "gridcolor": "white",
            "gridwidth": 2,
            "linecolor": "white",
            "showbackground": true,
            "ticks": "",
            "zerolinecolor": "white"
           },
           "zaxis": {
            "backgroundcolor": "#E5ECF6",
            "gridcolor": "white",
            "gridwidth": 2,
            "linecolor": "white",
            "showbackground": true,
            "ticks": "",
            "zerolinecolor": "white"
           }
          },
          "shapedefaults": {
           "line": {
            "color": "#2a3f5f"
           }
          },
          "ternary": {
           "aaxis": {
            "gridcolor": "white",
            "linecolor": "white",
            "ticks": ""
           },
           "baxis": {
            "gridcolor": "white",
            "linecolor": "white",
            "ticks": ""
           },
           "bgcolor": "#E5ECF6",
           "caxis": {
            "gridcolor": "white",
            "linecolor": "white",
            "ticks": ""
           }
          },
          "title": {
           "x": 0.05
          },
          "xaxis": {
           "automargin": true,
           "gridcolor": "white",
           "linecolor": "white",
           "ticks": "",
           "title": {
            "standoff": 15
           },
           "zerolinecolor": "white",
           "zerolinewidth": 2
          },
          "yaxis": {
           "automargin": true,
           "gridcolor": "white",
           "linecolor": "white",
           "ticks": "",
           "title": {
            "standoff": 15
           },
           "zerolinecolor": "white",
           "zerolinewidth": 2
          }
         }
        },
        "title": {
         "text": "MA_64_256"
        },
        "width": 1000,
        "xaxis": {
         "linecolor": "#3a4a54",
         "linewidth": 1,
         "showgrid": false,
         "zeroline": false
        },
        "yaxis": {
         "linecolor": "#3a4a54",
         "linewidth": 1,
         "showgrid": false,
         "zeroline": false
        }
       }
      }
     },
     "metadata": {},
     "output_type": "display_data"
    },
    {
     "data": {
      "application/vnd.plotly.v1+json": {
       "config": {
        "plotlyServerURL": "https://plot.ly"
       },
       "data": [
        {
         "line": {
          "color": "#3d825f",
          "shape": "spline",
          "width": 2
         },
         "mode": "lines",
         "name": "MA_64_128",
         "type": "scatter",
         "x": [
          "2021-09-07T02:00:00+00:00",
          "2021-09-07T23:00:00+00:00",
          "2021-09-08T01:00:00+00:00",
          "2021-09-08T08:00:00+00:00",
          "2021-09-08T11:00:00+00:00",
          "2021-09-08T13:00:00+00:00",
          "2021-09-08T14:00:00+00:00",
          "2021-09-08T18:00:00+00:00",
          "2021-09-08T22:00:00+00:00",
          "2021-09-09T00:00:00+00:00",
          "2021-09-09T01:00:00+00:00",
          "2021-09-09T06:00:00+00:00",
          "2021-09-09T09:00:00+00:00",
          "2021-09-09T11:00:00+00:00",
          "2021-09-09T18:00:00+00:00",
          "2021-09-10T01:00:00+00:00",
          "2021-09-10T09:00:00+00:00",
          "2021-09-10T20:00:00+00:00",
          "2021-09-13T01:00:00+00:00",
          "2021-09-13T02:00:00+00:00",
          "2021-09-13T15:00:00+00:00",
          "2021-09-13T23:00:00+00:00",
          "2021-09-14T09:00:00+00:00",
          "2021-09-14T10:00:00+00:00",
          "2021-09-14T12:00:00+00:00",
          "2021-09-15T00:00:00+00:00",
          "2021-09-15T04:00:00+00:00",
          "2021-09-15T05:00:00+00:00",
          "2021-09-15T08:00:00+00:00",
          "2021-09-15T10:00:00+00:00",
          "2021-09-15T13:00:00+00:00",
          "2021-09-15T19:00:00+00:00",
          "2021-09-15T21:00:00+00:00",
          "2021-09-16T06:00:00+00:00",
          "2021-09-16T10:00:00+00:00",
          "2021-09-16T14:00:00+00:00",
          "2021-09-16T16:00:00+00:00",
          "2021-09-16T19:00:00+00:00",
          "2021-09-17T16:00:00+00:00",
          "2021-09-17T20:00:00+00:00",
          "2021-09-20T12:00:00+00:00",
          "2021-09-20T17:00:00+00:00",
          "2021-09-20T23:00:00+00:00",
          "2021-09-21T10:00:00+00:00",
          "2021-09-21T14:00:00+00:00",
          "2021-09-21T16:00:00+00:00",
          "2021-09-21T22:00:00+00:00",
          "2021-09-22T02:00:00+00:00",
          "2021-09-22T05:00:00+00:00",
          "2021-09-22T07:00:00+00:00",
          "2021-09-22T15:00:00+00:00",
          "2021-09-22T20:00:00+00:00",
          "2021-09-23T03:00:00+00:00",
          "2021-09-23T17:00:00+00:00",
          "2021-09-23T23:00:00+00:00",
          "2021-09-24T01:00:00+00:00",
          "2021-09-24T03:00:00+00:00",
          "2021-09-24T06:00:00+00:00",
          "2021-09-24T07:00:00+00:00",
          "2021-09-24T11:00:00+00:00",
          "2021-09-24T14:00:00+00:00",
          "2021-09-26T23:00:00+00:00",
          "2021-09-27T00:00:00+00:00",
          "2021-09-27T07:00:00+00:00",
          "2021-09-27T09:00:00+00:00",
          "2021-09-27T11:00:00+00:00",
          "2021-09-28T01:00:00+00:00",
          "2021-09-28T05:00:00+00:00",
          "2021-09-28T10:00:00+00:00",
          "2021-09-28T13:00:00+00:00",
          "2021-09-28T15:00:00+00:00",
          "2021-09-28T19:00:00+00:00",
          "2021-09-29T05:00:00+00:00",
          "2021-09-29T10:00:00+00:00",
          "2021-09-29T21:00:00+00:00",
          "2021-09-30T01:00:00+00:00",
          "2021-09-30T03:00:00+00:00",
          "2021-09-30T06:00:00+00:00",
          "2021-10-01T03:00:00+00:00",
          "2021-10-01T08:00:00+00:00",
          "2021-10-01T18:00:00+00:00",
          "2021-10-04T12:00:00+00:00",
          "2021-10-04T14:00:00+00:00",
          "2021-10-04T15:00:00+00:00",
          "2021-10-04T16:00:00+00:00",
          "2021-10-05T01:00:00+00:00",
          "2021-10-05T03:00:00+00:00",
          "2021-10-05T05:00:00+00:00",
          "2021-10-05T08:00:00+00:00",
          "2021-10-05T09:00:00+00:00",
          "2021-10-05T13:00:00+00:00",
          "2021-10-05T14:00:00+00:00",
          "2021-10-05T17:00:00+00:00",
          "2021-10-05T23:00:00+00:00",
          "2021-10-07T02:00:00+00:00",
          "2021-10-07T07:00:00+00:00",
          "2021-10-07T16:00:00+00:00",
          "2021-10-07T21:00:00+00:00",
          "2021-10-07T22:00:00+00:00",
          "2021-10-08T08:00:00+00:00",
          "2021-10-08T15:00:00+00:00",
          "2021-10-08T16:00:00+00:00",
          "2021-10-11T00:00:00+00:00",
          "2021-10-11T23:00:00+00:00",
          "2021-10-12T04:00:00+00:00",
          "2021-10-12T10:00:00+00:00",
          "2021-10-12T16:00:00+00:00",
          "2021-10-13T11:00:00+00:00",
          "2021-10-13T14:00:00+00:00",
          "2021-10-13T17:00:00+00:00",
          "2021-10-13T20:00:00+00:00",
          "2021-10-14T00:00:00+00:00",
          "2021-10-14T09:00:00+00:00",
          "2021-10-15T01:00:00+00:00",
          "2021-10-15T04:00:00+00:00",
          "2021-10-15T07:00:00+00:00",
          "2021-10-18T02:00:00+00:00",
          "2021-10-19T08:00:00+00:00",
          "2021-10-20T15:00:00+00:00",
          "2021-10-21T15:00:00+00:00",
          "2021-10-21T22:00:00+00:00",
          "2021-10-22T06:00:00+00:00",
          "2021-10-22T12:00:00+00:00",
          "2021-10-22T15:00:00+00:00",
          "2021-10-22T19:00:00+00:00",
          "2021-10-22T20:00:00+00:00",
          "2021-10-24T21:00:00+00:00",
          "2021-10-25T01:00:00+00:00",
          "2021-10-25T10:00:00+00:00",
          "2021-10-25T14:00:00+00:00",
          "2021-10-25T16:00:00+00:00",
          "2021-10-25T18:00:00+00:00",
          "2021-10-25T20:00:00+00:00",
          "2021-10-26T01:00:00+00:00",
          "2021-10-26T10:00:00+00:00",
          "2021-10-26T16:00:00+00:00",
          "2021-10-27T02:00:00+00:00",
          "2021-10-27T06:00:00+00:00",
          "2021-10-27T10:00:00+00:00",
          "2021-10-27T11:00:00+00:00",
          "2021-10-27T19:00:00+00:00",
          "2021-10-28T03:00:00+00:00",
          "2021-10-28T05:00:00+00:00",
          "2021-10-28T07:00:00+00:00",
          "2021-10-28T14:00:00+00:00",
          "2021-10-28T20:00:00+00:00",
          "2021-10-28T22:00:00+00:00",
          "2021-10-29T01:00:00+00:00",
          "2021-10-29T03:00:00+00:00",
          "2021-10-29T06:00:00+00:00",
          "2021-10-29T08:00:00+00:00",
          "2021-10-29T14:00:00+00:00",
          "2021-10-29T20:00:00+00:00",
          "2021-11-01T03:00:00+00:00",
          "2021-11-01T14:00:00+00:00",
          "2021-11-01T22:00:00+00:00",
          "2021-11-02T09:00:00+00:00",
          "2021-11-02T12:00:00+00:00",
          "2021-11-02T13:00:00+00:00",
          "2021-11-02T14:00:00+00:00",
          "2021-11-02T16:00:00+00:00",
          "2021-11-03T03:00:00+00:00",
          "2021-11-03T14:00:00+00:00",
          "2021-11-03T16:00:00+00:00",
          "2021-11-03T20:00:00+00:00",
          "2021-11-04T17:00:00+00:00",
          "2021-11-04T20:00:00+00:00",
          "2021-11-04T21:00:00+00:00",
          "2021-11-05T14:00:00+00:00",
          "2021-11-08T05:00:00+00:00",
          "2021-11-08T20:00:00+00:00",
          "2021-11-09T07:00:00+00:00",
          "2021-11-09T12:00:00+00:00",
          "2021-11-09T16:00:00+00:00",
          "2021-11-09T21:00:00+00:00",
          "2021-11-10T01:00:00+00:00",
          "2021-11-10T05:00:00+00:00",
          "2021-11-10T11:00:00+00:00",
          "2021-11-11T00:00:00+00:00",
          "2021-11-11T01:00:00+00:00",
          "2021-11-11T05:00:00+00:00",
          "2021-11-11T06:00:00+00:00",
          "2021-11-11T07:00:00+00:00",
          "2021-11-11T08:00:00+00:00",
          "2021-11-11T10:00:00+00:00",
          "2021-11-11T13:00:00+00:00",
          "2021-11-11T18:00:00+00:00",
          "2021-11-11T22:00:00+00:00",
          "2021-11-11T23:00:00+00:00",
          "2021-11-12T01:00:00+00:00",
          "2021-11-12T04:00:00+00:00",
          "2021-11-12T11:00:00+00:00",
          "2021-11-15T00:00:00+00:00",
          "2021-11-15T01:00:00+00:00",
          "2021-11-15T03:00:00+00:00",
          "2021-11-16T01:00:00+00:00",
          "2021-11-16T02:00:00+00:00",
          "2021-11-16T03:00:00+00:00",
          "2021-11-16T11:00:00+00:00",
          "2021-11-16T12:00:00+00:00",
          "2021-11-16T14:00:00+00:00",
          "2021-11-16T23:00:00+00:00",
          "2021-11-17T08:00:00+00:00",
          "2021-11-17T21:00:00+00:00",
          "2021-11-18T02:00:00+00:00",
          "2021-11-18T19:00:00+00:00",
          "2021-11-19T04:00:00+00:00",
          "2021-11-19T05:00:00+00:00",
          "2021-11-19T14:00:00+00:00",
          "2021-11-22T00:00:00+00:00",
          "2021-11-22T01:00:00+00:00",
          "2021-11-22T12:00:00+00:00",
          "2021-11-22T18:00:00+00:00",
          "2021-11-23T03:00:00+00:00",
          "2021-11-23T15:00:00+00:00",
          "2021-11-23T22:00:00+00:00",
          "2021-11-24T02:00:00+00:00",
          "2021-11-24T08:00:00+00:00",
          "2021-11-24T15:00:00+00:00",
          "2021-11-24T18:00:00+00:00",
          "2021-11-24T21:00:00+00:00",
          "2021-11-25T01:00:00+00:00",
          "2021-11-25T02:00:00+00:00",
          "2021-11-25T11:00:00+00:00",
          "2021-11-26T07:00:00+00:00",
          "2021-11-26T19:00:00+00:00",
          "2021-11-28T22:00:00+00:00",
          "2021-11-29T00:00:00+00:00",
          "2021-11-29T02:00:00+00:00",
          "2021-11-29T04:00:00+00:00",
          "2021-11-29T08:00:00+00:00",
          "2021-11-29T10:00:00+00:00",
          "2021-11-30T02:00:00+00:00",
          "2021-12-01T07:00:00+00:00",
          "2021-12-02T10:00:00+00:00",
          "2021-12-02T21:00:00+00:00",
          "2021-12-03T03:00:00+00:00",
          "2021-12-03T06:00:00+00:00",
          "2021-12-03T07:00:00+00:00",
          "2021-12-03T11:00:00+00:00",
          "2021-12-05T22:00:00+00:00",
          "2021-12-05T23:00:00+00:00",
          "2021-12-06T03:00:00+00:00",
          "2021-12-06T08:00:00+00:00",
          "2021-12-06T21:00:00+00:00",
          "2021-12-06T22:00:00+00:00",
          "2021-12-07T04:00:00+00:00",
          "2021-12-07T07:00:00+00:00",
          "2021-12-07T10:00:00+00:00",
          "2021-12-07T15:00:00+00:00",
          "2021-12-08T03:00:00+00:00",
          "2021-12-08T08:00:00+00:00",
          "2021-12-08T13:00:00+00:00",
          "2021-12-08T14:00:00+00:00",
          "2021-12-08T18:00:00+00:00",
          "2021-12-08T19:00:00+00:00",
          "2021-12-08T23:00:00+00:00",
          "2021-12-09T00:00:00+00:00",
          "2021-12-09T03:00:00+00:00",
          "2021-12-09T08:00:00+00:00",
          "2021-12-09T13:00:00+00:00",
          "2021-12-09T20:00:00+00:00",
          "2021-12-10T00:00:00+00:00",
          "2021-12-10T18:00:00+00:00",
          "2021-12-12T22:00:00+00:00",
          "2021-12-13T05:00:00+00:00",
          "2021-12-13T07:00:00+00:00",
          "2021-12-13T12:00:00+00:00",
          "2021-12-13T13:00:00+00:00",
          "2021-12-13T14:00:00+00:00",
          "2021-12-13T16:00:00+00:00",
          "2021-12-13T20:00:00+00:00",
          "2021-12-13T21:00:00+00:00",
          "2021-12-13T22:00:00+00:00",
          "2021-12-14T00:00:00+00:00",
          "2021-12-14T01:00:00+00:00",
          "2021-12-14T04:00:00+00:00",
          "2021-12-14T06:00:00+00:00",
          "2021-12-14T09:00:00+00:00",
          "2021-12-14T11:00:00+00:00",
          "2021-12-14T15:00:00+00:00",
          "2021-12-14T21:00:00+00:00",
          "2021-12-15T00:00:00+00:00",
          "2021-12-15T12:00:00+00:00",
          "2021-12-15T19:00:00+00:00",
          "2021-12-15T20:00:00+00:00",
          "2021-12-16T07:00:00+00:00",
          "2021-12-16T19:00:00+00:00",
          "2021-12-16T22:00:00+00:00",
          "2021-12-17T08:00:00+00:00",
          "2021-12-17T12:00:00+00:00",
          "2021-12-17T19:00:00+00:00",
          "2021-12-19T23:00:00+00:00",
          "2021-12-20T10:00:00+00:00",
          "2021-12-20T12:00:00+00:00",
          "2021-12-20T15:00:00+00:00",
          "2021-12-20T16:00:00+00:00",
          "2021-12-20T17:00:00+00:00",
          "2021-12-20T20:00:00+00:00",
          "2021-12-20T23:00:00+00:00",
          "2021-12-21T00:00:00+00:00",
          "2021-12-21T02:00:00+00:00",
          "2021-12-21T04:00:00+00:00",
          "2021-12-21T08:00:00+00:00",
          "2021-12-21T11:00:00+00:00",
          "2021-12-21T12:00:00+00:00",
          "2021-12-21T13:00:00+00:00",
          "2021-12-22T04:00:00+00:00",
          "2021-12-22T13:00:00+00:00",
          "2021-12-22T16:00:00+00:00",
          "2021-12-22T21:00:00+00:00",
          "2021-12-22T23:00:00+00:00",
          "2021-12-23T00:00:00+00:00",
          "2021-12-23T03:00:00+00:00",
          "2021-12-23T05:00:00+00:00",
          "2021-12-23T07:00:00+00:00",
          "2021-12-23T08:00:00+00:00",
          "2021-12-23T09:00:00+00:00",
          "2021-12-23T10:00:00+00:00",
          "2021-12-23T13:00:00+00:00",
          "2021-12-23T21:00:00+00:00",
          "2021-12-24T00:00:00+00:00",
          "2021-12-24T01:00:00+00:00",
          "2021-12-24T08:00:00+00:00",
          "2021-12-27T06:00:00+00:00",
          "2021-12-27T08:00:00+00:00",
          "2021-12-28T04:00:00+00:00",
          "2021-12-28T15:00:00+00:00",
          "2021-12-29T07:00:00+00:00",
          "2021-12-29T11:00:00+00:00",
          "2021-12-29T13:00:00+00:00",
          "2021-12-29T16:00:00+00:00",
          "2021-12-30T13:00:00+00:00",
          "2021-12-30T16:00:00+00:00",
          "2021-12-31T13:00:00+00:00",
          "2021-12-31T21:00:00+00:00",
          "2022-01-03T05:00:00+00:00",
          "2022-01-03T12:00:00+00:00",
          "2022-01-03T15:00:00+00:00",
          "2022-01-04T07:00:00+00:00",
          "2022-01-04T12:00:00+00:00",
          "2022-01-05T02:00:00+00:00",
          "2022-01-05T03:00:00+00:00",
          "2022-01-05T04:00:00+00:00",
          "2022-01-05T10:00:00+00:00",
          "2022-01-05T23:00:00+00:00",
          "2022-01-06T00:00:00+00:00",
          "2022-01-06T03:00:00+00:00",
          "2022-01-07T08:00:00+00:00",
          "2022-01-07T09:00:00+00:00",
          "2022-01-07T16:00:00+00:00",
          "2022-01-10T00:00:00+00:00",
          "2022-01-10T07:00:00+00:00",
          "2022-01-10T13:00:00+00:00",
          "2022-01-10T14:00:00+00:00",
          "2022-01-10T21:00:00+00:00",
          "2022-01-10T22:00:00+00:00",
          "2022-01-11T03:00:00+00:00",
          "2022-01-11T08:00:00+00:00",
          "2022-01-12T08:00:00+00:00",
          "2022-01-12T14:00:00+00:00",
          "2022-01-12T19:00:00+00:00",
          "2022-01-13T04:00:00+00:00",
          "2022-01-13T07:00:00+00:00",
          "2022-01-13T08:00:00+00:00",
          "2022-01-13T09:00:00+00:00",
          "2022-01-13T12:00:00+00:00",
          "2022-01-14T05:00:00+00:00",
          "2022-01-14T09:00:00+00:00",
          "2022-01-14T11:00:00+00:00",
          "2022-01-14T12:00:00+00:00",
          "2022-01-14T14:00:00+00:00",
          "2022-01-14T15:00:00+00:00",
          "2022-01-14T20:00:00+00:00",
          "2022-01-16T23:00:00+00:00",
          "2022-01-17T00:00:00+00:00",
          "2022-01-17T07:00:00+00:00",
          "2022-01-17T12:00:00+00:00",
          "2022-01-17T21:00:00+00:00",
          "2022-01-17T22:00:00+00:00",
          "2022-01-18T00:00:00+00:00",
          "2022-01-18T06:00:00+00:00",
          "2022-01-18T11:00:00+00:00",
          "2022-01-18T12:00:00+00:00",
          "2022-01-18T14:00:00+00:00",
          "2022-01-18T18:00:00+00:00",
          "2022-01-18T22:00:00+00:00",
          "2022-01-18T23:00:00+00:00",
          "2022-01-19T06:00:00+00:00",
          "2022-01-19T08:00:00+00:00",
          "2022-01-19T09:00:00+00:00",
          "2022-01-19T11:00:00+00:00",
          "2022-01-19T16:00:00+00:00",
          "2022-01-19T22:00:00+00:00",
          "2022-01-20T17:00:00+00:00",
          "2022-01-21T05:00:00+00:00",
          "2022-01-21T14:00:00+00:00",
          "2022-01-23T22:00:00+00:00",
          "2022-01-24T03:00:00+00:00",
          "2022-01-24T05:00:00+00:00",
          "2022-01-24T13:00:00+00:00",
          "2022-01-24T20:00:00+00:00",
          "2022-01-25T08:00:00+00:00",
          "2022-01-26T07:00:00+00:00",
          "2022-01-27T00:00:00+00:00",
          "2022-01-27T01:00:00+00:00",
          "2022-01-27T12:00:00+00:00",
          "2022-01-27T14:00:00+00:00",
          "2022-01-27T18:00:00+00:00",
          "2022-01-27T20:00:00+00:00",
          "2022-01-27T23:00:00+00:00",
          "2022-01-28T01:00:00+00:00",
          "2022-01-28T02:00:00+00:00",
          "2022-01-31T00:00:00+00:00",
          "2022-01-31T23:00:00+00:00",
          "2022-02-01T10:00:00+00:00",
          "2022-02-01T12:00:00+00:00",
          "2022-02-01T17:00:00+00:00",
          "2022-02-01T20:00:00+00:00",
          "2022-02-02T02:00:00+00:00",
          "2022-02-02T05:00:00+00:00",
          "2022-02-02T09:00:00+00:00",
          "2022-02-02T12:00:00+00:00",
          "2022-02-02T13:00:00+00:00",
          "2022-02-02T16:00:00+00:00",
          "2022-02-02T17:00:00+00:00",
          "2022-02-02T22:00:00+00:00",
          "2022-02-03T02:00:00+00:00",
          "2022-02-04T00:00:00+00:00",
          "2022-02-04T01:00:00+00:00",
          "2022-02-04T02:00:00+00:00",
          "2022-02-04T16:00:00+00:00",
          "2022-02-07T06:00:00+00:00",
          "2022-02-07T09:00:00+00:00",
          "2022-02-07T13:00:00+00:00",
          "2022-02-07T20:00:00+00:00",
          "2022-02-08T03:00:00+00:00",
          "2022-02-08T13:00:00+00:00",
          "2022-02-08T23:00:00+00:00",
          "2022-02-09T02:00:00+00:00",
          "2022-02-09T03:00:00+00:00",
          "2022-02-09T07:00:00+00:00",
          "2022-02-09T14:00:00+00:00",
          "2022-02-09T17:00:00+00:00",
          "2022-02-10T01:00:00+00:00",
          "2022-02-10T05:00:00+00:00",
          "2022-02-10T13:00:00+00:00",
          "2022-02-10T16:00:00+00:00",
          "2022-02-10T20:00:00+00:00",
          "2022-02-10T21:00:00+00:00",
          "2022-02-11T12:00:00+00:00",
          "2022-02-14T06:00:00+00:00",
          "2022-02-14T12:00:00+00:00",
          "2022-02-14T15:00:00+00:00",
          "2022-02-14T17:00:00+00:00",
          "2022-02-14T20:00:00+00:00",
          "2022-02-14T23:00:00+00:00",
          "2022-02-15T01:00:00+00:00",
          "2022-02-15T03:00:00+00:00",
          "2022-02-15T06:00:00+00:00",
          "2022-02-15T08:00:00+00:00",
          "2022-02-15T12:00:00+00:00",
          "2022-02-15T17:00:00+00:00",
          "2022-02-15T20:00:00+00:00",
          "2022-02-16T10:00:00+00:00",
          "2022-02-16T15:00:00+00:00",
          "2022-02-16T20:00:00+00:00",
          "2022-02-17T05:00:00+00:00",
          "2022-02-17T08:00:00+00:00",
          "2022-02-17T09:00:00+00:00",
          "2022-02-17T13:00:00+00:00",
          "2022-02-17T14:00:00+00:00",
          "2022-02-17T15:00:00+00:00",
          "2022-02-17T19:00:00+00:00",
          "2022-02-17T22:00:00+00:00",
          "2022-02-17T23:00:00+00:00",
          "2022-02-18T02:00:00+00:00",
          "2022-02-18T07:00:00+00:00",
          "2022-02-18T11:00:00+00:00",
          "2022-02-18T18:00:00+00:00",
          "2022-02-21T04:00:00+00:00",
          "2022-02-21T17:00:00+00:00",
          "2022-02-21T18:00:00+00:00",
          "2022-02-22T00:00:00+00:00",
          "2022-02-22T07:00:00+00:00",
          "2022-02-22T10:00:00+00:00",
          "2022-02-22T14:00:00+00:00",
          "2022-02-22T20:00:00+00:00",
          "2022-02-23T14:00:00+00:00",
          "2022-02-23T21:00:00+00:00",
          "2022-02-24T06:00:00+00:00",
          "2022-02-24T12:00:00+00:00",
          "2022-02-24T15:00:00+00:00",
          "2022-02-24T18:00:00+00:00",
          "2022-02-25T11:00:00+00:00",
          "2022-02-25T20:00:00+00:00",
          "2022-02-28T01:00:00+00:00",
          "2022-02-28T05:00:00+00:00",
          "2022-02-28T08:00:00+00:00",
          "2022-02-28T13:00:00+00:00",
          "2022-03-01T02:00:00+00:00",
          "2022-03-01T07:00:00+00:00",
          "2022-03-01T08:00:00+00:00",
          "2022-03-01T17:00:00+00:00",
          "2022-03-02T01:00:00+00:00",
          "2022-03-02T10:00:00+00:00",
          "2022-03-02T11:00:00+00:00",
          "2022-03-02T20:00:00+00:00",
          "2022-03-04T03:00:00+00:00",
          "2022-03-07T11:00:00+00:00",
          "2022-03-07T15:00:00+00:00",
          "2022-03-07T19:00:00+00:00",
          "2022-03-08T06:00:00+00:00",
          "2022-03-09T11:00:00+00:00",
          "2022-03-09T12:00:00+00:00",
          "2022-03-09T20:00:00+00:00",
          "2022-03-10T00:00:00+00:00",
          "2022-03-10T05:00:00+00:00",
          "2022-03-10T08:00:00+00:00",
          "2022-03-10T12:00:00+00:00",
          "2022-03-10T13:00:00+00:00",
          "2022-03-10T20:00:00+00:00",
          "2022-03-10T22:00:00+00:00",
          "2022-03-11T03:00:00+00:00",
          "2022-03-11T04:00:00+00:00",
          "2022-03-11T08:00:00+00:00",
          "2022-03-11T10:00:00+00:00",
          "2022-03-11T20:00:00+00:00",
          "2022-03-11T21:00:00+00:00",
          "2022-03-14T01:00:00+00:00",
          "2022-03-14T17:00:00+00:00",
          "2022-03-15T04:00:00+00:00",
          "2022-03-15T16:00:00+00:00",
          "2022-03-16T03:00:00+00:00",
          "2022-03-16T19:00:00+00:00",
          "2022-03-17T05:00:00+00:00",
          "2022-03-17T09:00:00+00:00",
          "2022-03-17T11:00:00+00:00",
          "2022-03-17T21:00:00+00:00",
          "2022-03-18T02:00:00+00:00",
          "2022-03-18T07:00:00+00:00",
          "2022-03-18T10:00:00+00:00",
          "2022-03-18T14:00:00+00:00",
          "2022-03-20T23:00:00+00:00",
          "2022-03-21T03:00:00+00:00",
          "2022-03-22T01:00:00+00:00",
          "2022-03-22T02:00:00+00:00",
          "2022-03-23T00:00:00+00:00",
          "2022-03-23T23:00:00+00:00",
          "2022-03-24T03:00:00+00:00",
          "2022-03-25T09:00:00+00:00",
          "2022-03-25T13:00:00+00:00",
          "2022-03-27T23:00:00+00:00",
          "2022-03-28T11:00:00+00:00",
          "2022-03-28T15:00:00+00:00",
          "2022-03-28T20:00:00+00:00",
          "2022-03-29T04:00:00+00:00",
          "2022-03-29T08:00:00+00:00",
          "2022-03-29T18:00:00+00:00",
          "2022-03-29T19:00:00+00:00",
          "2022-03-29T22:00:00+00:00",
          "2022-03-30T14:00:00+00:00",
          "2022-03-31T00:00:00+00:00",
          "2022-03-31T03:00:00+00:00",
          "2022-03-31T08:00:00+00:00",
          "2022-03-31T11:00:00+00:00",
          "2022-03-31T13:00:00+00:00",
          "2022-03-31T16:00:00+00:00",
          "2022-03-31T17:00:00+00:00",
          "2022-04-01T00:00:00+00:00",
          "2022-04-01T14:00:00+00:00",
          "2022-04-01T17:00:00+00:00",
          "2022-04-01T20:00:00+00:00",
          "2022-04-04T05:00:00+00:00",
          "2022-04-04T09:00:00+00:00",
          "2022-04-04T14:00:00+00:00",
          "2022-04-04T16:00:00+00:00",
          "2022-04-04T17:00:00+00:00",
          "2022-04-04T18:00:00+00:00",
          "2022-04-05T07:00:00+00:00",
          "2022-04-05T08:00:00+00:00",
          "2022-04-05T12:00:00+00:00",
          "2022-04-05T15:00:00+00:00",
          "2022-04-05T17:00:00+00:00",
          "2022-04-05T18:00:00+00:00",
          "2022-04-05T20:00:00+00:00",
          "2022-04-06T00:00:00+00:00",
          "2022-04-06T07:00:00+00:00",
          "2022-04-06T10:00:00+00:00",
          "2022-04-07T13:00:00+00:00",
          "2022-04-08T06:00:00+00:00",
          "2022-04-08T18:00:00+00:00",
          "2022-04-10T22:00:00+00:00",
          "2022-04-11T04:00:00+00:00",
          "2022-04-11T06:00:00+00:00",
          "2022-04-11T10:00:00+00:00",
          "2022-04-12T02:00:00+00:00",
          "2022-04-13T01:00:00+00:00",
          "2022-04-13T03:00:00+00:00",
          "2022-04-14T10:00:00+00:00",
          "2022-04-15T00:00:00+00:00",
          "2022-04-15T12:00:00+00:00",
          "2022-04-15T20:00:00+00:00",
          "2022-04-18T04:00:00+00:00",
          "2022-04-19T15:00:00+00:00"
         ],
         "y": [
          -77.0000000000004,
          -30.799999999999713,
          42.40000000000022,
          -11.299999999998526,
          -99.79999999999905,
          106.40000000000177,
          5.200000000000486,
          -32.79999999999977,
          -62.799999999998064,
          -93.79999999999798,
          -119.79999999999734,
          -79.19999999999675,
          -89.39999999999714,
          -129.899999999996,
          -162.49999999999642,
          -152.09999999999602,
          -199.69999999999476,
          -209.09999999999417,
          -155.39999999999355,
          -246.1999999999936,
          -269.6999999999932,
          -345.99999999999125,
          -414.89999999999077,
          -478.2999999999908,
          -549.3999999999925,
          -571.1999999999928,
          -623.6999999999948,
          -556.5999999999949,
          -569.5999999999934,
          -539.9999999999939,
          -517.199999999993,
          -580.9999999999935,
          -574.4999999999932,
          -617.699999999992,
          -464.2999999999929,
          -494.2999999999918,
          -491.29999999999103,
          -496.0999999999903,
          -554.4999999999899,
          -588.6999999999897,
          -581.3999999999896,
          -569.7999999999897,
          -729.499999999988,
          -729.8999999999884,
          -843.0999999999883,
          -909.7999999999879,
          -1021.7999999999867,
          -1069.5999999999867,
          -1158.899999999987,
          -1305.3999999999874,
          -1055.5999999999874,
          -1055.1999999999882,
          -772.3999999999871,
          -271.29999999998614,
          -344.0999999999857,
          -263.6999999999855,
          -217.3999999999861,
          -374.2999999999859,
          -570.7999999999863,
          -689.3999999999872,
          -540.399999999987,
          -586.8999999999863,
          -717.0999999999866,
          -766.5999999999867,
          -931.5999999999863,
          -918.9999999999859,
          -924.4999999999864,
          -931.0999999999874,
          -907.8999999999875,
          -996.299999999987,
          -995.9999999999861,
          -1052.1999999999857,
          -1125.1999999999855,
          -1204.9999999999864,
          -1281.699999999986,
          -1168.0999999999879,
          -1324.699999999988,
          -1457.6999999999894,
          -1489.8999999999896,
          -1574.7999999999886,
          -1614.0999999999885,
          -1498.4999999999884,
          -1539.399999999989,
          -1541.1999999999896,
          -1357.89999999999,
          -1401.9999999999905,
          -1226.9999999999898,
          -1233.5999999999908,
          -1232.399999999992,
          -879.4999999999923,
          -915.2999999999914,
          -499.69999999999084,
          -558.0999999999909,
          -204.3999999999903,
          -224.19999999999013,
          42.70000000000957,
          352.2000000000095,
          339.8000000000093,
          422.90000000000964,
          403.7000000000093,
          394.500000000009,
          376.5000000000097,
          1224.1000000000101,
          1354.5000000000095,
          1572.3000000000097,
          1582.7000000000091,
          2120.900000000011,
          2087.1000000000104,
          2079.20000000001,
          2071.80000000001,
          2120.20000000001,
          2106.6000000000095,
          2108.5000000000086,
          2200.5000000000086,
          2165.1000000000076,
          2132.5000000000073,
          2205.2000000000085,
          2159.700000000008,
          2212.400000000009,
          2292.200000000009,
          2402.600000000008,
          2436.200000000008,
          2756.6000000000085,
          2768.7000000000103,
          2751.000000000011,
          2709.2000000000103,
          2948.600000000011,
          2897.7000000000103,
          2882.5000000000095,
          2879.00000000001,
          2878.2000000000094,
          3161.5000000000114,
          3090.5000000000114,
          3070.5000000000114,
          3082.600000000011,
          3072.30000000001,
          3024.6000000000085,
          2974.200000000007,
          2963.4000000000074,
          2889.0000000000073,
          2774.300000000005,
          2772.1000000000045,
          2725.500000000005,
          2659.700000000005,
          2934.5000000000045,
          2947.200000000004,
          2934.6000000000045,
          3030.4000000000046,
          2885.8000000000034,
          2893.9000000000033,
          2841.600000000005,
          2839.8000000000043,
          2774.6000000000035,
          2734.300000000003,
          2694.500000000003,
          2657.9000000000033,
          2664.8000000000043,
          2879.300000000004,
          3129.5000000000045,
          3122.100000000004,
          3014.1000000000035,
          3085.1000000000045,
          3132.9000000000037,
          3101.1000000000017,
          3106.1000000000013,
          3067.8000000000015,
          3203.300000000002,
          3223.2000000000025,
          3237.800000000003,
          3232.3000000000034,
          3115.7000000000035,
          3015.800000000002,
          2934.700000000001,
          2854.9000000000015,
          2842.9000000000005,
          2731.4000000000005,
          2719.7000000000007,
          2833.7000000000003,
          2803.4000000000005,
          2892.5000000000005,
          2977.600000000001,
          3172.7,
          3604.1000000000004,
          3541.2000000000003,
          3574.6000000000004,
          3695.2,
          3819.1999999999994,
          3829.3999999999996,
          3808.499999999998,
          3722.4999999999986,
          3715.6999999999985,
          3719.199999999998,
          3719.199999999998,
          3826.799999999998,
          3760.9999999999977,
          3699.3999999999974,
          3783.9999999999986,
          3735.199999999999,
          3762.1,
          3779.2999999999997,
          3721.3999999999987,
          3728.599999999999,
          3675.9,
          3667.2000000000007,
          3693.1000000000017,
          3984.4000000000015,
          3940.6000000000013,
          3844.600000000001,
          3808.900000000001,
          3759.7000000000007,
          3678.6000000000013,
          3901.900000000002,
          3902.600000000002,
          4290.600000000004,
          4153.200000000004,
          4622.700000000003,
          4662.4000000000015,
          4512.800000000003,
          4358.600000000002,
          4158.500000000002,
          4017.000000000002,
          3814.700000000002,
          3687.300000000002,
          3800.1000000000017,
          3953.8000000000025,
          3876.2000000000016,
          3845.7000000000016,
          3820.4000000000015,
          3820.300000000002,
          3826.2000000000035,
          3774.2000000000025,
          3782.0000000000027,
          3729.800000000003,
          3659.300000000003,
          3589.9000000000033,
          3598.0000000000023,
          3592.8000000000015,
          3590.200000000001,
          3596.2000000000016,
          3577.6000000000017,
          3367.6000000000026,
          3320.300000000001,
          3332.9000000000015,
          3331.2000000000016,
          3283.1000000000017,
          3269.7000000000025,
          3268.4000000000033,
          3251.1000000000045,
          3203.7000000000053,
          3092.300000000006,
          3074.800000000007,
          3020.1000000000063,
          2952.7000000000057,
          2908.5000000000077,
          2865.700000000008,
          2788.0000000000077,
          2744.400000000007,
          2571.200000000007,
          2507.9000000000055,
          2447.100000000006,
          2419.900000000005,
          2407.8000000000034,
          2348.1000000000054,
          2306.3000000000056,
          2370.5000000000055,
          2542.0000000000055,
          2627.6000000000054,
          2687.8000000000065,
          2791.0000000000077,
          2760.4000000000065,
          2944.7000000000057,
          2862.3000000000047,
          2868.300000000005,
          2830.2000000000053,
          2800.6000000000045,
          2709.5000000000036,
          2761.5000000000045,
          2759.900000000005,
          2736.3000000000047,
          2729.3000000000056,
          2698.100000000007,
          2663.500000000007,
          2612.900000000006,
          2598.000000000006,
          2580.200000000006,
          2578.2000000000066,
          2490.6000000000063,
          2412.0000000000064,
          2388.2000000000057,
          2305.6000000000063,
          2266.400000000006,
          2163.000000000006,
          2155.400000000005,
          2141.1000000000063,
          2015.0000000000068,
          1937.6000000000067,
          1912.6000000000072,
          1810.3000000000065,
          1584.4000000000055,
          1444.5000000000055,
          1331.4000000000055,
          1108.5000000000052,
          874.9000000000068,
          813.1000000000072,
          687.5000000000059,
          605.7000000000062,
          559.0000000000067,
          512.800000000006,
          630.2000000000053,
          794.8000000000054,
          919.1000000000049,
          911.1000000000047,
          1355.5000000000064,
          1403.2000000000066,
          1365.9000000000065,
          1900.500000000007,
          1770.6000000000054,
          1751.3000000000054,
          1678.3000000000068,
          1886.1000000000072,
          1908.0000000000075,
          1942.6000000000076,
          1924.6000000000074,
          2080.1000000000067,
          2142.4000000000065,
          2401.800000000007,
          2566.1000000000063,
          2573.6000000000054,
          2525.5000000000055,
          2490.4000000000055,
          2405.1000000000063,
          2331.1000000000067,
          2247.7000000000066,
          2176.2000000000066,
          2120.200000000006,
          2183.500000000007,
          2002.700000000006,
          1995.600000000005,
          1949.000000000005,
          2010.700000000005,
          1945.8000000000052,
          1882.8000000000031,
          1843.0000000000034,
          1847.500000000004,
          1814.3000000000043,
          1731.8000000000034,
          1776.300000000004,
          1627.2000000000044,
          1572.6000000000051,
          1493.2000000000046,
          1568.000000000005,
          1540.200000000005,
          1675.5000000000055,
          1672.5000000000036,
          1781.900000000003,
          1947.300000000003,
          1859.600000000002,
          1812.000000000002,
          1785.200000000002,
          1747.6000000000017,
          1691.3000000000015,
          1664.400000000001,
          1522.1000000000008,
          1422.4000000000028,
          1344.2000000000032,
          1215.4000000000021,
          1032.4000000000012,
          991.8000000000017,
          982.2000000000013,
          1022.6000000000017,
          1069.900000000003,
          1129.2000000000032,
          1211.700000000002,
          1152.6000000000024,
          1247.9000000000017,
          1185.9000000000026,
          1154.9000000000015,
          1360.3000000000015,
          1357.2000000000012,
          1314.7000000000003,
          1307.700000000002,
          1596.2000000000003,
          1743.6,
          1671.9999999999993,
          1739.7999999999995,
          1793.9999999999993,
          1789.599999999998,
          1801.7999999999981,
          1724.3999999999974,
          1707.7999999999963,
          1539.9999999999966,
          1474.299999999997,
          1509.199999999996,
          1452.1999999999955,
          1249.6999999999966,
          1167.8999999999955,
          1158.4999999999961,
          1292.7999999999965,
          1227.3999999999967,
          1348.1999999999953,
          1291.199999999996,
          1183.099999999996,
          1353.599999999996,
          1353.599999999996,
          1328.699999999995,
          1522.4999999999968,
          1519.499999999997,
          1443.2999999999975,
          1430.7999999999977,
          1357.499999999997,
          1321.4999999999966,
          1518.7999999999952,
          1479.2999999999956,
          1444.1999999999955,
          1584.4999999999945,
          1793.2999999999947,
          1824.999999999994,
          1803.0999999999938,
          1789.3999999999937,
          1805.699999999994,
          1940.8999999999937,
          1904.6999999999941,
          1989.0999999999942,
          1929.2999999999943,
          1905.4999999999939,
          1936.0999999999945,
          1994.7999999999947,
          1943.999999999995,
          1826.0999999999954,
          1809.4999999999955,
          1824.0999999999956,
          1679.6999999999955,
          1626.3999999999949,
          1691.0999999999954,
          1713.4999999999957,
          1705.2999999999963,
          1675.9999999999964,
          1609.0999999999967,
          1599.8999999999976,
          1560.7999999999968,
          1500.3999999999962,
          1476.799999999997,
          1398.8999999999974,
          1336.5999999999979,
          1317.3999999999987,
          1341.0000000000002,
          1387.900000000001,
          1442.7000000000014,
          1455.3000000000018,
          1777.1000000000026,
          1774.9000000000015,
          1755.7000000000023,
          1776.5000000000032,
          2059.0000000000036,
          1942.600000000005,
          1847.0000000000048,
          1846.2000000000053,
          1798.8000000000056,
          1754.2000000000057,
          1654.4000000000065,
          1616.3000000000077,
          1602.8000000000056,
          1633.7000000000053,
          1625.500000000007,
          1522.100000000009,
          1465.6000000000097,
          2348.8000000000116,
          2301.80000000001,
          2262.600000000011,
          2232.7000000000103,
          2210.10000000001,
          3220.50000000001,
          3221.0000000000114,
          3481.000000000012,
          3433.5000000000114,
          3389.1000000000113,
          3329.90000000001,
          3279.7000000000107,
          3208.100000000012,
          3138.5000000000123,
          3096.5000000000123,
          3385.900000000012,
          3670.700000000011,
          3920.5000000000114,
          3884.300000000012,
          3876.100000000014,
          3866.7000000000144,
          3807.9000000000133,
          4180.300000000013,
          4395.800000000013,
          4784.200000000013,
          4678.400000000013,
          4547.600000000013,
          4539.300000000013,
          4532.100000000013,
          4471.7000000000135,
          4394.600000000013,
          4372.200000000014,
          4327.300000000016,
          4271.500000000016,
          4914.900000000018,
          4811.100000000018,
          4716.500000000018,
          4789.600000000019,
          4732.200000000018,
          4724.600000000019,
          4698.500000000018,
          4783.300000000018,
          4795.900000000019,
          4873.700000000019,
          4847.300000000019,
          4579.600000000019,
          4535.800000000018,
          5095.000000000018,
          5136.000000000018,
          5012.900000000018,
          5043.900000000017,
          5070.400000000017,
          5827.800000000017,
          5663.300000000016,
          5487.600000000017,
          5614.800000000015,
          5716.000000000015,
          6517.500000000016,
          7137.5000000000155,
          7996.400000000015,
          8107.700000000016,
          8314.200000000015,
          8298.100000000015,
          8207.800000000016,
          8279.000000000016,
          8237.900000000016,
          8007.400000000016,
          7932.600000000016,
          7942.800000000015,
          7944.600000000016,
          7949.400000000016,
          7919.800000000016,
          7933.400000000016,
          8031.400000000016,
          8164.900000000016,
          8242.000000000016,
          8195.200000000017,
          8215.800000000017,
          8225.800000000017,
          8190.100000000017,
          8201.900000000016,
          8135.3000000000175,
          8091.900000000017,
          8006.900000000018,
          8105.700000000017,
          8192.100000000017,
          8257.100000000017,
          8250.900000000018,
          8249.700000000017,
          8238.100000000017,
          8191.300000000017,
          7995.8000000000175,
          7912.200000000017,
          7809.300000000018,
          7692.000000000018,
          7495.400000000018,
          7428.200000000017,
          7389.700000000018,
          7314.900000000018,
          7138.500000000018,
          7039.000000000019,
          6958.600000000019,
          6975.000000000018,
          7006.000000000018,
          7024.000000000018,
          7047.500000000019,
          6968.700000000017,
          6895.600000000018,
          6762.900000000017,
          6795.500000000016,
          6666.200000000016,
          6638.0000000000155,
          6638.800000000015,
          6631.000000000015,
          6465.600000000015,
          6317.5000000000155,
          6144.600000000015,
          6113.300000000016,
          6143.100000000016,
          6074.900000000015,
          6041.100000000016,
          5979.600000000016,
          5959.200000000015,
          5999.100000000015,
          5955.5000000000155,
          5989.900000000015,
          5880.100000000015,
          5829.400000000016,
          5750.600000000017,
          5684.500000000016,
          5409.100000000018,
          5359.500000000016,
          5250.900000000017,
          5113.900000000016,
          5139.100000000017,
          5075.200000000015,
          4887.800000000016,
          4913.600000000016,
          4874.800000000016
         ]
        }
       ],
       "layout": {
        "font": {
         "color": "#e1e1e1",
         "size": 10
        },
        "height": 400,
        "margin": {
         "b": 10,
         "l": 15,
         "r": 15
        },
        "paper_bgcolor": "#1e1e1e",
        "plot_bgcolor": "#1e1e1e",
        "template": {
         "data": {
          "bar": [
           {
            "error_x": {
             "color": "#2a3f5f"
            },
            "error_y": {
             "color": "#2a3f5f"
            },
            "marker": {
             "line": {
              "color": "#E5ECF6",
              "width": 0.5
             },
             "pattern": {
              "fillmode": "overlay",
              "size": 10,
              "solidity": 0.2
             }
            },
            "type": "bar"
           }
          ],
          "barpolar": [
           {
            "marker": {
             "line": {
              "color": "#E5ECF6",
              "width": 0.5
             },
             "pattern": {
              "fillmode": "overlay",
              "size": 10,
              "solidity": 0.2
             }
            },
            "type": "barpolar"
           }
          ],
          "carpet": [
           {
            "aaxis": {
             "endlinecolor": "#2a3f5f",
             "gridcolor": "white",
             "linecolor": "white",
             "minorgridcolor": "white",
             "startlinecolor": "#2a3f5f"
            },
            "baxis": {
             "endlinecolor": "#2a3f5f",
             "gridcolor": "white",
             "linecolor": "white",
             "minorgridcolor": "white",
             "startlinecolor": "#2a3f5f"
            },
            "type": "carpet"
           }
          ],
          "choropleth": [
           {
            "colorbar": {
             "outlinewidth": 0,
             "ticks": ""
            },
            "type": "choropleth"
           }
          ],
          "contour": [
           {
            "colorbar": {
             "outlinewidth": 0,
             "ticks": ""
            },
            "colorscale": [
             [
              0,
              "#0d0887"
             ],
             [
              0.1111111111111111,
              "#46039f"
             ],
             [
              0.2222222222222222,
              "#7201a8"
             ],
             [
              0.3333333333333333,
              "#9c179e"
             ],
             [
              0.4444444444444444,
              "#bd3786"
             ],
             [
              0.5555555555555556,
              "#d8576b"
             ],
             [
              0.6666666666666666,
              "#ed7953"
             ],
             [
              0.7777777777777778,
              "#fb9f3a"
             ],
             [
              0.8888888888888888,
              "#fdca26"
             ],
             [
              1,
              "#f0f921"
             ]
            ],
            "type": "contour"
           }
          ],
          "contourcarpet": [
           {
            "colorbar": {
             "outlinewidth": 0,
             "ticks": ""
            },
            "type": "contourcarpet"
           }
          ],
          "heatmap": [
           {
            "colorbar": {
             "outlinewidth": 0,
             "ticks": ""
            },
            "colorscale": [
             [
              0,
              "#0d0887"
             ],
             [
              0.1111111111111111,
              "#46039f"
             ],
             [
              0.2222222222222222,
              "#7201a8"
             ],
             [
              0.3333333333333333,
              "#9c179e"
             ],
             [
              0.4444444444444444,
              "#bd3786"
             ],
             [
              0.5555555555555556,
              "#d8576b"
             ],
             [
              0.6666666666666666,
              "#ed7953"
             ],
             [
              0.7777777777777778,
              "#fb9f3a"
             ],
             [
              0.8888888888888888,
              "#fdca26"
             ],
             [
              1,
              "#f0f921"
             ]
            ],
            "type": "heatmap"
           }
          ],
          "heatmapgl": [
           {
            "colorbar": {
             "outlinewidth": 0,
             "ticks": ""
            },
            "colorscale": [
             [
              0,
              "#0d0887"
             ],
             [
              0.1111111111111111,
              "#46039f"
             ],
             [
              0.2222222222222222,
              "#7201a8"
             ],
             [
              0.3333333333333333,
              "#9c179e"
             ],
             [
              0.4444444444444444,
              "#bd3786"
             ],
             [
              0.5555555555555556,
              "#d8576b"
             ],
             [
              0.6666666666666666,
              "#ed7953"
             ],
             [
              0.7777777777777778,
              "#fb9f3a"
             ],
             [
              0.8888888888888888,
              "#fdca26"
             ],
             [
              1,
              "#f0f921"
             ]
            ],
            "type": "heatmapgl"
           }
          ],
          "histogram": [
           {
            "marker": {
             "pattern": {
              "fillmode": "overlay",
              "size": 10,
              "solidity": 0.2
             }
            },
            "type": "histogram"
           }
          ],
          "histogram2d": [
           {
            "colorbar": {
             "outlinewidth": 0,
             "ticks": ""
            },
            "colorscale": [
             [
              0,
              "#0d0887"
             ],
             [
              0.1111111111111111,
              "#46039f"
             ],
             [
              0.2222222222222222,
              "#7201a8"
             ],
             [
              0.3333333333333333,
              "#9c179e"
             ],
             [
              0.4444444444444444,
              "#bd3786"
             ],
             [
              0.5555555555555556,
              "#d8576b"
             ],
             [
              0.6666666666666666,
              "#ed7953"
             ],
             [
              0.7777777777777778,
              "#fb9f3a"
             ],
             [
              0.8888888888888888,
              "#fdca26"
             ],
             [
              1,
              "#f0f921"
             ]
            ],
            "type": "histogram2d"
           }
          ],
          "histogram2dcontour": [
           {
            "colorbar": {
             "outlinewidth": 0,
             "ticks": ""
            },
            "colorscale": [
             [
              0,
              "#0d0887"
             ],
             [
              0.1111111111111111,
              "#46039f"
             ],
             [
              0.2222222222222222,
              "#7201a8"
             ],
             [
              0.3333333333333333,
              "#9c179e"
             ],
             [
              0.4444444444444444,
              "#bd3786"
             ],
             [
              0.5555555555555556,
              "#d8576b"
             ],
             [
              0.6666666666666666,
              "#ed7953"
             ],
             [
              0.7777777777777778,
              "#fb9f3a"
             ],
             [
              0.8888888888888888,
              "#fdca26"
             ],
             [
              1,
              "#f0f921"
             ]
            ],
            "type": "histogram2dcontour"
           }
          ],
          "mesh3d": [
           {
            "colorbar": {
             "outlinewidth": 0,
             "ticks": ""
            },
            "type": "mesh3d"
           }
          ],
          "parcoords": [
           {
            "line": {
             "colorbar": {
              "outlinewidth": 0,
              "ticks": ""
             }
            },
            "type": "parcoords"
           }
          ],
          "pie": [
           {
            "automargin": true,
            "type": "pie"
           }
          ],
          "scatter": [
           {
            "marker": {
             "colorbar": {
              "outlinewidth": 0,
              "ticks": ""
             }
            },
            "type": "scatter"
           }
          ],
          "scatter3d": [
           {
            "line": {
             "colorbar": {
              "outlinewidth": 0,
              "ticks": ""
             }
            },
            "marker": {
             "colorbar": {
              "outlinewidth": 0,
              "ticks": ""
             }
            },
            "type": "scatter3d"
           }
          ],
          "scattercarpet": [
           {
            "marker": {
             "colorbar": {
              "outlinewidth": 0,
              "ticks": ""
             }
            },
            "type": "scattercarpet"
           }
          ],
          "scattergeo": [
           {
            "marker": {
             "colorbar": {
              "outlinewidth": 0,
              "ticks": ""
             }
            },
            "type": "scattergeo"
           }
          ],
          "scattergl": [
           {
            "marker": {
             "colorbar": {
              "outlinewidth": 0,
              "ticks": ""
             }
            },
            "type": "scattergl"
           }
          ],
          "scattermapbox": [
           {
            "marker": {
             "colorbar": {
              "outlinewidth": 0,
              "ticks": ""
             }
            },
            "type": "scattermapbox"
           }
          ],
          "scatterpolar": [
           {
            "marker": {
             "colorbar": {
              "outlinewidth": 0,
              "ticks": ""
             }
            },
            "type": "scatterpolar"
           }
          ],
          "scatterpolargl": [
           {
            "marker": {
             "colorbar": {
              "outlinewidth": 0,
              "ticks": ""
             }
            },
            "type": "scatterpolargl"
           }
          ],
          "scatterternary": [
           {
            "marker": {
             "colorbar": {
              "outlinewidth": 0,
              "ticks": ""
             }
            },
            "type": "scatterternary"
           }
          ],
          "surface": [
           {
            "colorbar": {
             "outlinewidth": 0,
             "ticks": ""
            },
            "colorscale": [
             [
              0,
              "#0d0887"
             ],
             [
              0.1111111111111111,
              "#46039f"
             ],
             [
              0.2222222222222222,
              "#7201a8"
             ],
             [
              0.3333333333333333,
              "#9c179e"
             ],
             [
              0.4444444444444444,
              "#bd3786"
             ],
             [
              0.5555555555555556,
              "#d8576b"
             ],
             [
              0.6666666666666666,
              "#ed7953"
             ],
             [
              0.7777777777777778,
              "#fb9f3a"
             ],
             [
              0.8888888888888888,
              "#fdca26"
             ],
             [
              1,
              "#f0f921"
             ]
            ],
            "type": "surface"
           }
          ],
          "table": [
           {
            "cells": {
             "fill": {
              "color": "#EBF0F8"
             },
             "line": {
              "color": "white"
             }
            },
            "header": {
             "fill": {
              "color": "#C8D4E3"
             },
             "line": {
              "color": "white"
             }
            },
            "type": "table"
           }
          ]
         },
         "layout": {
          "annotationdefaults": {
           "arrowcolor": "#2a3f5f",
           "arrowhead": 0,
           "arrowwidth": 1
          },
          "autotypenumbers": "strict",
          "coloraxis": {
           "colorbar": {
            "outlinewidth": 0,
            "ticks": ""
           }
          },
          "colorscale": {
           "diverging": [
            [
             0,
             "#8e0152"
            ],
            [
             0.1,
             "#c51b7d"
            ],
            [
             0.2,
             "#de77ae"
            ],
            [
             0.3,
             "#f1b6da"
            ],
            [
             0.4,
             "#fde0ef"
            ],
            [
             0.5,
             "#f7f7f7"
            ],
            [
             0.6,
             "#e6f5d0"
            ],
            [
             0.7,
             "#b8e186"
            ],
            [
             0.8,
             "#7fbc41"
            ],
            [
             0.9,
             "#4d9221"
            ],
            [
             1,
             "#276419"
            ]
           ],
           "sequential": [
            [
             0,
             "#0d0887"
            ],
            [
             0.1111111111111111,
             "#46039f"
            ],
            [
             0.2222222222222222,
             "#7201a8"
            ],
            [
             0.3333333333333333,
             "#9c179e"
            ],
            [
             0.4444444444444444,
             "#bd3786"
            ],
            [
             0.5555555555555556,
             "#d8576b"
            ],
            [
             0.6666666666666666,
             "#ed7953"
            ],
            [
             0.7777777777777778,
             "#fb9f3a"
            ],
            [
             0.8888888888888888,
             "#fdca26"
            ],
            [
             1,
             "#f0f921"
            ]
           ],
           "sequentialminus": [
            [
             0,
             "#0d0887"
            ],
            [
             0.1111111111111111,
             "#46039f"
            ],
            [
             0.2222222222222222,
             "#7201a8"
            ],
            [
             0.3333333333333333,
             "#9c179e"
            ],
            [
             0.4444444444444444,
             "#bd3786"
            ],
            [
             0.5555555555555556,
             "#d8576b"
            ],
            [
             0.6666666666666666,
             "#ed7953"
            ],
            [
             0.7777777777777778,
             "#fb9f3a"
            ],
            [
             0.8888888888888888,
             "#fdca26"
            ],
            [
             1,
             "#f0f921"
            ]
           ]
          },
          "colorway": [
           "#636efa",
           "#EF553B",
           "#00cc96",
           "#ab63fa",
           "#FFA15A",
           "#19d3f3",
           "#FF6692",
           "#B6E880",
           "#FF97FF",
           "#FECB52"
          ],
          "font": {
           "color": "#2a3f5f"
          },
          "geo": {
           "bgcolor": "white",
           "lakecolor": "white",
           "landcolor": "#E5ECF6",
           "showlakes": true,
           "showland": true,
           "subunitcolor": "white"
          },
          "hoverlabel": {
           "align": "left"
          },
          "hovermode": "closest",
          "mapbox": {
           "style": "light"
          },
          "paper_bgcolor": "white",
          "plot_bgcolor": "#E5ECF6",
          "polar": {
           "angularaxis": {
            "gridcolor": "white",
            "linecolor": "white",
            "ticks": ""
           },
           "bgcolor": "#E5ECF6",
           "radialaxis": {
            "gridcolor": "white",
            "linecolor": "white",
            "ticks": ""
           }
          },
          "scene": {
           "xaxis": {
            "backgroundcolor": "#E5ECF6",
            "gridcolor": "white",
            "gridwidth": 2,
            "linecolor": "white",
            "showbackground": true,
            "ticks": "",
            "zerolinecolor": "white"
           },
           "yaxis": {
            "backgroundcolor": "#E5ECF6",
            "gridcolor": "white",
            "gridwidth": 2,
            "linecolor": "white",
            "showbackground": true,
            "ticks": "",
            "zerolinecolor": "white"
           },
           "zaxis": {
            "backgroundcolor": "#E5ECF6",
            "gridcolor": "white",
            "gridwidth": 2,
            "linecolor": "white",
            "showbackground": true,
            "ticks": "",
            "zerolinecolor": "white"
           }
          },
          "shapedefaults": {
           "line": {
            "color": "#2a3f5f"
           }
          },
          "ternary": {
           "aaxis": {
            "gridcolor": "white",
            "linecolor": "white",
            "ticks": ""
           },
           "baxis": {
            "gridcolor": "white",
            "linecolor": "white",
            "ticks": ""
           },
           "bgcolor": "#E5ECF6",
           "caxis": {
            "gridcolor": "white",
            "linecolor": "white",
            "ticks": ""
           }
          },
          "title": {
           "x": 0.05
          },
          "xaxis": {
           "automargin": true,
           "gridcolor": "white",
           "linecolor": "white",
           "ticks": "",
           "title": {
            "standoff": 15
           },
           "zerolinecolor": "white",
           "zerolinewidth": 2
          },
          "yaxis": {
           "automargin": true,
           "gridcolor": "white",
           "linecolor": "white",
           "ticks": "",
           "title": {
            "standoff": 15
           },
           "zerolinecolor": "white",
           "zerolinewidth": 2
          }
         }
        },
        "title": {
         "text": "MA_64_128"
        },
        "width": 1000,
        "xaxis": {
         "linecolor": "#3a4a54",
         "linewidth": 1,
         "showgrid": false,
         "zeroline": false
        },
        "yaxis": {
         "linecolor": "#3a4a54",
         "linewidth": 1,
         "showgrid": false,
         "zeroline": false
        }
       }
      }
     },
     "metadata": {},
     "output_type": "display_data"
    },
    {
     "data": {
      "application/vnd.plotly.v1+json": {
       "config": {
        "plotlyServerURL": "https://plot.ly"
       },
       "data": [
        {
         "line": {
          "color": "#3d825f",
          "shape": "spline",
          "width": 2
         },
         "mode": "lines",
         "name": "MA_32_256",
         "type": "scatter",
         "x": [
          "2021-09-14T17:00:00+00:00",
          "2021-09-14T23:00:00+00:00",
          "2021-09-15T03:00:00+00:00",
          "2021-09-15T05:00:00+00:00",
          "2021-09-15T07:00:00+00:00",
          "2021-09-15T17:00:00+00:00",
          "2021-09-16T10:00:00+00:00",
          "2021-09-16T11:00:00+00:00",
          "2021-09-16T13:00:00+00:00",
          "2021-09-16T18:00:00+00:00",
          "2021-09-16T21:00:00+00:00",
          "2021-09-17T16:00:00+00:00",
          "2021-09-19T22:00:00+00:00",
          "2021-09-20T07:00:00+00:00",
          "2021-09-20T14:00:00+00:00",
          "2021-09-20T18:00:00+00:00",
          "2021-09-20T19:00:00+00:00",
          "2021-09-20T21:00:00+00:00",
          "2021-09-20T23:00:00+00:00",
          "2021-09-21T05:00:00+00:00",
          "2021-09-21T14:00:00+00:00",
          "2021-09-21T16:00:00+00:00",
          "2021-09-21T18:00:00+00:00",
          "2021-09-22T22:00:00+00:00",
          "2021-09-23T08:00:00+00:00",
          "2021-09-23T12:00:00+00:00",
          "2021-09-23T19:00:00+00:00",
          "2021-09-23T21:00:00+00:00",
          "2021-09-24T01:00:00+00:00",
          "2021-09-24T04:00:00+00:00",
          "2021-09-24T06:00:00+00:00",
          "2021-09-24T07:00:00+00:00",
          "2021-09-24T10:00:00+00:00",
          "2021-09-26T22:00:00+00:00",
          "2021-09-27T06:00:00+00:00",
          "2021-09-27T23:00:00+00:00",
          "2021-09-28T17:00:00+00:00",
          "2021-09-29T15:00:00+00:00",
          "2021-09-29T17:00:00+00:00",
          "2021-09-29T23:00:00+00:00",
          "2021-10-01T04:00:00+00:00",
          "2021-10-01T09:00:00+00:00",
          "2021-10-04T00:00:00+00:00",
          "2021-10-04T13:00:00+00:00",
          "2021-10-04T15:00:00+00:00",
          "2021-10-05T01:00:00+00:00",
          "2021-10-05T10:00:00+00:00",
          "2021-10-05T14:00:00+00:00",
          "2021-10-06T00:00:00+00:00",
          "2021-10-06T08:00:00+00:00",
          "2021-10-06T17:00:00+00:00",
          "2021-10-07T00:00:00+00:00",
          "2021-10-07T05:00:00+00:00",
          "2021-10-07T11:00:00+00:00",
          "2021-10-07T20:00:00+00:00",
          "2021-10-08T01:00:00+00:00",
          "2021-10-08T09:00:00+00:00",
          "2021-10-10T23:00:00+00:00",
          "2021-10-11T18:00:00+00:00",
          "2021-10-12T13:00:00+00:00",
          "2021-10-13T08:00:00+00:00",
          "2021-10-13T16:00:00+00:00",
          "2021-10-14T08:00:00+00:00",
          "2021-10-14T12:00:00+00:00",
          "2021-10-15T14:00:00+00:00",
          "2021-10-19T21:00:00+00:00",
          "2021-10-20T00:00:00+00:00",
          "2021-10-21T10:00:00+00:00",
          "2021-10-22T00:00:00+00:00",
          "2021-10-22T14:00:00+00:00",
          "2021-10-25T05:00:00+00:00",
          "2021-10-25T08:00:00+00:00",
          "2021-10-25T20:00:00+00:00",
          "2021-10-26T04:00:00+00:00",
          "2021-10-26T08:00:00+00:00",
          "2021-10-26T14:00:00+00:00",
          "2021-10-26T15:00:00+00:00",
          "2021-10-26T20:00:00+00:00",
          "2021-10-26T21:00:00+00:00",
          "2021-10-27T09:00:00+00:00",
          "2021-10-27T12:00:00+00:00",
          "2021-10-27T16:00:00+00:00",
          "2021-10-27T20:00:00+00:00",
          "2021-10-27T21:00:00+00:00",
          "2021-10-27T22:00:00+00:00",
          "2021-10-28T09:00:00+00:00",
          "2021-10-28T13:00:00+00:00",
          "2021-10-28T19:00:00+00:00",
          "2021-10-28T22:00:00+00:00",
          "2021-10-29T02:00:00+00:00",
          "2021-10-29T04:00:00+00:00",
          "2021-10-29T07:00:00+00:00",
          "2021-10-29T16:00:00+00:00",
          "2021-10-29T19:00:00+00:00",
          "2021-10-31T23:00:00+00:00",
          "2021-11-01T02:00:00+00:00",
          "2021-11-01T03:00:00+00:00",
          "2021-11-01T10:00:00+00:00",
          "2021-11-01T21:00:00+00:00",
          "2021-11-02T06:00:00+00:00",
          "2021-11-02T16:00:00+00:00",
          "2021-11-02T23:00:00+00:00",
          "2021-11-03T00:00:00+00:00",
          "2021-11-03T20:00:00+00:00",
          "2021-11-04T12:00:00+00:00",
          "2021-11-04T13:00:00+00:00",
          "2021-11-05T09:00:00+00:00",
          "2021-11-08T07:00:00+00:00",
          "2021-11-08T14:00:00+00:00",
          "2021-11-08T20:00:00+00:00",
          "2021-11-09T08:00:00+00:00",
          "2021-11-09T22:00:00+00:00",
          "2021-11-09T23:00:00+00:00",
          "2021-11-10T11:00:00+00:00",
          "2021-11-11T00:00:00+00:00",
          "2021-11-11T01:00:00+00:00",
          "2021-11-11T11:00:00+00:00",
          "2021-11-12T03:00:00+00:00",
          "2021-11-12T07:00:00+00:00",
          "2021-11-15T10:00:00+00:00",
          "2021-11-15T16:00:00+00:00",
          "2021-11-15T18:00:00+00:00",
          "2021-11-15T20:00:00+00:00",
          "2021-11-16T05:00:00+00:00",
          "2021-11-16T06:00:00+00:00",
          "2021-11-16T18:00:00+00:00",
          "2021-11-17T00:00:00+00:00",
          "2021-11-17T07:00:00+00:00",
          "2021-11-18T01:00:00+00:00",
          "2021-11-18T14:00:00+00:00",
          "2021-11-18T17:00:00+00:00",
          "2021-11-19T09:00:00+00:00",
          "2021-11-22T04:00:00+00:00",
          "2021-11-22T12:00:00+00:00",
          "2021-11-22T18:00:00+00:00",
          "2021-11-22T19:00:00+00:00",
          "2021-11-23T02:00:00+00:00",
          "2021-11-24T03:00:00+00:00",
          "2021-11-24T15:00:00+00:00",
          "2021-11-24T21:00:00+00:00",
          "2021-11-25T10:00:00+00:00",
          "2021-11-25T14:00:00+00:00",
          "2021-11-26T04:00:00+00:00",
          "2021-11-26T06:00:00+00:00",
          "2021-11-26T07:00:00+00:00",
          "2021-11-26T11:00:00+00:00",
          "2021-11-26T12:00:00+00:00",
          "2021-11-26T16:00:00+00:00",
          "2021-11-26T18:00:00+00:00",
          "2021-11-26T19:00:00+00:00",
          "2021-11-26T20:00:00+00:00",
          "2021-11-29T01:00:00+00:00",
          "2021-11-30T08:00:00+00:00",
          "2021-12-06T16:00:00+00:00",
          "2021-12-07T15:00:00+00:00",
          "2021-12-07T16:00:00+00:00",
          "2021-12-07T17:00:00+00:00",
          "2021-12-07T22:00:00+00:00",
          "2021-12-08T17:00:00+00:00",
          "2021-12-08T19:00:00+00:00",
          "2021-12-08T21:00:00+00:00",
          "2021-12-08T22:00:00+00:00",
          "2021-12-09T00:00:00+00:00",
          "2021-12-09T10:00:00+00:00",
          "2021-12-09T19:00:00+00:00",
          "2021-12-10T01:00:00+00:00",
          "2021-12-10T07:00:00+00:00",
          "2021-12-10T11:00:00+00:00",
          "2021-12-10T13:00:00+00:00",
          "2021-12-10T17:00:00+00:00",
          "2021-12-10T18:00:00+00:00",
          "2021-12-10T19:00:00+00:00",
          "2021-12-12T22:00:00+00:00",
          "2021-12-12T23:00:00+00:00",
          "2021-12-13T00:00:00+00:00",
          "2021-12-13T10:00:00+00:00",
          "2021-12-13T14:00:00+00:00",
          "2021-12-13T18:00:00+00:00",
          "2021-12-13T22:00:00+00:00",
          "2021-12-14T01:00:00+00:00",
          "2021-12-14T04:00:00+00:00",
          "2021-12-14T09:00:00+00:00",
          "2021-12-14T23:00:00+00:00",
          "2021-12-15T04:00:00+00:00",
          "2021-12-15T07:00:00+00:00",
          "2021-12-15T13:00:00+00:00",
          "2021-12-16T01:00:00+00:00",
          "2021-12-16T07:00:00+00:00",
          "2021-12-16T11:00:00+00:00",
          "2021-12-16T16:00:00+00:00",
          "2021-12-16T18:00:00+00:00",
          "2021-12-16T19:00:00+00:00",
          "2021-12-17T01:00:00+00:00",
          "2021-12-17T02:00:00+00:00",
          "2021-12-17T07:00:00+00:00",
          "2021-12-17T15:00:00+00:00",
          "2021-12-17T16:00:00+00:00",
          "2021-12-19T23:00:00+00:00",
          "2021-12-20T00:00:00+00:00",
          "2021-12-20T05:00:00+00:00",
          "2021-12-20T12:00:00+00:00",
          "2021-12-20T13:00:00+00:00",
          "2021-12-20T15:00:00+00:00",
          "2021-12-20T16:00:00+00:00",
          "2021-12-21T04:00:00+00:00",
          "2021-12-21T06:00:00+00:00",
          "2021-12-21T16:00:00+00:00",
          "2021-12-21T20:00:00+00:00",
          "2021-12-21T22:00:00+00:00",
          "2021-12-21T23:00:00+00:00",
          "2021-12-22T05:00:00+00:00",
          "2021-12-22T06:00:00+00:00",
          "2021-12-22T10:00:00+00:00",
          "2021-12-22T15:00:00+00:00",
          "2021-12-22T16:00:00+00:00",
          "2021-12-22T17:00:00+00:00",
          "2021-12-22T18:00:00+00:00",
          "2021-12-22T22:00:00+00:00",
          "2021-12-23T00:00:00+00:00",
          "2021-12-23T09:00:00+00:00",
          "2021-12-23T20:00:00+00:00",
          "2021-12-24T01:00:00+00:00",
          "2021-12-27T13:00:00+00:00",
          "2021-12-28T06:00:00+00:00",
          "2021-12-28T10:00:00+00:00",
          "2021-12-29T06:00:00+00:00",
          "2021-12-30T04:00:00+00:00",
          "2021-12-31T04:00:00+00:00",
          "2021-12-31T12:00:00+00:00",
          "2021-12-31T20:00:00+00:00",
          "2022-01-03T01:00:00+00:00",
          "2022-01-04T09:00:00+00:00",
          "2022-01-04T20:00:00+00:00",
          "2022-01-04T23:00:00+00:00",
          "2022-01-05T01:00:00+00:00",
          "2022-01-06T03:00:00+00:00",
          "2022-01-06T10:00:00+00:00",
          "2022-01-06T16:00:00+00:00",
          "2022-01-07T00:00:00+00:00",
          "2022-01-10T01:00:00+00:00",
          "2022-01-10T05:00:00+00:00",
          "2022-01-10T09:00:00+00:00",
          "2022-01-10T22:00:00+00:00",
          "2022-01-11T09:00:00+00:00",
          "2022-01-12T21:00:00+00:00",
          "2022-01-13T07:00:00+00:00",
          "2022-01-13T11:00:00+00:00",
          "2022-01-14T05:00:00+00:00",
          "2022-01-14T08:00:00+00:00",
          "2022-01-14T12:00:00+00:00",
          "2022-01-14T19:00:00+00:00",
          "2022-01-14T21:00:00+00:00",
          "2022-01-17T20:00:00+00:00",
          "2022-01-18T00:00:00+00:00",
          "2022-01-18T07:00:00+00:00",
          "2022-01-18T10:00:00+00:00",
          "2022-01-18T13:00:00+00:00",
          "2022-01-19T05:00:00+00:00",
          "2022-01-19T06:00:00+00:00",
          "2022-01-19T16:00:00+00:00",
          "2022-01-20T16:00:00+00:00",
          "2022-01-20T19:00:00+00:00",
          "2022-01-21T03:00:00+00:00",
          "2022-01-21T20:00:00+00:00",
          "2022-01-24T00:00:00+00:00",
          "2022-01-24T07:00:00+00:00",
          "2022-01-24T21:00:00+00:00",
          "2022-01-25T17:00:00+00:00",
          "2022-01-26T11:00:00+00:00",
          "2022-01-27T03:00:00+00:00",
          "2022-01-27T08:00:00+00:00",
          "2022-01-27T11:00:00+00:00",
          "2022-01-27T20:00:00+00:00",
          "2022-01-28T14:00:00+00:00",
          "2022-01-31T09:00:00+00:00",
          "2022-01-31T13:00:00+00:00",
          "2022-02-01T03:00:00+00:00",
          "2022-02-01T13:00:00+00:00",
          "2022-02-01T14:00:00+00:00",
          "2022-02-01T20:00:00+00:00",
          "2022-02-02T01:00:00+00:00",
          "2022-02-02T03:00:00+00:00",
          "2022-02-02T10:00:00+00:00",
          "2022-02-02T12:00:00+00:00",
          "2022-02-02T17:00:00+00:00",
          "2022-02-03T07:00:00+00:00",
          "2022-02-03T13:00:00+00:00",
          "2022-02-03T15:00:00+00:00",
          "2022-02-03T21:00:00+00:00",
          "2022-02-04T00:00:00+00:00",
          "2022-02-04T04:00:00+00:00",
          "2022-02-04T07:00:00+00:00",
          "2022-02-04T10:00:00+00:00",
          "2022-02-06T23:00:00+00:00",
          "2022-02-07T03:00:00+00:00",
          "2022-02-07T12:00:00+00:00",
          "2022-02-07T13:00:00+00:00",
          "2022-02-07T16:00:00+00:00",
          "2022-02-07T21:00:00+00:00",
          "2022-02-08T06:00:00+00:00",
          "2022-02-08T07:00:00+00:00",
          "2022-02-08T16:00:00+00:00",
          "2022-02-09T06:00:00+00:00",
          "2022-02-09T09:00:00+00:00",
          "2022-02-09T10:00:00+00:00",
          "2022-02-09T12:00:00+00:00",
          "2022-02-09T17:00:00+00:00",
          "2022-02-09T21:00:00+00:00",
          "2022-02-10T16:00:00+00:00",
          "2022-02-11T03:00:00+00:00",
          "2022-02-11T04:00:00+00:00",
          "2022-02-11T13:00:00+00:00",
          "2022-02-11T14:00:00+00:00",
          "2022-02-14T05:00:00+00:00",
          "2022-02-14T08:00:00+00:00",
          "2022-02-14T09:00:00+00:00",
          "2022-02-14T13:00:00+00:00",
          "2022-02-14T16:00:00+00:00",
          "2022-02-14T18:00:00+00:00",
          "2022-02-14T20:00:00+00:00",
          "2022-02-14T21:00:00+00:00",
          "2022-02-14T22:00:00+00:00",
          "2022-02-15T00:00:00+00:00",
          "2022-02-15T04:00:00+00:00",
          "2022-02-15T19:00:00+00:00",
          "2022-02-16T02:00:00+00:00",
          "2022-02-16T10:00:00+00:00",
          "2022-02-16T12:00:00+00:00",
          "2022-02-16T17:00:00+00:00",
          "2022-02-16T19:00:00+00:00",
          "2022-02-16T20:00:00+00:00",
          "2022-02-16T23:00:00+00:00",
          "2022-02-17T02:00:00+00:00",
          "2022-02-17T03:00:00+00:00",
          "2022-02-17T09:00:00+00:00",
          "2022-02-17T13:00:00+00:00",
          "2022-02-17T18:00:00+00:00",
          "2022-02-20T23:00:00+00:00",
          "2022-02-21T12:00:00+00:00",
          "2022-02-21T16:00:00+00:00",
          "2022-02-23T06:00:00+00:00",
          "2022-02-23T17:00:00+00:00",
          "2022-02-24T04:00:00+00:00",
          "2022-02-24T10:00:00+00:00",
          "2022-02-24T11:00:00+00:00",
          "2022-02-25T04:00:00+00:00",
          "2022-02-25T14:00:00+00:00",
          "2022-02-27T23:00:00+00:00",
          "2022-02-28T11:00:00+00:00",
          "2022-02-28T21:00:00+00:00",
          "2022-02-28T22:00:00+00:00",
          "2022-03-01T04:00:00+00:00",
          "2022-03-01T11:00:00+00:00",
          "2022-03-01T16:00:00+00:00",
          "2022-03-02T07:00:00+00:00",
          "2022-03-02T16:00:00+00:00",
          "2022-03-02T21:00:00+00:00",
          "2022-03-04T20:00:00+00:00",
          "2022-03-07T05:00:00+00:00",
          "2022-03-07T08:00:00+00:00",
          "2022-03-07T11:00:00+00:00",
          "2022-03-07T14:00:00+00:00",
          "2022-03-07T15:00:00+00:00",
          "2022-03-07T17:00:00+00:00",
          "2022-03-08T17:00:00+00:00",
          "2022-03-09T14:00:00+00:00",
          "2022-03-10T06:00:00+00:00",
          "2022-03-10T09:00:00+00:00",
          "2022-03-10T11:00:00+00:00",
          "2022-03-10T15:00:00+00:00",
          "2022-03-11T08:00:00+00:00",
          "2022-03-14T15:00:00+00:00",
          "2022-03-15T05:00:00+00:00",
          "2022-03-15T11:00:00+00:00",
          "2022-03-15T13:00:00+00:00",
          "2022-03-16T16:00:00+00:00",
          "2022-03-16T17:00:00+00:00",
          "2022-03-16T20:00:00+00:00",
          "2022-03-17T10:00:00+00:00",
          "2022-03-17T18:00:00+00:00",
          "2022-03-20T21:00:00+00:00",
          "2022-03-21T15:00:00+00:00",
          "2022-03-22T04:00:00+00:00",
          "2022-03-23T00:00:00+00:00",
          "2022-03-23T15:00:00+00:00",
          "2022-03-24T02:00:00+00:00",
          "2022-03-25T03:00:00+00:00",
          "2022-03-25T16:00:00+00:00",
          "2022-03-27T23:00:00+00:00",
          "2022-03-28T12:00:00+00:00",
          "2022-03-28T20:00:00+00:00",
          "2022-03-29T09:00:00+00:00",
          "2022-03-29T18:00:00+00:00",
          "2022-03-29T22:00:00+00:00",
          "2022-03-30T15:00:00+00:00",
          "2022-03-30T18:00:00+00:00",
          "2022-03-31T00:00:00+00:00",
          "2022-03-31T02:00:00+00:00",
          "2022-03-31T18:00:00+00:00",
          "2022-04-01T13:00:00+00:00",
          "2022-04-04T19:00:00+00:00",
          "2022-04-05T03:00:00+00:00",
          "2022-04-05T14:00:00+00:00",
          "2022-04-05T16:00:00+00:00",
          "2022-04-05T17:00:00+00:00",
          "2022-04-07T09:00:00+00:00",
          "2022-04-07T17:00:00+00:00",
          "2022-04-07T21:00:00+00:00",
          "2022-04-08T01:00:00+00:00",
          "2022-04-10T23:00:00+00:00",
          "2022-04-11T07:00:00+00:00",
          "2022-04-11T10:00:00+00:00",
          "2022-04-11T11:00:00+00:00",
          "2022-04-12T23:00:00+00:00",
          "2022-04-14T11:00:00+00:00",
          "2022-04-14T15:00:00+00:00",
          "2022-04-14T20:00:00+00:00",
          "2022-04-18T10:00:00+00:00"
         ],
         "y": [
          -35.69999999999993,
          -57.30000000000075,
          -131.10000000000127,
          15.499999999998778,
          21.699999999997118,
          -5.900000000001619,
          -129.00000000000205,
          -212.60000000000238,
          -284.400000000002,
          -118.00000000000216,
          -166.70000000000258,
          -216.100000000002,
          -260.8000000000023,
          -398.2000000000031,
          -454.0000000000038,
          -509.2000000000046,
          -565.200000000005,
          -629.2000000000057,
          -573.000000000005,
          -555.6000000000042,
          -469.80000000000393,
          -246.90000000000362,
          212.5999999999957,
          180.599999999997,
          645.5999999999968,
          997.799999999996,
          1594.999999999996,
          2087.399999999995,
          2002.5999999999947,
          1889.7999999999952,
          1767.199999999994,
          1667.6999999999935,
          1578.4999999999939,
          1531.6999999999937,
          1523.7999999999952,
          1426.2999999999947,
          1349.9999999999945,
          1287.8999999999937,
          1235.2999999999956,
          1196.699999999996,
          1522.899999999997,
          1405.699999999997,
          1506.0999999999965,
          1925.3999999999967,
          2476.1999999999975,
          2433.699999999998,
          2395.1999999999975,
          2365.399999999998,
          2312.9999999999986,
          2273.0999999999995,
          2232.899999999999,
          2212.4000000000005,
          2164.6000000000004,
          2140.2999999999997,
          2265.2000000000007,
          2226.3999999999996,
          2561.7999999999997,
          2799.0999999999985,
          2949.8999999999983,
          3046.099999999999,
          3012.899999999998,
          3082.2999999999975,
          3056.3999999999965,
          3497.799999999997,
          3598.599999999998,
          3559.3999999999987,
          3523.1999999999994,
          3776.299999999999,
          3809.399999999999,
          3728.9999999999986,
          3673.5999999999985,
          3651.1999999999985,
          3603.8999999999987,
          3925.199999999998,
          3848.599999999998,
          3755.399999999997,
          3664.9999999999977,
          3583.7999999999984,
          3525.7999999999984,
          3670.1999999999985,
          3544.5999999999995,
          3431.5,
          3387.899999999999,
          3615.5,
          3558.6000000000004,
          3536.7999999999997,
          3574.999999999999,
          3405.800000000001,
          3282.7000000000007,
          3172.000000000002,
          3089.6000000000017,
          3137.5000000000023,
          3214.100000000002,
          3427.300000000002,
          3689.100000000003,
          3894.4000000000024,
          3822.4000000000015,
          3785.8000000000015,
          3740.100000000002,
          3780.7000000000025,
          4089.200000000003,
          3986.2000000000035,
          3950.200000000003,
          3931.0000000000023,
          3906.5000000000027,
          3808.5000000000023,
          3794.5000000000023,
          3885.100000000003,
          3764.600000000003,
          3657.9000000000037,
          3632.700000000004,
          3967.600000000004,
          3833.5000000000045,
          3784.9000000000046,
          3860.400000000004,
          3792.200000000004,
          3709.6000000000045,
          3637.6000000000035,
          4007.4000000000037,
          3917.9000000000037,
          3929.500000000003,
          3809.700000000002,
          3736.6000000000026,
          3739.900000000002,
          3733.9000000000024,
          3638.500000000003,
          3615.9000000000033,
          3610.9000000000015,
          3535.1000000000017,
          3507.900000000001,
          3460.9000000000005,
          3398.100000000001,
          3578.600000000002,
          3816.700000000002,
          3820.5000000000005,
          3682.099999999999,
          3832.3999999999987,
          4180.899999999997,
          4053.8999999999974,
          3864.0999999999976,
          3680.6999999999975,
          3630.2999999999984,
          3786.699999999997,
          3973.0999999999976,
          3904.2999999999975,
          3843.4999999999986,
          3782.4999999999986,
          3798.9999999999977,
          3594.7999999999965,
          3488.4999999999973,
          3448.499999999998,
          3463.199999999998,
          3361.3999999999974,
          3353.699999999998,
          2952.1999999999966,
          2849.7999999999965,
          2736.999999999996,
          2612.3999999999965,
          2468.799999999997,
          2412.7999999999965,
          2363.1999999999957,
          2230.1999999999957,
          2203.499999999994,
          2195.599999999995,
          2202.499999999995,
          2197.3999999999946,
          2150.1999999999953,
          2129.899999999995,
          2098.5999999999945,
          2095.799999999994,
          2094.8999999999933,
          2092.999999999993,
          2039.099999999993,
          2031.3999999999933,
          1999.8999999999935,
          1974.899999999992,
          1899.4999999999927,
          2663.499999999995,
          2700.099999999994,
          2740.6999999999935,
          2708.6999999999925,
          2872.3999999999924,
          2888.4999999999923,
          2857.899999999994,
          2819.199999999994,
          2765.5999999999935,
          2730.4999999999923,
          2578.299999999993,
          2503.7999999999934,
          2424.299999999992,
          2359.499999999992,
          2288.999999999992,
          2286.2999999999915,
          2235.8999999999924,
          2203.7999999999925,
          2133.0999999999913,
          2073.199999999992,
          1987.599999999992,
          1890.1999999999916,
          1647.999999999991,
          1603.7999999999922,
          1497.8999999999924,
          1474.199999999993,
          1446.399999999993,
          1414.0999999999924,
          1635.9999999999932,
          1760.2999999999927,
          1943.3999999999944,
          2396.099999999993,
          2542.799999999993,
          3135.199999999995,
          3080.1999999999953,
          3155.599999999996,
          3132.5999999999963,
          3092.7999999999965,
          3082.2999999999965,
          3062.7999999999965,
          3040.999999999996,
          3070.7999999999956,
          3238.5999999999954,
          3243.299999999995,
          3483.0999999999963,
          3679.299999999996,
          3662.699999999996,
          3650.1999999999966,
          3617.699999999997,
          3594.799999999998,
          3669.8999999999983,
          3905.399999999998,
          3880.3999999999983,
          3799.2999999999975,
          3651.899999999998,
          3631.399999999997,
          3607.499999999997,
          3471.4999999999964,
          3461.1999999999953,
          3401.3999999999955,
          3413.999999999996,
          3361.599999999996,
          3341.399999999997,
          3376.999999999997,
          3477.4999999999977,
          3427.8999999999983,
          3500.0999999999976,
          3422.9999999999964,
          3356.3999999999965,
          3292.3999999999965,
          3431.3999999999965,
          3565.799999999999,
          3699.9999999999973,
          3634.2999999999975,
          3731.0999999999976,
          3657.999999999998,
          3628.999999999998,
          3645.599999999998,
          3737.4999999999973,
          3736.3999999999987,
          3709.3999999999996,
          3674.7999999999993,
          3556.1999999999994,
          3527.9000000000005,
          3589.800000000002,
          3852.300000000002,
          3791.1000000000017,
          3761.1000000000017,
          3891.500000000003,
          3756.1000000000045,
          3743.7000000000044,
          3654.4000000000055,
          3646.900000000005,
          3591.000000000004,
          3593.300000000004,
          3608.5000000000036,
          3691.400000000005,
          3732.4000000000074,
          3862.100000000009,
          4032.9000000000087,
          4175.300000000009,
          4137.400000000009,
          4140.600000000009,
          4065.9000000000087,
          4100.6000000000095,
          4091.700000000011,
          4082.1000000000126,
          4011.1000000000126,
          3980.000000000013,
          3975.7000000000126,
          3975.0000000000136,
          3943.0000000000136,
          3911.4000000000133,
          3842.600000000013,
          3822.100000000013,
          3817.300000000013,
          3794.3000000000134,
          3763.5000000000136,
          3732.7000000000144,
          3720.5000000000146,
          3726.900000000015,
          3714.100000000016,
          3687.1000000000154,
          3670.100000000015,
          3673.9000000000156,
          3639.600000000015,
          3622.2000000000153,
          3479.400000000017,
          3436.8000000000175,
          3407.700000000018,
          3352.100000000019,
          3268.700000000019,
          3222.8000000000193,
          3134.80000000002,
          3899.5000000000205,
          3897.900000000021,
          3877.7000000000207,
          3746.900000000021,
          3688.7000000000216,
          3968.5000000000227,
          3896.0000000000227,
          4116.7000000000235,
          4115.000000000024,
          4246.400000000023,
          4215.300000000024,
          4123.200000000025,
          4100.200000000025,
          4085.900000000025,
          4906.100000000025,
          5149.100000000026,
          5144.100000000025,
          5343.900000000025,
          6715.300000000026,
          6729.000000000026,
          6669.000000000026,
          7012.600000000027,
          7007.300000000027,
          6991.900000000027,
          6917.700000000028,
          6925.500000000028,
          6843.500000000028,
          7047.700000000029,
          7280.200000000031,
          7240.4000000000315,
          7139.500000000032,
          7495.100000000032,
          8257.400000000032,
          8150.200000000032,
          8102.4000000000315,
          7958.500000000032,
          7913.200000000032,
          7896.600000000032,
          7795.700000000033,
          7712.300000000032,
          7637.500000000032,
          7566.600000000033,
          7526.000000000033,
          7464.300000000033,
          7387.000000000033,
          7328.2000000000335,
          7288.7000000000335,
          7232.300000000034,
          7188.400000000033,
          7082.300000000034,
          7048.000000000034,
          7094.2000000000335,
          7058.900000000034,
          7013.100000000035,
          6998.500000000035,
          6861.700000000035,
          6882.100000000033,
          7570.100000000033,
          7698.300000000034,
          7633.600000000034,
          7473.2000000000335,
          7193.900000000033,
          7091.400000000032,
          7065.800000000034,
          7114.400000000032,
          7280.700000000032,
          7230.700000000033,
          7293.7000000000335,
          7234.7000000000335,
          7279.600000000032,
          7251.700000000033,
          7180.300000000032,
          7072.000000000032,
          6998.900000000031,
          6996.50000000003,
          7032.80000000003,
          7026.6000000000295,
          6919.000000000031,
          6848.500000000031,
          6826.9000000000315,
          6747.500000000031,
          6653.000000000031,
          6335.20000000003,
          6197.800000000029,
          6161.80000000003,
          6083.00000000003,
          6016.40000000003,
          6024.20000000003,
          5992.10000000003,
          5802.30000000003,
          5775.80000000003,
          5740.70000000003,
          5559.1000000000295,
          5527.30000000003,
          5484.400000000029,
          5490.6000000000295,
          5398.1000000000295,
          5370.90000000003,
          5280.6000000000295,
          5108.40000000003,
          5048.500000000029,
          4961.700000000029,
          4723.800000000029,
          4671.400000000031,
          4656.70000000003,
          4647.40000000003,
          4524.30000000003
         ]
        }
       ],
       "layout": {
        "font": {
         "color": "#e1e1e1",
         "size": 10
        },
        "height": 400,
        "margin": {
         "b": 10,
         "l": 15,
         "r": 15
        },
        "paper_bgcolor": "#1e1e1e",
        "plot_bgcolor": "#1e1e1e",
        "template": {
         "data": {
          "bar": [
           {
            "error_x": {
             "color": "#2a3f5f"
            },
            "error_y": {
             "color": "#2a3f5f"
            },
            "marker": {
             "line": {
              "color": "#E5ECF6",
              "width": 0.5
             },
             "pattern": {
              "fillmode": "overlay",
              "size": 10,
              "solidity": 0.2
             }
            },
            "type": "bar"
           }
          ],
          "barpolar": [
           {
            "marker": {
             "line": {
              "color": "#E5ECF6",
              "width": 0.5
             },
             "pattern": {
              "fillmode": "overlay",
              "size": 10,
              "solidity": 0.2
             }
            },
            "type": "barpolar"
           }
          ],
          "carpet": [
           {
            "aaxis": {
             "endlinecolor": "#2a3f5f",
             "gridcolor": "white",
             "linecolor": "white",
             "minorgridcolor": "white",
             "startlinecolor": "#2a3f5f"
            },
            "baxis": {
             "endlinecolor": "#2a3f5f",
             "gridcolor": "white",
             "linecolor": "white",
             "minorgridcolor": "white",
             "startlinecolor": "#2a3f5f"
            },
            "type": "carpet"
           }
          ],
          "choropleth": [
           {
            "colorbar": {
             "outlinewidth": 0,
             "ticks": ""
            },
            "type": "choropleth"
           }
          ],
          "contour": [
           {
            "colorbar": {
             "outlinewidth": 0,
             "ticks": ""
            },
            "colorscale": [
             [
              0,
              "#0d0887"
             ],
             [
              0.1111111111111111,
              "#46039f"
             ],
             [
              0.2222222222222222,
              "#7201a8"
             ],
             [
              0.3333333333333333,
              "#9c179e"
             ],
             [
              0.4444444444444444,
              "#bd3786"
             ],
             [
              0.5555555555555556,
              "#d8576b"
             ],
             [
              0.6666666666666666,
              "#ed7953"
             ],
             [
              0.7777777777777778,
              "#fb9f3a"
             ],
             [
              0.8888888888888888,
              "#fdca26"
             ],
             [
              1,
              "#f0f921"
             ]
            ],
            "type": "contour"
           }
          ],
          "contourcarpet": [
           {
            "colorbar": {
             "outlinewidth": 0,
             "ticks": ""
            },
            "type": "contourcarpet"
           }
          ],
          "heatmap": [
           {
            "colorbar": {
             "outlinewidth": 0,
             "ticks": ""
            },
            "colorscale": [
             [
              0,
              "#0d0887"
             ],
             [
              0.1111111111111111,
              "#46039f"
             ],
             [
              0.2222222222222222,
              "#7201a8"
             ],
             [
              0.3333333333333333,
              "#9c179e"
             ],
             [
              0.4444444444444444,
              "#bd3786"
             ],
             [
              0.5555555555555556,
              "#d8576b"
             ],
             [
              0.6666666666666666,
              "#ed7953"
             ],
             [
              0.7777777777777778,
              "#fb9f3a"
             ],
             [
              0.8888888888888888,
              "#fdca26"
             ],
             [
              1,
              "#f0f921"
             ]
            ],
            "type": "heatmap"
           }
          ],
          "heatmapgl": [
           {
            "colorbar": {
             "outlinewidth": 0,
             "ticks": ""
            },
            "colorscale": [
             [
              0,
              "#0d0887"
             ],
             [
              0.1111111111111111,
              "#46039f"
             ],
             [
              0.2222222222222222,
              "#7201a8"
             ],
             [
              0.3333333333333333,
              "#9c179e"
             ],
             [
              0.4444444444444444,
              "#bd3786"
             ],
             [
              0.5555555555555556,
              "#d8576b"
             ],
             [
              0.6666666666666666,
              "#ed7953"
             ],
             [
              0.7777777777777778,
              "#fb9f3a"
             ],
             [
              0.8888888888888888,
              "#fdca26"
             ],
             [
              1,
              "#f0f921"
             ]
            ],
            "type": "heatmapgl"
           }
          ],
          "histogram": [
           {
            "marker": {
             "pattern": {
              "fillmode": "overlay",
              "size": 10,
              "solidity": 0.2
             }
            },
            "type": "histogram"
           }
          ],
          "histogram2d": [
           {
            "colorbar": {
             "outlinewidth": 0,
             "ticks": ""
            },
            "colorscale": [
             [
              0,
              "#0d0887"
             ],
             [
              0.1111111111111111,
              "#46039f"
             ],
             [
              0.2222222222222222,
              "#7201a8"
             ],
             [
              0.3333333333333333,
              "#9c179e"
             ],
             [
              0.4444444444444444,
              "#bd3786"
             ],
             [
              0.5555555555555556,
              "#d8576b"
             ],
             [
              0.6666666666666666,
              "#ed7953"
             ],
             [
              0.7777777777777778,
              "#fb9f3a"
             ],
             [
              0.8888888888888888,
              "#fdca26"
             ],
             [
              1,
              "#f0f921"
             ]
            ],
            "type": "histogram2d"
           }
          ],
          "histogram2dcontour": [
           {
            "colorbar": {
             "outlinewidth": 0,
             "ticks": ""
            },
            "colorscale": [
             [
              0,
              "#0d0887"
             ],
             [
              0.1111111111111111,
              "#46039f"
             ],
             [
              0.2222222222222222,
              "#7201a8"
             ],
             [
              0.3333333333333333,
              "#9c179e"
             ],
             [
              0.4444444444444444,
              "#bd3786"
             ],
             [
              0.5555555555555556,
              "#d8576b"
             ],
             [
              0.6666666666666666,
              "#ed7953"
             ],
             [
              0.7777777777777778,
              "#fb9f3a"
             ],
             [
              0.8888888888888888,
              "#fdca26"
             ],
             [
              1,
              "#f0f921"
             ]
            ],
            "type": "histogram2dcontour"
           }
          ],
          "mesh3d": [
           {
            "colorbar": {
             "outlinewidth": 0,
             "ticks": ""
            },
            "type": "mesh3d"
           }
          ],
          "parcoords": [
           {
            "line": {
             "colorbar": {
              "outlinewidth": 0,
              "ticks": ""
             }
            },
            "type": "parcoords"
           }
          ],
          "pie": [
           {
            "automargin": true,
            "type": "pie"
           }
          ],
          "scatter": [
           {
            "marker": {
             "colorbar": {
              "outlinewidth": 0,
              "ticks": ""
             }
            },
            "type": "scatter"
           }
          ],
          "scatter3d": [
           {
            "line": {
             "colorbar": {
              "outlinewidth": 0,
              "ticks": ""
             }
            },
            "marker": {
             "colorbar": {
              "outlinewidth": 0,
              "ticks": ""
             }
            },
            "type": "scatter3d"
           }
          ],
          "scattercarpet": [
           {
            "marker": {
             "colorbar": {
              "outlinewidth": 0,
              "ticks": ""
             }
            },
            "type": "scattercarpet"
           }
          ],
          "scattergeo": [
           {
            "marker": {
             "colorbar": {
              "outlinewidth": 0,
              "ticks": ""
             }
            },
            "type": "scattergeo"
           }
          ],
          "scattergl": [
           {
            "marker": {
             "colorbar": {
              "outlinewidth": 0,
              "ticks": ""
             }
            },
            "type": "scattergl"
           }
          ],
          "scattermapbox": [
           {
            "marker": {
             "colorbar": {
              "outlinewidth": 0,
              "ticks": ""
             }
            },
            "type": "scattermapbox"
           }
          ],
          "scatterpolar": [
           {
            "marker": {
             "colorbar": {
              "outlinewidth": 0,
              "ticks": ""
             }
            },
            "type": "scatterpolar"
           }
          ],
          "scatterpolargl": [
           {
            "marker": {
             "colorbar": {
              "outlinewidth": 0,
              "ticks": ""
             }
            },
            "type": "scatterpolargl"
           }
          ],
          "scatterternary": [
           {
            "marker": {
             "colorbar": {
              "outlinewidth": 0,
              "ticks": ""
             }
            },
            "type": "scatterternary"
           }
          ],
          "surface": [
           {
            "colorbar": {
             "outlinewidth": 0,
             "ticks": ""
            },
            "colorscale": [
             [
              0,
              "#0d0887"
             ],
             [
              0.1111111111111111,
              "#46039f"
             ],
             [
              0.2222222222222222,
              "#7201a8"
             ],
             [
              0.3333333333333333,
              "#9c179e"
             ],
             [
              0.4444444444444444,
              "#bd3786"
             ],
             [
              0.5555555555555556,
              "#d8576b"
             ],
             [
              0.6666666666666666,
              "#ed7953"
             ],
             [
              0.7777777777777778,
              "#fb9f3a"
             ],
             [
              0.8888888888888888,
              "#fdca26"
             ],
             [
              1,
              "#f0f921"
             ]
            ],
            "type": "surface"
           }
          ],
          "table": [
           {
            "cells": {
             "fill": {
              "color": "#EBF0F8"
             },
             "line": {
              "color": "white"
             }
            },
            "header": {
             "fill": {
              "color": "#C8D4E3"
             },
             "line": {
              "color": "white"
             }
            },
            "type": "table"
           }
          ]
         },
         "layout": {
          "annotationdefaults": {
           "arrowcolor": "#2a3f5f",
           "arrowhead": 0,
           "arrowwidth": 1
          },
          "autotypenumbers": "strict",
          "coloraxis": {
           "colorbar": {
            "outlinewidth": 0,
            "ticks": ""
           }
          },
          "colorscale": {
           "diverging": [
            [
             0,
             "#8e0152"
            ],
            [
             0.1,
             "#c51b7d"
            ],
            [
             0.2,
             "#de77ae"
            ],
            [
             0.3,
             "#f1b6da"
            ],
            [
             0.4,
             "#fde0ef"
            ],
            [
             0.5,
             "#f7f7f7"
            ],
            [
             0.6,
             "#e6f5d0"
            ],
            [
             0.7,
             "#b8e186"
            ],
            [
             0.8,
             "#7fbc41"
            ],
            [
             0.9,
             "#4d9221"
            ],
            [
             1,
             "#276419"
            ]
           ],
           "sequential": [
            [
             0,
             "#0d0887"
            ],
            [
             0.1111111111111111,
             "#46039f"
            ],
            [
             0.2222222222222222,
             "#7201a8"
            ],
            [
             0.3333333333333333,
             "#9c179e"
            ],
            [
             0.4444444444444444,
             "#bd3786"
            ],
            [
             0.5555555555555556,
             "#d8576b"
            ],
            [
             0.6666666666666666,
             "#ed7953"
            ],
            [
             0.7777777777777778,
             "#fb9f3a"
            ],
            [
             0.8888888888888888,
             "#fdca26"
            ],
            [
             1,
             "#f0f921"
            ]
           ],
           "sequentialminus": [
            [
             0,
             "#0d0887"
            ],
            [
             0.1111111111111111,
             "#46039f"
            ],
            [
             0.2222222222222222,
             "#7201a8"
            ],
            [
             0.3333333333333333,
             "#9c179e"
            ],
            [
             0.4444444444444444,
             "#bd3786"
            ],
            [
             0.5555555555555556,
             "#d8576b"
            ],
            [
             0.6666666666666666,
             "#ed7953"
            ],
            [
             0.7777777777777778,
             "#fb9f3a"
            ],
            [
             0.8888888888888888,
             "#fdca26"
            ],
            [
             1,
             "#f0f921"
            ]
           ]
          },
          "colorway": [
           "#636efa",
           "#EF553B",
           "#00cc96",
           "#ab63fa",
           "#FFA15A",
           "#19d3f3",
           "#FF6692",
           "#B6E880",
           "#FF97FF",
           "#FECB52"
          ],
          "font": {
           "color": "#2a3f5f"
          },
          "geo": {
           "bgcolor": "white",
           "lakecolor": "white",
           "landcolor": "#E5ECF6",
           "showlakes": true,
           "showland": true,
           "subunitcolor": "white"
          },
          "hoverlabel": {
           "align": "left"
          },
          "hovermode": "closest",
          "mapbox": {
           "style": "light"
          },
          "paper_bgcolor": "white",
          "plot_bgcolor": "#E5ECF6",
          "polar": {
           "angularaxis": {
            "gridcolor": "white",
            "linecolor": "white",
            "ticks": ""
           },
           "bgcolor": "#E5ECF6",
           "radialaxis": {
            "gridcolor": "white",
            "linecolor": "white",
            "ticks": ""
           }
          },
          "scene": {
           "xaxis": {
            "backgroundcolor": "#E5ECF6",
            "gridcolor": "white",
            "gridwidth": 2,
            "linecolor": "white",
            "showbackground": true,
            "ticks": "",
            "zerolinecolor": "white"
           },
           "yaxis": {
            "backgroundcolor": "#E5ECF6",
            "gridcolor": "white",
            "gridwidth": 2,
            "linecolor": "white",
            "showbackground": true,
            "ticks": "",
            "zerolinecolor": "white"
           },
           "zaxis": {
            "backgroundcolor": "#E5ECF6",
            "gridcolor": "white",
            "gridwidth": 2,
            "linecolor": "white",
            "showbackground": true,
            "ticks": "",
            "zerolinecolor": "white"
           }
          },
          "shapedefaults": {
           "line": {
            "color": "#2a3f5f"
           }
          },
          "ternary": {
           "aaxis": {
            "gridcolor": "white",
            "linecolor": "white",
            "ticks": ""
           },
           "baxis": {
            "gridcolor": "white",
            "linecolor": "white",
            "ticks": ""
           },
           "bgcolor": "#E5ECF6",
           "caxis": {
            "gridcolor": "white",
            "linecolor": "white",
            "ticks": ""
           }
          },
          "title": {
           "x": 0.05
          },
          "xaxis": {
           "automargin": true,
           "gridcolor": "white",
           "linecolor": "white",
           "ticks": "",
           "title": {
            "standoff": 15
           },
           "zerolinecolor": "white",
           "zerolinewidth": 2
          },
          "yaxis": {
           "automargin": true,
           "gridcolor": "white",
           "linecolor": "white",
           "ticks": "",
           "title": {
            "standoff": 15
           },
           "zerolinecolor": "white",
           "zerolinewidth": 2
          }
         }
        },
        "title": {
         "text": "MA_32_256"
        },
        "width": 1000,
        "xaxis": {
         "linecolor": "#3a4a54",
         "linewidth": 1,
         "showgrid": false,
         "zeroline": false
        },
        "yaxis": {
         "linecolor": "#3a4a54",
         "linewidth": 1,
         "showgrid": false,
         "zeroline": false
        }
       }
      }
     },
     "metadata": {},
     "output_type": "display_data"
    }
   ],
   "source": [
    "for c in crosses:   \n",
    "    temp_df = all_trades[(all_trades.CROSS==c)].copy()    \n",
    "    temp_df = temp_df.groupby(by=\"time\", as_index=False).sum()\n",
    "    temp_df['CUM_GAIN'] = temp_df.GAIN.cumsum()\n",
    "    plot_line(temp_df, c)"
   ]
  },
  {
   "cell_type": "code",
   "execution_count": null,
   "metadata": {},
   "outputs": [],
   "source": []
  }
 ],
 "metadata": {
  "kernelspec": {
   "display_name": "Python 3.8.6 64-bit ('venv')",
   "metadata": {
    "interpreter": {
     "hash": "be5e91b1e492455655c24714dfd4b9d98fd4b60ac770d810fbdc4ba1d818ed6d"
    }
   },
   "name": "python3"
  },
  "language_info": {
   "codemirror_mode": {
    "name": "ipython",
    "version": 3
   },
   "file_extension": ".py",
   "mimetype": "text/x-python",
   "name": "python",
   "nbconvert_exporter": "python",
   "pygments_lexer": "ipython3",
   "version": "3.10.4"
  },
  "orig_nbformat": 2
 },
 "nbformat": 4,
 "nbformat_minor": 2
}
