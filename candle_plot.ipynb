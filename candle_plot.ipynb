{
 "cells": [
  {
   "cell_type": "code",
   "execution_count": 2,
   "metadata": {},
   "outputs": [],
   "source": [
    "import pandas as pd\n",
    "import utils\n",
    "import plotly.graph_objects as go\n",
    "import instrument"
   ]
  },
  {
   "cell_type": "code",
   "execution_count": 3,
   "metadata": {},
   "outputs": [],
   "source": [
    "pair = \"EUR_USD\"\n",
    "granularity = \"M5\"\n",
    "ma_list = [16,64]\n",
    "i_pair = instrument.Instrument.get_instrument_by_name(\"EUR_USD\")"
   ]
  },
  {
   "cell_type": "code",
   "execution_count": 4,
   "metadata": {},
   "outputs": [],
   "source": [
    "df = pd.read_pickle(utils.get_his_data_filename(pair, granularity))\n",
    "non_cols = ['time', 'volume']\n",
    "mod_cols = [x for x in df.columns if x not in non_cols]\n",
    "df[mod_cols] = df[mod_cols].apply(pd.to_numeric)"
   ]
  },
  {
   "cell_type": "code",
   "execution_count": 5,
   "metadata": {},
   "outputs": [],
   "source": [
    "df_ma = df[['time', 'mid_o', 'mid_h', 'mid_l', 'mid_c']].copy()\n",
    "for ma in ma_list:  \n",
    "    df_ma[f'MA_{ma}'] = df_ma.mid_c.rolling(window=ma).mean()\n",
    "df_ma.dropna(inplace=True)\n",
    "df_ma.reset_index(drop=True, inplace=True)"
   ]
  },
  {
   "cell_type": "code",
   "execution_count": 6,
   "metadata": {},
   "outputs": [
    {
     "data": {
      "text/html": [
       "<div>\n",
       "<style scoped>\n",
       "    .dataframe tbody tr th:only-of-type {\n",
       "        vertical-align: middle;\n",
       "    }\n",
       "\n",
       "    .dataframe tbody tr th {\n",
       "        vertical-align: top;\n",
       "    }\n",
       "\n",
       "    .dataframe thead th {\n",
       "        text-align: right;\n",
       "    }\n",
       "</style>\n",
       "<table border=\"1\" class=\"dataframe\">\n",
       "  <thead>\n",
       "    <tr style=\"text-align: right;\">\n",
       "      <th></th>\n",
       "      <th>time</th>\n",
       "      <th>mid_o</th>\n",
       "      <th>mid_h</th>\n",
       "      <th>mid_l</th>\n",
       "      <th>mid_c</th>\n",
       "      <th>MA_16</th>\n",
       "      <th>MA_64</th>\n",
       "    </tr>\n",
       "  </thead>\n",
       "  <tbody>\n",
       "    <tr>\n",
       "      <th>0</th>\n",
       "      <td>2018-01-02 03:15:00+00:00</td>\n",
       "      <td>1.20154</td>\n",
       "      <td>1.20194</td>\n",
       "      <td>1.20154</td>\n",
       "      <td>1.20194</td>\n",
       "      <td>1.201224</td>\n",
       "      <td>1.201373</td>\n",
       "    </tr>\n",
       "    <tr>\n",
       "      <th>1</th>\n",
       "      <td>2018-01-02 03:20:00+00:00</td>\n",
       "      <td>1.20192</td>\n",
       "      <td>1.20203</td>\n",
       "      <td>1.20174</td>\n",
       "      <td>1.20198</td>\n",
       "      <td>1.201261</td>\n",
       "      <td>1.201392</td>\n",
       "    </tr>\n",
       "    <tr>\n",
       "      <th>2</th>\n",
       "      <td>2018-01-02 03:25:00+00:00</td>\n",
       "      <td>1.20196</td>\n",
       "      <td>1.20212</td>\n",
       "      <td>1.20196</td>\n",
       "      <td>1.20204</td>\n",
       "      <td>1.201306</td>\n",
       "      <td>1.201406</td>\n",
       "    </tr>\n",
       "    <tr>\n",
       "      <th>3</th>\n",
       "      <td>2018-01-02 03:30:00+00:00</td>\n",
       "      <td>1.20201</td>\n",
       "      <td>1.20202</td>\n",
       "      <td>1.20188</td>\n",
       "      <td>1.20192</td>\n",
       "      <td>1.201349</td>\n",
       "      <td>1.201419</td>\n",
       "    </tr>\n",
       "    <tr>\n",
       "      <th>4</th>\n",
       "      <td>2018-01-02 03:35:00+00:00</td>\n",
       "      <td>1.20190</td>\n",
       "      <td>1.20194</td>\n",
       "      <td>1.20174</td>\n",
       "      <td>1.20192</td>\n",
       "      <td>1.201403</td>\n",
       "      <td>1.201437</td>\n",
       "    </tr>\n",
       "  </tbody>\n",
       "</table>\n",
       "</div>"
      ],
      "text/plain": [
       "                       time    mid_o    mid_h    mid_l    mid_c     MA_16  \\\n",
       "0 2018-01-02 03:15:00+00:00  1.20154  1.20194  1.20154  1.20194  1.201224   \n",
       "1 2018-01-02 03:20:00+00:00  1.20192  1.20203  1.20174  1.20198  1.201261   \n",
       "2 2018-01-02 03:25:00+00:00  1.20196  1.20212  1.20196  1.20204  1.201306   \n",
       "3 2018-01-02 03:30:00+00:00  1.20201  1.20202  1.20188  1.20192  1.201349   \n",
       "4 2018-01-02 03:35:00+00:00  1.20190  1.20194  1.20174  1.20192  1.201403   \n",
       "\n",
       "      MA_64  \n",
       "0  1.201373  \n",
       "1  1.201392  \n",
       "2  1.201406  \n",
       "3  1.201419  \n",
       "4  1.201437  "
      ]
     },
     "execution_count": 6,
     "metadata": {},
     "output_type": "execute_result"
    }
   ],
   "source": [
    "df_ma.head()"
   ]
  },
  {
   "cell_type": "code",
   "execution_count": 7,
   "metadata": {},
   "outputs": [],
   "source": [
    "def is_trade(row):\n",
    "    if row.DIFF >= 0 and row.DIFF_PREV < 0:\n",
    "        return True\n",
    "    if row.DIFF <= 0 and row.DIFF_PREV > 0:\n",
    "        return True\n",
    "    return False"
   ]
  },
  {
   "cell_type": "code",
   "execution_count": 8,
   "metadata": {},
   "outputs": [],
   "source": [
    "df_ma['DIFF'] = df_ma.MA_16 - df_ma.MA_64\n",
    "df_ma['DIFF_PREV'] = df_ma.DIFF.shift(1)\n",
    "df_ma['IS_TRADE'] = df_ma.apply(is_trade, axis=1)\n",
    "df_trades = df_ma[df_ma.IS_TRADE==True].copy()"
   ]
  },
  {
   "cell_type": "code",
   "execution_count": 9,
   "metadata": {},
   "outputs": [
    {
     "data": {
      "text/html": [
       "<div>\n",
       "<style scoped>\n",
       "    .dataframe tbody tr th:only-of-type {\n",
       "        vertical-align: middle;\n",
       "    }\n",
       "\n",
       "    .dataframe tbody tr th {\n",
       "        vertical-align: top;\n",
       "    }\n",
       "\n",
       "    .dataframe thead th {\n",
       "        text-align: right;\n",
       "    }\n",
       "</style>\n",
       "<table border=\"1\" class=\"dataframe\">\n",
       "  <thead>\n",
       "    <tr style=\"text-align: right;\">\n",
       "      <th></th>\n",
       "      <th>time</th>\n",
       "      <th>mid_o</th>\n",
       "      <th>mid_h</th>\n",
       "      <th>mid_l</th>\n",
       "      <th>mid_c</th>\n",
       "      <th>MA_16</th>\n",
       "      <th>MA_64</th>\n",
       "      <th>DIFF</th>\n",
       "      <th>DIFF_PREV</th>\n",
       "      <th>IS_TRADE</th>\n",
       "    </tr>\n",
       "  </thead>\n",
       "  <tbody>\n",
       "    <tr>\n",
       "      <th>6</th>\n",
       "      <td>2018-01-02 03:45:00+00:00</td>\n",
       "      <td>1.20188</td>\n",
       "      <td>1.20188</td>\n",
       "      <td>1.20168</td>\n",
       "      <td>1.20170</td>\n",
       "      <td>1.201484</td>\n",
       "      <td>1.201471</td>\n",
       "      <td>0.000014</td>\n",
       "      <td>-0.000004</td>\n",
       "      <td>True</td>\n",
       "    </tr>\n",
       "    <tr>\n",
       "      <th>130</th>\n",
       "      <td>2018-01-02 14:05:00+00:00</td>\n",
       "      <td>1.20537</td>\n",
       "      <td>1.20576</td>\n",
       "      <td>1.20514</td>\n",
       "      <td>1.20560</td>\n",
       "      <td>1.206198</td>\n",
       "      <td>1.206226</td>\n",
       "      <td>-0.000028</td>\n",
       "      <td>0.000048</td>\n",
       "      <td>True</td>\n",
       "    </tr>\n",
       "    <tr>\n",
       "      <th>190</th>\n",
       "      <td>2018-01-02 19:05:00+00:00</td>\n",
       "      <td>1.20438</td>\n",
       "      <td>1.20480</td>\n",
       "      <td>1.20437</td>\n",
       "      <td>1.20470</td>\n",
       "      <td>1.204599</td>\n",
       "      <td>1.204589</td>\n",
       "      <td>0.000010</td>\n",
       "      <td>-0.000028</td>\n",
       "      <td>True</td>\n",
       "    </tr>\n",
       "    <tr>\n",
       "      <th>263</th>\n",
       "      <td>2018-01-03 01:15:00+00:00</td>\n",
       "      <td>1.20600</td>\n",
       "      <td>1.20602</td>\n",
       "      <td>1.20588</td>\n",
       "      <td>1.20588</td>\n",
       "      <td>1.205863</td>\n",
       "      <td>1.205865</td>\n",
       "      <td>-0.000002</td>\n",
       "      <td>0.000029</td>\n",
       "      <td>True</td>\n",
       "    </tr>\n",
       "    <tr>\n",
       "      <th>313</th>\n",
       "      <td>2018-01-03 05:25:00+00:00</td>\n",
       "      <td>1.20528</td>\n",
       "      <td>1.20550</td>\n",
       "      <td>1.20522</td>\n",
       "      <td>1.20550</td>\n",
       "      <td>1.205131</td>\n",
       "      <td>1.205072</td>\n",
       "      <td>0.000059</td>\n",
       "      <td>-0.000002</td>\n",
       "      <td>True</td>\n",
       "    </tr>\n",
       "  </tbody>\n",
       "</table>\n",
       "</div>"
      ],
      "text/plain": [
       "                         time    mid_o    mid_h    mid_l    mid_c     MA_16  \\\n",
       "6   2018-01-02 03:45:00+00:00  1.20188  1.20188  1.20168  1.20170  1.201484   \n",
       "130 2018-01-02 14:05:00+00:00  1.20537  1.20576  1.20514  1.20560  1.206198   \n",
       "190 2018-01-02 19:05:00+00:00  1.20438  1.20480  1.20437  1.20470  1.204599   \n",
       "263 2018-01-03 01:15:00+00:00  1.20600  1.20602  1.20588  1.20588  1.205863   \n",
       "313 2018-01-03 05:25:00+00:00  1.20528  1.20550  1.20522  1.20550  1.205131   \n",
       "\n",
       "        MA_64      DIFF  DIFF_PREV  IS_TRADE  \n",
       "6    1.201471  0.000014  -0.000004      True  \n",
       "130  1.206226 -0.000028   0.000048      True  \n",
       "190  1.204589  0.000010  -0.000028      True  \n",
       "263  1.205865 -0.000002   0.000029      True  \n",
       "313  1.205072  0.000059  -0.000002      True  "
      ]
     },
     "execution_count": 9,
     "metadata": {},
     "output_type": "execute_result"
    }
   ],
   "source": [
    "df_trades.head()"
   ]
  },
  {
   "cell_type": "code",
   "execution_count": 10,
   "metadata": {},
   "outputs": [],
   "source": [
    "df_plot = df_ma.iloc[0:24].copy()"
   ]
  },
  {
   "cell_type": "code",
   "execution_count": 11,
   "metadata": {},
   "outputs": [
    {
     "data": {
      "text/plain": [
       "(24, 10)"
      ]
     },
     "execution_count": 11,
     "metadata": {},
     "output_type": "execute_result"
    }
   ],
   "source": [
    "df_plot.shape"
   ]
  },
  {
   "cell_type": "code",
   "execution_count": 12,
   "metadata": {},
   "outputs": [
    {
     "data": {
      "application/vnd.plotly.v1+json": {
       "config": {
        "plotlyServerURL": "https://plot.ly"
       },
       "data": [
        {
         "close": [
          1.20194,
          1.20198,
          1.20204,
          1.20192,
          1.20192,
          1.20188,
          1.2017,
          1.20156,
          1.2012,
          1.20129,
          1.2014,
          1.20158,
          1.20174,
          1.20184,
          1.20188,
          1.20146,
          1.20134,
          1.20162,
          1.20158,
          1.20163,
          1.20175,
          1.20176,
          1.20162,
          1.20172
         ],
         "decreasing": {
          "fillcolor": "#CC2E3C",
          "line": {
           "color": "#FF3A4C"
          }
         },
         "high": [
          1.20194,
          1.20203,
          1.20212,
          1.20202,
          1.20194,
          1.202,
          1.20188,
          1.2017,
          1.20158,
          1.20144,
          1.20141,
          1.20158,
          1.20177,
          1.20196,
          1.20193,
          1.20188,
          1.20152,
          1.20164,
          1.20172,
          1.20167,
          1.20175,
          1.20186,
          1.20174,
          1.20179
         ],
         "increasing": {
          "fillcolor": "#24A06B",
          "line": {
           "color": "#2EC886"
          }
         },
         "line": {
          "width": 1
         },
         "low": [
          1.20154,
          1.20174,
          1.20196,
          1.20188,
          1.20174,
          1.20184,
          1.20168,
          1.2015,
          1.20118,
          1.20124,
          1.20116,
          1.2014,
          1.20156,
          1.2017,
          1.20182,
          1.20146,
          1.20128,
          1.20139,
          1.20155,
          1.20161,
          1.20168,
          1.20176,
          1.20162,
          1.2016
         ],
         "opacity": 1,
         "open": [
          1.20154,
          1.20192,
          1.20196,
          1.20201,
          1.2019,
          1.2019,
          1.20188,
          1.20169,
          1.20154,
          1.20126,
          1.20126,
          1.2014,
          1.20156,
          1.20172,
          1.20182,
          1.20188,
          1.20143,
          1.2014,
          1.20162,
          1.20164,
          1.20168,
          1.2018,
          1.20174,
          1.2016
         ],
         "type": "candlestick",
         "x": [
          "2018-01-02T03:15:00+00:00",
          "2018-01-02T03:20:00+00:00",
          "2018-01-02T03:25:00+00:00",
          "2018-01-02T03:30:00+00:00",
          "2018-01-02T03:35:00+00:00",
          "2018-01-02T03:40:00+00:00",
          "2018-01-02T03:45:00+00:00",
          "2018-01-02T03:50:00+00:00",
          "2018-01-02T03:55:00+00:00",
          "2018-01-02T04:00:00+00:00",
          "2018-01-02T04:05:00+00:00",
          "2018-01-02T04:10:00+00:00",
          "2018-01-02T04:15:00+00:00",
          "2018-01-02T04:20:00+00:00",
          "2018-01-02T04:25:00+00:00",
          "2018-01-02T04:30:00+00:00",
          "2018-01-02T04:35:00+00:00",
          "2018-01-02T04:40:00+00:00",
          "2018-01-02T04:45:00+00:00",
          "2018-01-02T04:50:00+00:00",
          "2018-01-02T04:55:00+00:00",
          "2018-01-02T05:00:00+00:00",
          "2018-01-02T05:05:00+00:00",
          "2018-01-02T05:10:00+00:00"
         ]
        },
        {
         "line": {
          "shape": "spline",
          "width": 2
         },
         "name": "MA_16",
         "type": "scatter",
         "x": [
          "2018-01-02T03:15:00+00:00",
          "2018-01-02T03:20:00+00:00",
          "2018-01-02T03:25:00+00:00",
          "2018-01-02T03:30:00+00:00",
          "2018-01-02T03:35:00+00:00",
          "2018-01-02T03:40:00+00:00",
          "2018-01-02T03:45:00+00:00",
          "2018-01-02T03:50:00+00:00",
          "2018-01-02T03:55:00+00:00",
          "2018-01-02T04:00:00+00:00",
          "2018-01-02T04:05:00+00:00",
          "2018-01-02T04:10:00+00:00",
          "2018-01-02T04:15:00+00:00",
          "2018-01-02T04:20:00+00:00",
          "2018-01-02T04:25:00+00:00",
          "2018-01-02T04:30:00+00:00",
          "2018-01-02T04:35:00+00:00",
          "2018-01-02T04:40:00+00:00",
          "2018-01-02T04:45:00+00:00",
          "2018-01-02T04:50:00+00:00",
          "2018-01-02T04:55:00+00:00",
          "2018-01-02T05:00:00+00:00",
          "2018-01-02T05:05:00+00:00",
          "2018-01-02T05:10:00+00:00"
         ],
         "y": [
          1.201224375,
          1.201260625,
          1.201305625,
          1.201349375,
          1.2014031250000001,
          1.201451875,
          1.201484375,
          1.201506875,
          1.2015081250000001,
          1.2015275,
          1.201565,
          1.20160375,
          1.2016525,
          1.2016975,
          1.2017125,
          1.2017081250000001,
          1.201670625,
          1.2016481250000002,
          1.2016193750000002,
          1.20160125,
          1.201590625,
          1.201583125,
          1.201578125,
          1.201588125
         ]
        },
        {
         "line": {
          "shape": "spline",
          "width": 2
         },
         "name": "MA_64",
         "type": "scatter",
         "x": [
          "2018-01-02T03:15:00+00:00",
          "2018-01-02T03:20:00+00:00",
          "2018-01-02T03:25:00+00:00",
          "2018-01-02T03:30:00+00:00",
          "2018-01-02T03:35:00+00:00",
          "2018-01-02T03:40:00+00:00",
          "2018-01-02T03:45:00+00:00",
          "2018-01-02T03:50:00+00:00",
          "2018-01-02T03:55:00+00:00",
          "2018-01-02T04:00:00+00:00",
          "2018-01-02T04:05:00+00:00",
          "2018-01-02T04:10:00+00:00",
          "2018-01-02T04:15:00+00:00",
          "2018-01-02T04:20:00+00:00",
          "2018-01-02T04:25:00+00:00",
          "2018-01-02T04:30:00+00:00",
          "2018-01-02T04:35:00+00:00",
          "2018-01-02T04:40:00+00:00",
          "2018-01-02T04:45:00+00:00",
          "2018-01-02T04:50:00+00:00",
          "2018-01-02T04:55:00+00:00",
          "2018-01-02T05:00:00+00:00",
          "2018-01-02T05:05:00+00:00",
          "2018-01-02T05:10:00+00:00"
         ],
         "y": [
          1.2013728125,
          1.2013924999999999,
          1.20140578125,
          1.20141921875,
          1.2014373437499999,
          1.20145578125,
          1.20147078125,
          1.20147984375,
          1.201474375,
          1.20147078125,
          1.2014703125000001,
          1.20147140625,
          1.20147484375,
          1.20149046875,
          1.20150453125,
          1.20150421875,
          1.2015025000000001,
          1.2015079687499999,
          1.20151140625,
          1.2015134375,
          1.2015221875000002,
          1.2015346875,
          1.2015434375,
          1.2015540624999999
         ]
        }
       ],
       "layout": {
        "font": {
         "color": "#e1e1e1",
         "size": 10
        },
        "height": 400,
        "margin": {
         "b": 10,
         "l": 10,
         "r": 10,
         "t": 10
        },
        "paper_bgcolor": "#1e1e1e",
        "plot_bgcolor": "#1e1e1e",
        "template": {
         "data": {
          "bar": [
           {
            "error_x": {
             "color": "#2a3f5f"
            },
            "error_y": {
             "color": "#2a3f5f"
            },
            "marker": {
             "line": {
              "color": "#E5ECF6",
              "width": 0.5
             },
             "pattern": {
              "fillmode": "overlay",
              "size": 10,
              "solidity": 0.2
             }
            },
            "type": "bar"
           }
          ],
          "barpolar": [
           {
            "marker": {
             "line": {
              "color": "#E5ECF6",
              "width": 0.5
             },
             "pattern": {
              "fillmode": "overlay",
              "size": 10,
              "solidity": 0.2
             }
            },
            "type": "barpolar"
           }
          ],
          "carpet": [
           {
            "aaxis": {
             "endlinecolor": "#2a3f5f",
             "gridcolor": "white",
             "linecolor": "white",
             "minorgridcolor": "white",
             "startlinecolor": "#2a3f5f"
            },
            "baxis": {
             "endlinecolor": "#2a3f5f",
             "gridcolor": "white",
             "linecolor": "white",
             "minorgridcolor": "white",
             "startlinecolor": "#2a3f5f"
            },
            "type": "carpet"
           }
          ],
          "choropleth": [
           {
            "colorbar": {
             "outlinewidth": 0,
             "ticks": ""
            },
            "type": "choropleth"
           }
          ],
          "contour": [
           {
            "colorbar": {
             "outlinewidth": 0,
             "ticks": ""
            },
            "colorscale": [
             [
              0,
              "#0d0887"
             ],
             [
              0.1111111111111111,
              "#46039f"
             ],
             [
              0.2222222222222222,
              "#7201a8"
             ],
             [
              0.3333333333333333,
              "#9c179e"
             ],
             [
              0.4444444444444444,
              "#bd3786"
             ],
             [
              0.5555555555555556,
              "#d8576b"
             ],
             [
              0.6666666666666666,
              "#ed7953"
             ],
             [
              0.7777777777777778,
              "#fb9f3a"
             ],
             [
              0.8888888888888888,
              "#fdca26"
             ],
             [
              1,
              "#f0f921"
             ]
            ],
            "type": "contour"
           }
          ],
          "contourcarpet": [
           {
            "colorbar": {
             "outlinewidth": 0,
             "ticks": ""
            },
            "type": "contourcarpet"
           }
          ],
          "heatmap": [
           {
            "colorbar": {
             "outlinewidth": 0,
             "ticks": ""
            },
            "colorscale": [
             [
              0,
              "#0d0887"
             ],
             [
              0.1111111111111111,
              "#46039f"
             ],
             [
              0.2222222222222222,
              "#7201a8"
             ],
             [
              0.3333333333333333,
              "#9c179e"
             ],
             [
              0.4444444444444444,
              "#bd3786"
             ],
             [
              0.5555555555555556,
              "#d8576b"
             ],
             [
              0.6666666666666666,
              "#ed7953"
             ],
             [
              0.7777777777777778,
              "#fb9f3a"
             ],
             [
              0.8888888888888888,
              "#fdca26"
             ],
             [
              1,
              "#f0f921"
             ]
            ],
            "type": "heatmap"
           }
          ],
          "heatmapgl": [
           {
            "colorbar": {
             "outlinewidth": 0,
             "ticks": ""
            },
            "colorscale": [
             [
              0,
              "#0d0887"
             ],
             [
              0.1111111111111111,
              "#46039f"
             ],
             [
              0.2222222222222222,
              "#7201a8"
             ],
             [
              0.3333333333333333,
              "#9c179e"
             ],
             [
              0.4444444444444444,
              "#bd3786"
             ],
             [
              0.5555555555555556,
              "#d8576b"
             ],
             [
              0.6666666666666666,
              "#ed7953"
             ],
             [
              0.7777777777777778,
              "#fb9f3a"
             ],
             [
              0.8888888888888888,
              "#fdca26"
             ],
             [
              1,
              "#f0f921"
             ]
            ],
            "type": "heatmapgl"
           }
          ],
          "histogram": [
           {
            "marker": {
             "pattern": {
              "fillmode": "overlay",
              "size": 10,
              "solidity": 0.2
             }
            },
            "type": "histogram"
           }
          ],
          "histogram2d": [
           {
            "colorbar": {
             "outlinewidth": 0,
             "ticks": ""
            },
            "colorscale": [
             [
              0,
              "#0d0887"
             ],
             [
              0.1111111111111111,
              "#46039f"
             ],
             [
              0.2222222222222222,
              "#7201a8"
             ],
             [
              0.3333333333333333,
              "#9c179e"
             ],
             [
              0.4444444444444444,
              "#bd3786"
             ],
             [
              0.5555555555555556,
              "#d8576b"
             ],
             [
              0.6666666666666666,
              "#ed7953"
             ],
             [
              0.7777777777777778,
              "#fb9f3a"
             ],
             [
              0.8888888888888888,
              "#fdca26"
             ],
             [
              1,
              "#f0f921"
             ]
            ],
            "type": "histogram2d"
           }
          ],
          "histogram2dcontour": [
           {
            "colorbar": {
             "outlinewidth": 0,
             "ticks": ""
            },
            "colorscale": [
             [
              0,
              "#0d0887"
             ],
             [
              0.1111111111111111,
              "#46039f"
             ],
             [
              0.2222222222222222,
              "#7201a8"
             ],
             [
              0.3333333333333333,
              "#9c179e"
             ],
             [
              0.4444444444444444,
              "#bd3786"
             ],
             [
              0.5555555555555556,
              "#d8576b"
             ],
             [
              0.6666666666666666,
              "#ed7953"
             ],
             [
              0.7777777777777778,
              "#fb9f3a"
             ],
             [
              0.8888888888888888,
              "#fdca26"
             ],
             [
              1,
              "#f0f921"
             ]
            ],
            "type": "histogram2dcontour"
           }
          ],
          "mesh3d": [
           {
            "colorbar": {
             "outlinewidth": 0,
             "ticks": ""
            },
            "type": "mesh3d"
           }
          ],
          "parcoords": [
           {
            "line": {
             "colorbar": {
              "outlinewidth": 0,
              "ticks": ""
             }
            },
            "type": "parcoords"
           }
          ],
          "pie": [
           {
            "automargin": true,
            "type": "pie"
           }
          ],
          "scatter": [
           {
            "marker": {
             "colorbar": {
              "outlinewidth": 0,
              "ticks": ""
             }
            },
            "type": "scatter"
           }
          ],
          "scatter3d": [
           {
            "line": {
             "colorbar": {
              "outlinewidth": 0,
              "ticks": ""
             }
            },
            "marker": {
             "colorbar": {
              "outlinewidth": 0,
              "ticks": ""
             }
            },
            "type": "scatter3d"
           }
          ],
          "scattercarpet": [
           {
            "marker": {
             "colorbar": {
              "outlinewidth": 0,
              "ticks": ""
             }
            },
            "type": "scattercarpet"
           }
          ],
          "scattergeo": [
           {
            "marker": {
             "colorbar": {
              "outlinewidth": 0,
              "ticks": ""
             }
            },
            "type": "scattergeo"
           }
          ],
          "scattergl": [
           {
            "marker": {
             "colorbar": {
              "outlinewidth": 0,
              "ticks": ""
             }
            },
            "type": "scattergl"
           }
          ],
          "scattermapbox": [
           {
            "marker": {
             "colorbar": {
              "outlinewidth": 0,
              "ticks": ""
             }
            },
            "type": "scattermapbox"
           }
          ],
          "scatterpolar": [
           {
            "marker": {
             "colorbar": {
              "outlinewidth": 0,
              "ticks": ""
             }
            },
            "type": "scatterpolar"
           }
          ],
          "scatterpolargl": [
           {
            "marker": {
             "colorbar": {
              "outlinewidth": 0,
              "ticks": ""
             }
            },
            "type": "scatterpolargl"
           }
          ],
          "scatterternary": [
           {
            "marker": {
             "colorbar": {
              "outlinewidth": 0,
              "ticks": ""
             }
            },
            "type": "scatterternary"
           }
          ],
          "surface": [
           {
            "colorbar": {
             "outlinewidth": 0,
             "ticks": ""
            },
            "colorscale": [
             [
              0,
              "#0d0887"
             ],
             [
              0.1111111111111111,
              "#46039f"
             ],
             [
              0.2222222222222222,
              "#7201a8"
             ],
             [
              0.3333333333333333,
              "#9c179e"
             ],
             [
              0.4444444444444444,
              "#bd3786"
             ],
             [
              0.5555555555555556,
              "#d8576b"
             ],
             [
              0.6666666666666666,
              "#ed7953"
             ],
             [
              0.7777777777777778,
              "#fb9f3a"
             ],
             [
              0.8888888888888888,
              "#fdca26"
             ],
             [
              1,
              "#f0f921"
             ]
            ],
            "type": "surface"
           }
          ],
          "table": [
           {
            "cells": {
             "fill": {
              "color": "#EBF0F8"
             },
             "line": {
              "color": "white"
             }
            },
            "header": {
             "fill": {
              "color": "#C8D4E3"
             },
             "line": {
              "color": "white"
             }
            },
            "type": "table"
           }
          ]
         },
         "layout": {
          "annotationdefaults": {
           "arrowcolor": "#2a3f5f",
           "arrowhead": 0,
           "arrowwidth": 1
          },
          "autotypenumbers": "strict",
          "coloraxis": {
           "colorbar": {
            "outlinewidth": 0,
            "ticks": ""
           }
          },
          "colorscale": {
           "diverging": [
            [
             0,
             "#8e0152"
            ],
            [
             0.1,
             "#c51b7d"
            ],
            [
             0.2,
             "#de77ae"
            ],
            [
             0.3,
             "#f1b6da"
            ],
            [
             0.4,
             "#fde0ef"
            ],
            [
             0.5,
             "#f7f7f7"
            ],
            [
             0.6,
             "#e6f5d0"
            ],
            [
             0.7,
             "#b8e186"
            ],
            [
             0.8,
             "#7fbc41"
            ],
            [
             0.9,
             "#4d9221"
            ],
            [
             1,
             "#276419"
            ]
           ],
           "sequential": [
            [
             0,
             "#0d0887"
            ],
            [
             0.1111111111111111,
             "#46039f"
            ],
            [
             0.2222222222222222,
             "#7201a8"
            ],
            [
             0.3333333333333333,
             "#9c179e"
            ],
            [
             0.4444444444444444,
             "#bd3786"
            ],
            [
             0.5555555555555556,
             "#d8576b"
            ],
            [
             0.6666666666666666,
             "#ed7953"
            ],
            [
             0.7777777777777778,
             "#fb9f3a"
            ],
            [
             0.8888888888888888,
             "#fdca26"
            ],
            [
             1,
             "#f0f921"
            ]
           ],
           "sequentialminus": [
            [
             0,
             "#0d0887"
            ],
            [
             0.1111111111111111,
             "#46039f"
            ],
            [
             0.2222222222222222,
             "#7201a8"
            ],
            [
             0.3333333333333333,
             "#9c179e"
            ],
            [
             0.4444444444444444,
             "#bd3786"
            ],
            [
             0.5555555555555556,
             "#d8576b"
            ],
            [
             0.6666666666666666,
             "#ed7953"
            ],
            [
             0.7777777777777778,
             "#fb9f3a"
            ],
            [
             0.8888888888888888,
             "#fdca26"
            ],
            [
             1,
             "#f0f921"
            ]
           ]
          },
          "colorway": [
           "#636efa",
           "#EF553B",
           "#00cc96",
           "#ab63fa",
           "#FFA15A",
           "#19d3f3",
           "#FF6692",
           "#B6E880",
           "#FF97FF",
           "#FECB52"
          ],
          "font": {
           "color": "#2a3f5f"
          },
          "geo": {
           "bgcolor": "white",
           "lakecolor": "white",
           "landcolor": "#E5ECF6",
           "showlakes": true,
           "showland": true,
           "subunitcolor": "white"
          },
          "hoverlabel": {
           "align": "left"
          },
          "hovermode": "closest",
          "mapbox": {
           "style": "light"
          },
          "paper_bgcolor": "white",
          "plot_bgcolor": "#E5ECF6",
          "polar": {
           "angularaxis": {
            "gridcolor": "white",
            "linecolor": "white",
            "ticks": ""
           },
           "bgcolor": "#E5ECF6",
           "radialaxis": {
            "gridcolor": "white",
            "linecolor": "white",
            "ticks": ""
           }
          },
          "scene": {
           "xaxis": {
            "backgroundcolor": "#E5ECF6",
            "gridcolor": "white",
            "gridwidth": 2,
            "linecolor": "white",
            "showbackground": true,
            "ticks": "",
            "zerolinecolor": "white"
           },
           "yaxis": {
            "backgroundcolor": "#E5ECF6",
            "gridcolor": "white",
            "gridwidth": 2,
            "linecolor": "white",
            "showbackground": true,
            "ticks": "",
            "zerolinecolor": "white"
           },
           "zaxis": {
            "backgroundcolor": "#E5ECF6",
            "gridcolor": "white",
            "gridwidth": 2,
            "linecolor": "white",
            "showbackground": true,
            "ticks": "",
            "zerolinecolor": "white"
           }
          },
          "shapedefaults": {
           "line": {
            "color": "#2a3f5f"
           }
          },
          "ternary": {
           "aaxis": {
            "gridcolor": "white",
            "linecolor": "white",
            "ticks": ""
           },
           "baxis": {
            "gridcolor": "white",
            "linecolor": "white",
            "ticks": ""
           },
           "bgcolor": "#E5ECF6",
           "caxis": {
            "gridcolor": "white",
            "linecolor": "white",
            "ticks": ""
           }
          },
          "title": {
           "x": 0.05
          },
          "xaxis": {
           "automargin": true,
           "gridcolor": "white",
           "linecolor": "white",
           "ticks": "",
           "title": {
            "standoff": 15
           },
           "zerolinecolor": "white",
           "zerolinewidth": 2
          },
          "yaxis": {
           "automargin": true,
           "gridcolor": "white",
           "linecolor": "white",
           "ticks": "",
           "title": {
            "standoff": 15
           },
           "zerolinecolor": "white",
           "zerolinewidth": 2
          }
         }
        },
        "width": 1000,
        "xaxis": {
         "fixedrange": true,
         "gridcolor": "#1f292f",
         "rangeslider": {
          "visible": false
         },
         "showgrid": true
        },
        "yaxis": {
         "gridcolor": "#1f292f",
         "showgrid": true
        }
       }
      }
     },
     "metadata": {},
     "output_type": "display_data"
    }
   ],
   "source": [
    "fig = go.Figure()\n",
    "fig.add_trace(go.Candlestick(\n",
    "    x=df_plot.time, open=df_plot.mid_o, high=df_plot.mid_h, low=df_plot.mid_l, close=df_plot.mid_c,\n",
    "    line=dict(width=1), opacity=1,\n",
    "    increasing_fillcolor='#24A06B',\n",
    "    decreasing_fillcolor=\"#CC2E3C\",\n",
    "    increasing_line_color='#2EC886',  \n",
    "    decreasing_line_color='#FF3A4C'\n",
    "))\n",
    "for ma in ma_list:  \n",
    "    col = f\"MA_{ma}\"\n",
    "    fig.add_trace(go.Scatter(x=df_plot.time, \n",
    "        y=df_plot[col],\n",
    "        line=dict(width=2),\n",
    "        line_shape='spline',\n",
    "        name=col\n",
    "        ))\n",
    "fig.update_layout(width=1000,height=400,\n",
    "    margin=dict(l=10,r=10,b=10,t=10),\n",
    "    font=dict(size=10,color=\"#e1e1e1\"),\n",
    "    paper_bgcolor=\"#1e1e1e\",\n",
    "    plot_bgcolor=\"#1e1e1e\")\n",
    "fig.update_xaxes(\n",
    "    gridcolor=\"#1f292f\",\n",
    "    showgrid=True,fixedrange=True,rangeslider=dict(visible=False)\n",
    ")\n",
    "fig.update_yaxes(\n",
    "    gridcolor=\"#1f292f\",\n",
    "    showgrid=True\n",
    ")\n",
    "fig.show()"
   ]
  },
  {
   "cell_type": "code",
   "execution_count": 15,
   "metadata": {},
   "outputs": [
    {
     "data": {
      "text/html": [
       "<div>\n",
       "<style scoped>\n",
       "    .dataframe tbody tr th:only-of-type {\n",
       "        vertical-align: middle;\n",
       "    }\n",
       "\n",
       "    .dataframe tbody tr th {\n",
       "        vertical-align: top;\n",
       "    }\n",
       "\n",
       "    .dataframe thead th {\n",
       "        text-align: right;\n",
       "    }\n",
       "</style>\n",
       "<table border=\"1\" class=\"dataframe\">\n",
       "  <thead>\n",
       "    <tr style=\"text-align: right;\">\n",
       "      <th></th>\n",
       "      <th>mid_c</th>\n",
       "      <th>DIFF</th>\n",
       "      <th>DIFF_PREV</th>\n",
       "      <th>IS_TRADE</th>\n",
       "      <th>DELTA</th>\n",
       "      <th>GAIN</th>\n",
       "      <th>MASHORT</th>\n",
       "      <th>MALONG</th>\n",
       "      <th>DURATION</th>\n",
       "    </tr>\n",
       "  </thead>\n",
       "  <tbody>\n",
       "    <tr>\n",
       "      <th>count</th>\n",
       "      <td>65992.000000</td>\n",
       "      <td>6.599200e+04</td>\n",
       "      <td>6.599200e+04</td>\n",
       "      <td>65992.000000</td>\n",
       "      <td>65992.000000</td>\n",
       "      <td>65992.000000</td>\n",
       "      <td>65992.000000</td>\n",
       "      <td>65992.000000</td>\n",
       "      <td>65992.000000</td>\n",
       "    </tr>\n",
       "    <tr>\n",
       "      <th>mean</th>\n",
       "      <td>32.162345</td>\n",
       "      <td>-3.359282e-04</td>\n",
       "      <td>4.074459e-04</td>\n",
       "      <td>-0.003182</td>\n",
       "      <td>-0.236192</td>\n",
       "      <td>-0.035059</td>\n",
       "      <td>11.773063</td>\n",
       "      <td>60.283307</td>\n",
       "      <td>49.809098</td>\n",
       "    </tr>\n",
       "    <tr>\n",
       "      <th>std</th>\n",
       "      <td>52.419874</td>\n",
       "      <td>1.671985e-02</td>\n",
       "      <td>1.673953e-02</td>\n",
       "      <td>1.000003</td>\n",
       "      <td>74.110465</td>\n",
       "      <td>74.110834</td>\n",
       "      <td>12.371754</td>\n",
       "      <td>62.578578</td>\n",
       "      <td>87.189995</td>\n",
       "    </tr>\n",
       "    <tr>\n",
       "      <th>min</th>\n",
       "      <td>0.607600</td>\n",
       "      <td>-3.192188e-01</td>\n",
       "      <td>-2.451250e-01</td>\n",
       "      <td>-1.000000</td>\n",
       "      <td>-1423.700000</td>\n",
       "      <td>-348.500000</td>\n",
       "      <td>4.000000</td>\n",
       "      <td>8.000000</td>\n",
       "      <td>1.000000</td>\n",
       "    </tr>\n",
       "    <tr>\n",
       "      <th>25%</th>\n",
       "      <td>0.915760</td>\n",
       "      <td>-1.993750e-04</td>\n",
       "      <td>-1.937500e-04</td>\n",
       "      <td>-1.000000</td>\n",
       "      <td>-22.300000</td>\n",
       "      <td>-28.200000</td>\n",
       "      <td>4.000000</td>\n",
       "      <td>16.000000</td>\n",
       "      <td>6.000000</td>\n",
       "    </tr>\n",
       "    <tr>\n",
       "      <th>50%</th>\n",
       "      <td>1.327360</td>\n",
       "      <td>-4.166667e-07</td>\n",
       "      <td>8.333333e-07</td>\n",
       "      <td>-1.000000</td>\n",
       "      <td>-0.400000</td>\n",
       "      <td>-10.400000</td>\n",
       "      <td>8.000000</td>\n",
       "      <td>32.000000</td>\n",
       "      <td>17.000000</td>\n",
       "    </tr>\n",
       "    <tr>\n",
       "      <th>75%</th>\n",
       "      <td>77.993000</td>\n",
       "      <td>1.910352e-04</td>\n",
       "      <td>1.968750e-04</td>\n",
       "      <td>1.000000</td>\n",
       "      <td>21.300000</td>\n",
       "      <td>7.600000</td>\n",
       "      <td>16.000000</td>\n",
       "      <td>96.000000</td>\n",
       "      <td>60.000000</td>\n",
       "    </tr>\n",
       "    <tr>\n",
       "      <th>max</th>\n",
       "      <td>165.324000</td>\n",
       "      <td>2.448125e-01</td>\n",
       "      <td>3.651250e-01</td>\n",
       "      <td>1.000000</td>\n",
       "      <td>1027.400000</td>\n",
       "      <td>1423.700000</td>\n",
       "      <td>64.000000</td>\n",
       "      <td>256.000000</td>\n",
       "      <td>1389.000000</td>\n",
       "    </tr>\n",
       "  </tbody>\n",
       "</table>\n",
       "</div>"
      ],
      "text/plain": [
       "              mid_c          DIFF     DIFF_PREV      IS_TRADE         DELTA  \\\n",
       "count  65992.000000  6.599200e+04  6.599200e+04  65992.000000  65992.000000   \n",
       "mean      32.162345 -3.359282e-04  4.074459e-04     -0.003182     -0.236192   \n",
       "std       52.419874  1.671985e-02  1.673953e-02      1.000003     74.110465   \n",
       "min        0.607600 -3.192188e-01 -2.451250e-01     -1.000000  -1423.700000   \n",
       "25%        0.915760 -1.993750e-04 -1.937500e-04     -1.000000    -22.300000   \n",
       "50%        1.327360 -4.166667e-07  8.333333e-07     -1.000000     -0.400000   \n",
       "75%       77.993000  1.910352e-04  1.968750e-04      1.000000     21.300000   \n",
       "max      165.324000  2.448125e-01  3.651250e-01      1.000000   1027.400000   \n",
       "\n",
       "               GAIN       MASHORT        MALONG      DURATION  \n",
       "count  65992.000000  65992.000000  65992.000000  65992.000000  \n",
       "mean      -0.035059     11.773063     60.283307     49.809098  \n",
       "std       74.110834     12.371754     62.578578     87.189995  \n",
       "min     -348.500000      4.000000      8.000000      1.000000  \n",
       "25%      -28.200000      4.000000     16.000000      6.000000  \n",
       "50%      -10.400000      8.000000     32.000000     17.000000  \n",
       "75%        7.600000     16.000000     96.000000     60.000000  \n",
       "max     1423.700000     64.000000    256.000000   1389.000000  "
      ]
     },
     "execution_count": 15,
     "metadata": {},
     "output_type": "execute_result"
    }
   ],
   "source": [
    "df_all = pd.read_pickle(\"all_trades.pkl\")\n",
    "df_all.describe()"
   ]
  },
  {
   "cell_type": "code",
   "execution_count": null,
   "metadata": {},
   "outputs": [],
   "source": []
  }
 ],
 "metadata": {
  "kernelspec": {
   "display_name": "Python 3",
   "language": "python",
   "name": "python3"
  },
  "language_info": {
   "codemirror_mode": {
    "name": "ipython",
    "version": 3
   },
   "file_extension": ".py",
   "mimetype": "text/x-python",
   "name": "python",
   "nbconvert_exporter": "python",
   "pygments_lexer": "ipython3",
   "version": "3.10.4"
  },
  "orig_nbformat": 2
 },
 "nbformat": 4,
 "nbformat_minor": 2
}
